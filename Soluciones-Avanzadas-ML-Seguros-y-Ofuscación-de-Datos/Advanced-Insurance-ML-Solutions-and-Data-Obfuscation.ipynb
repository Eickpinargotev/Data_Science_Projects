{
 "cells": [
  {
   "cell_type": "markdown",
   "metadata": {},
   "source": [
    "# Descripción"
   ]
  },
  {
   "cell_type": "markdown",
   "metadata": {},
   "source": [
    "La compañía de seguros Sure Tomorrow quiere resolver varias tareas con la ayuda de machine learning y solicita que se evalúe esa posibilidad.\n",
    "- Tarea 1: encontrar clientes que sean similares a un cliente determinado. Esto ayudará a los agentes de la compañía con el marketing.\n",
    "- Tarea 2: predecir la probabilidad de que un nuevo cliente reciba una prestación del seguro. ¿Puede un modelo de predictivo funcionar mejor que un modelo dummy?\n",
    "- Tarea 3: predecir el número de prestaciones de seguro que un nuevo cliente pueda recibir utilizando un modelo de regresión lineal.\n",
    "- Tarea 4: proteger los datos personales de los clientes sin afectar al modelo del ejercicio anterior. Es necesario desarrollar un algoritmo de transformación de datos que dificulte la recuperación de la información personal si los datos caen en manos equivocadas. Esto se denomina enmascaramiento u ofuscación de datos. Pero los datos deben protegerse de tal manera que no se vea afectada la calidad de los modelos de machine learning.\n"
   ]
  },
  {
   "cell_type": "markdown",
   "metadata": {},
   "source": [
    "# Preprocesamiento y exploración de datos\n",
    "\n",
    "## Inicialización"
   ]
  },
  {
   "cell_type": "code",
   "execution_count": null,
   "metadata": {},
   "outputs": [],
   "source": [
    "pip install scikit-learn --upgrade"
   ]
  },
  {
   "cell_type": "code",
   "execution_count": 2,
   "metadata": {},
   "outputs": [],
   "source": [
    "import numpy as np\n",
    "import pandas as pd\n",
    "import math\n",
    "\n",
    "import seaborn as sns\n",
    "from matplotlib import pyplot as plt\n",
    "\n",
    "import sklearn.linear_model\n",
    "import sklearn.metrics\n",
    "import sklearn.neighbors\n",
    "import sklearn.preprocessing\n",
    "\n",
    "from sklearn.model_selection import train_test_split\n",
    "\n",
    "from IPython.display import display\n",
    "\n",
    "from scipy.spatial import distance"
   ]
  },
  {
   "cell_type": "markdown",
   "metadata": {},
   "source": [
    "## Carga de datos"
   ]
  },
  {
   "cell_type": "markdown",
   "metadata": {},
   "source": [
    "Carga los datos y haz una revisión básica para comprobar que no hay problemas obvios."
   ]
  },
  {
   "cell_type": "code",
   "execution_count": 3,
   "metadata": {},
   "outputs": [],
   "source": [
    "df = pd.read_csv('insurance_us.csv')"
   ]
  },
  {
   "cell_type": "markdown",
   "metadata": {},
   "source": [
    "Renombramos las columnas para que el código se vea más coherente con su estilo."
   ]
  },
  {
   "cell_type": "code",
   "execution_count": 4,
   "metadata": {},
   "outputs": [],
   "source": [
    "df = df.rename(columns={'Gender': 'gender', 'Age': 'age', 'Salary': 'income', 'Family members': 'family_members', 'Insurance benefits': 'insurance_benefits'})"
   ]
  },
  {
   "cell_type": "code",
   "execution_count": 6,
   "metadata": {},
   "outputs": [
    {
     "data": {
      "text/html": [
       "<div>\n",
       "<style scoped>\n",
       "    .dataframe tbody tr th:only-of-type {\n",
       "        vertical-align: middle;\n",
       "    }\n",
       "\n",
       "    .dataframe tbody tr th {\n",
       "        vertical-align: top;\n",
       "    }\n",
       "\n",
       "    .dataframe thead th {\n",
       "        text-align: right;\n",
       "    }\n",
       "</style>\n",
       "<table border=\"1\" class=\"dataframe\">\n",
       "  <thead>\n",
       "    <tr style=\"text-align: right;\">\n",
       "      <th></th>\n",
       "      <th>gender</th>\n",
       "      <th>age</th>\n",
       "      <th>income</th>\n",
       "      <th>family_members</th>\n",
       "      <th>insurance_benefits</th>\n",
       "    </tr>\n",
       "  </thead>\n",
       "  <tbody>\n",
       "    <tr>\n",
       "      <th>706</th>\n",
       "      <td>1</td>\n",
       "      <td>40.0</td>\n",
       "      <td>38400.0</td>\n",
       "      <td>1</td>\n",
       "      <td>0</td>\n",
       "    </tr>\n",
       "    <tr>\n",
       "      <th>3687</th>\n",
       "      <td>1</td>\n",
       "      <td>33.0</td>\n",
       "      <td>49600.0</td>\n",
       "      <td>0</td>\n",
       "      <td>0</td>\n",
       "    </tr>\n",
       "    <tr>\n",
       "      <th>673</th>\n",
       "      <td>0</td>\n",
       "      <td>21.0</td>\n",
       "      <td>34800.0</td>\n",
       "      <td>3</td>\n",
       "      <td>0</td>\n",
       "    </tr>\n",
       "    <tr>\n",
       "      <th>4079</th>\n",
       "      <td>0</td>\n",
       "      <td>26.0</td>\n",
       "      <td>47900.0</td>\n",
       "      <td>0</td>\n",
       "      <td>0</td>\n",
       "    </tr>\n",
       "    <tr>\n",
       "      <th>3186</th>\n",
       "      <td>1</td>\n",
       "      <td>36.0</td>\n",
       "      <td>39400.0</td>\n",
       "      <td>4</td>\n",
       "      <td>0</td>\n",
       "    </tr>\n",
       "    <tr>\n",
       "      <th>323</th>\n",
       "      <td>0</td>\n",
       "      <td>20.0</td>\n",
       "      <td>52000.0</td>\n",
       "      <td>1</td>\n",
       "      <td>0</td>\n",
       "    </tr>\n",
       "    <tr>\n",
       "      <th>3049</th>\n",
       "      <td>0</td>\n",
       "      <td>24.0</td>\n",
       "      <td>41200.0</td>\n",
       "      <td>0</td>\n",
       "      <td>0</td>\n",
       "    </tr>\n",
       "    <tr>\n",
       "      <th>566</th>\n",
       "      <td>0</td>\n",
       "      <td>21.0</td>\n",
       "      <td>34300.0</td>\n",
       "      <td>0</td>\n",
       "      <td>0</td>\n",
       "    </tr>\n",
       "    <tr>\n",
       "      <th>3738</th>\n",
       "      <td>1</td>\n",
       "      <td>19.0</td>\n",
       "      <td>58300.0</td>\n",
       "      <td>0</td>\n",
       "      <td>0</td>\n",
       "    </tr>\n",
       "    <tr>\n",
       "      <th>2160</th>\n",
       "      <td>1</td>\n",
       "      <td>20.0</td>\n",
       "      <td>50000.0</td>\n",
       "      <td>1</td>\n",
       "      <td>0</td>\n",
       "    </tr>\n",
       "  </tbody>\n",
       "</table>\n",
       "</div>"
      ],
      "text/plain": [
       "      gender   age   income  family_members  insurance_benefits\n",
       "706        1  40.0  38400.0               1                   0\n",
       "3687       1  33.0  49600.0               0                   0\n",
       "673        0  21.0  34800.0               3                   0\n",
       "4079       0  26.0  47900.0               0                   0\n",
       "3186       1  36.0  39400.0               4                   0\n",
       "323        0  20.0  52000.0               1                   0\n",
       "3049       0  24.0  41200.0               0                   0\n",
       "566        0  21.0  34300.0               0                   0\n",
       "3738       1  19.0  58300.0               0                   0\n",
       "2160       1  20.0  50000.0               1                   0"
      ]
     },
     "execution_count": 6,
     "metadata": {},
     "output_type": "execute_result"
    }
   ],
   "source": [
    "df.sample(10)"
   ]
  },
  {
   "cell_type": "code",
   "execution_count": 7,
   "metadata": {},
   "outputs": [
    {
     "name": "stdout",
     "output_type": "stream",
     "text": [
      "<class 'pandas.core.frame.DataFrame'>\n",
      "RangeIndex: 5000 entries, 0 to 4999\n",
      "Data columns (total 5 columns):\n",
      " #   Column              Non-Null Count  Dtype  \n",
      "---  ------              --------------  -----  \n",
      " 0   gender              5000 non-null   int64  \n",
      " 1   age                 5000 non-null   float64\n",
      " 2   income              5000 non-null   float64\n",
      " 3   family_members      5000 non-null   int64  \n",
      " 4   insurance_benefits  5000 non-null   int64  \n",
      "dtypes: float64(2), int64(3)\n",
      "memory usage: 195.4 KB\n"
     ]
    }
   ],
   "source": [
    "df.info()"
   ]
  },
  {
   "cell_type": "code",
   "execution_count": 5,
   "metadata": {},
   "outputs": [],
   "source": [
    "# puede que queramos cambiar el tipo de edad (de float a int) aunque esto no es crucial\n",
    "df['age']=df['age'].astype('int64')\n",
    "# escribe tu conversión aquí si lo deseas:"
   ]
  },
  {
   "cell_type": "code",
   "execution_count": 8,
   "metadata": {},
   "outputs": [
    {
     "name": "stdout",
     "output_type": "stream",
     "text": [
      "<class 'pandas.core.frame.DataFrame'>\n",
      "RangeIndex: 5000 entries, 0 to 4999\n",
      "Data columns (total 5 columns):\n",
      " #   Column              Non-Null Count  Dtype  \n",
      "---  ------              --------------  -----  \n",
      " 0   gender              5000 non-null   int64  \n",
      " 1   age                 5000 non-null   int64  \n",
      " 2   income              5000 non-null   float64\n",
      " 3   family_members      5000 non-null   int64  \n",
      " 4   insurance_benefits  5000 non-null   int64  \n",
      "dtypes: float64(1), int64(4)\n",
      "memory usage: 195.4 KB\n"
     ]
    }
   ],
   "source": [
    "# comprueba que la conversión se haya realizado con éxito\n",
    "df.info()"
   ]
  },
  {
   "cell_type": "code",
   "execution_count": 6,
   "metadata": {},
   "outputs": [
    {
     "data": {
      "image/png": "[encoded data removed]",
      "text/plain": [
       "<Figure size 700x200 with 1 Axes>"
      ]
     },
     "metadata": {},
     "output_type": "display_data"
    },
    {
     "data": {
      "image/png": "[encoded data removed]",
      "text/plain": [
       "<Figure size 700x200 with 1 Axes>"
      ]
     },
     "metadata": {},
     "output_type": "display_data"
    }
   ],
   "source": [
    "# ahora echa un vistazo a las estadísticas descriptivas de los datos.# ¿Se ve todo bien?\n",
    "#Podemos tener valores atipicos en la columna income o grafiquemos el diagrama de caja y bigotes\n",
    "plt.figure(figsize=(7, 2))\n",
    "gr1=sns.boxplot(x='income',data=df)\n",
    "plt.figure(figsize=(7, 2))\n",
    "gr2=sns.boxplot(x='age',data=df)\n",
    "#Todo parace lucir bien"
   ]
  },
  {
   "cell_type": "markdown",
   "metadata": {},
   "source": [
    "## Análisis exploratorio de datos"
   ]
  },
  {
   "cell_type": "markdown",
   "metadata": {},
   "source": [
    "Vamos a comprobar rápidamente si existen determinados grupos de clientes observando el gráfico de pares."
   ]
  },
  {
   "cell_type": "code",
   "execution_count": 19,
   "metadata": {},
   "outputs": [
    {
     "data": {
      "image/png": "[encoded data removed]",
      "text/plain": [
       "<Figure size 1200x1200 with 30 Axes>"
      ]
     },
     "metadata": {},
     "output_type": "display_data"
    }
   ],
   "source": [
    "g = sns.pairplot(df, kind='hist')\n",
    "g.fig.set_size_inches(12, 12)"
   ]
  },
  {
   "cell_type": "markdown",
   "metadata": {},
   "source": [
    "De acuerdo, es un poco complicado detectar grupos obvios (clústeres) ya que es difícil combinar diversas variables simultáneamente (para analizar distribuciones multivariadas). Ahí es donde LA y ML pueden ser bastante útiles."
   ]
  },
  {
   "cell_type": "markdown",
   "metadata": {},
   "source": [
    "# Tarea 1. Clientes similares"
   ]
  },
  {
   "cell_type": "markdown",
   "metadata": {},
   "source": [
    "En el lenguaje de ML, es necesario desarrollar un procedimiento que devuelva los k vecinos más cercanos (objetos) para un objeto dado basándose en la distancia entre los objetos.\n",
    "Es posible que quieras revisar las siguientes lecciones (capítulo -> lección)- Distancia entre vectores -> Distancia euclidiana\n",
    "- Distancia entre vectores -> Distancia Manhattan\n",
    "\n",
    "Para resolver la tarea, podemos probar diferentes métricas de distancia."
   ]
  },
  {
   "cell_type": "markdown",
   "metadata": {},
   "source": [
    "Escribe una función que devuelva los k vecinos más cercanos para un $n^{th}$ objeto basándose en una métrica de distancia especificada. A la hora de realizar esta tarea no debe tenerse en cuenta el número de prestaciones de seguro recibidas.\n",
    "Puedes utilizar una implementación ya existente del algoritmo kNN de scikit-learn (consulta [el enlace](https://scikit-learn.org/stable/modules/generated/sklearn.neighbors.NearestNeighbors.html#sklearn.neighbors.NearestNeighbors)) o tu propia implementación.\n",
    "Pruébalo para cuatro combinaciones de dos casos- Escalado\n",
    "  - los datos no están escalados\n",
    "  - los datos se escalan con el escalador [MaxAbsScaler](https://scikit-learn.org/stable/modules/generated/sklearn.preprocessing.MaxAbsScaler.html)\n",
    "- Métricas de distancia\n",
    "  - Euclidiana\n",
    "  - Manhattan\n",
    "\n",
    "Responde a estas preguntas:- ¿El hecho de que los datos no estén escalados afecta al algoritmo kNN? Si es así, ¿cómo se manifiesta?- ¿Qué tan similares son los resultados al utilizar la métrica de distancia Manhattan (independientemente del escalado)?"
   ]
  },
  {
   "cell_type": "code",
   "execution_count": 7,
   "metadata": {},
   "outputs": [],
   "source": [
    "feature_names = ['gender', 'age', 'income', 'family_members']"
   ]
  },
  {
   "cell_type": "code",
   "execution_count": 8,
   "metadata": {},
   "outputs": [],
   "source": [
    "def get_knn(df, n, k, metric_):\n",
    "    \n",
    "    \"\"\"\n",
    "    Devuelve los k vecinos más cercanos\n",
    "\n",
    "    :param df: DataFrame de pandas utilizado para encontrar objetos similares dentro del mismo lugar    :param n: número de objetos para los que se buscan los vecinos más cercanos    :param k: número de vecinos más cercanos a devolver\n",
    "    :param métrica: nombre de la métrica de distancia    \"\"\"\n",
    "\n",
    "    nbrs = sklearn.neighbors.NearestNeighbors(metric=metric_)\n",
    "    nbrs.fit(df.iloc[0:1000][feature_names])\n",
    "    nbrs_distances, nbrs_indices = nbrs.kneighbors([df.iloc[n][feature_names]], k, return_distance=True)\n",
    "    \n",
    "    df_res = pd.concat([\n",
    "        df.iloc[nbrs_indices[0]], \n",
    "        pd.DataFrame(nbrs_distances.T, index=nbrs_indices[0], columns=['distance'])\n",
    "        ], axis=1)\n",
    "    \n",
    "    return df_res"
   ]
  },
  {
   "cell_type": "code",
   "execution_count": 9,
   "metadata": {},
   "outputs": [],
   "source": [
    "def get_knn(df, n, k, metric_):\n",
    "    \n",
    "    \"\"\"\n",
    "    Devuelve los k vecinos más cercanos\n",
    "\n",
    "    :param df: DataFrame de pandas utilizado para encontrar objetos similares dentro del mismo lugar    :param n: número de objetos para los que se buscan los vecinos más cercanos    :param k: número de vecinos más cercanos a devolver\n",
    "    :param métrica: nombre de la métrica de distancia    \"\"\"\n",
    "\n",
    "    nbrs = sklearn.neighbors.NearestNeighbors(metric=metric_)\n",
    "    nbrs.fit(df.iloc[0:1000][feature_names].values)\n",
    "    nbrs_distances, nbrs_indices = nbrs.kneighbors([df.iloc[n][feature_names].values], k, return_distance=True)\n",
    "    \n",
    "    df_res = pd.concat([\n",
    "        df.iloc[nbrs_indices[0]], \n",
    "        pd.DataFrame(nbrs_distances.T, index=nbrs_indices[0], columns=['distance'])\n",
    "        ], axis=1)\n",
    "    \n",
    "    return df_res"
   ]
  },
  {
   "cell_type": "markdown",
   "metadata": {},
   "source": [
    "Escalar datos."
   ]
  },
  {
   "cell_type": "code",
   "execution_count": 10,
   "metadata": {},
   "outputs": [],
   "source": [
    "feature_names = ['gender', 'age', 'income', 'family_members']\n",
    "\n",
    "transformer_mas = sklearn.preprocessing.MaxAbsScaler().fit(df[feature_names].to_numpy())\n",
    "\n",
    "df_scaled = df.copy()\n",
    "df_scaled.loc[:, feature_names] = transformer_mas.transform(df[feature_names].to_numpy())"
   ]
  },
  {
   "cell_type": "code",
   "execution_count": 11,
   "metadata": {},
   "outputs": [
    {
     "data": {
      "text/html": [
       "<div>\n",
       "<style scoped>\n",
       "    .dataframe tbody tr th:only-of-type {\n",
       "        vertical-align: middle;\n",
       "    }\n",
       "\n",
       "    .dataframe tbody tr th {\n",
       "        vertical-align: top;\n",
       "    }\n",
       "\n",
       "    .dataframe thead th {\n",
       "        text-align: right;\n",
       "    }\n",
       "</style>\n",
       "<table border=\"1\" class=\"dataframe\">\n",
       "  <thead>\n",
       "    <tr style=\"text-align: right;\">\n",
       "      <th></th>\n",
       "      <th>gender</th>\n",
       "      <th>age</th>\n",
       "      <th>income</th>\n",
       "      <th>family_members</th>\n",
       "      <th>insurance_benefits</th>\n",
       "    </tr>\n",
       "  </thead>\n",
       "  <tbody>\n",
       "    <tr>\n",
       "      <th>2776</th>\n",
       "      <td>1.0</td>\n",
       "      <td>0.430769</td>\n",
       "      <td>0.410127</td>\n",
       "      <td>0.166667</td>\n",
       "      <td>0</td>\n",
       "    </tr>\n",
       "    <tr>\n",
       "      <th>2826</th>\n",
       "      <td>0.0</td>\n",
       "      <td>0.492308</td>\n",
       "      <td>0.616456</td>\n",
       "      <td>0.333333</td>\n",
       "      <td>0</td>\n",
       "    </tr>\n",
       "    <tr>\n",
       "      <th>4118</th>\n",
       "      <td>1.0</td>\n",
       "      <td>0.492308</td>\n",
       "      <td>0.651899</td>\n",
       "      <td>0.333333</td>\n",
       "      <td>0</td>\n",
       "    </tr>\n",
       "    <tr>\n",
       "      <th>4013</th>\n",
       "      <td>0.0</td>\n",
       "      <td>0.400000</td>\n",
       "      <td>0.564557</td>\n",
       "      <td>0.333333</td>\n",
       "      <td>0</td>\n",
       "    </tr>\n",
       "    <tr>\n",
       "      <th>2905</th>\n",
       "      <td>0.0</td>\n",
       "      <td>0.430769</td>\n",
       "      <td>0.300000</td>\n",
       "      <td>0.333333</td>\n",
       "      <td>0</td>\n",
       "    </tr>\n",
       "  </tbody>\n",
       "</table>\n",
       "</div>"
      ],
      "text/plain": [
       "      gender       age    income  family_members  insurance_benefits\n",
       "2776     1.0  0.430769  0.410127        0.166667                   0\n",
       "2826     0.0  0.492308  0.616456        0.333333                   0\n",
       "4118     1.0  0.492308  0.651899        0.333333                   0\n",
       "4013     0.0  0.400000  0.564557        0.333333                   0\n",
       "2905     0.0  0.430769  0.300000        0.333333                   0"
      ]
     },
     "execution_count": 11,
     "metadata": {},
     "output_type": "execute_result"
    }
   ],
   "source": [
    "df_scaled.sample(5)"
   ]
  },
  {
   "cell_type": "markdown",
   "metadata": {},
   "source": [
    "Ahora, vamos a obtener registros similares para uno determinado, para cada combinación"
   ]
  },
  {
   "cell_type": "code",
   "execution_count": 12,
   "metadata": {},
   "outputs": [
    {
     "data": {
      "text/html": [
       "<div>\n",
       "<style scoped>\n",
       "    .dataframe tbody tr th:only-of-type {\n",
       "        vertical-align: middle;\n",
       "    }\n",
       "\n",
       "    .dataframe tbody tr th {\n",
       "        vertical-align: top;\n",
       "    }\n",
       "\n",
       "    .dataframe thead th {\n",
       "        text-align: right;\n",
       "    }\n",
       "</style>\n",
       "<table border=\"1\" class=\"dataframe\">\n",
       "  <thead>\n",
       "    <tr style=\"text-align: right;\">\n",
       "      <th></th>\n",
       "      <th>gender</th>\n",
       "      <th>age</th>\n",
       "      <th>income</th>\n",
       "      <th>family_members</th>\n",
       "      <th>insurance_benefits</th>\n",
       "      <th>distance</th>\n",
       "    </tr>\n",
       "  </thead>\n",
       "  <tbody>\n",
       "    <tr>\n",
       "      <th>177</th>\n",
       "      <td>1.0</td>\n",
       "      <td>0.861538</td>\n",
       "      <td>0.708861</td>\n",
       "      <td>0.0</td>\n",
       "      <td>3</td>\n",
       "      <td>0.000000</td>\n",
       "    </tr>\n",
       "    <tr>\n",
       "      <th>666</th>\n",
       "      <td>1.0</td>\n",
       "      <td>0.723077</td>\n",
       "      <td>0.692405</td>\n",
       "      <td>0.0</td>\n",
       "      <td>1</td>\n",
       "      <td>0.139436</td>\n",
       "    </tr>\n",
       "    <tr>\n",
       "      <th>559</th>\n",
       "      <td>1.0</td>\n",
       "      <td>0.707692</td>\n",
       "      <td>0.735443</td>\n",
       "      <td>0.0</td>\n",
       "      <td>1</td>\n",
       "      <td>0.156126</td>\n",
       "    </tr>\n",
       "    <tr>\n",
       "      <th>912</th>\n",
       "      <td>1.0</td>\n",
       "      <td>0.769231</td>\n",
       "      <td>0.574684</td>\n",
       "      <td>0.0</td>\n",
       "      <td>2</td>\n",
       "      <td>0.162863</td>\n",
       "    </tr>\n",
       "  </tbody>\n",
       "</table>\n",
       "</div>"
      ],
      "text/plain": [
       "     gender       age    income  family_members  insurance_benefits  distance\n",
       "177     1.0  0.861538  0.708861             0.0                   3  0.000000\n",
       "666     1.0  0.723077  0.692405             0.0                   1  0.139436\n",
       "559     1.0  0.707692  0.735443             0.0                   1  0.156126\n",
       "912     1.0  0.769231  0.574684             0.0                   2  0.162863"
      ]
     },
     "metadata": {},
     "output_type": "display_data"
    }
   ],
   "source": [
    "display(get_knn(df_scaled,177,4,'euclidean'))"
   ]
  },
  {
   "cell_type": "code",
   "execution_count": 13,
   "metadata": {},
   "outputs": [
    {
     "data": {
      "text/html": [
       "<div>\n",
       "<style scoped>\n",
       "    .dataframe tbody tr th:only-of-type {\n",
       "        vertical-align: middle;\n",
       "    }\n",
       "\n",
       "    .dataframe tbody tr th {\n",
       "        vertical-align: top;\n",
       "    }\n",
       "\n",
       "    .dataframe thead th {\n",
       "        text-align: right;\n",
       "    }\n",
       "</style>\n",
       "<table border=\"1\" class=\"dataframe\">\n",
       "  <thead>\n",
       "    <tr style=\"text-align: right;\">\n",
       "      <th></th>\n",
       "      <th>gender</th>\n",
       "      <th>age</th>\n",
       "      <th>income</th>\n",
       "      <th>family_members</th>\n",
       "      <th>insurance_benefits</th>\n",
       "      <th>distance</th>\n",
       "    </tr>\n",
       "  </thead>\n",
       "  <tbody>\n",
       "    <tr>\n",
       "      <th>177</th>\n",
       "      <td>1</td>\n",
       "      <td>56</td>\n",
       "      <td>56000.0</td>\n",
       "      <td>0</td>\n",
       "      <td>3</td>\n",
       "      <td>0.000000</td>\n",
       "    </tr>\n",
       "    <tr>\n",
       "      <th>642</th>\n",
       "      <td>0</td>\n",
       "      <td>46</td>\n",
       "      <td>56000.0</td>\n",
       "      <td>1</td>\n",
       "      <td>1</td>\n",
       "      <td>10.099505</td>\n",
       "    </tr>\n",
       "    <tr>\n",
       "      <th>207</th>\n",
       "      <td>0</td>\n",
       "      <td>34</td>\n",
       "      <td>55900.0</td>\n",
       "      <td>2</td>\n",
       "      <td>0</td>\n",
       "      <td>102.415819</td>\n",
       "    </tr>\n",
       "    <tr>\n",
       "      <th>554</th>\n",
       "      <td>1</td>\n",
       "      <td>30</td>\n",
       "      <td>56100.0</td>\n",
       "      <td>1</td>\n",
       "      <td>0</td>\n",
       "      <td>103.329570</td>\n",
       "    </tr>\n",
       "  </tbody>\n",
       "</table>\n",
       "</div>"
      ],
      "text/plain": [
       "     gender  age   income  family_members  insurance_benefits    distance\n",
       "177       1   56  56000.0               0                   3    0.000000\n",
       "642       0   46  56000.0               1                   1   10.099505\n",
       "207       0   34  55900.0               2                   0  102.415819\n",
       "554       1   30  56100.0               1                   0  103.329570"
      ]
     },
     "metadata": {},
     "output_type": "display_data"
    }
   ],
   "source": [
    "display(get_knn(df,177,4,'euclidean'))"
   ]
  },
  {
   "cell_type": "code",
   "execution_count": 14,
   "metadata": {},
   "outputs": [
    {
     "data": {
      "text/html": [
       "<div>\n",
       "<style scoped>\n",
       "    .dataframe tbody tr th:only-of-type {\n",
       "        vertical-align: middle;\n",
       "    }\n",
       "\n",
       "    .dataframe tbody tr th {\n",
       "        vertical-align: top;\n",
       "    }\n",
       "\n",
       "    .dataframe thead th {\n",
       "        text-align: right;\n",
       "    }\n",
       "</style>\n",
       "<table border=\"1\" class=\"dataframe\">\n",
       "  <thead>\n",
       "    <tr style=\"text-align: right;\">\n",
       "      <th></th>\n",
       "      <th>gender</th>\n",
       "      <th>age</th>\n",
       "      <th>income</th>\n",
       "      <th>family_members</th>\n",
       "      <th>insurance_benefits</th>\n",
       "      <th>distance</th>\n",
       "    </tr>\n",
       "  </thead>\n",
       "  <tbody>\n",
       "    <tr>\n",
       "      <th>177</th>\n",
       "      <td>1.0</td>\n",
       "      <td>0.861538</td>\n",
       "      <td>0.708861</td>\n",
       "      <td>0.0</td>\n",
       "      <td>3</td>\n",
       "      <td>0.000000</td>\n",
       "    </tr>\n",
       "    <tr>\n",
       "      <th>666</th>\n",
       "      <td>1.0</td>\n",
       "      <td>0.723077</td>\n",
       "      <td>0.692405</td>\n",
       "      <td>0.0</td>\n",
       "      <td>1</td>\n",
       "      <td>0.154917</td>\n",
       "    </tr>\n",
       "    <tr>\n",
       "      <th>559</th>\n",
       "      <td>1.0</td>\n",
       "      <td>0.707692</td>\n",
       "      <td>0.735443</td>\n",
       "      <td>0.0</td>\n",
       "      <td>1</td>\n",
       "      <td>0.180428</td>\n",
       "    </tr>\n",
       "    <tr>\n",
       "      <th>585</th>\n",
       "      <td>1.0</td>\n",
       "      <td>0.692308</td>\n",
       "      <td>0.686076</td>\n",
       "      <td>0.0</td>\n",
       "      <td>1</td>\n",
       "      <td>0.192016</td>\n",
       "    </tr>\n",
       "  </tbody>\n",
       "</table>\n",
       "</div>"
      ],
      "text/plain": [
       "     gender       age    income  family_members  insurance_benefits  distance\n",
       "177     1.0  0.861538  0.708861             0.0                   3  0.000000\n",
       "666     1.0  0.723077  0.692405             0.0                   1  0.154917\n",
       "559     1.0  0.707692  0.735443             0.0                   1  0.180428\n",
       "585     1.0  0.692308  0.686076             0.0                   1  0.192016"
      ]
     },
     "metadata": {},
     "output_type": "display_data"
    }
   ],
   "source": [
    "display(get_knn(df_scaled,177,4,'manhattan'))"
   ]
  },
  {
   "cell_type": "code",
   "execution_count": 15,
   "metadata": {},
   "outputs": [
    {
     "data": {
      "text/html": [
       "<div>\n",
       "<style scoped>\n",
       "    .dataframe tbody tr th:only-of-type {\n",
       "        vertical-align: middle;\n",
       "    }\n",
       "\n",
       "    .dataframe tbody tr th {\n",
       "        vertical-align: top;\n",
       "    }\n",
       "\n",
       "    .dataframe thead th {\n",
       "        text-align: right;\n",
       "    }\n",
       "</style>\n",
       "<table border=\"1\" class=\"dataframe\">\n",
       "  <thead>\n",
       "    <tr style=\"text-align: right;\">\n",
       "      <th></th>\n",
       "      <th>gender</th>\n",
       "      <th>age</th>\n",
       "      <th>income</th>\n",
       "      <th>family_members</th>\n",
       "      <th>insurance_benefits</th>\n",
       "      <th>distance</th>\n",
       "    </tr>\n",
       "  </thead>\n",
       "  <tbody>\n",
       "    <tr>\n",
       "      <th>177</th>\n",
       "      <td>1</td>\n",
       "      <td>56</td>\n",
       "      <td>56000.0</td>\n",
       "      <td>0</td>\n",
       "      <td>3</td>\n",
       "      <td>0.0</td>\n",
       "    </tr>\n",
       "    <tr>\n",
       "      <th>642</th>\n",
       "      <td>0</td>\n",
       "      <td>46</td>\n",
       "      <td>56000.0</td>\n",
       "      <td>1</td>\n",
       "      <td>1</td>\n",
       "      <td>12.0</td>\n",
       "    </tr>\n",
       "    <tr>\n",
       "      <th>207</th>\n",
       "      <td>0</td>\n",
       "      <td>34</td>\n",
       "      <td>55900.0</td>\n",
       "      <td>2</td>\n",
       "      <td>0</td>\n",
       "      <td>125.0</td>\n",
       "    </tr>\n",
       "    <tr>\n",
       "      <th>554</th>\n",
       "      <td>1</td>\n",
       "      <td>30</td>\n",
       "      <td>56100.0</td>\n",
       "      <td>1</td>\n",
       "      <td>0</td>\n",
       "      <td>127.0</td>\n",
       "    </tr>\n",
       "  </tbody>\n",
       "</table>\n",
       "</div>"
      ],
      "text/plain": [
       "     gender  age   income  family_members  insurance_benefits  distance\n",
       "177       1   56  56000.0               0                   3       0.0\n",
       "642       0   46  56000.0               1                   1      12.0\n",
       "207       0   34  55900.0               2                   0     125.0\n",
       "554       1   30  56100.0               1                   0     127.0"
      ]
     },
     "metadata": {},
     "output_type": "display_data"
    }
   ],
   "source": [
    "display(get_knn(df,177,4,'manhattan'))"
   ]
  },
  {
   "cell_type": "markdown",
   "metadata": {},
   "source": [
    "\n",
    "El algoritmo kNN se ve afectado si los datos no están escalados. Podemos notar esto al fijarnos en la característica objetivo, que es la que intentamos predecir en base a la distancia. Cuando los datos están escalados, las distancias ayudan a predecir mejor nuestra característica objetivo"
   ]
  },
  {
   "cell_type": "markdown",
   "metadata": {},
   "source": [
    "**¿Qué tan similares son los resultados al utilizar la métrica de distancia Manhattan (independientemente del escalado)?** \n",
    "\n",
    "Son bastante similares, solo varìan en cuanto al valor de la distancia calculada, pero el orden en cuanto a distancias se mantiene en su mayoria."
   ]
  },
  {
   "cell_type": "markdown",
   "metadata": {},
   "source": [
    "# Tarea 2. ¿Es probable que el cliente reciba una prestación del seguro?"
   ]
  },
  {
   "cell_type": "markdown",
   "metadata": {},
   "source": [
    "En términos de machine learning podemos considerarlo como una tarea de clasificación binaria."
   ]
  },
  {
   "cell_type": "markdown",
   "metadata": {},
   "source": [
    "Con el valor de `insurance_benefits` superior a cero como objetivo, evalúa si el enfoque de clasificación kNN puede funcionar mejor que el modelo dummy.\n",
    "Instrucciones:\n",
    "- Construye un clasificador basado en KNN y mide su calidad con la métrica F1 para k=1...10 tanto para los datos originales como para los escalados. Sería interesante observar cómo k puede influir en la métrica de evaluación y si el escalado de los datos provoca alguna diferencia. Puedes utilizar una implementación ya existente del algoritmo de clasificación kNN de scikit-learn (consulta [el enlace](https://scikit-learn.org/stable/modules/generated/sklearn.neighbors.KNeighborsClassifier.html)) o tu propia implementación.- Construye un modelo dummy que, en este caso, es simplemente un modelo aleatorio. Debería devolver \"1\" con cierta probabilidad. Probemos el modelo con cuatro valores de probabilidad: 0, la probabilidad de pagar cualquier prestación del seguro, 0.5, 1.\n",
    "La probabilidad de pagar cualquier prestación del seguro puede definirse como\n",
    "$$\n",
    "P\\{\\text{prestación de seguro recibida}\\}=\\frac{\\text{número de clientes que han recibido alguna prestación de seguro}}{\\text{número total de clientes}}.\n",
    "$$\n",
    "\n",
    "Divide todos los datos correspondientes a las etapas de entrenamiento/prueba respetando la proporción 70:30."
   ]
  },
  {
   "cell_type": "code",
   "execution_count": 16,
   "metadata": {},
   "outputs": [],
   "source": [
    "# сalcula el objetivo\n",
    "df['insurance_benefits_received'] = df['insurance_benefits'].apply(lambda x: 1 if x>0 else 0 )"
   ]
  },
  {
   "cell_type": "code",
   "execution_count": 17,
   "metadata": {},
   "outputs": [
    {
     "data": {
      "text/plain": [
       "0    4436\n",
       "1     564\n",
       "Name: insurance_benefits_received, dtype: int64"
      ]
     },
     "metadata": {},
     "output_type": "display_data"
    }
   ],
   "source": [
    "# comprueba el desequilibrio de clases con value_counts()\n",
    "# <tu código aquí>\n",
    "display(df['insurance_benefits_received'].value_counts())\n",
    "#Existe un desbalance de clases, pero no se solicita abordarlo en este proyecto."
   ]
  },
  {
   "cell_type": "code",
   "execution_count": 18,
   "metadata": {},
   "outputs": [],
   "source": [
    "feature_names = ['gender', 'age', 'income', 'family_members']\n",
    "transformer_mas = sklearn.preprocessing.MaxAbsScaler().fit(df[feature_names].to_numpy())\n",
    "df_scaled=df.copy()\n",
    "df_scaled.loc[:, feature_names] = transformer_mas.transform(df[feature_names].to_numpy())#Datos escalados\n",
    "df_no_scaled=df.copy()#Datos no escalados\n",
    "\n",
    "#Dividimos los datos\n",
    "df_scaled_train,df_scaled_valid=train_test_split(df_scaled,test_size=0.30, random_state=42)\n",
    "df_no_scaled_train,df_no_scaled_valid=train_test_split(df_no_scaled,test_size=0.30, random_state=42)"
   ]
  },
  {
   "cell_type": "code",
   "execution_count": 19,
   "metadata": {},
   "outputs": [],
   "source": [
    "#Para encontrar los k vecinos mas cercanos\n",
    "    #Buscaremos los 3 vecinos mas cercanos y obtendremos un promedio que luego transformaremos a 1 o a 0 segùn el entero mas cercano\n",
    "def predictions_by_nearest_nbr(df_train,new_points,k=3):\n",
    "    x_train=df_train[feature_names]\n",
    "    nbr= sklearn.neighbors.NearestNeighbors(n_neighbors=k, metric='euclidean')\n",
    "    nbr.fit(x_train.values)\n",
    "    #Predictions\n",
    "    predictions=[]\n",
    "    for n in range(0,new_points.shape[0]):\n",
    "        point=new_points[feature_names].iloc[[n]].values\n",
    "        distances, indices = nbr.kneighbors(point)\n",
    "        prediction_point=round(df_train.iloc[indices[0]]['insurance_benefits_received'].mean())#obtengo el promedio y el entero mas cercano\n",
    "        predictions.append(prediction_point)\n",
    "    return predictions\n",
    "    "
   ]
  },
  {
   "cell_type": "code",
   "execution_count": 20,
   "metadata": {},
   "outputs": [],
   "source": [
    "def eval_classifier(y_true, y_pred):\n",
    "    \n",
    "    f1_score = sklearn.metrics.f1_score(y_true, y_pred)\n",
    "    print(f'F1: {f1_score:.2f}')\n",
    "    \n",
    "# si tienes algún problema con la siguiente línea, reinicia el kernel y ejecuta el cuaderno de nuevo    cm = sklearn.metrics.confusion_matrix(y_true, y_pred, normalize='all')\n",
    "    cm = sklearn.metrics.confusion_matrix(y_true, y_pred, normalize='all')\n",
    "    print('Matriz de confusión')\n",
    "    print(cm)"
   ]
  },
  {
   "cell_type": "code",
   "execution_count": 21,
   "metadata": {},
   "outputs": [],
   "source": [
    "# generar la salida de un modelo aleatorio\n",
    "\n",
    "def rnd_model_predict(P, size, seed=42):\n",
    "\n",
    "    rng = np.random.default_rng(seed=seed)\n",
    "    return rng.binomial(n=1, p=P, size=size)"
   ]
  },
  {
   "cell_type": "code",
   "execution_count": 22,
   "metadata": {},
   "outputs": [
    {
     "name": "stdout",
     "output_type": "stream",
     "text": [
      "La probabilidad: 0.00\n",
      "F1: 0.00\n",
      "Matriz de confusión\n",
      "[[0.8872 0.    ]\n",
      " [0.1128 0.    ]]\n",
      "\n",
      "La probabilidad: 0.11\n",
      "F1: 0.12\n",
      "Matriz de confusión\n",
      "[[0.7914 0.0958]\n",
      " [0.0994 0.0134]]\n",
      "\n",
      "La probabilidad: 0.50\n",
      "F1: 0.20\n",
      "Matriz de confusión\n",
      "[[0.456  0.4312]\n",
      " [0.053  0.0598]]\n",
      "\n",
      "La probabilidad: 1.00\n",
      "F1: 0.20\n",
      "Matriz de confusión\n",
      "[[0.     0.8872]\n",
      " [0.     0.1128]]\n",
      "\n"
     ]
    }
   ],
   "source": [
    "for P in [0, df['insurance_benefits_received'].sum() / len(df), 0.5, 1]:\n",
    "\n",
    "    print(f'La probabilidad: {P:.2f}')\n",
    "    #y_pred_rnd = get_knn(df,n,5,'manhattan').iloc[1:,:]\n",
    "    y_pred_rnd = rnd_model_predict(P,df.shape[0])\n",
    "        \n",
    "    eval_classifier(np.array(df['insurance_benefits_received'].values), y_pred_rnd)\n",
    "    \n",
    "    print()"
   ]
  },
  {
   "cell_type": "code",
   "execution_count": 23,
   "metadata": {},
   "outputs": [
    {
     "name": "stdout",
     "output_type": "stream",
     "text": [
      "F1: 0.94\n",
      "Matriz de confusión\n",
      "[[0.88933333 0.00333333]\n",
      " [0.00933333 0.098     ]]\n"
     ]
    }
   ],
   "source": [
    "#Usaremos kNN para testear los datos escalados\n",
    "y_true=df_scaled_valid['insurance_benefits_received'].values\n",
    "y_pred=predictions_by_nearest_nbr(df_scaled_train,df_scaled_valid,k=3)\n",
    "eval_classifier(y_true,y_pred)"
   ]
  },
  {
   "cell_type": "code",
   "execution_count": 24,
   "metadata": {},
   "outputs": [
    {
     "name": "stdout",
     "output_type": "stream",
     "text": [
      "F1: 0.39\n",
      "Matriz de confusión\n",
      "[[0.88333333 0.00933333]\n",
      " [0.07933333 0.028     ]]\n"
     ]
    }
   ],
   "source": [
    "#Usaremos kNN para testear los datos no escalados\n",
    "y_true=df_no_scaled_valid['insurance_benefits_received'].values\n",
    "y_pred=predictions_by_nearest_nbr(df_no_scaled_train,df_no_scaled_valid,k=3)\n",
    "eval_classifier(y_true,y_pred)"
   ]
  },
  {
   "cell_type": "code",
   "execution_count": 25,
   "metadata": {},
   "outputs": [
    {
     "name": "stdout",
     "output_type": "stream",
     "text": [
      "F1: 0.92\n",
      "Matriz de confusión\n",
      "[[8.92000000e-01 6.66666667e-04]\n",
      " [1.60000000e-02 9.13333333e-02]]\n"
     ]
    }
   ],
   "source": [
    "#probemos con diferentes valores de k y valores escalados\n",
    "y_true=df_scaled_valid['insurance_benefits_received'].values\n",
    "y_pred=predictions_by_nearest_nbr(df_scaled_train,df_scaled_valid,k=15)\n",
    "eval_classifier(y_true,y_pred)"
   ]
  },
  {
   "cell_type": "code",
   "execution_count": 26,
   "metadata": {},
   "outputs": [
    {
     "name": "stdout",
     "output_type": "stream",
     "text": [
      "F1: 0.01\n",
      "Matriz de confusión\n",
      "[[8.92666667e-01 0.00000000e+00]\n",
      " [1.06666667e-01 6.66666667e-04]]\n"
     ]
    }
   ],
   "source": [
    "#probemos con diferentes valores de k y valores no escalados\n",
    "y_true=df_no_scaled_valid['insurance_benefits_received'].values\n",
    "y_pred=predictions_by_nearest_nbr(df_no_scaled_train,df_no_scaled_valid,k=15)\n",
    "eval_classifier(y_true,y_pred)"
   ]
  },
  {
   "cell_type": "markdown",
   "metadata": {},
   "source": [
    "A medida que k aumenta, la métrica F1 disminuye tanto para valores escalados como no escalados, en cuanto a los valores escalados, se observa un aumento signfiicativo en la calidad del model entrenado."
   ]
  },
  {
   "cell_type": "markdown",
   "metadata": {},
   "source": [
    "### Puede un modelo de predictivo funcionar mejor que un modelo dummy?\n",
    "un modelo predictivo puede funcionar mejor que un modelo dummy, pero depende de la complejidad de los datos y de cómo se haya desarrollado y entrenado el modelo predictivo."
   ]
  },
  {
   "cell_type": "markdown",
   "metadata": {},
   "source": [
    "# Tarea 3. Regresión (con regresión lineal)"
   ]
  },
  {
   "cell_type": "markdown",
   "metadata": {},
   "source": [
    "Con `insurance_benefits` como objetivo, evalúa cuál sería la RECM de un modelo de regresión lineal."
   ]
  },
  {
   "cell_type": "markdown",
   "metadata": {},
   "source": [
    "**Implementación de un modelo de regresión lineal**\n",
    "\n",
    "En este proyecto, estoy construyendo mi propia implementación de un modelo de regresión lineal. Para ello, me baso en la formulación clásica de la regresión lineal utilizando Álgebra Lineal. Además, estoy evaluando la precisión del modelo mediante la comparación de la raíz del error cuadrático medio (RECM) tanto para los datos en su forma original como para los datos escalados. Mi objetivo aquí es determinar si hay diferencias significativas en el desempeño del modelo en estos dos escenarios.\n",
    "\n",
    "Aquí están los elementos clave que estoy utilizando:\n",
    "\n",
    "- **$X$**: Esta es la matriz de características, en la que cada fila corresponde a un caso y cada columna a una característica específica. Es importante notar que la primera columna de $X$ está compuesta por unos, lo que permite incluir el término de sesgo en el modelo.\n",
    "- **$y$**: Este vector representa el objetivo que el modelo tratará de predecir.\n",
    "- **$\\hat{y}$**: Es el vector que contiene las predicciones generadas por el modelo.\n",
    "- **$w$**: Este es el vector de pesos que determina la relación entre las características en $X$ y el objetivo $y$.\n",
    "\n",
    "La tarea de regresión lineal puede ser expresada matemáticamente de la siguiente manera:\n",
    "\n",
    "$$\n",
    "y = Xw\n",
    "$$\n",
    "\n",
    "El objetivo durante el proceso de entrenamiento es encontrar los valores óptimos para el vector $w$, minimizando la distancia L2 o, dicho de otro modo, minimizando el error cuadrático medio (ECM) entre las predicciones del modelo $Xw$ y el objetivo real $y$:\n",
    "\n",
    "$$\n",
    "\\min_w d_2(Xw, y) \\quad \\text{o} \\quad \\min_w \\text{MSE}(Xw, y)\n",
    "$$\n",
    "\n",
    "Es importante señalar que existe una solución analítica para este problema, que es la que estoy utilizando en este caso:\n",
    "\n",
    "$$\n",
    "w = (X^T X)^{-1} X^T y\n",
    "$$\n",
    "\n",
    "Una vez que tengo los pesos $w$, puedo utilizarlos para generar predicciones sobre nuevos datos:\n",
    "\n",
    "$$\n",
    "\\hat{y} = X_{val}w\n",
    "$$\n",
    "\n",
    "Estoy documentando cuidadosamente los resultados y los análisis comparativos para asegurarme de que cualquier diferencia en la RECM entre los datos originales y los escalados sea bien comprendida y justificada."
   ]
  },
  {
   "cell_type": "code",
   "execution_count": 27,
   "metadata": {},
   "outputs": [],
   "source": [
    "class MyLinearRegression:\n",
    "    \n",
    "    def __init__(self):\n",
    "        \n",
    "        self.weights = None\n",
    "    \n",
    "    def fit(self, X, y):\n",
    "        \n",
    "        # añadir las unidades\n",
    "        X2 = np.append(np.ones([len(X), 1]), X, axis=1)\n",
    "        self.weights = np.linalg.inv(X2.T.dot(X2)).dot(X2.T).dot(y)\n",
    "\n",
    "    def predict(self, X):\n",
    "        \n",
    "        # añadir las unidades\n",
    "        X2 = np.append(np.ones([len(X), 1]), X, axis=1)\n",
    "        y_pred = X2.dot(self.weights)\n",
    "        \n",
    "        return y_pred"
   ]
  },
  {
   "cell_type": "code",
   "execution_count": 28,
   "metadata": {},
   "outputs": [],
   "source": [
    "def eval_regressor(y_true, y_pred):\n",
    "    \n",
    "    rmse = math.sqrt(sklearn.metrics.mean_squared_error(y_true, y_pred))\n",
    "    print(f'RMSE: {rmse:.2f}')\n",
    "    \n",
    "    r2_score = math.sqrt(sklearn.metrics.r2_score(y_true, y_pred))\n",
    "    print(f'R2: {r2_score:.2f}')    "
   ]
  },
  {
   "cell_type": "code",
   "execution_count": 29,
   "metadata": {},
   "outputs": [
    {
     "name": "stdout",
     "output_type": "stream",
     "text": [
      "[-9.19740784e-01  3.54081517e-02  1.84735250e-04 -3.89692232e-07\n",
      " -1.37746920e-02]\n",
      "RMSE: 0.36\n",
      "R2: 0.65\n"
     ]
    }
   ],
   "source": [
    "Train_df, Test_df = train_test_split(df, test_size=0.3, random_state=42)\n",
    "\n",
    "X_train = Train_df[['age', 'gender', 'income', 'family_members']].to_numpy()\n",
    "y_train = Train_df['insurance_benefits'].to_numpy()\n",
    "X_test = Test_df[['age', 'gender', 'income', 'family_members']].to_numpy()\n",
    "y_test = Test_df['insurance_benefits'].to_numpy()\n",
    "\n",
    "lr = MyLinearRegression()\n",
    "\n",
    "lr.fit(X_train, y_train)\n",
    "print(lr.weights)\n",
    "\n",
    "y_test_pred = lr.predict(X_test)\n",
    "eval_regressor(y_test, y_test_pred)"
   ]
  },
  {
   "cell_type": "code",
   "execution_count": 30,
   "metadata": {},
   "outputs": [
    {
     "name": "stdout",
     "output_type": "stream",
     "text": [
      "[-9.19740784e-01  2.30152986e+00  1.84735250e-04 -3.07856864e-02\n",
      " -8.26481519e-02]\n",
      "RMSE: 0.36\n",
      "R2: 0.65\n"
     ]
    }
   ],
   "source": [
    "#Usamos los datos escalados de arriba\n",
    "\n",
    "X_train = df_scaled_train[['age', 'gender', 'income', 'family_members']].to_numpy()\n",
    "y_train = df_scaled_train['insurance_benefits'].to_numpy()\n",
    "X_test = df_scaled_valid[['age', 'gender', 'income', 'family_members']].to_numpy()\n",
    "y_test = df_scaled_valid['insurance_benefits'].to_numpy()\n",
    "\n",
    "lr = MyLinearRegression()\n",
    "\n",
    "lr.fit(X_train, y_train)\n",
    "print(lr.weights)\n",
    "\n",
    "y_test_pred = lr.predict(X_test)\n",
    "eval_regressor(y_test, y_test_pred)"
   ]
  },
  {
   "cell_type": "markdown",
   "metadata": {},
   "source": [
    "Se puede notar que no hay diferencias entre usar los datos escalados y los datos no escalados.En ambos casos obtenemos valores iguales en cuanto a las metricas"
   ]
  },
  {
   "cell_type": "markdown",
   "metadata": {},
   "source": [
    "# Tarea 4. Ofuscar datos"
   ]
  },
  {
   "cell_type": "markdown",
   "metadata": {},
   "source": [
    "**Ofuscación de datos mediante transformación matricial**\n",
    "\n",
    "En este proyecto, estoy trabajando en la ofuscación de datos, que es una técnica crucial para proteger la información sensible mientras se mantiene la estructura subyacente de los datos para su análisis. En particular, estoy multiplicando las características numéricas, representadas por la matriz $X$, por una matriz invertible $P$ para transformar los datos.\n",
    "\n",
    "La transformación que estoy aplicando se expresa matemáticamente de la siguiente manera:\n",
    "\n",
    "$$\n",
    "X' = X \\times P\n",
    "$$\n",
    "\n",
    "Aquí, $X'$ representa la nueva matriz de características después de la transformación. Este enfoque asegura que los datos se ofusquen de manera efectiva, ya que la multiplicación por una matriz invertible $P$ cambia los valores originales de $X$ mientras preserva la posibilidad de revertir la transformación si se conoce $P$.\n",
    "\n",
    "Es importante destacar que la propiedad de invertibilidad de $P$ es fundamental en este proceso. Si $P$ no fuera invertible, la transformación podría perder información crítica, haciendo imposible recuperar los datos originales o, en el peor de los casos, introduciendo inconsistencias en el análisis posterior.\n",
    "\n",
    "Para asegurarme de que todo esté implementado correctamente, estoy revisando la lección sobre 'Matrices y operaciones matriciales -> Multiplicación de matrices' para recordar las reglas de multiplicación de matrices y cómo implementarlas con NumPy. Esto me permitirá verificar que la matriz $P$ sea efectivamente invertible y que la transformación se esté llevando a cabo como se espera.\n",
    "\n",
    "Una vez que aplique esta transformación, voy a comprobar cómo quedan los valores de las características después de la ofuscación para asegurarme de que la operación se realizó correctamente y que la integridad de los datos se mantiene intacta.\n"
   ]
  },
  {
   "cell_type": "code",
   "execution_count": 50,
   "metadata": {},
   "outputs": [],
   "source": [
    "personal_info_column_list = ['gender', 'age', 'income', 'family_members']\n",
    "df_pn = df[personal_info_column_list]"
   ]
  },
  {
   "cell_type": "code",
   "execution_count": 51,
   "metadata": {},
   "outputs": [],
   "source": [
    "X = df_pn.to_numpy()"
   ]
  },
  {
   "cell_type": "markdown",
   "metadata": {},
   "source": [
    "Generar una matriz aleatoria $P$."
   ]
  },
  {
   "cell_type": "code",
   "execution_count": 57,
   "metadata": {},
   "outputs": [],
   "source": [
    "rng = np.random.default_rng(seed=42)\n",
    "P = rng.random(size=(X.shape[1], X.shape[1]))"
   ]
  },
  {
   "cell_type": "markdown",
   "metadata": {},
   "source": [
    "Comprobar que la matriz P sea invertible"
   ]
  },
  {
   "cell_type": "code",
   "execution_count": 58,
   "metadata": {},
   "outputs": [
    {
     "name": "stdout",
     "output_type": "stream",
     "text": [
      "Es invertible\n",
      "[[ 0.41467992 -1.43783972  0.62798546  1.14001268]\n",
      " [-1.06101789  0.44219337  0.1329549   1.18425933]\n",
      " [ 1.42362442  1.60461607 -2.0553823  -1.53699695]\n",
      " [-0.11128575 -0.65813802  1.74995517 -0.11816316]]\n"
     ]
    }
   ],
   "source": [
    "try:\n",
    "    P_1=np.linalg.inv(P)\n",
    "except:\n",
    "    print(\"No es invertible\")\n",
    "else:\n",
    "    print(\"Es invertible\")\n",
    "    print(P_1)"
   ]
  },
  {
   "cell_type": "markdown",
   "metadata": {},
   "source": [
    "¿Puedes adivinar la edad o los ingresos de los clientes después de la transformación?"
   ]
  },
  {
   "cell_type": "code",
   "execution_count": 59,
   "metadata": {},
   "outputs": [
    {
     "name": "stdout",
     "output_type": "stream",
     "text": [
      "[[1.00e+00 4.10e+01 4.96e+04 1.00e+00]\n",
      " [0.00e+00 4.60e+01 3.80e+04 1.00e+00]\n",
      " [0.00e+00 2.90e+01 2.10e+04 0.00e+00]\n",
      " [0.00e+00 2.10e+01 4.17e+04 2.00e+00]]\n",
      "[[0.77395605 0.43887844 0.85859792 0.69736803]\n",
      " [0.09417735 0.97562235 0.7611397  0.78606431]\n",
      " [0.12811363 0.45038594 0.37079802 0.92676499]\n",
      " [0.64386512 0.82276161 0.4434142  0.22723872]]\n",
      "[[ 6359.71527314 22380.40467609 18424.09074184 46000.69669016]\n",
      " [ 4873.29406479 17160.36702982 14125.78076133 35253.45577301]\n",
      " [ 2693.11742928  9486.397744    7808.83156024 19484.86063067]\n",
      " [ 5345.60393712 18803.22720286 15479.14837264 38663.06186284]]\n"
     ]
    }
   ],
   "source": [
    "print(X[0:4])\n",
    "print(P)\n",
    "print(X.dot(P)[0:4])\n"
   ]
  },
  {
   "cell_type": "markdown",
   "metadata": {},
   "source": [
    "¿Puedes recuperar los datos originales de $X'$ si conoces $P$? Intenta comprobarlo a través de los cálculos moviendo $P$ del lado derecho de la fórmula anterior al izquierdo. En este caso las reglas de la multiplicación matricial son realmente útiles"
   ]
  },
  {
   "cell_type": "code",
   "execution_count": 60,
   "metadata": {},
   "outputs": [
    {
     "name": "stdout",
     "output_type": "stream",
     "text": [
      "[[ 1.00000000e+00  4.10000000e+01  4.96000000e+04  1.00000000e+00]\n",
      " [-4.47363596e-12  4.60000000e+01  3.80000000e+04  1.00000000e+00]\n",
      " [-2.51586878e-12  2.90000000e+01  2.10000000e+04  9.52452315e-13]\n",
      " [-4.84498208e-12  2.10000000e+01  4.17000000e+04  2.00000000e+00]\n",
      " [ 1.00000000e+00  2.80000000e+01  2.61000000e+04 -1.01990740e-13]]\n"
     ]
    }
   ],
   "source": [
    "print((X.dot(P)).dot(P_1)[0:5])"
   ]
  },
  {
   "cell_type": "markdown",
   "metadata": {},
   "source": [
    "Muestra los tres casos para algunos clientes- Datos originales\n",
    "- El que está transformado- El que está invertido (recuperado)"
   ]
  },
  {
   "cell_type": "code",
   "execution_count": 61,
   "metadata": {},
   "outputs": [
    {
     "name": "stdout",
     "output_type": "stream",
     "text": [
      "Originial\n",
      "[[1.00e+00 4.10e+01 4.96e+04 1.00e+00]\n",
      " [0.00e+00 4.60e+01 3.80e+04 1.00e+00]\n",
      " [0.00e+00 2.90e+01 2.10e+04 0.00e+00]]\n",
      "Transformado\n",
      "[[ 6359.71527314 22380.40467609 18424.09074184 46000.69669016]\n",
      " [ 4873.29406479 17160.36702982 14125.78076133 35253.45577301]\n",
      " [ 2693.11742928  9486.397744    7808.83156024 19484.86063067]]\n",
      "Recuperado\n",
      "[[ 1.00000000e+00  4.10000000e+01  4.96000000e+04  1.00000000e+00]\n",
      " [-4.47363596e-12  4.60000000e+01  3.80000000e+04  1.00000000e+00]\n",
      " [-2.51586878e-12  2.90000000e+01  2.10000000e+04  9.52452315e-13]]\n"
     ]
    }
   ],
   "source": [
    "print('Originial')\n",
    "print((X)[0:3])\n",
    "print('Transformado')\n",
    "print((X.dot(P))[0:3])\n",
    "print('Recuperado')\n",
    "print((X.dot(P)).dot(P_1)[0:3])"
   ]
  },
  {
   "cell_type": "markdown",
   "metadata": {},
   "source": [
    "Seguramente puedes ver que algunos valores no son exactamente iguales a los de los datos originales. ¿Cuál podría ser la razón de ello?"
   ]
  },
  {
   "cell_type": "markdown",
   "metadata": {},
   "source": [
    "Se debe al manejo de decimales de numpy. Cuando algùn valor deberìa ser cero, este resulta en un valor muy cercano a el."
   ]
  },
  {
   "cell_type": "markdown",
   "metadata": {},
   "source": [
    "## Prueba de que la ofuscación de datos puede funcionar con regresión lineal"
   ]
  },
  {
   "cell_type": "markdown",
   "metadata": {},
   "source": [
    "**Demostración analítica de la invariabilidad de la regresión lineal tras la ofuscación de datos**\n",
    "\n",
    "En este proyecto, hemos abordado la tarea de regresión utilizando un modelo de regresión lineal. Ahora, mi siguiente objetivo es demostrar de manera analítica que la ofuscación de datos, un proceso que involucra la multiplicación de la matriz de características $X$ por una matriz invertible $P$, no afectará los valores predichos por el modelo. Esto es crucial porque, aunque pueda parecer contraintuitivo, es esencial demostrar que los valores predichos permanecen inalterados a pesar de la ofuscación.\n",
    "\n",
    "### Descripción del Problema\n",
    "\n",
    "Después de aplicar la ofuscación, los datos transformados se representan como $X \\times P$ en lugar de $X$. Esta transformación introduce un nuevo conjunto de pesos, que denotaré como $w_P$, y que se definen de la siguiente manera:\n",
    "\n",
    "$$\n",
    "w = (X^T X)^{-1} X^T y \\quad \\Rightarrow \\quad w_P = [(XP)^T XP]^{-1} (XP)^T y\n",
    "$$\n",
    "\n",
    "El desafío principal aquí es simplificar la expresión para $w_P$ y establecer la relación entre $w$ y $w_P$. Al hacerlo, quiero demostrar que los valores predichos utilizando $w_P$ son los mismos que los obtenidos con $w$, lo que implicaría que la ofuscación no afecta negativamente los resultados de la regresión lineal.\n",
    "\n",
    "### Demostración Analítica\n",
    "\n",
    "Para comenzar, partimos de la expresión para $w$ y $w_P$:\n",
    "\n",
    "- Para $w$, tenemos:\n",
    "  $$\n",
    "  w = (X^T X)^{-1} X^T y\n",
    "  $$\n",
    "\n",
    "- Para $w_P$, tenemos:\n",
    "  $$\n",
    "  w_P = [(XP)^T XP]^{-1} (XP)^T y\n",
    "  $$\n",
    "\n",
    "Aplicando las propiedades de las matrices, podemos simplificar $w_P$:\n",
    "\n",
    "1. Usamos la propiedad de las transpuestas $(AB)^T = B^T A^T$ y la propiedad de la inversa $(AB)^{-1} = B^{-1} A^{-1}$:\n",
    "   $$\n",
    "   w_P = [(P^T X^T X P)]^{-1} (P^T X^T y)\n",
    "   $$\n",
    "\n",
    "2. Descomponemos la inversa:\n",
    "   $$\n",
    "   w_P = (P^{-1} (X^T X)^{-1} (P^T)^{-1}) (P^T X^T y)\n",
    "   $$\n",
    "\n",
    "3. Simplificamos utilizando la propiedad de la identidad:\n",
    "   $$\n",
    "   w_P = P^{-1} (X^T X)^{-1} X^T y\n",
    "   $$\n",
    "\n",
    "4. Finalmente, observamos que:\n",
    "   $$\n",
    "   w_P = P^{-1} w\n",
    "   $$\n",
    "\n",
    "### Conclusión sobre los Valores Predichos\n",
    "\n",
    "Dado que los valores predichos para la regresión con $w_P$ serían:\n",
    "\n",
    "$$\n",
    "\\hat{y} = X w_P = X (P^{-1} w) = (X P^{-1}) w = X w\n",
    "$$\n",
    "\n",
    "Esto significa que los valores predichos son los mismos que antes de aplicar la ofuscación, lo que confirma que el proceso de ofuscación no afecta la precisión del modelo de regresión lineal.\n",
    "\n",
    "### Implicaciones para la Calidad de la Regresión\n",
    "\n",
    "Dado que los valores predichos no cambian, la calidad del modelo de regresión, medida mediante la raíz del error cuadrático medio (RECM), también permanecerá inalterada. Esto es fundamental para asegurar que la ofuscación de datos no comprometa la eficacia del modelo.\n",
    "\n",
    "En resumen, he demostrado que la ofuscación de datos no afecta los resultados de la regresión lineal, lo cual refuerza la robustez y seguridad del modelo frente a posibles intentos de manipulación de datos.\n",
    "\n",
    "Esta sección no requiere la implementación de código; es una explicación analítica que respalda la fiabilidad del modelo tras la aplicación de técnicas de ofuscación de datos.\n"
   ]
  },
  {
   "cell_type": "markdown",
   "metadata": {},
   "source": [
    "## Prueba de regresión lineal con ofuscación de datos"
   ]
  },
  {
   "cell_type": "markdown",
   "metadata": {},
   "source": [
    "Ahora, probemos que la regresión lineal pueda funcionar, en términos computacionales, con la transformación de ofuscación elegida.\n",
    "Construye un procedimiento o una clase que ejecute la regresión lineal opcionalmente con la ofuscación. Puedes usar una implementación de regresión lineal de scikit-learn o tu propia implementación.\n",
    "Ejecuta la regresión lineal para los datos originales y los ofuscados, compara los valores predichos y los valores de las métricas RMSE y $R^2$. ¿Hay alguna diferencia?"
   ]
  },
  {
   "cell_type": "markdown",
   "metadata": {},
   "source": [
    "**Procedimiento**\n",
    "\n",
    "- Crea una matriz cuadrada $P$ de números aleatorios.- Comprueba que sea invertible. Si no lo es, repite el primer paso hasta obtener una matriz invertible.- <¡ tu comentario aquí !>\n",
    "- Utiliza $XP$ como la nueva matriz de características"
   ]
  },
  {
   "cell_type": "code",
   "execution_count": 62,
   "metadata": {},
   "outputs": [],
   "source": [
    "personal_info_column_list = ['gender', 'age', 'income', 'family_members']"
   ]
  },
  {
   "cell_type": "code",
   "execution_count": 145,
   "metadata": {},
   "outputs": [],
   "source": [
    "class LinearRegressionObfuscation:\n",
    "    \n",
    "    def __init__(self):\n",
    "        \n",
    "        self.model = None\n",
    "        self.rng= np.random.default_rng(seed=42)\n",
    "        self.P= self.rng.random(size=(X.shape[1], X.shape[1]))\n",
    "        P = rng.random(size=(X.shape[1], X.shape[1]))\n",
    "        #comprobamos si es invertible\n",
    "        try:\n",
    "            np.linalg.inv(P)\n",
    "        except:\n",
    "            print(\"El metodo de ofucacion no esta dispoible, cambia el valor de seed\")\n",
    "    \n",
    "    def fit(self, X, y,Obfuscation=True):\n",
    "        if Obfuscation:\n",
    "            X_fit_p=X.dot(self.P)\n",
    "            self.model=sklearn.linear_model.LinearRegression().fit(X_fit_p,y)\n",
    "        else:\n",
    "            self.model=sklearn.linear_model.LinearRegression().fit(X,y)\n",
    "        \n",
    "    def predict(self, X,Obfuscation=True):\n",
    "        \n",
    "        if Obfuscation:\n",
    "            X_pred_p=X.dot(self.P)\n",
    "            y_pred=self.model.predict(X_pred_p)#generamos la predicciòn\n",
    "            return y_pred\n",
    "        else:\n",
    "            y_pred1=self.model.predict(X)#generamos la predicciòn\n",
    "            return y_pred1"
   ]
  },
  {
   "cell_type": "code",
   "execution_count": 109,
   "metadata": {},
   "outputs": [],
   "source": [
    "#Dividimos el dataset\n",
    "df_train,df_test=train_test_split(df,test_size=0.3, random_state=42)\n",
    "x_train=df_train[personal_info_column_list]\n",
    "x_test=df_test[personal_info_column_list]\n",
    "y_train=df_train['insurance_benefits']\n",
    "y_test=df_test['insurance_benefits']\n",
    "#Obtenemos el conjunto de datos para entrenar el modelo y para testearlo\n",
    "#----------train-------------\n",
    "X_fit=x_train.to_numpy()\n",
    "Y_fit=y_train.to_numpy()\n",
    "#----------test--------------\n",
    "X_pred=x_test.to_numpy()\n",
    "Y_pred=y_test.to_numpy()"
   ]
  },
  {
   "cell_type": "code",
   "execution_count": 146,
   "metadata": {},
   "outputs": [],
   "source": [
    "#creamos el modelo\n",
    "model=LinearRegressionObfuscation()"
   ]
  },
  {
   "cell_type": "code",
   "execution_count": 147,
   "metadata": {},
   "outputs": [],
   "source": [
    "#Entrenamos el modelo con la transformación de ofuscación elegida\n",
    "model.fit(X_fit,Y_fit,True)"
   ]
  },
  {
   "cell_type": "code",
   "execution_count": 148,
   "metadata": {},
   "outputs": [
    {
     "name": "stdout",
     "output_type": "stream",
     "text": [
      "RMSE: 0.36\n",
      "R2: 0.65\n"
     ]
    }
   ],
   "source": [
    "#Generamos la predicciòn\n",
    "predictions=model.predict(X_pred,True)\n",
    "eval_regressor(Y_pred,predictions)#obtenemos las metricas"
   ]
  },
  {
   "cell_type": "code",
   "execution_count": 150,
   "metadata": {},
   "outputs": [],
   "source": [
    "#Entrenamos el modelo con la transformación de ofuscación desactivada\n",
    "model.fit(X_fit,Y_fit,False)"
   ]
  },
  {
   "cell_type": "code",
   "execution_count": 152,
   "metadata": {},
   "outputs": [
    {
     "name": "stdout",
     "output_type": "stream",
     "text": [
      "RMSE: 0.36\n",
      "R2: 0.65\n"
     ]
    }
   ],
   "source": [
    "#Generamos la predicciòn\n",
    "predictions=model.predict(X_pred,False)\n",
    "eval_regressor(Y_pred,predictions)#obtenemos las metricas"
   ]
  },
  {
   "cell_type": "markdown",
   "metadata": {},
   "source": [
    "# Conclusiones"
   ]
  },
  {
   "cell_type": "markdown",
   "metadata": {},
   "source": [
    "A lo largo del proyecto, se desarrollaron diversos algoritmos de machine learning para abordar tareas críticas en la industria de seguros. Se demostró que:\n",
    "\n",
    "- **El escalado de datos mejora significativamente el rendimiento de los modelos,** logrando métricas de evaluación más altas en comparación con datos no escalados.\n",
    "- **La ofuscación de datos** mediante la multiplicación de matrices es efectiva para proteger información sensible sin comprometer la precisión de los modelos de machine learning.\n",
    "- **El modelo predictivo superó claramente al modelo dummy** en la tarea de clasificación, evidenciando el valor de los enfoques avanzados en la predicción de prestaciones de seguros.\n",
    "- **La regresión lineal** se mostró robusta, con resultados consistentes en términos de RMSE y R², tanto con datos originales como ofuscados.\n",
    "\n",
    "Este proyecto ilustra cómo los enfoques de machine learning pueden ser aplicados efectivamente en el sector de seguros, proporcionando soluciones prácticas y seguras.\n"
   ]
  }
 ],
 "metadata": {
  "ExecuteTimeLog": [
   {
    "duration": 370,
    "start_time": "2024-06-05T23:23:17.340Z"
   },
   {
    "duration": 4606,
    "start_time": "2024-06-05T23:23:21.899Z"
   },
   {
    "duration": 5520,
    "start_time": "2024-06-05T23:23:26.509Z"
   },
   {
    "duration": 21,
    "start_time": "2024-06-05T23:23:32.034Z"
   },
   {
    "duration": 7,
    "start_time": "2024-06-05T23:23:32.059Z"
   },
   {
    "duration": 52,
    "start_time": "2024-06-05T23:23:32.071Z"
   },
   {
    "duration": 18,
    "start_time": "2024-06-05T23:23:34.876Z"
   },
   {
    "duration": 5,
    "start_time": "2024-06-05T23:23:37.295Z"
   },
   {
    "duration": 15,
    "start_time": "2024-06-05T23:23:53.383Z"
   },
   {
    "duration": 135,
    "start_time": "2024-06-05T23:28:56.085Z"
   },
   {
    "duration": 179,
    "start_time": "2024-06-05T23:29:13.201Z"
   },
   {
    "duration": 187,
    "start_time": "2024-06-05T23:30:29.944Z"
   },
   {
    "duration": 164,
    "start_time": "2024-06-05T23:33:28.129Z"
   },
   {
    "duration": 190,
    "start_time": "2024-06-05T23:34:24.298Z"
   },
   {
    "duration": 188,
    "start_time": "2024-06-05T23:35:08.674Z"
   },
   {
    "duration": 5272,
    "start_time": "2024-06-05T23:35:37.451Z"
   },
   {
    "duration": 4,
    "start_time": "2024-06-05T23:35:44.278Z"
   },
   {
    "duration": 5221,
    "start_time": "2024-06-05T23:35:47.842Z"
   },
   {
    "duration": 412,
    "start_time": "2024-06-05T23:36:04.962Z"
   },
   {
    "duration": 147,
    "start_time": "2024-06-05T23:37:04.781Z"
   },
   {
    "duration": 148,
    "start_time": "2024-06-05T23:37:49.934Z"
   },
   {
    "duration": 13,
    "start_time": "2024-06-05T23:39:05.663Z"
   },
   {
    "duration": 23,
    "start_time": "2024-06-05T23:39:22.563Z"
   },
   {
    "duration": 11,
    "start_time": "2024-06-05T23:39:33.637Z"
   },
   {
    "duration": 26,
    "start_time": "2024-06-05T23:39:44.463Z"
   },
   {
    "duration": 8,
    "start_time": "2024-06-05T23:39:49.398Z"
   },
   {
    "duration": 6,
    "start_time": "2024-06-05T23:39:55.215Z"
   },
   {
    "duration": 14,
    "start_time": "2024-06-05T23:40:43.543Z"
   },
   {
    "duration": 4,
    "start_time": "2024-06-05T23:43:12.594Z"
   },
   {
    "duration": 264,
    "start_time": "2024-06-05T23:43:31.475Z"
   },
   {
    "duration": 132,
    "start_time": "2024-06-05T23:43:38.415Z"
   },
   {
    "duration": 129,
    "start_time": "2024-06-05T23:43:43.984Z"
   },
   {
    "duration": 148,
    "start_time": "2024-06-05T23:43:51.554Z"
   },
   {
    "duration": 148,
    "start_time": "2024-06-05T23:43:56.312Z"
   },
   {
    "duration": 141,
    "start_time": "2024-06-05T23:44:01.153Z"
   },
   {
    "duration": 114,
    "start_time": "2024-06-05T23:44:06.353Z"
   },
   {
    "duration": 255,
    "start_time": "2024-06-05T23:44:25.386Z"
   },
   {
    "duration": 11,
    "start_time": "2024-06-05T23:44:48.219Z"
   },
   {
    "duration": 237,
    "start_time": "2024-06-05T23:47:04.557Z"
   },
   {
    "duration": 67,
    "start_time": "2024-06-05T23:47:32.565Z"
   },
   {
    "duration": 44,
    "start_time": "2024-06-05T23:47:50.445Z"
   },
   {
    "duration": 213,
    "start_time": "2024-06-05T23:48:36.523Z"
   },
   {
    "duration": 5,
    "start_time": "2024-06-06T00:00:09.260Z"
   },
   {
    "duration": 25,
    "start_time": "2024-06-06T01:05:27.041Z"
   },
   {
    "duration": 6,
    "start_time": "2024-06-06T01:05:31.682Z"
   },
   {
    "duration": 53,
    "start_time": "2024-06-06T01:05:34.387Z"
   },
   {
    "duration": 7,
    "start_time": "2024-06-06T01:06:12.787Z"
   },
   {
    "duration": 42,
    "start_time": "2024-06-06T01:06:15.629Z"
   },
   {
    "duration": 7,
    "start_time": "2024-06-06T01:09:50.123Z"
   },
   {
    "duration": 6,
    "start_time": "2024-06-06T01:10:00.384Z"
   },
   {
    "duration": 47,
    "start_time": "2024-06-06T01:10:02.492Z"
   },
   {
    "duration": 7,
    "start_time": "2024-06-06T01:10:13.149Z"
   },
   {
    "duration": 42,
    "start_time": "2024-06-06T01:10:15.387Z"
   },
   {
    "duration": 4,
    "start_time": "2024-06-06T01:10:33.811Z"
   },
   {
    "duration": 6,
    "start_time": "2024-06-06T01:10:36.261Z"
   },
   {
    "duration": 486,
    "start_time": "2024-06-06T01:10:39.590Z"
   },
   {
    "duration": 6,
    "start_time": "2024-06-06T01:34:37.708Z"
   },
   {
    "duration": 20,
    "start_time": "2024-06-06T01:34:40.420Z"
   },
   {
    "duration": 17,
    "start_time": "2024-06-06T01:35:17.596Z"
   },
   {
    "duration": 17,
    "start_time": "2024-06-06T01:38:01.861Z"
   },
   {
    "duration": 17,
    "start_time": "2024-06-06T01:38:08.052Z"
   },
   {
    "duration": 7,
    "start_time": "2024-06-06T01:40:34.512Z"
   },
   {
    "duration": 17,
    "start_time": "2024-06-06T01:40:39.293Z"
   },
   {
    "duration": 6,
    "start_time": "2024-06-06T01:40:50.401Z"
   },
   {
    "duration": 16,
    "start_time": "2024-06-06T01:40:53.987Z"
   },
   {
    "duration": 6,
    "start_time": "2024-06-06T01:41:03.087Z"
   },
   {
    "duration": 17,
    "start_time": "2024-06-06T01:41:05.614Z"
   },
   {
    "duration": 15,
    "start_time": "2024-06-06T01:41:11.310Z"
   },
   {
    "duration": 15,
    "start_time": "2024-06-06T01:41:55.375Z"
   },
   {
    "duration": 14,
    "start_time": "2024-06-06T01:41:57.262Z"
   },
   {
    "duration": 16,
    "start_time": "2024-06-06T01:42:07.670Z"
   },
   {
    "duration": 16,
    "start_time": "2024-06-06T01:42:14.918Z"
   },
   {
    "duration": 16,
    "start_time": "2024-06-06T01:42:26.759Z"
   },
   {
    "duration": 13,
    "start_time": "2024-06-06T01:43:49.426Z"
   },
   {
    "duration": 17,
    "start_time": "2024-06-06T01:49:00.929Z"
   },
   {
    "duration": 15,
    "start_time": "2024-06-06T01:50:38.924Z"
   },
   {
    "duration": 13,
    "start_time": "2024-06-06T01:50:43.612Z"
   },
   {
    "duration": 14,
    "start_time": "2024-06-06T01:50:45.532Z"
   },
   {
    "duration": 13,
    "start_time": "2024-06-06T01:50:47.298Z"
   },
   {
    "duration": 14,
    "start_time": "2024-06-06T01:50:49.164Z"
   },
   {
    "duration": 14,
    "start_time": "2024-06-06T01:50:50.971Z"
   },
   {
    "duration": 15,
    "start_time": "2024-06-06T01:50:52.684Z"
   },
   {
    "duration": 14,
    "start_time": "2024-06-06T01:50:54.699Z"
   },
   {
    "duration": 17,
    "start_time": "2024-06-06T01:51:13.126Z"
   },
   {
    "duration": 15,
    "start_time": "2024-06-06T01:51:21.859Z"
   },
   {
    "duration": 16,
    "start_time": "2024-06-06T01:51:48.690Z"
   },
   {
    "duration": 18,
    "start_time": "2024-06-06T01:51:52.733Z"
   },
   {
    "duration": 16,
    "start_time": "2024-06-06T01:52:01.005Z"
   },
   {
    "duration": 17,
    "start_time": "2024-06-06T01:52:22.022Z"
   },
   {
    "duration": 18,
    "start_time": "2024-06-06T01:52:59.775Z"
   },
   {
    "duration": 17,
    "start_time": "2024-06-06T01:53:31.582Z"
   },
   {
    "duration": 17,
    "start_time": "2024-06-06T01:53:42.781Z"
   },
   {
    "duration": 16,
    "start_time": "2024-06-06T01:53:46.925Z"
   },
   {
    "duration": 17,
    "start_time": "2024-06-06T01:53:51.613Z"
   },
   {
    "duration": 17,
    "start_time": "2024-06-06T01:53:57.541Z"
   },
   {
    "duration": 16,
    "start_time": "2024-06-06T01:54:05.093Z"
   },
   {
    "duration": 20,
    "start_time": "2024-06-06T01:54:11.222Z"
   },
   {
    "duration": 15,
    "start_time": "2024-06-06T01:54:17.645Z"
   },
   {
    "duration": 17,
    "start_time": "2024-06-06T01:54:22.959Z"
   },
   {
    "duration": 17,
    "start_time": "2024-06-06T01:54:29.422Z"
   },
   {
    "duration": 19,
    "start_time": "2024-06-06T01:54:51.050Z"
   },
   {
    "duration": 17,
    "start_time": "2024-06-06T01:56:09.597Z"
   },
   {
    "duration": 18,
    "start_time": "2024-06-06T02:07:55.998Z"
   },
   {
    "duration": 22,
    "start_time": "2024-06-06T02:08:04.326Z"
   },
   {
    "duration": 18,
    "start_time": "2024-06-06T02:08:14.686Z"
   },
   {
    "duration": 16,
    "start_time": "2024-06-06T02:08:19.374Z"
   },
   {
    "duration": 16,
    "start_time": "2024-06-06T02:08:25.165Z"
   },
   {
    "duration": 17,
    "start_time": "2024-06-06T02:08:32.490Z"
   },
   {
    "duration": 16,
    "start_time": "2024-06-06T02:08:37.262Z"
   },
   {
    "duration": 16,
    "start_time": "2024-06-06T02:08:57.295Z"
   },
   {
    "duration": 16,
    "start_time": "2024-06-06T02:08:57.636Z"
   },
   {
    "duration": 15,
    "start_time": "2024-06-06T02:09:01.637Z"
   },
   {
    "duration": 18,
    "start_time": "2024-06-06T02:20:39.128Z"
   },
   {
    "duration": 16,
    "start_time": "2024-06-06T02:20:42.133Z"
   },
   {
    "duration": 16,
    "start_time": "2024-06-06T02:20:49.200Z"
   },
   {
    "duration": 19,
    "start_time": "2024-06-06T02:20:58.403Z"
   },
   {
    "duration": 9,
    "start_time": "2024-06-06T02:44:09.953Z"
   },
   {
    "duration": 8,
    "start_time": "2024-06-06T02:44:24.693Z"
   },
   {
    "duration": 8,
    "start_time": "2024-06-06T02:44:32.779Z"
   },
   {
    "duration": 6,
    "start_time": "2024-06-06T02:52:39.024Z"
   },
   {
    "duration": 4402,
    "start_time": "2024-06-07T15:25:25.556Z"
   },
   {
    "duration": 5395,
    "start_time": "2024-06-07T15:25:29.963Z"
   },
   {
    "duration": 5,
    "start_time": "2024-06-07T15:25:44.170Z"
   },
   {
    "duration": 14,
    "start_time": "2024-06-07T15:25:46.015Z"
   },
   {
    "duration": 5,
    "start_time": "2024-06-07T15:25:48.690Z"
   },
   {
    "duration": 19,
    "start_time": "2024-06-07T15:25:50.830Z"
   },
   {
    "duration": 5,
    "start_time": "2024-06-07T15:25:55.225Z"
   },
   {
    "duration": 16,
    "start_time": "2024-06-07T15:25:57.257Z"
   },
   {
    "duration": 324,
    "start_time": "2024-06-07T15:26:00.819Z"
   },
   {
    "duration": 4,
    "start_time": "2024-06-07T15:26:07.482Z"
   },
   {
    "duration": 6,
    "start_time": "2024-06-07T15:26:08.827Z"
   },
   {
    "duration": 15,
    "start_time": "2024-06-07T15:26:11.538Z"
   },
   {
    "duration": 13,
    "start_time": "2024-06-07T15:26:13.443Z"
   },
   {
    "duration": 18,
    "start_time": "2024-06-07T15:26:22.002Z"
   },
   {
    "duration": 15,
    "start_time": "2024-06-07T15:26:24.025Z"
   },
   {
    "duration": 16,
    "start_time": "2024-06-07T15:26:26.566Z"
   },
   {
    "duration": 15,
    "start_time": "2024-06-07T15:26:29.204Z"
   },
   {
    "duration": 7,
    "start_time": "2024-06-07T15:29:02.852Z"
   },
   {
    "duration": 8,
    "start_time": "2024-06-07T15:29:05.567Z"
   },
   {
    "duration": 6,
    "start_time": "2024-06-07T15:34:00.104Z"
   },
   {
    "duration": 5,
    "start_time": "2024-06-07T15:34:12.183Z"
   },
   {
    "duration": 14,
    "start_time": "2024-06-07T15:34:13.982Z"
   },
   {
    "duration": 19,
    "start_time": "2024-06-07T15:48:22.530Z"
   },
   {
    "duration": 5,
    "start_time": "2024-06-07T16:14:05.931Z"
   },
   {
    "duration": 559,
    "start_time": "2024-06-07T16:15:35.204Z"
   },
   {
    "duration": 5,
    "start_time": "2024-06-07T16:16:05.548Z"
   },
   {
    "duration": 47,
    "start_time": "2024-06-07T16:16:07.386Z"
   },
   {
    "duration": 5,
    "start_time": "2024-06-07T16:16:34.355Z"
   },
   {
    "duration": 59,
    "start_time": "2024-06-07T16:16:35.720Z"
   },
   {
    "duration": 5,
    "start_time": "2024-06-07T16:16:51.651Z"
   },
   {
    "duration": 287,
    "start_time": "2024-06-07T16:16:53.539Z"
   },
   {
    "duration": 5,
    "start_time": "2024-06-07T16:18:23.948Z"
   },
   {
    "duration": 121,
    "start_time": "2024-06-07T16:18:26.083Z"
   },
   {
    "duration": 5,
    "start_time": "2024-06-07T16:19:05.183Z"
   },
   {
    "duration": 1636,
    "start_time": "2024-06-07T16:19:07.895Z"
   },
   {
    "duration": 34,
    "start_time": "2024-06-07T16:21:24.640Z"
   },
   {
    "duration": 31,
    "start_time": "2024-06-07T16:32:24.150Z"
   },
   {
    "duration": 7,
    "start_time": "2024-06-07T16:32:48.246Z"
   },
   {
    "duration": 5,
    "start_time": "2024-06-07T16:32:52.711Z"
   },
   {
    "duration": 34,
    "start_time": "2024-06-07T16:33:01.375Z"
   },
   {
    "duration": 32,
    "start_time": "2024-06-07T16:36:17.874Z"
   },
   {
    "duration": 33,
    "start_time": "2024-06-07T16:36:29.579Z"
   },
   {
    "duration": 33,
    "start_time": "2024-06-07T16:40:17.115Z"
   },
   {
    "duration": 42,
    "start_time": "2024-06-07T16:40:55.018Z"
   },
   {
    "duration": 45,
    "start_time": "2024-06-07T16:41:20.364Z"
   },
   {
    "duration": 49,
    "start_time": "2024-06-07T16:41:41.946Z"
   },
   {
    "duration": 49,
    "start_time": "2024-06-07T16:41:52.765Z"
   },
   {
    "duration": 44,
    "start_time": "2024-06-07T16:42:16.880Z"
   },
   {
    "duration": 6,
    "start_time": "2024-06-07T16:45:33.711Z"
   },
   {
    "duration": 9,
    "start_time": "2024-06-07T16:45:53.279Z"
   },
   {
    "duration": 12,
    "start_time": "2024-06-07T16:46:18.279Z"
   },
   {
    "duration": 26,
    "start_time": "2024-06-07T16:46:41.646Z"
   },
   {
    "duration": 5,
    "start_time": "2024-06-07T16:46:53.415Z"
   },
   {
    "duration": 16,
    "start_time": "2024-06-07T16:47:29.089Z"
   },
   {
    "duration": 39,
    "start_time": "2024-06-07T16:48:14.263Z"
   },
   {
    "duration": 26,
    "start_time": "2024-06-07T16:48:52.550Z"
   },
   {
    "duration": 44,
    "start_time": "2024-06-07T16:49:29.866Z"
   },
   {
    "duration": 25,
    "start_time": "2024-06-07T16:49:54.299Z"
   },
   {
    "duration": 35,
    "start_time": "2024-06-07T16:50:01.074Z"
   },
   {
    "duration": 44,
    "start_time": "2024-06-07T16:50:45.245Z"
   },
   {
    "duration": 55,
    "start_time": "2024-06-07T16:51:04.582Z"
   },
   {
    "duration": 14,
    "start_time": "2024-06-07T16:51:14.667Z"
   },
   {
    "duration": 41,
    "start_time": "2024-06-07T16:51:18.562Z"
   },
   {
    "duration": 47,
    "start_time": "2024-06-07T16:51:29.185Z"
   },
   {
    "duration": 70,
    "start_time": "2024-06-07T16:51:48.427Z"
   },
   {
    "duration": 4,
    "start_time": "2024-06-07T16:54:23.060Z"
   },
   {
    "duration": 24,
    "start_time": "2024-06-07T16:54:27.902Z"
   },
   {
    "duration": 5,
    "start_time": "2024-06-07T16:54:39.022Z"
   },
   {
    "duration": 8,
    "start_time": "2024-06-07T16:55:43.193Z"
   },
   {
    "duration": 47,
    "start_time": "2024-06-07T16:55:51.352Z"
   },
   {
    "duration": 50,
    "start_time": "2024-06-07T16:55:58.711Z"
   },
   {
    "duration": 935,
    "start_time": "2024-06-07T16:56:13.030Z"
   },
   {
    "duration": 49,
    "start_time": "2024-06-07T16:56:39.062Z"
   },
   {
    "duration": 176,
    "start_time": "2024-06-07T16:56:44.960Z"
   },
   {
    "duration": 54,
    "start_time": "2024-06-07T16:56:54.945Z"
   },
   {
    "duration": 81,
    "start_time": "2024-06-07T16:57:19.544Z"
   },
   {
    "duration": 100,
    "start_time": "2024-06-07T16:57:48.241Z"
   },
   {
    "duration": 93,
    "start_time": "2024-06-07T16:58:06.224Z"
   },
   {
    "duration": 95,
    "start_time": "2024-06-07T16:58:15.250Z"
   },
   {
    "duration": 6,
    "start_time": "2024-06-07T17:00:56.318Z"
   },
   {
    "duration": 6,
    "start_time": "2024-06-07T17:01:08.107Z"
   },
   {
    "duration": 15,
    "start_time": "2024-06-07T17:01:16.468Z"
   },
   {
    "duration": 15,
    "start_time": "2024-06-07T17:02:10.332Z"
   },
   {
    "duration": 15,
    "start_time": "2024-06-07T17:02:17.116Z"
   },
   {
    "duration": 6,
    "start_time": "2024-06-07T17:03:38.933Z"
   },
   {
    "duration": 49,
    "start_time": "2024-06-07T17:03:40.460Z"
   },
   {
    "duration": 6,
    "start_time": "2024-06-07T17:04:29.110Z"
   },
   {
    "duration": 117,
    "start_time": "2024-06-07T17:04:31.606Z"
   },
   {
    "duration": 7,
    "start_time": "2024-06-07T17:05:00.679Z"
   },
   {
    "duration": 113,
    "start_time": "2024-06-07T17:05:02.342Z"
   },
   {
    "duration": 7,
    "start_time": "2024-06-07T17:05:07.830Z"
   },
   {
    "duration": 165,
    "start_time": "2024-06-07T17:05:10.117Z"
   },
   {
    "duration": 8,
    "start_time": "2024-06-07T17:05:27.560Z"
   },
   {
    "duration": 129,
    "start_time": "2024-06-07T17:05:28.163Z"
   },
   {
    "duration": 6,
    "start_time": "2024-06-07T17:06:30.503Z"
   },
   {
    "duration": 133,
    "start_time": "2024-06-07T17:06:32.765Z"
   },
   {
    "duration": 6,
    "start_time": "2024-06-07T17:06:40.645Z"
   },
   {
    "duration": 123,
    "start_time": "2024-06-07T17:06:42.002Z"
   },
   {
    "duration": 4703,
    "start_time": "2024-06-08T01:01:05.863Z"
   },
   {
    "duration": 5187,
    "start_time": "2024-06-08T01:01:10.571Z"
   },
   {
    "duration": 18,
    "start_time": "2024-06-08T01:01:15.761Z"
   },
   {
    "duration": 6,
    "start_time": "2024-06-08T01:01:15.782Z"
   },
   {
    "duration": 5,
    "start_time": "2024-06-08T01:01:17.340Z"
   },
   {
    "duration": 7,
    "start_time": "2024-06-08T01:01:26.266Z"
   },
   {
    "duration": 14,
    "start_time": "2024-06-08T01:01:28.242Z"
   },
   {
    "duration": 8,
    "start_time": "2024-06-08T01:01:39.986Z"
   },
   {
    "duration": 9,
    "start_time": "2024-06-08T01:01:41.346Z"
   },
   {
    "duration": 23,
    "start_time": "2024-06-08T01:01:44.213Z"
   },
   {
    "duration": 6,
    "start_time": "2024-06-08T01:01:45.872Z"
   },
   {
    "duration": 781,
    "start_time": "2024-06-08T01:01:48.800Z"
   },
   {
    "duration": 7,
    "start_time": "2024-06-08T01:02:01.642Z"
   },
   {
    "duration": 1562,
    "start_time": "2024-06-08T01:02:03.884Z"
   },
   {
    "duration": 39,
    "start_time": "2024-06-08T01:08:27.120Z"
   },
   {
    "duration": 12,
    "start_time": "2024-06-08T01:08:37.103Z"
   },
   {
    "duration": 7,
    "start_time": "2024-06-08T01:08:50.715Z"
   },
   {
    "duration": 226,
    "start_time": "2024-06-08T01:08:53.951Z"
   },
   {
    "duration": 112,
    "start_time": "2024-06-08T01:09:28.688Z"
   },
   {
    "duration": 6,
    "start_time": "2024-06-08T01:10:23.593Z"
   },
   {
    "duration": 177,
    "start_time": "2024-06-08T01:10:25.938Z"
   },
   {
    "duration": 6,
    "start_time": "2024-06-08T01:10:44.263Z"
   },
   {
    "duration": 6,
    "start_time": "2024-06-08T01:10:55.002Z"
   },
   {
    "duration": 2750,
    "start_time": "2024-06-08T01:10:59.089Z"
   },
   {
    "duration": 6,
    "start_time": "2024-06-08T01:11:38.520Z"
   },
   {
    "duration": 2903,
    "start_time": "2024-06-08T01:11:41.842Z"
   },
   {
    "duration": 9,
    "start_time": "2024-06-08T01:12:02.058Z"
   },
   {
    "duration": 3432,
    "start_time": "2024-06-08T01:12:06.594Z"
   },
   {
    "duration": 6,
    "start_time": "2024-06-08T01:12:27.418Z"
   },
   {
    "duration": 114,
    "start_time": "2024-06-08T01:12:29.330Z"
   },
   {
    "duration": 7,
    "start_time": "2024-06-08T01:12:37.072Z"
   },
   {
    "duration": 2784,
    "start_time": "2024-06-08T01:12:38.386Z"
   },
   {
    "duration": 8,
    "start_time": "2024-06-08T01:13:33.053Z"
   },
   {
    "duration": 11,
    "start_time": "2024-06-08T01:13:39.227Z"
   },
   {
    "duration": 7,
    "start_time": "2024-06-08T01:23:43.850Z"
   },
   {
    "duration": 128,
    "start_time": "2024-06-08T01:23:50.207Z"
   },
   {
    "duration": 13,
    "start_time": "2024-06-08T01:24:30.231Z"
   },
   {
    "duration": 9,
    "start_time": "2024-06-08T01:24:37.212Z"
   },
   {
    "duration": 4,
    "start_time": "2024-06-08T01:25:06.454Z"
   },
   {
    "duration": 12,
    "start_time": "2024-06-08T01:25:08.420Z"
   },
   {
    "duration": 6,
    "start_time": "2024-06-08T01:25:39.236Z"
   },
   {
    "duration": 2788,
    "start_time": "2024-06-08T01:25:41.996Z"
   },
   {
    "duration": 7,
    "start_time": "2024-06-08T01:27:05.093Z"
   },
   {
    "duration": 14,
    "start_time": "2024-06-08T01:27:08.691Z"
   },
   {
    "duration": 18,
    "start_time": "2024-06-08T01:27:18.431Z"
   },
   {
    "duration": 20,
    "start_time": "2024-06-08T01:28:00.438Z"
   },
   {
    "duration": 19,
    "start_time": "2024-06-08T01:28:05.542Z"
   },
   {
    "duration": 6,
    "start_time": "2024-06-08T01:28:10.294Z"
   },
   {
    "duration": 24,
    "start_time": "2024-06-08T01:28:15.066Z"
   },
   {
    "duration": 21,
    "start_time": "2024-06-08T01:28:17.896Z"
   },
   {
    "duration": 17,
    "start_time": "2024-06-08T01:28:38.447Z"
   },
   {
    "duration": 26,
    "start_time": "2024-06-08T01:28:39.824Z"
   },
   {
    "duration": 20,
    "start_time": "2024-06-08T01:28:40.848Z"
   },
   {
    "duration": 2600,
    "start_time": "2024-06-08T01:34:40.762Z"
   },
   {
    "duration": 6,
    "start_time": "2024-06-08T01:35:01.612Z"
   },
   {
    "duration": 3043,
    "start_time": "2024-06-08T01:35:13.915Z"
   },
   {
    "duration": 13,
    "start_time": "2024-06-08T01:35:50.980Z"
   },
   {
    "duration": 3216,
    "start_time": "2024-06-08T01:35:55.588Z"
   },
   {
    "duration": 3456,
    "start_time": "2024-06-08T01:36:04.828Z"
   },
   {
    "duration": 6,
    "start_time": "2024-06-08T01:36:34.346Z"
   },
   {
    "duration": 5,
    "start_time": "2024-06-08T01:36:36.275Z"
   },
   {
    "duration": 35,
    "start_time": "2024-06-08T01:36:40.923Z"
   },
   {
    "duration": 2764,
    "start_time": "2024-06-08T01:37:03.644Z"
   },
   {
    "duration": 16,
    "start_time": "2024-06-08T01:52:39.705Z"
   },
   {
    "duration": 6,
    "start_time": "2024-06-08T01:52:47.686Z"
   },
   {
    "duration": 6,
    "start_time": "2024-06-08T01:52:52.384Z"
   },
   {
    "duration": 7,
    "start_time": "2024-06-08T01:52:57.191Z"
   },
   {
    "duration": 39,
    "start_time": "2024-06-08T01:53:43.711Z"
   },
   {
    "duration": 40,
    "start_time": "2024-06-08T01:54:51.418Z"
   },
   {
    "duration": 40,
    "start_time": "2024-06-08T01:55:12.754Z"
   },
   {
    "duration": 3431,
    "start_time": "2024-06-08T01:58:37.236Z"
   },
   {
    "duration": 2627,
    "start_time": "2024-06-08T02:00:26.254Z"
   },
   {
    "duration": 2708,
    "start_time": "2024-06-08T02:00:34.733Z"
   },
   {
    "duration": 2948,
    "start_time": "2024-06-08T02:00:42.927Z"
   },
   {
    "duration": 5,
    "start_time": "2024-06-08T02:01:18.950Z"
   },
   {
    "duration": 3003,
    "start_time": "2024-06-08T02:01:22.294Z"
   },
   {
    "duration": 5,
    "start_time": "2024-06-08T02:01:35.980Z"
   },
   {
    "duration": 2874,
    "start_time": "2024-06-08T02:01:58.590Z"
   },
   {
    "duration": 6,
    "start_time": "2024-06-08T02:02:07.423Z"
   },
   {
    "duration": 5,
    "start_time": "2024-06-08T02:02:09.511Z"
   },
   {
    "duration": 2747,
    "start_time": "2024-06-08T02:02:12.200Z"
   },
   {
    "duration": 2680,
    "start_time": "2024-06-08T02:02:28.026Z"
   },
   {
    "duration": 3019,
    "start_time": "2024-06-08T02:03:16.056Z"
   },
   {
    "duration": 3105,
    "start_time": "2024-06-08T02:03:23.183Z"
   },
   {
    "duration": 43,
    "start_time": "2024-06-08T02:05:39.817Z"
   },
   {
    "duration": 7,
    "start_time": "2024-06-08T02:05:47.080Z"
   },
   {
    "duration": 3517,
    "start_time": "2024-06-08T02:05:53.815Z"
   },
   {
    "duration": 2995,
    "start_time": "2024-06-08T02:05:57.336Z"
   },
   {
    "duration": 3480,
    "start_time": "2024-06-08T02:06:06.311Z"
   },
   {
    "duration": 3337,
    "start_time": "2024-06-08T02:06:28.321Z"
   },
   {
    "duration": 2772,
    "start_time": "2024-06-08T02:06:36.466Z"
   },
   {
    "duration": 8,
    "start_time": "2024-06-08T03:21:09.864Z"
   },
   {
    "duration": 5,
    "start_time": "2024-06-08T03:21:13.343Z"
   },
   {
    "duration": 119,
    "start_time": "2024-06-08T03:21:25.126Z"
   },
   {
    "duration": 9,
    "start_time": "2024-06-08T03:22:07.431Z"
   },
   {
    "duration": 8,
    "start_time": "2024-06-08T03:22:09.673Z"
   },
   {
    "duration": 56,
    "start_time": "2024-06-08T03:22:11.491Z"
   },
   {
    "duration": 6,
    "start_time": "2024-06-08T03:22:27.520Z"
   },
   {
    "duration": 213,
    "start_time": "2024-06-08T03:22:30.715Z"
   },
   {
    "duration": 5,
    "start_time": "2024-06-08T03:23:33.159Z"
   },
   {
    "duration": 12,
    "start_time": "2024-06-08T03:23:40.040Z"
   },
   {
    "duration": 4321,
    "start_time": "2024-06-08T16:07:07.639Z"
   },
   {
    "duration": 5137,
    "start_time": "2024-06-08T16:07:11.964Z"
   },
   {
    "duration": 12,
    "start_time": "2024-06-08T16:07:17.106Z"
   },
   {
    "duration": 6,
    "start_time": "2024-06-08T16:07:17.121Z"
   },
   {
    "duration": 5,
    "start_time": "2024-06-08T16:07:21.210Z"
   },
   {
    "duration": 4,
    "start_time": "2024-06-08T16:07:27.719Z"
   },
   {
    "duration": 6,
    "start_time": "2024-06-08T16:07:28.782Z"
   },
   {
    "duration": 7,
    "start_time": "2024-06-08T16:07:30.222Z"
   },
   {
    "duration": 19,
    "start_time": "2024-06-08T16:07:32.189Z"
   },
   {
    "duration": 17,
    "start_time": "2024-06-08T16:07:33.525Z"
   },
   {
    "duration": 19,
    "start_time": "2024-06-08T16:07:36.743Z"
   },
   {
    "duration": 17,
    "start_time": "2024-06-08T16:07:37.789Z"
   },
   {
    "duration": 24,
    "start_time": "2024-06-08T16:07:38.645Z"
   },
   {
    "duration": 7,
    "start_time": "2024-06-08T16:07:43.526Z"
   },
   {
    "duration": 9,
    "start_time": "2024-06-08T16:07:44.013Z"
   },
   {
    "duration": 20,
    "start_time": "2024-06-08T16:07:46.332Z"
   },
   {
    "duration": 8,
    "start_time": "2024-06-08T16:08:31.079Z"
   },
   {
    "duration": 5,
    "start_time": "2024-06-08T16:08:33.380Z"
   },
   {
    "duration": 4,
    "start_time": "2024-06-08T16:08:33.844Z"
   },
   {
    "duration": 37,
    "start_time": "2024-06-08T16:08:35.402Z"
   },
   {
    "duration": 2628,
    "start_time": "2024-06-08T16:08:38.335Z"
   },
   {
    "duration": 2890,
    "start_time": "2024-06-08T16:08:40.967Z"
   },
   {
    "duration": 2636,
    "start_time": "2024-06-08T16:08:43.860Z"
   },
   {
    "duration": 2914,
    "start_time": "2024-06-08T16:08:46.504Z"
   },
   {
    "duration": 3071,
    "start_time": "2024-06-08T16:09:16.453Z"
   },
   {
    "duration": 2885,
    "start_time": "2024-06-08T16:09:29.039Z"
   },
   {
    "duration": 7,
    "start_time": "2024-06-08T16:09:57.536Z"
   },
   {
    "duration": 2911,
    "start_time": "2024-06-08T16:10:11.831Z"
   },
   {
    "duration": 6,
    "start_time": "2024-06-08T16:10:43.639Z"
   },
   {
    "duration": 5,
    "start_time": "2024-06-08T16:10:45.365Z"
   },
   {
    "duration": 21,
    "start_time": "2024-06-08T16:10:47.381Z"
   },
   {
    "duration": 13,
    "start_time": "2024-06-08T16:21:03.347Z"
   },
   {
    "duration": 11,
    "start_time": "2024-06-08T16:21:37.656Z"
   },
   {
    "duration": 16,
    "start_time": "2024-06-08T16:21:43.391Z"
   },
   {
    "duration": 10,
    "start_time": "2024-06-08T16:34:12.384Z"
   },
   {
    "duration": 12,
    "start_time": "2024-06-08T16:35:23.524Z"
   },
   {
    "duration": 14,
    "start_time": "2024-06-08T16:37:13.666Z"
   },
   {
    "duration": 4,
    "start_time": "2024-06-08T16:50:43.736Z"
   },
   {
    "duration": 4,
    "start_time": "2024-06-08T16:50:45.212Z"
   },
   {
    "duration": 4,
    "start_time": "2024-06-08T16:50:46.906Z"
   },
   {
    "duration": 430,
    "start_time": "2024-06-08T16:52:38.205Z"
   },
   {
    "duration": 10,
    "start_time": "2024-06-08T16:52:47.135Z"
   },
   {
    "duration": 12,
    "start_time": "2024-06-08T16:52:58.442Z"
   },
   {
    "duration": 5,
    "start_time": "2024-06-08T17:02:29.586Z"
   },
   {
    "duration": 4579,
    "start_time": "2024-06-10T14:24:48.237Z"
   },
   {
    "duration": 5455,
    "start_time": "2024-06-10T14:24:52.825Z"
   },
   {
    "duration": 89,
    "start_time": "2024-06-10T14:24:58.284Z"
   },
   {
    "duration": 6,
    "start_time": "2024-06-10T14:25:00.006Z"
   },
   {
    "duration": 6,
    "start_time": "2024-06-10T14:25:04.400Z"
   },
   {
    "duration": 5,
    "start_time": "2024-06-10T14:25:12.529Z"
   },
   {
    "duration": 9,
    "start_time": "2024-06-10T14:25:13.960Z"
   },
   {
    "duration": 17,
    "start_time": "2024-06-10T14:25:18.151Z"
   },
   {
    "duration": 10,
    "start_time": "2024-06-10T14:25:23.415Z"
   },
   {
    "duration": 12,
    "start_time": "2024-06-10T14:25:24.922Z"
   },
   {
    "duration": 20,
    "start_time": "2024-06-10T14:25:26.733Z"
   },
   {
    "duration": 8,
    "start_time": "2024-06-10T14:25:28.266Z"
   },
   {
    "duration": 6,
    "start_time": "2024-06-10T14:25:29.409Z"
   },
   {
    "duration": 8,
    "start_time": "2024-06-10T14:25:29.888Z"
   },
   {
    "duration": 37,
    "start_time": "2024-06-10T14:25:30.721Z"
   },
   {
    "duration": 2591,
    "start_time": "2024-06-10T14:25:33.536Z"
   },
   {
    "duration": 3107,
    "start_time": "2024-06-10T14:25:36.131Z"
   },
   {
    "duration": 7,
    "start_time": "2024-06-10T14:25:44.608Z"
   },
   {
    "duration": 5,
    "start_time": "2024-06-10T14:25:46.625Z"
   },
   {
    "duration": 21,
    "start_time": "2024-06-10T14:25:49.031Z"
   },
   {
    "duration": 414,
    "start_time": "2024-06-10T14:48:21.454Z"
   },
   {
    "duration": 4,
    "start_time": "2024-06-10T14:48:30.006Z"
   },
   {
    "duration": 4,
    "start_time": "2024-06-10T14:48:31.310Z"
   },
   {
    "duration": 5,
    "start_time": "2024-06-10T14:48:33.151Z"
   },
   {
    "duration": 7,
    "start_time": "2024-06-10T14:48:34.655Z"
   },
   {
    "duration": 5,
    "start_time": "2024-06-10T14:48:43.001Z"
   },
   {
    "duration": 7,
    "start_time": "2024-06-10T14:51:07.722Z"
   },
   {
    "duration": 28,
    "start_time": "2024-06-10T14:51:53.569Z"
   },
   {
    "duration": 7,
    "start_time": "2024-06-10T14:51:58.480Z"
   },
   {
    "duration": 6,
    "start_time": "2024-06-10T14:53:37.804Z"
   },
   {
    "duration": 6,
    "start_time": "2024-06-10T14:53:39.091Z"
   },
   {
    "duration": 5,
    "start_time": "2024-06-10T14:55:36.758Z"
   },
   {
    "duration": 7,
    "start_time": "2024-06-10T14:56:02.406Z"
   },
   {
    "duration": 6,
    "start_time": "2024-06-10T14:56:28.939Z"
   },
   {
    "duration": 7,
    "start_time": "2024-06-10T14:56:50.165Z"
   },
   {
    "duration": 7,
    "start_time": "2024-06-10T15:13:21.883Z"
   },
   {
    "duration": 6,
    "start_time": "2024-06-10T15:16:30.352Z"
   },
   {
    "duration": 6,
    "start_time": "2024-06-10T15:17:06.763Z"
   },
   {
    "duration": 6,
    "start_time": "2024-06-10T15:17:17.843Z"
   },
   {
    "duration": 8,
    "start_time": "2024-06-10T18:08:32.023Z"
   },
   {
    "duration": 11,
    "start_time": "2024-06-10T18:11:04.144Z"
   },
   {
    "duration": 3,
    "start_time": "2024-06-10T18:11:05.375Z"
   },
   {
    "duration": 49,
    "start_time": "2024-06-10T18:11:07.058Z"
   },
   {
    "duration": 6,
    "start_time": "2024-06-10T18:11:18.352Z"
   },
   {
    "duration": 10,
    "start_time": "2024-06-10T18:13:41.269Z"
   },
   {
    "duration": 23,
    "start_time": "2024-06-10T18:13:43.938Z"
   },
   {
    "duration": 4,
    "start_time": "2024-06-10T18:13:53.570Z"
   },
   {
    "duration": 5,
    "start_time": "2024-06-10T18:13:54.807Z"
   },
   {
    "duration": 4,
    "start_time": "2024-06-10T18:14:27.027Z"
   },
   {
    "duration": 5,
    "start_time": "2024-06-10T18:14:28.474Z"
   },
   {
    "duration": 9,
    "start_time": "2024-06-10T18:14:30.561Z"
   },
   {
    "duration": 6,
    "start_time": "2024-06-10T18:15:37.436Z"
   },
   {
    "duration": 7,
    "start_time": "2024-06-10T18:15:39.834Z"
   },
   {
    "duration": 5,
    "start_time": "2024-06-10T18:26:01.515Z"
   },
   {
    "duration": 5,
    "start_time": "2024-06-10T18:26:06.412Z"
   },
   {
    "duration": 6,
    "start_time": "2024-06-10T18:27:49.330Z"
   },
   {
    "duration": 5,
    "start_time": "2024-06-10T18:27:54.428Z"
   },
   {
    "duration": 5,
    "start_time": "2024-06-10T18:28:20.306Z"
   },
   {
    "duration": 4,
    "start_time": "2024-06-10T18:55:00.680Z"
   },
   {
    "duration": 4,
    "start_time": "2024-06-10T18:55:03.830Z"
   },
   {
    "duration": 23,
    "start_time": "2024-06-10T18:56:35.182Z"
   },
   {
    "duration": 9,
    "start_time": "2024-06-10T18:56:40.949Z"
   },
   {
    "duration": 9,
    "start_time": "2024-06-10T18:56:44.335Z"
   },
   {
    "duration": 8,
    "start_time": "2024-06-10T18:58:07.655Z"
   },
   {
    "duration": 4,
    "start_time": "2024-06-10T18:58:11.094Z"
   },
   {
    "duration": 5,
    "start_time": "2024-06-10T19:01:22.076Z"
   },
   {
    "duration": 8501,
    "start_time": "2024-06-10T19:01:23.506Z"
   },
   {
    "duration": 0,
    "start_time": "2024-06-10T19:01:32.010Z"
   },
   {
    "duration": 4637,
    "start_time": "2024-06-10T20:24:26.025Z"
   },
   {
    "duration": 5490,
    "start_time": "2024-06-10T20:24:30.666Z"
   },
   {
    "duration": 20,
    "start_time": "2024-06-10T20:24:36.159Z"
   },
   {
    "duration": 6,
    "start_time": "2024-06-10T20:24:36.182Z"
   },
   {
    "duration": 5,
    "start_time": "2024-06-10T20:24:36.191Z"
   },
   {
    "duration": 268,
    "start_time": "2024-06-10T20:24:37.508Z"
   },
   {
    "duration": 4,
    "start_time": "2024-06-10T20:24:43.404Z"
   },
   {
    "duration": 7,
    "start_time": "2024-06-10T20:24:44.831Z"
   },
   {
    "duration": 6,
    "start_time": "2024-06-10T20:24:50.151Z"
   },
   {
    "duration": 15,
    "start_time": "2024-06-10T20:24:51.227Z"
   },
   {
    "duration": 79,
    "start_time": "2024-06-10T20:24:52.797Z"
   },
   {
    "duration": 24,
    "start_time": "2024-06-10T20:24:54.152Z"
   },
   {
    "duration": 17,
    "start_time": "2024-06-10T20:24:54.766Z"
   },
   {
    "duration": 20,
    "start_time": "2024-06-10T20:24:55.199Z"
   },
   {
    "duration": 19,
    "start_time": "2024-06-10T20:24:55.436Z"
   },
   {
    "duration": 8,
    "start_time": "2024-06-10T20:24:58.952Z"
   },
   {
    "duration": 7,
    "start_time": "2024-06-10T20:24:59.166Z"
   },
   {
    "duration": 18,
    "start_time": "2024-06-10T20:24:59.367Z"
   },
   {
    "duration": 6,
    "start_time": "2024-06-10T20:24:59.584Z"
   },
   {
    "duration": 5,
    "start_time": "2024-06-10T20:24:59.800Z"
   },
   {
    "duration": 4,
    "start_time": "2024-06-10T20:25:00.002Z"
   },
   {
    "duration": 36,
    "start_time": "2024-06-10T20:25:00.203Z"
   },
   {
    "duration": 2570,
    "start_time": "2024-06-10T20:25:00.391Z"
   },
   {
    "duration": 2840,
    "start_time": "2024-06-10T20:25:02.965Z"
   },
   {
    "duration": 2610,
    "start_time": "2024-06-10T20:25:05.808Z"
   },
   {
    "duration": 2817,
    "start_time": "2024-06-10T20:25:08.432Z"
   },
   {
    "duration": 6,
    "start_time": "2024-06-10T20:25:11.253Z"
   },
   {
    "duration": 6,
    "start_time": "2024-06-10T20:25:11.262Z"
   },
   {
    "duration": 63,
    "start_time": "2024-06-10T20:25:11.271Z"
   },
   {
    "duration": 15,
    "start_time": "2024-06-10T20:25:11.338Z"
   },
   {
    "duration": 75,
    "start_time": "2024-06-10T20:25:11.357Z"
   },
   {
    "duration": 8,
    "start_time": "2024-06-10T20:25:11.437Z"
   },
   {
    "duration": 5,
    "start_time": "2024-06-10T20:25:11.449Z"
   },
   {
    "duration": 95,
    "start_time": "2024-06-10T20:25:11.457Z"
   },
   {
    "duration": 78,
    "start_time": "2024-06-10T20:25:11.555Z"
   },
   {
    "duration": 498,
    "start_time": "2024-06-10T20:25:11.644Z"
   },
   {
    "duration": 0,
    "start_time": "2024-06-10T20:25:12.148Z"
   },
   {
    "duration": 11,
    "start_time": "2024-06-10T20:25:19.513Z"
   },
   {
    "duration": 5,
    "start_time": "2024-06-10T20:25:25.970Z"
   },
   {
    "duration": 6,
    "start_time": "2024-06-10T20:25:27.515Z"
   },
   {
    "duration": 4,
    "start_time": "2024-06-10T20:25:32.943Z"
   },
   {
    "duration": 5,
    "start_time": "2024-06-10T20:25:34.775Z"
   },
   {
    "duration": 5,
    "start_time": "2024-06-10T20:25:41.169Z"
   },
   {
    "duration": 5,
    "start_time": "2024-06-10T20:25:43.288Z"
   },
   {
    "duration": 5,
    "start_time": "2024-06-10T20:25:54.554Z"
   },
   {
    "duration": 5,
    "start_time": "2024-06-10T20:25:56.024Z"
   },
   {
    "duration": 5,
    "start_time": "2024-06-10T20:26:03.057Z"
   },
   {
    "duration": 4,
    "start_time": "2024-06-10T20:26:04.153Z"
   },
   {
    "duration": 4,
    "start_time": "2024-06-10T20:26:04.930Z"
   },
   {
    "duration": 6,
    "start_time": "2024-06-10T20:26:06.453Z"
   },
   {
    "duration": 5,
    "start_time": "2024-06-10T20:26:17.696Z"
   },
   {
    "duration": 4,
    "start_time": "2024-06-10T20:26:19.550Z"
   },
   {
    "duration": 4,
    "start_time": "2024-06-10T20:26:21.129Z"
   },
   {
    "duration": 6,
    "start_time": "2024-06-10T20:26:22.952Z"
   },
   {
    "duration": 104,
    "start_time": "2024-06-10T20:27:14.330Z"
   },
   {
    "duration": 6,
    "start_time": "2024-06-10T20:27:27.073Z"
   },
   {
    "duration": 5,
    "start_time": "2024-06-10T20:27:30.890Z"
   },
   {
    "duration": 4,
    "start_time": "2024-06-10T20:28:09.249Z"
   },
   {
    "duration": 5,
    "start_time": "2024-06-10T20:28:10.576Z"
   },
   {
    "duration": 6,
    "start_time": "2024-06-10T20:28:12.826Z"
   },
   {
    "duration": 6,
    "start_time": "2024-06-10T20:28:16.589Z"
   },
   {
    "duration": 8,
    "start_time": "2024-06-10T20:28:21.005Z"
   },
   {
    "duration": 5,
    "start_time": "2024-06-10T20:28:25.386Z"
   },
   {
    "duration": 9,
    "start_time": "2024-06-10T20:28:44.473Z"
   },
   {
    "duration": 14,
    "start_time": "2024-06-10T20:28:48.394Z"
   },
   {
    "duration": 28,
    "start_time": "2024-06-10T20:28:49.609Z"
   },
   {
    "duration": 6,
    "start_time": "2024-06-10T20:28:50.082Z"
   },
   {
    "duration": 9226,
    "start_time": "2024-06-10T20:28:52.091Z"
   },
   {
    "duration": 9,
    "start_time": "2024-06-10T20:29:39.845Z"
   },
   {
    "duration": 11,
    "start_time": "2024-06-10T20:29:41.940Z"
   },
   {
    "duration": 4,
    "start_time": "2024-06-10T20:29:43.523Z"
   },
   {
    "duration": 5,
    "start_time": "2024-06-10T20:29:45.188Z"
   },
   {
    "duration": 9,
    "start_time": "2024-06-10T20:29:47.148Z"
   },
   {
    "duration": 273,
    "start_time": "2024-06-10T20:30:03.662Z"
   },
   {
    "duration": 5,
    "start_time": "2024-06-10T20:30:34.852Z"
   },
   {
    "duration": 6,
    "start_time": "2024-06-10T20:30:45.390Z"
   },
   {
    "duration": 5,
    "start_time": "2024-06-10T20:32:00.331Z"
   },
   {
    "duration": 7,
    "start_time": "2024-06-10T20:32:01.534Z"
   },
   {
    "duration": 7,
    "start_time": "2024-06-10T20:32:26.709Z"
   },
   {
    "duration": 6,
    "start_time": "2024-06-10T20:32:37.251Z"
   },
   {
    "duration": 5,
    "start_time": "2024-06-10T20:33:06.084Z"
   },
   {
    "duration": 6,
    "start_time": "2024-06-10T20:33:08.655Z"
   },
   {
    "duration": 5,
    "start_time": "2024-06-10T20:33:17.808Z"
   },
   {
    "duration": 5,
    "start_time": "2024-06-10T20:34:18.887Z"
   },
   {
    "duration": 7,
    "start_time": "2024-06-10T20:34:19.319Z"
   },
   {
    "duration": 5,
    "start_time": "2024-06-10T20:34:19.813Z"
   },
   {
    "duration": 38,
    "start_time": "2024-06-10T20:34:20.495Z"
   },
   {
    "duration": 7,
    "start_time": "2024-06-10T20:36:21.275Z"
   },
   {
    "duration": 5,
    "start_time": "2024-06-10T20:36:31.264Z"
   },
   {
    "duration": 36,
    "start_time": "2024-06-10T20:36:36.904Z"
   },
   {
    "duration": 5,
    "start_time": "2024-06-10T20:36:57.705Z"
   },
   {
    "duration": 5,
    "start_time": "2024-06-10T20:39:53.475Z"
   },
   {
    "duration": 7,
    "start_time": "2024-06-10T20:39:55.354Z"
   },
   {
    "duration": 5,
    "start_time": "2024-06-10T20:41:10.722Z"
   },
   {
    "duration": 6,
    "start_time": "2024-06-10T20:41:15.180Z"
   },
   {
    "duration": 6,
    "start_time": "2024-06-10T20:41:32.061Z"
   },
   {
    "duration": 11,
    "start_time": "2024-06-10T20:45:12.024Z"
   },
   {
    "duration": 5,
    "start_time": "2024-06-10T20:45:14.847Z"
   },
   {
    "duration": 17,
    "start_time": "2024-06-10T20:45:35.388Z"
   },
   {
    "duration": 9,
    "start_time": "2024-06-10T20:45:50.447Z"
   },
   {
    "duration": 13,
    "start_time": "2024-06-10T20:45:52.544Z"
   },
   {
    "duration": 7,
    "start_time": "2024-06-10T20:45:53.085Z"
   },
   {
    "duration": 6,
    "start_time": "2024-06-10T20:45:53.623Z"
   },
   {
    "duration": 7,
    "start_time": "2024-06-10T20:45:54.663Z"
   },
   {
    "duration": 6,
    "start_time": "2024-06-10T20:45:55.375Z"
   },
   {
    "duration": 5,
    "start_time": "2024-06-10T20:45:56.558Z"
   },
   {
    "duration": 6,
    "start_time": "2024-06-10T20:46:19.033Z"
   },
   {
    "duration": 6,
    "start_time": "2024-06-10T20:46:43.809Z"
   },
   {
    "duration": 10,
    "start_time": "2024-06-10T20:46:48.283Z"
   },
   {
    "duration": 11,
    "start_time": "2024-06-10T20:46:48.607Z"
   },
   {
    "duration": 19,
    "start_time": "2024-06-10T20:46:48.899Z"
   },
   {
    "duration": 5,
    "start_time": "2024-06-10T20:46:49.344Z"
   },
   {
    "duration": 7,
    "start_time": "2024-06-10T20:46:49.919Z"
   },
   {
    "duration": 5,
    "start_time": "2024-06-10T20:46:50.657Z"
   },
   {
    "duration": 9,
    "start_time": "2024-06-10T20:47:25.474Z"
   },
   {
    "duration": 6,
    "start_time": "2024-06-10T20:47:28.238Z"
   },
   {
    "duration": 7,
    "start_time": "2024-06-10T20:47:30.889Z"
   },
   {
    "duration": 6,
    "start_time": "2024-06-10T20:47:32.594Z"
   },
   {
    "duration": 43,
    "start_time": "2024-06-10T20:47:43.562Z"
   },
   {
    "duration": 37,
    "start_time": "2024-06-10T20:47:50.098Z"
   },
   {
    "duration": 8,
    "start_time": "2024-06-10T20:47:56.130Z"
   },
   {
    "duration": 6,
    "start_time": "2024-06-10T20:47:57.552Z"
   },
   {
    "duration": 7,
    "start_time": "2024-06-10T20:47:58.496Z"
   },
   {
    "duration": 5,
    "start_time": "2024-06-10T20:48:10.928Z"
   },
   {
    "duration": 6,
    "start_time": "2024-06-10T20:48:12.104Z"
   },
   {
    "duration": 7,
    "start_time": "2024-06-10T20:48:39.170Z"
   },
   {
    "duration": 6,
    "start_time": "2024-06-10T20:48:40.496Z"
   },
   {
    "duration": 36,
    "start_time": "2024-06-10T20:49:07.249Z"
   },
   {
    "duration": 8,
    "start_time": "2024-06-10T20:55:10.501Z"
   },
   {
    "duration": 36,
    "start_time": "2024-06-10T20:57:16.310Z"
   },
   {
    "duration": 25,
    "start_time": "2024-06-10T21:05:52.757Z"
   },
   {
    "duration": 6,
    "start_time": "2024-06-10T21:06:05.932Z"
   },
   {
    "duration": 5,
    "start_time": "2024-06-10T21:06:31.944Z"
   },
   {
    "duration": 7,
    "start_time": "2024-06-10T21:06:33.407Z"
   },
   {
    "duration": 10,
    "start_time": "2024-06-10T21:08:00.758Z"
   },
   {
    "duration": 5,
    "start_time": "2024-06-10T21:08:02.420Z"
   },
   {
    "duration": 7,
    "start_time": "2024-06-10T21:08:04.461Z"
   },
   {
    "duration": 6,
    "start_time": "2024-06-10T21:08:46.020Z"
   },
   {
    "duration": 6,
    "start_time": "2024-06-10T21:09:42.749Z"
   },
   {
    "duration": 7,
    "start_time": "2024-06-10T21:09:52.516Z"
   },
   {
    "duration": 7,
    "start_time": "2024-06-10T21:09:55.998Z"
   },
   {
    "duration": 5,
    "start_time": "2024-06-10T21:09:59.600Z"
   },
   {
    "duration": 7,
    "start_time": "2024-06-10T21:11:07.161Z"
   },
   {
    "duration": 5,
    "start_time": "2024-06-10T21:11:40.712Z"
   },
   {
    "duration": 5,
    "start_time": "2024-06-10T21:13:25.525Z"
   },
   {
    "duration": 9,
    "start_time": "2024-06-10T21:16:42.890Z"
   },
   {
    "duration": 11,
    "start_time": "2024-06-10T21:17:01.788Z"
   },
   {
    "duration": 5,
    "start_time": "2024-06-10T21:17:02.273Z"
   },
   {
    "duration": 7,
    "start_time": "2024-06-10T21:17:03.050Z"
   },
   {
    "duration": 6,
    "start_time": "2024-06-10T21:17:14.876Z"
   },
   {
    "duration": 6,
    "start_time": "2024-06-10T21:17:19.411Z"
   },
   {
    "duration": 5,
    "start_time": "2024-06-10T21:17:20.819Z"
   },
   {
    "duration": 7,
    "start_time": "2024-06-10T21:17:38.027Z"
   }
  ],
  "kernelspec": {
   "display_name": "Python 3 (ipykernel)",
   "language": "python",
   "name": "python3"
  },
  "language_info": {
   "codemirror_mode": {
    "name": "ipython",
    "version": 3
   },
   "file_extension": ".py",
   "mimetype": "text/x-python",
   "name": "python",
   "nbconvert_exporter": "python",
   "pygments_lexer": "ipython3",
   "version": "3.9.19"
  },
  "toc": {
   "base_numbering": 1,
   "nav_menu": {},
   "number_sections": true,
   "sideBar": true,
   "skip_h1_title": true,
   "title_cell": "Table of Contents",
   "title_sidebar": "Contents",
   "toc_cell": false,
   "toc_position": {},
   "toc_section_display": true,
   "toc_window_display": false
  }
 },
 "nbformat": 4,
 "nbformat_minor": 4
}
