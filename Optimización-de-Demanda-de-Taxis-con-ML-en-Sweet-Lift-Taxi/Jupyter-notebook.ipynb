{
 "cells": [
  {
   "cell_type": "markdown",
   "metadata": {},
   "source": [
    "## Descripción del Proyecto\n",
    "\n",
    "El proyecto **Sweet Lift Taxi** se centra en el desarrollo de un modelo predictivo para estimar la demanda de taxis en los aeropuertos durante las horas pico. La compañía ha recopilado un extenso conjunto de datos históricos sobre pedidos de taxis y busca utilizar este conocimiento para optimizar la disponibilidad de vehículos. El objetivo principal es predecir el número de pedidos de taxis en la siguiente hora, con el fin de atraer a más conductores en los momentos de mayor demanda.\n",
    "\n",
    "El éxito del proyecto se mide mediante la métrica de error cuadrático medio de la raíz (RMSE), con la meta de mantener el RMSE por debajo de 48 en el conjunto de prueba."
   ]
  },
  {
   "cell_type": "markdown",
   "metadata": {},
   "source": [
    "## Preparación"
   ]
  },
  {
   "cell_type": "markdown",
   "metadata": {},
   "source": [
    "* Importamos librerias"
   ]
  },
  {
   "cell_type": "code",
   "execution_count": 1,
   "metadata": {},
   "outputs": [],
   "source": [
    "import pandas as pd\n",
    "from matplotlib import pyplot as plt\n",
    "from statsmodels.tsa.seasonal import seasonal_decompose\n",
    "import numpy as np\n",
    "\n",
    "from sklearn.model_selection import train_test_split\n",
    "from sklearn.linear_model import LinearRegression\n",
    "from sklearn.ensemble import RandomForestRegressor\n",
    "import lightgbm as lgb\n",
    "\n",
    "from sklearn.metrics import mean_absolute_error\n",
    "from sklearn.metrics import mean_squared_error\n",
    "\n"
   ]
  },
  {
   "cell_type": "code",
   "execution_count": 2,
   "metadata": {},
   "outputs": [
    {
     "name": "stdout",
     "output_type": "stream",
     "text": [
      "<class 'pandas.core.frame.DataFrame'>\n",
      "DatetimeIndex: 26496 entries, 2018-03-01 00:00:00 to 2018-08-31 23:50:00\n",
      "Data columns (total 1 columns):\n",
      " #   Column      Non-Null Count  Dtype\n",
      "---  ------      --------------  -----\n",
      " 0   num_orders  26496 non-null  int64\n",
      "dtypes: int64(1)\n",
      "memory usage: 414.0 KB\n",
      "None\n"
     ]
    },
    {
     "data": {
      "text/html": [
       "<div>\n",
       "<style scoped>\n",
       "    .dataframe tbody tr th:only-of-type {\n",
       "        vertical-align: middle;\n",
       "    }\n",
       "\n",
       "    .dataframe tbody tr th {\n",
       "        vertical-align: top;\n",
       "    }\n",
       "\n",
       "    .dataframe thead th {\n",
       "        text-align: right;\n",
       "    }\n",
       "</style>\n",
       "<table border=\"1\" class=\"dataframe\">\n",
       "  <thead>\n",
       "    <tr style=\"text-align: right;\">\n",
       "      <th></th>\n",
       "      <th>num_orders</th>\n",
       "    </tr>\n",
       "    <tr>\n",
       "      <th>datetime</th>\n",
       "      <th></th>\n",
       "    </tr>\n",
       "  </thead>\n",
       "  <tbody>\n",
       "    <tr>\n",
       "      <th>2018-03-01 00:00:00</th>\n",
       "      <td>9</td>\n",
       "    </tr>\n",
       "    <tr>\n",
       "      <th>2018-03-01 00:10:00</th>\n",
       "      <td>14</td>\n",
       "    </tr>\n",
       "    <tr>\n",
       "      <th>2018-03-01 00:20:00</th>\n",
       "      <td>28</td>\n",
       "    </tr>\n",
       "    <tr>\n",
       "      <th>2018-03-01 00:30:00</th>\n",
       "      <td>20</td>\n",
       "    </tr>\n",
       "    <tr>\n",
       "      <th>2018-03-01 00:40:00</th>\n",
       "      <td>32</td>\n",
       "    </tr>\n",
       "  </tbody>\n",
       "</table>\n",
       "</div>"
      ],
      "text/plain": [
       "                     num_orders\n",
       "datetime                       \n",
       "2018-03-01 00:00:00           9\n",
       "2018-03-01 00:10:00          14\n",
       "2018-03-01 00:20:00          28\n",
       "2018-03-01 00:30:00          20\n",
       "2018-03-01 00:40:00          32"
      ]
     },
     "metadata": {},
     "output_type": "display_data"
    }
   ],
   "source": [
    "df=pd.read_csv('taxi.csv',parse_dates=[0],index_col=[0])\n",
    "print(df.info())\n",
    "display(df.head())"
   ]
  },
  {
   "cell_type": "code",
   "execution_count": 3,
   "metadata": {},
   "outputs": [
    {
     "name": "stdout",
     "output_type": "stream",
     "text": [
      "Tenemos 0 valores nulos\n"
     ]
    }
   ],
   "source": [
    "print(f'Tenemos {df.isnull().sum().to_list()[0]} valores nulos')\n",
    "#Al ser una sola columna, no tiene mucho sentido revisar duplicados\n",
    "#El tipo de dato y el nombre de las columnas son correctos\n",
    "#Ademàs no tenemos valores nulos"
   ]
  },
  {
   "cell_type": "code",
   "execution_count": 4,
   "metadata": {},
   "outputs": [],
   "source": [
    "#Ordenamos los datos por el indice\n",
    "df.sort_index(inplace=True)\n",
    "#Como se busca predecir el numero de ordenes en la proxima hora, es necesario remuestrear el dataset\n",
    "df=df.resample('1H').sum()#Utilizamos sum para capturar el numero de ordenes en ese tiempo"
   ]
  },
  {
   "cell_type": "code",
   "execution_count": 5,
   "metadata": {},
   "outputs": [],
   "source": [
    "#Agregamos caracteristicas\n",
    "def make_features(data, max_lag, rolling_mean_size):\n",
    "    data['year'] = data.index.year\n",
    "    data['month'] = data.index.month\n",
    "    data['day'] = data.index.day\n",
    "    data['dayofweek'] = data.index.dayofweek\n",
    "    data['hour'] = data.index.hour\n",
    "    \n",
    "    for lag in range(1, max_lag + 1):\n",
    "        data['lag_{}'.format(lag)] = data['num_orders'].shift(lag)\n",
    "        \n",
    "    data['rolling_mean'] = data['num_orders'].shift().rolling(rolling_mean_size).mean()\n",
    "    data['estacional']=data['num_orders']-data['lag_1']\n",
    "\n",
    "make_features(df, 10, 10)"
   ]
  },
  {
   "cell_type": "code",
   "execution_count": 6,
   "metadata": {},
   "outputs": [
    {
     "data": {
      "text/html": [
       "<div>\n",
       "<style scoped>\n",
       "    .dataframe tbody tr th:only-of-type {\n",
       "        vertical-align: middle;\n",
       "    }\n",
       "\n",
       "    .dataframe tbody tr th {\n",
       "        vertical-align: top;\n",
       "    }\n",
       "\n",
       "    .dataframe thead th {\n",
       "        text-align: right;\n",
       "    }\n",
       "</style>\n",
       "<table border=\"1\" class=\"dataframe\">\n",
       "  <thead>\n",
       "    <tr style=\"text-align: right;\">\n",
       "      <th></th>\n",
       "      <th>num_orders</th>\n",
       "      <th>year</th>\n",
       "      <th>month</th>\n",
       "      <th>day</th>\n",
       "      <th>dayofweek</th>\n",
       "      <th>hour</th>\n",
       "      <th>lag_1</th>\n",
       "      <th>lag_2</th>\n",
       "      <th>lag_3</th>\n",
       "      <th>lag_4</th>\n",
       "      <th>lag_5</th>\n",
       "      <th>lag_6</th>\n",
       "      <th>lag_7</th>\n",
       "      <th>lag_8</th>\n",
       "      <th>lag_9</th>\n",
       "      <th>lag_10</th>\n",
       "      <th>rolling_mean</th>\n",
       "      <th>estacional</th>\n",
       "    </tr>\n",
       "    <tr>\n",
       "      <th>datetime</th>\n",
       "      <th></th>\n",
       "      <th></th>\n",
       "      <th></th>\n",
       "      <th></th>\n",
       "      <th></th>\n",
       "      <th></th>\n",
       "      <th></th>\n",
       "      <th></th>\n",
       "      <th></th>\n",
       "      <th></th>\n",
       "      <th></th>\n",
       "      <th></th>\n",
       "      <th></th>\n",
       "      <th></th>\n",
       "      <th></th>\n",
       "      <th></th>\n",
       "      <th></th>\n",
       "      <th></th>\n",
       "    </tr>\n",
       "  </thead>\n",
       "  <tbody>\n",
       "    <tr>\n",
       "      <th>2018-03-01 00:00:00</th>\n",
       "      <td>124</td>\n",
       "      <td>2018</td>\n",
       "      <td>3</td>\n",
       "      <td>1</td>\n",
       "      <td>3</td>\n",
       "      <td>0</td>\n",
       "      <td>NaN</td>\n",
       "      <td>NaN</td>\n",
       "      <td>NaN</td>\n",
       "      <td>NaN</td>\n",
       "      <td>NaN</td>\n",
       "      <td>NaN</td>\n",
       "      <td>NaN</td>\n",
       "      <td>NaN</td>\n",
       "      <td>NaN</td>\n",
       "      <td>NaN</td>\n",
       "      <td>NaN</td>\n",
       "      <td>NaN</td>\n",
       "    </tr>\n",
       "    <tr>\n",
       "      <th>2018-03-01 01:00:00</th>\n",
       "      <td>85</td>\n",
       "      <td>2018</td>\n",
       "      <td>3</td>\n",
       "      <td>1</td>\n",
       "      <td>3</td>\n",
       "      <td>1</td>\n",
       "      <td>124.0</td>\n",
       "      <td>NaN</td>\n",
       "      <td>NaN</td>\n",
       "      <td>NaN</td>\n",
       "      <td>NaN</td>\n",
       "      <td>NaN</td>\n",
       "      <td>NaN</td>\n",
       "      <td>NaN</td>\n",
       "      <td>NaN</td>\n",
       "      <td>NaN</td>\n",
       "      <td>NaN</td>\n",
       "      <td>-39.0</td>\n",
       "    </tr>\n",
       "    <tr>\n",
       "      <th>2018-03-01 02:00:00</th>\n",
       "      <td>71</td>\n",
       "      <td>2018</td>\n",
       "      <td>3</td>\n",
       "      <td>1</td>\n",
       "      <td>3</td>\n",
       "      <td>2</td>\n",
       "      <td>85.0</td>\n",
       "      <td>124.0</td>\n",
       "      <td>NaN</td>\n",
       "      <td>NaN</td>\n",
       "      <td>NaN</td>\n",
       "      <td>NaN</td>\n",
       "      <td>NaN</td>\n",
       "      <td>NaN</td>\n",
       "      <td>NaN</td>\n",
       "      <td>NaN</td>\n",
       "      <td>NaN</td>\n",
       "      <td>-14.0</td>\n",
       "    </tr>\n",
       "    <tr>\n",
       "      <th>2018-03-01 03:00:00</th>\n",
       "      <td>66</td>\n",
       "      <td>2018</td>\n",
       "      <td>3</td>\n",
       "      <td>1</td>\n",
       "      <td>3</td>\n",
       "      <td>3</td>\n",
       "      <td>71.0</td>\n",
       "      <td>85.0</td>\n",
       "      <td>124.0</td>\n",
       "      <td>NaN</td>\n",
       "      <td>NaN</td>\n",
       "      <td>NaN</td>\n",
       "      <td>NaN</td>\n",
       "      <td>NaN</td>\n",
       "      <td>NaN</td>\n",
       "      <td>NaN</td>\n",
       "      <td>NaN</td>\n",
       "      <td>-5.0</td>\n",
       "    </tr>\n",
       "    <tr>\n",
       "      <th>2018-03-01 04:00:00</th>\n",
       "      <td>43</td>\n",
       "      <td>2018</td>\n",
       "      <td>3</td>\n",
       "      <td>1</td>\n",
       "      <td>3</td>\n",
       "      <td>4</td>\n",
       "      <td>66.0</td>\n",
       "      <td>71.0</td>\n",
       "      <td>85.0</td>\n",
       "      <td>124.0</td>\n",
       "      <td>NaN</td>\n",
       "      <td>NaN</td>\n",
       "      <td>NaN</td>\n",
       "      <td>NaN</td>\n",
       "      <td>NaN</td>\n",
       "      <td>NaN</td>\n",
       "      <td>NaN</td>\n",
       "      <td>-23.0</td>\n",
       "    </tr>\n",
       "  </tbody>\n",
       "</table>\n",
       "</div>"
      ],
      "text/plain": [
       "                     num_orders  year  month  day  dayofweek  hour  lag_1  \\\n",
       "datetime                                                                    \n",
       "2018-03-01 00:00:00         124  2018      3    1          3     0    NaN   \n",
       "2018-03-01 01:00:00          85  2018      3    1          3     1  124.0   \n",
       "2018-03-01 02:00:00          71  2018      3    1          3     2   85.0   \n",
       "2018-03-01 03:00:00          66  2018      3    1          3     3   71.0   \n",
       "2018-03-01 04:00:00          43  2018      3    1          3     4   66.0   \n",
       "\n",
       "                     lag_2  lag_3  lag_4  lag_5  lag_6  lag_7  lag_8  lag_9  \\\n",
       "datetime                                                                      \n",
       "2018-03-01 00:00:00    NaN    NaN    NaN    NaN    NaN    NaN    NaN    NaN   \n",
       "2018-03-01 01:00:00    NaN    NaN    NaN    NaN    NaN    NaN    NaN    NaN   \n",
       "2018-03-01 02:00:00  124.0    NaN    NaN    NaN    NaN    NaN    NaN    NaN   \n",
       "2018-03-01 03:00:00   85.0  124.0    NaN    NaN    NaN    NaN    NaN    NaN   \n",
       "2018-03-01 04:00:00   71.0   85.0  124.0    NaN    NaN    NaN    NaN    NaN   \n",
       "\n",
       "                     lag_10  rolling_mean  estacional  \n",
       "datetime                                               \n",
       "2018-03-01 00:00:00     NaN           NaN         NaN  \n",
       "2018-03-01 01:00:00     NaN           NaN       -39.0  \n",
       "2018-03-01 02:00:00     NaN           NaN       -14.0  \n",
       "2018-03-01 03:00:00     NaN           NaN        -5.0  \n",
       "2018-03-01 04:00:00     NaN           NaN       -23.0  "
      ]
     },
     "metadata": {},
     "output_type": "display_data"
    }
   ],
   "source": [
    "display(df.head(5))"
   ]
  },
  {
   "cell_type": "code",
   "execution_count": 7,
   "metadata": {},
   "outputs": [],
   "source": [
    "df=df.dropna(axis=0)"
   ]
  },
  {
   "cell_type": "markdown",
   "metadata": {},
   "source": [
    "## Análisis"
   ]
  },
  {
   "cell_type": "code",
   "execution_count": 8,
   "metadata": {},
   "outputs": [
    {
     "data": {
      "image/png": "[encoded data removed]",
      "text/plain": [
       "<Figure size 1000x400 with 1 Axes>"
      ]
     },
     "metadata": {},
     "output_type": "display_data"
    }
   ],
   "source": [
    "#Grafiquemos el numero de ordenes por dìa\n",
    "plt.figure(figsize=(10, 4))\n",
    "data=df['num_orders'].resample('1D').sum()\n",
    "plt.plot(data.index,data , marker='', linestyle='-', color='b', label='Consumo de energía')\n",
    "plt.xlabel('Fecha')\n",
    "plt.ylabel('Consumo de energía')\n",
    "plt.title('Consumo de energía durante 2018')\n",
    "plt.legend()\n",
    "plt.grid(True)\n",
    "plt.show()\n",
    "#Podemos observar que la serie temporal es tendencial"
   ]
  },
  {
   "cell_type": "markdown",
   "metadata": {},
   "source": [
    "- La serie temporal contiene una componente tendecial bastante fuerte."
   ]
  },
  {
   "cell_type": "code",
   "execution_count": 9,
   "metadata": {},
   "outputs": [
    {
     "data": {
      "image/png": "[encoded data removed]",
      "text/plain": [
       "<Figure size 1000x400 with 1 Axes>"
      ]
     },
     "metadata": {},
     "output_type": "display_data"
    }
   ],
   "source": [
    "#Grafiquemos los datos promedios por dìa de la caracteristica estacional\n",
    "plt.figure(figsize=(10, 4))\n",
    "data=df['estacional'].resample('1D').sum()\n",
    "plt.plot(data.index,data , marker='', linestyle='-', color='b', label='Consumo de energía')\n",
    "plt.xlabel('Fecha')\n",
    "plt.ylabel('Consumo de energía')\n",
    "plt.title('Consumo de energía durante 2018')\n",
    "plt.legend()\n",
    "plt.grid(True)\n",
    "plt.show()\n",
    "#Podemos observar que la serie temporal es tendencial"
   ]
  },
  {
   "cell_type": "markdown",
   "metadata": {},
   "source": [
    "- Podemos notar como restar los datos con los datos y un retraso ayuda a convertir la serie temporal en estacionaria."
   ]
  },
  {
   "cell_type": "code",
   "execution_count": 10,
   "metadata": {},
   "outputs": [
    {
     "data": {
      "image/png": "[encoded data removed]",
      "text/plain": [
       "<Figure size 1000x600 with 3 Axes>"
      ]
     },
     "metadata": {},
     "output_type": "display_data"
    }
   ],
   "source": [
    "data=df['num_orders'].resample('1D').sum()\n",
    "decomposed = seasonal_decompose(data)\n",
    "\n",
    "plt.figure(figsize=(10, 6))\n",
    "plt.subplot(311)\n",
    "# Para mostrar el gráfico de manera correcta, especifica su\n",
    "# eje ax igual a plt.gca() (gca = obtener el eje actual)\n",
    "decomposed.trend.plot(ax=plt.gca())\n",
    "plt.title('Trend')\n",
    "plt.subplot(312)\n",
    "decomposed.seasonal.plot(ax=plt.gca())\n",
    "plt.title('Seasonality')\n",
    "plt.subplot(313)\n",
    "decomposed.resid.plot(ax=plt.gca())\n",
    "plt.title('Residuals')\n",
    "plt.tight_layout()"
   ]
  },
  {
   "cell_type": "markdown",
   "metadata": {},
   "source": [
    "## Formación"
   ]
  },
  {
   "cell_type": "code",
   "execution_count": 11,
   "metadata": {},
   "outputs": [
    {
     "name": "stdout",
     "output_type": "stream",
     "text": [
      "Nùmero de ordenes diarias: 120.0\n",
      "EAM: 59.493197278911566\n"
     ]
    }
   ],
   "source": [
    "#Prueba de cordura\n",
    "train, test = train_test_split(df, shuffle=False, test_size=0.2,random_state=54321)\n",
    "print('Nùmero de ordenes diarias:', test['num_orders'].median())\n",
    "pred_median = np.ones(test['num_orders'].shape[0]) *train['num_orders'].median()\n",
    "print('EAM:', mean_absolute_error(test['num_orders'],pred_median))"
   ]
  },
  {
   "cell_type": "code",
   "execution_count": 12,
   "metadata": {},
   "outputs": [],
   "source": [
    "def my_train_test_split(df,target_colum, random_state=54321, test_size=0.25):\n",
    "        # Dividimos el dataset\n",
    "        df_train, df_valid = train_test_split(df, random_state=54321, test_size=0.2,shuffle=False)\n",
    "        # Extraemos características y objetivos para capacitación y validación.\n",
    "        #No debemos incluir estacional como caracteristica, ya que este valor incluye la predicciòn\n",
    "        features_train = df_train.drop([target_colum,'estacional'],axis=1)\n",
    "        target_train = df_train[target_colum]\n",
    "        features_valid = df_valid.drop([target_colum,'estacional'],axis=1)\n",
    "        target_valid = df_valid[target_colum]\n",
    "        return features_train,target_train,features_valid,target_valid"
   ]
  },
  {
   "cell_type": "code",
   "execution_count": 13,
   "metadata": {},
   "outputs": [],
   "source": [
    "def mylinearregression(df,target_colum,columns):\n",
    "    train_feature,train_target,test_feature,test_target=my_train_test_split(df,target_colum, random_state=54321, test_size=0.25)\n",
    "    train_feature=train_feature[columns]\n",
    "    test_feature=test_feature[columns]\n",
    "    model=LinearRegression()\n",
    "    model.fit(train_feature,train_target)\n",
    "    prediccion1=model.predict(train_feature)\n",
    "    prediccion2=model.predict(test_feature)\n",
    "    RECM1=mean_squared_error(prediccion1,train_target)**0.5\n",
    "    RECM2=mean_squared_error(prediccion2,test_target)**0.5\n",
    "    print(\"RECM para el conjunto de entrenamiento:\", RECM1)\n",
    "    print(\"RECM para el conjunto de prueba:\", RECM2)\n",
    "\n",
    "\n"
   ]
  },
  {
   "cell_type": "code",
   "execution_count": 14,
   "metadata": {},
   "outputs": [],
   "source": [
    "def MyrandomForestRegressor_Tester(df,target_colum,\n",
    "                                   n_estimators_,\n",
    "                                   max_depth_,\n",
    "                                   min_samples_split_=2,\n",
    "                                   max_features_='sqrt'):\n",
    "    \n",
    "    # Extraemos características y objetivos para capacitación y validación.\n",
    "    features_train,target_train,features_valid,target_valid = my_train_test_split(df,target_colum, \n",
    "                                                                                  random_state=54321, \n",
    "                                                                                  test_size=0.2)\n",
    "    \n",
    "    # Creamos y entrenamos el modelo\n",
    "    model = RandomForestRegressor(random_state=54321, \n",
    "                                  n_estimators=n_estimators_, \n",
    "                                  max_depth=max_depth_,\n",
    "                                  min_samples_split=min_samples_split_,\n",
    "                                  max_features=max_features_)\n",
    "    model.fit(features_train, target_train)\n",
    "        \n",
    "    # Generamos las predicciones\n",
    "    predictions_train = model.predict(features_train)\n",
    "    predictions_valid = model.predict(features_valid)\n",
    "        \n",
    "    # Calculamos RMSE\n",
    "    #rmse = mean_squared_error(target_valid, predictions_valid, squared=False) #Ya no se utiliza ('squared' is deprecated in version 1.4 and will be removed in 1.6.)\n",
    "    RECM1 = mean_squared_error(target_train,predictions_train)**0.5\n",
    "    RECM2 = mean_squared_error(target_valid, predictions_valid)**0.5\n",
    "\n",
    "    # imprimimos los resultados\n",
    "    print(\"RECM para el conjunto de entrenamiento:\", RECM1)\n",
    "    print(\"RECM para el conjunto de prueba:\", RECM2)\n",
    "    return model\n"
   ]
  },
  {
   "cell_type": "code",
   "execution_count": 15,
   "metadata": {},
   "outputs": [],
   "source": [
    "def MyLightGBMRegressor_Tester(df, target_column, cat_features_,\n",
    "                               iterations_=500, depth_=10,\n",
    "                               learning_rate_=0.01, loss_function_='rmse',period=100):\n",
    "    \n",
    "    # Extraemos características y objetivos para capacitación y validación.\n",
    "    features_train,target_train,features_valid,target_valid = my_train_test_split(df,target_column, \n",
    "                                                                                  random_state=54321, \n",
    "                                                                                  test_size=0.20)\n",
    "    \n",
    "    # Convertimos características categóricas a índices para LightGBM\n",
    "    for col in cat_features_:\n",
    "        features_train[col] = features_train[col].astype('category')\n",
    "        features_valid[col] = features_valid[col].astype('category')\n",
    "\n",
    "    # Creamos y entrenamos el modelo\n",
    "    model = lgb.LGBMRegressor(\n",
    "        n_estimators=iterations_,\n",
    "        max_depth=depth_,\n",
    "        learning_rate=learning_rate_,\n",
    "        objective=loss_function_,\n",
    "        random_state=42,\n",
    "        verbose=-1\n",
    "    )\n",
    "    \n",
    "    # Definir el callback de registro\n",
    "    callbacks = [lgb.log_evaluation(period)]\n",
    "    \n",
    "    # Crear los datasets de LightGBM\n",
    "    train_data = lgb.Dataset(features_train, label=target_train, categorical_feature=cat_features_)\n",
    "    valid_data = lgb.Dataset(features_valid, label=target_valid, categorical_feature=cat_features_, reference=train_data)\n",
    "    \n",
    "    model.fit(features_train, target_train, \n",
    "              eval_set=[(features_train, target_train),(features_valid, target_valid)], \n",
    "              callbacks=callbacks)\n",
    "    \n",
    "    return model"
   ]
  },
  {
   "cell_type": "markdown",
   "metadata": {},
   "source": [
    "## Prueba"
   ]
  },
  {
   "cell_type": "code",
   "execution_count": 16,
   "metadata": {},
   "outputs": [
    {
     "name": "stdout",
     "output_type": "stream",
     "text": [
      "El nùmero total de caracteristicas que se pueden utilizar son: 16\n",
      "RECM para el conjunto de entrenamiento: 28.72912464093869\n",
      "RECM para el conjunto de prueba: 47.978913047989316\n"
     ]
    }
   ],
   "source": [
    "#Entrenemos un modelo de regresion lineal tomando en cuenta todas las caracteristicas\n",
    "features_train=df.drop(['num_orders','estacional'],axis=1)\n",
    "print(f'El nùmero total de caracteristicas que se pueden utilizar son: {features_train.shape[1]}')\n",
    "mylinearregression(df,'num_orders',columns=features_train.columns.to_list()[:16])"
   ]
  },
  {
   "cell_type": "code",
   "execution_count": 17,
   "metadata": {},
   "outputs": [
    {
     "name": "stdout",
     "output_type": "stream",
     "text": [
      "El nùmero total de caracteristicas que se pueden utilizar son: 16\n",
      "RECM para el conjunto de entrenamiento: 29.020295459761137\n",
      "RECM para el conjunto de prueba: 47.508230366055294\n"
     ]
    }
   ],
   "source": [
    "#Entrenemos un modelo de regresion lineal tomando en cuenta solo 10 caracteristicas\n",
    "print(f'El nùmero total de caracteristicas que se pueden utilizar son: {features_train.shape[1]}')\n",
    "mylinearregression(df,'num_orders',columns=features_train.columns.to_list()[:10])"
   ]
  },
  {
   "cell_type": "code",
   "execution_count": 18,
   "metadata": {},
   "outputs": [
    {
     "name": "stdout",
     "output_type": "stream",
     "text": [
      "RECM para el conjunto de entrenamiento: 12.75226940384059\n",
      "RECM para el conjunto de prueba: 47.59611333430373\n"
     ]
    }
   ],
   "source": [
    "#Entrenemos un arbol de decisiòn\n",
    "Model=MyrandomForestRegressor_Tester(df,'num_orders',20,20,min_samples_split_=8,max_features_='sqrt')"
   ]
  },
  {
   "cell_type": "code",
   "execution_count": 19,
   "metadata": {},
   "outputs": [
    {
     "name": "stdout",
     "output_type": "stream",
     "text": [
      "[100]\ttraining's rmse: 25.9434\tvalid_1's rmse: 60.987\n",
      "[200]\ttraining's rmse: 22.4072\tvalid_1's rmse: 52.7587\n",
      "[300]\ttraining's rmse: 20.8624\tvalid_1's rmse: 49.254\n",
      "[400]\ttraining's rmse: 19.964\tvalid_1's rmse: 47.1431\n",
      "[500]\ttraining's rmse: 19.4288\tvalid_1's rmse: 45.8642\n",
      "[600]\ttraining's rmse: 18.9833\tvalid_1's rmse: 45.1966\n",
      "[700]\ttraining's rmse: 18.6038\tvalid_1's rmse: 44.6971\n",
      "[800]\ttraining's rmse: 18.2918\tvalid_1's rmse: 44.1565\n",
      "[900]\ttraining's rmse: 17.9676\tvalid_1's rmse: 43.7861\n",
      "[1000]\ttraining's rmse: 17.6411\tvalid_1's rmse: 43.6806\n"
     ]
    }
   ],
   "source": [
    "#Entrenemos un modelo de potenciaciòn del gradiente\n",
    "Model_1 = MyLightGBMRegressor_Tester(df, 'num_orders',[], depth_=4, learning_rate_=0.01, iterations_=1000)"
   ]
  },
  {
   "cell_type": "markdown",
   "metadata": {},
   "source": [
    "## Conclusión\n",
    "\n",
    "A lo largo del proyecto, se realizó un exhaustivo preprocesamiento de datos, enriqueciendo el conjunto con nuevas características que capturan patrones cruciales de la serie temporal. Se evaluaron varios modelos predictivos, y se encontró que el **LightGBMRegressor** ofreció el mejor rendimiento, alcanzando un RMSE de 43.68 en el conjunto de prueba. Este resultado no solo cumple con el objetivo establecido, sino que también destaca la eficacia de los algoritmos de potenciación del gradiente para el análisis de series temporales en problemas de predicción de demanda.\n",
    "\n",
    "Este proyecto proporciona una base sólida para futuras mejoras en la predicción de la demanda de taxis, permitiendo a Sweet Lift Taxi optimizar su operación y satisfacer mejor la demanda de sus clientes.\n"
   ]
  }
 ],
 "metadata": {
  "ExecuteTimeLog": [
   {
    "duration": 306,
    "start_time": "2024-07-01T00:24:58.623Z"
   },
   {
    "duration": 405,
    "start_time": "2024-07-01T00:25:04.273Z"
   },
   {
    "duration": 39,
    "start_time": "2024-07-01T00:25:05.570Z"
   },
   {
    "duration": 17,
    "start_time": "2024-07-01T00:25:17.215Z"
   },
   {
    "duration": 793,
    "start_time": "2024-07-01T00:26:00.919Z"
   },
   {
    "duration": 0,
    "start_time": "2024-07-01T00:26:01.716Z"
   },
   {
    "duration": 36,
    "start_time": "2024-07-01T00:26:24.359Z"
   },
   {
    "duration": 9,
    "start_time": "2024-07-01T00:26:26.232Z"
   },
   {
    "duration": 16,
    "start_time": "2024-07-01T00:35:49.396Z"
   },
   {
    "duration": 7,
    "start_time": "2024-07-01T00:36:17.726Z"
   },
   {
    "duration": 24,
    "start_time": "2024-07-01T00:41:02.035Z"
   },
   {
    "duration": 8,
    "start_time": "2024-07-01T00:41:21.098Z"
   },
   {
    "duration": 40,
    "start_time": "2024-07-01T00:41:43.861Z"
   },
   {
    "duration": 46,
    "start_time": "2024-07-01T00:41:56.930Z"
   },
   {
    "duration": 6,
    "start_time": "2024-07-01T00:42:22.082Z"
   },
   {
    "duration": 15,
    "start_time": "2024-07-01T00:42:24.155Z"
   },
   {
    "duration": 12,
    "start_time": "2024-07-01T00:44:19.556Z"
   },
   {
    "duration": 11,
    "start_time": "2024-07-01T00:44:43.340Z"
   },
   {
    "duration": 9,
    "start_time": "2024-07-01T00:44:51.605Z"
   },
   {
    "duration": 10,
    "start_time": "2024-07-01T00:45:00.894Z"
   },
   {
    "duration": 23,
    "start_time": "2024-07-01T00:47:00.144Z"
   },
   {
    "duration": 4,
    "start_time": "2024-07-01T00:47:03.990Z"
   },
   {
    "duration": 861,
    "start_time": "2024-07-01T00:47:57.670Z"
   },
   {
    "duration": 19,
    "start_time": "2024-07-01T00:48:13.999Z"
   },
   {
    "duration": 18,
    "start_time": "2024-07-01T00:48:23.390Z"
   },
   {
    "duration": 21,
    "start_time": "2024-07-01T00:54:59.413Z"
   },
   {
    "duration": 51,
    "start_time": "2024-07-01T00:55:47.140Z"
   },
   {
    "duration": 3,
    "start_time": "2024-07-01T00:55:53.538Z"
   },
   {
    "duration": 61,
    "start_time": "2024-07-01T00:55:53.697Z"
   },
   {
    "duration": 10,
    "start_time": "2024-07-01T00:55:53.881Z"
   },
   {
    "duration": 3,
    "start_time": "2024-07-01T00:55:54.037Z"
   },
   {
    "duration": 58,
    "start_time": "2024-07-01T00:55:54.208Z"
   },
   {
    "duration": 12,
    "start_time": "2024-07-01T00:55:54.394Z"
   },
   {
    "duration": 45,
    "start_time": "2024-07-01T00:56:14.317Z"
   },
   {
    "duration": 16,
    "start_time": "2024-07-01T00:56:14.480Z"
   },
   {
    "duration": 4,
    "start_time": "2024-07-01T00:56:14.644Z"
   },
   {
    "duration": 25,
    "start_time": "2024-07-01T00:56:15.980Z"
   },
   {
    "duration": 29,
    "start_time": "2024-07-01T00:56:17.133Z"
   },
   {
    "duration": 4332,
    "start_time": "2024-07-01T16:22:57.960Z"
   },
   {
    "duration": 70,
    "start_time": "2024-07-01T16:23:02.295Z"
   },
   {
    "duration": 11,
    "start_time": "2024-07-01T16:23:02.369Z"
   },
   {
    "duration": 4,
    "start_time": "2024-07-01T16:23:02.384Z"
   },
   {
    "duration": 47,
    "start_time": "2024-07-01T16:23:02.392Z"
   },
   {
    "duration": 26,
    "start_time": "2024-07-01T16:23:02.442Z"
   },
   {
    "duration": 964,
    "start_time": "2024-07-01T16:29:58.981Z"
   },
   {
    "duration": 687,
    "start_time": "2024-07-01T16:30:24.711Z"
   },
   {
    "duration": 440,
    "start_time": "2024-07-01T16:30:52.636Z"
   },
   {
    "duration": 1490,
    "start_time": "2024-07-01T16:31:31.011Z"
   },
   {
    "duration": 351,
    "start_time": "2024-07-01T16:31:49.757Z"
   },
   {
    "duration": 335,
    "start_time": "2024-07-01T16:32:04.316Z"
   },
   {
    "duration": 430,
    "start_time": "2024-07-01T16:32:25.964Z"
   },
   {
    "duration": 23,
    "start_time": "2024-07-01T16:34:05.478Z"
   },
   {
    "duration": 23,
    "start_time": "2024-07-01T16:34:07.015Z"
   },
   {
    "duration": 267,
    "start_time": "2024-07-01T16:35:05.990Z"
   },
   {
    "duration": 311,
    "start_time": "2024-07-01T16:35:14.503Z"
   },
   {
    "duration": 303,
    "start_time": "2024-07-01T16:35:44.412Z"
   },
   {
    "duration": 33,
    "start_time": "2024-07-01T16:48:16.616Z"
   },
   {
    "duration": 516,
    "start_time": "2024-07-01T16:48:50.514Z"
   },
   {
    "duration": 135,
    "start_time": "2024-07-01T16:48:54.566Z"
   },
   {
    "duration": 53,
    "start_time": "2024-07-01T17:03:03.954Z"
   },
   {
    "duration": 1039,
    "start_time": "2024-07-01T17:03:59.827Z"
   },
   {
    "duration": 319,
    "start_time": "2024-07-01T17:04:16.307Z"
   },
   {
    "duration": 382,
    "start_time": "2024-07-01T17:04:23.865Z"
   },
   {
    "duration": 984,
    "start_time": "2024-07-01T17:05:44.699Z"
   },
   {
    "duration": 26,
    "start_time": "2024-07-01T17:14:17.259Z"
   },
   {
    "duration": 14,
    "start_time": "2024-07-01T17:14:27.297Z"
   },
   {
    "duration": 17,
    "start_time": "2024-07-01T17:14:27.832Z"
   },
   {
    "duration": 4,
    "start_time": "2024-07-01T17:14:39.017Z"
   },
   {
    "duration": 49,
    "start_time": "2024-07-01T17:14:39.186Z"
   },
   {
    "duration": 12,
    "start_time": "2024-07-01T17:14:39.377Z"
   },
   {
    "duration": 4,
    "start_time": "2024-07-01T17:14:39.548Z"
   },
   {
    "duration": 41,
    "start_time": "2024-07-01T17:14:39.736Z"
   },
   {
    "duration": 25,
    "start_time": "2024-07-01T17:14:39.912Z"
   },
   {
    "duration": 19,
    "start_time": "2024-07-01T17:14:40.098Z"
   },
   {
    "duration": 21,
    "start_time": "2024-07-01T17:14:40.609Z"
   },
   {
    "duration": 4,
    "start_time": "2024-07-01T17:18:46.108Z"
   },
   {
    "duration": 46,
    "start_time": "2024-07-01T17:18:46.282Z"
   },
   {
    "duration": 10,
    "start_time": "2024-07-01T17:18:46.479Z"
   },
   {
    "duration": 10,
    "start_time": "2024-07-01T17:18:48.811Z"
   },
   {
    "duration": 22,
    "start_time": "2024-07-01T17:18:49.570Z"
   },
   {
    "duration": 24,
    "start_time": "2024-07-01T17:18:52.282Z"
   },
   {
    "duration": 11,
    "start_time": "2024-07-01T17:19:01.846Z"
   },
   {
    "duration": 43,
    "start_time": "2024-07-01T17:19:44.047Z"
   },
   {
    "duration": 11,
    "start_time": "2024-07-01T17:19:46.948Z"
   },
   {
    "duration": 6,
    "start_time": "2024-07-01T17:20:27.854Z"
   },
   {
    "duration": 45,
    "start_time": "2024-07-01T17:20:34.765Z"
   },
   {
    "duration": 6,
    "start_time": "2024-07-01T17:20:35.999Z"
   },
   {
    "duration": 9,
    "start_time": "2024-07-01T17:20:38.462Z"
   },
   {
    "duration": 24,
    "start_time": "2024-07-01T17:20:40.829Z"
   },
   {
    "duration": 30,
    "start_time": "2024-07-01T17:20:41.486Z"
   },
   {
    "duration": 12,
    "start_time": "2024-07-01T17:20:44.406Z"
   },
   {
    "duration": 24,
    "start_time": "2024-07-01T17:20:51.758Z"
   },
   {
    "duration": 45,
    "start_time": "2024-07-01T17:20:59.197Z"
   },
   {
    "duration": 6,
    "start_time": "2024-07-01T17:20:59.367Z"
   },
   {
    "duration": 10,
    "start_time": "2024-07-01T17:20:59.505Z"
   },
   {
    "duration": 19,
    "start_time": "2024-07-01T17:20:59.654Z"
   },
   {
    "duration": 19,
    "start_time": "2024-07-01T17:21:01.230Z"
   },
   {
    "duration": 12,
    "start_time": "2024-07-01T17:21:02.781Z"
   },
   {
    "duration": 280,
    "start_time": "2024-07-01T17:21:32.558Z"
   },
   {
    "duration": 392,
    "start_time": "2024-07-01T17:22:24.719Z"
   },
   {
    "duration": 978,
    "start_time": "2024-07-01T17:22:27.446Z"
   },
   {
    "duration": 44,
    "start_time": "2024-07-01T17:23:39.969Z"
   },
   {
    "duration": 6,
    "start_time": "2024-07-01T17:23:40.149Z"
   },
   {
    "duration": 8,
    "start_time": "2024-07-01T17:23:40.342Z"
   },
   {
    "duration": 17,
    "start_time": "2024-07-01T17:23:40.528Z"
   },
   {
    "duration": 20,
    "start_time": "2024-07-01T17:23:40.733Z"
   },
   {
    "duration": 11,
    "start_time": "2024-07-01T17:23:40.928Z"
   },
   {
    "duration": 331,
    "start_time": "2024-07-01T17:23:42.503Z"
   },
   {
    "duration": 296,
    "start_time": "2024-07-01T17:23:42.838Z"
   },
   {
    "duration": 1006,
    "start_time": "2024-07-01T17:23:43.138Z"
   },
   {
    "duration": 6,
    "start_time": "2024-07-01T17:48:28.624Z"
   },
   {
    "duration": 33,
    "start_time": "2024-07-01T17:48:33.849Z"
   },
   {
    "duration": 291,
    "start_time": "2024-07-01T17:48:39.102Z"
   },
   {
    "duration": 198,
    "start_time": "2024-07-01T17:48:42.625Z"
   },
   {
    "duration": 137,
    "start_time": "2024-07-01T17:49:07.458Z"
   },
   {
    "duration": 13,
    "start_time": "2024-07-01T17:49:16.020Z"
   },
   {
    "duration": 34,
    "start_time": "2024-07-01T17:49:18.835Z"
   },
   {
    "duration": 5,
    "start_time": "2024-07-01T17:49:29.668Z"
   },
   {
    "duration": 12,
    "start_time": "2024-07-01T17:49:33.505Z"
   },
   {
    "duration": 7,
    "start_time": "2024-07-01T18:01:48.788Z"
   },
   {
    "duration": 30,
    "start_time": "2024-07-01T18:01:54.501Z"
   },
   {
    "duration": 218,
    "start_time": "2024-07-01T18:04:37.093Z"
   },
   {
    "duration": 35,
    "start_time": "2024-07-01T18:04:43.494Z"
   },
   {
    "duration": 84,
    "start_time": "2024-07-01T18:04:47.828Z"
   },
   {
    "duration": 28,
    "start_time": "2024-07-01T18:05:26.453Z"
   },
   {
    "duration": 8,
    "start_time": "2024-07-01T18:05:35.469Z"
   },
   {
    "duration": 96,
    "start_time": "2024-07-01T18:05:47.820Z"
   },
   {
    "duration": 45,
    "start_time": "2024-07-01T18:12:31.874Z"
   },
   {
    "duration": 25,
    "start_time": "2024-07-01T18:12:39.187Z"
   },
   {
    "duration": 837,
    "start_time": "2024-07-01T18:13:18.811Z"
   },
   {
    "duration": 144,
    "start_time": "2024-07-01T18:13:45.523Z"
   },
   {
    "duration": 5,
    "start_time": "2024-07-01T18:14:04.876Z"
   },
   {
    "duration": 5,
    "start_time": "2024-07-01T18:14:37.185Z"
   },
   {
    "duration": 154,
    "start_time": "2024-07-01T18:15:52.995Z"
   },
   {
    "duration": 132,
    "start_time": "2024-07-01T18:16:21.565Z"
   },
   {
    "duration": 114,
    "start_time": "2024-07-01T18:16:35.269Z"
   },
   {
    "duration": 9,
    "start_time": "2024-07-01T18:16:54.725Z"
   },
   {
    "duration": 8,
    "start_time": "2024-07-01T18:17:13.439Z"
   },
   {
    "duration": 119,
    "start_time": "2024-07-01T18:17:25.262Z"
   },
   {
    "duration": 114,
    "start_time": "2024-07-01T18:17:28.847Z"
   },
   {
    "duration": 134,
    "start_time": "2024-07-01T18:17:52.935Z"
   },
   {
    "duration": 10,
    "start_time": "2024-07-01T18:18:02.950Z"
   },
   {
    "duration": 230,
    "start_time": "2024-07-01T18:18:16.656Z"
   },
   {
    "duration": 226,
    "start_time": "2024-07-01T18:18:21.902Z"
   },
   {
    "duration": 218,
    "start_time": "2024-07-01T18:18:29.957Z"
   },
   {
    "duration": 28,
    "start_time": "2024-07-01T18:19:57.206Z"
   },
   {
    "duration": 29,
    "start_time": "2024-07-01T18:20:11.320Z"
   },
   {
    "duration": 6,
    "start_time": "2024-07-01T18:20:53.697Z"
   },
   {
    "duration": 5,
    "start_time": "2024-07-01T18:20:58.426Z"
   },
   {
    "duration": 7,
    "start_time": "2024-07-01T18:21:03.048Z"
   },
   {
    "duration": 9,
    "start_time": "2024-07-01T18:21:19.449Z"
   },
   {
    "duration": 27,
    "start_time": "2024-07-01T18:21:26.208Z"
   },
   {
    "duration": 5,
    "start_time": "2024-07-01T18:21:32.753Z"
   },
   {
    "duration": 6,
    "start_time": "2024-07-01T18:21:36.865Z"
   },
   {
    "duration": 7,
    "start_time": "2024-07-01T18:23:28.010Z"
   },
   {
    "duration": 16,
    "start_time": "2024-07-01T18:23:38.326Z"
   },
   {
    "duration": 16,
    "start_time": "2024-07-01T18:24:10.635Z"
   },
   {
    "duration": 19,
    "start_time": "2024-07-01T18:24:20.274Z"
   },
   {
    "duration": 17,
    "start_time": "2024-07-01T18:24:35.306Z"
   },
   {
    "duration": 15,
    "start_time": "2024-07-01T18:24:51.812Z"
   },
   {
    "duration": 5167,
    "start_time": "2024-07-02T02:50:19.790Z"
   },
   {
    "duration": 60,
    "start_time": "2024-07-02T02:50:24.961Z"
   },
   {
    "duration": 6,
    "start_time": "2024-07-02T02:50:25.024Z"
   },
   {
    "duration": 13,
    "start_time": "2024-07-02T02:50:25.036Z"
   },
   {
    "duration": 22,
    "start_time": "2024-07-02T02:50:25.051Z"
   },
   {
    "duration": 60,
    "start_time": "2024-07-02T02:50:25.076Z"
   },
   {
    "duration": 9,
    "start_time": "2024-07-02T02:50:25.140Z"
   },
   {
    "duration": 343,
    "start_time": "2024-07-02T02:50:25.152Z"
   },
   {
    "duration": 271,
    "start_time": "2024-07-02T02:50:25.498Z"
   },
   {
    "duration": 1044,
    "start_time": "2024-07-02T02:50:25.773Z"
   },
   {
    "duration": 18,
    "start_time": "2024-07-02T02:50:26.820Z"
   },
   {
    "duration": 6,
    "start_time": "2024-07-02T02:50:26.843Z"
   },
   {
    "duration": 9,
    "start_time": "2024-07-02T02:50:26.853Z"
   },
   {
    "duration": 16,
    "start_time": "2024-07-02T02:50:30.519Z"
   },
   {
    "duration": 19,
    "start_time": "2024-07-02T02:51:12.986Z"
   },
   {
    "duration": 19,
    "start_time": "2024-07-02T02:52:18.479Z"
   },
   {
    "duration": 14,
    "start_time": "2024-07-02T02:52:42.814Z"
   },
   {
    "duration": 18,
    "start_time": "2024-07-02T02:52:48.389Z"
   },
   {
    "duration": 15,
    "start_time": "2024-07-02T02:53:00.054Z"
   },
   {
    "duration": 16,
    "start_time": "2024-07-02T02:53:07.688Z"
   },
   {
    "duration": 16,
    "start_time": "2024-07-02T02:53:14.986Z"
   },
   {
    "duration": 28,
    "start_time": "2024-07-02T02:53:21.780Z"
   },
   {
    "duration": 15,
    "start_time": "2024-07-02T02:53:34.086Z"
   },
   {
    "duration": 1265,
    "start_time": "2024-07-02T03:01:53.003Z"
   },
   {
    "duration": 8,
    "start_time": "2024-07-02T03:02:00.399Z"
   },
   {
    "duration": 9,
    "start_time": "2024-07-02T03:02:17.086Z"
   },
   {
    "duration": 11,
    "start_time": "2024-07-02T03:02:46.921Z"
   },
   {
    "duration": 11,
    "start_time": "2024-07-02T03:03:15.262Z"
   },
   {
    "duration": 24,
    "start_time": "2024-07-02T03:05:22.995Z"
   },
   {
    "duration": 27,
    "start_time": "2024-07-02T03:07:45.615Z"
   },
   {
    "duration": 6,
    "start_time": "2024-07-02T03:07:50.096Z"
   },
   {
    "duration": 27,
    "start_time": "2024-07-02T03:07:51.292Z"
   },
   {
    "duration": 14,
    "start_time": "2024-07-02T03:08:13.456Z"
   },
   {
    "duration": 20,
    "start_time": "2024-07-02T03:08:20.752Z"
   },
   {
    "duration": 8,
    "start_time": "2024-07-02T03:08:58.674Z"
   },
   {
    "duration": 14,
    "start_time": "2024-07-02T03:09:11.320Z"
   },
   {
    "duration": 22,
    "start_time": "2024-07-02T03:11:37.076Z"
   },
   {
    "duration": 6,
    "start_time": "2024-07-02T03:16:51.590Z"
   },
   {
    "duration": 6,
    "start_time": "2024-07-02T03:16:52.206Z"
   },
   {
    "duration": 19,
    "start_time": "2024-07-02T03:16:54.971Z"
   },
   {
    "duration": 18,
    "start_time": "2024-07-02T03:17:09.079Z"
   },
   {
    "duration": 18,
    "start_time": "2024-07-02T03:17:12.535Z"
   },
   {
    "duration": 38,
    "start_time": "2024-07-02T03:20:47.072Z"
   },
   {
    "duration": 46,
    "start_time": "2024-07-02T03:20:47.250Z"
   },
   {
    "duration": 6,
    "start_time": "2024-07-02T03:20:47.408Z"
   },
   {
    "duration": 10,
    "start_time": "2024-07-02T03:20:47.592Z"
   },
   {
    "duration": 22,
    "start_time": "2024-07-02T03:20:47.750Z"
   },
   {
    "duration": 23,
    "start_time": "2024-07-02T03:20:47.927Z"
   },
   {
    "duration": 11,
    "start_time": "2024-07-02T03:20:48.103Z"
   },
   {
    "duration": 305,
    "start_time": "2024-07-02T03:20:48.455Z"
   },
   {
    "duration": 281,
    "start_time": "2024-07-02T03:20:48.764Z"
   },
   {
    "duration": 913,
    "start_time": "2024-07-02T03:20:49.048Z"
   },
   {
    "duration": 10,
    "start_time": "2024-07-02T03:20:49.965Z"
   },
   {
    "duration": 6,
    "start_time": "2024-07-02T03:20:50.504Z"
   },
   {
    "duration": 6,
    "start_time": "2024-07-02T03:20:51.831Z"
   },
   {
    "duration": 7,
    "start_time": "2024-07-02T03:22:37.313Z"
   },
   {
    "duration": 7,
    "start_time": "2024-07-02T03:30:41.642Z"
   },
   {
    "duration": 7,
    "start_time": "2024-07-02T03:30:49.192Z"
   },
   {
    "duration": 34,
    "start_time": "2024-07-02T03:31:17.520Z"
   },
   {
    "duration": 7,
    "start_time": "2024-07-02T03:32:31.466Z"
   },
   {
    "duration": 6,
    "start_time": "2024-07-02T03:32:31.726Z"
   },
   {
    "duration": 28,
    "start_time": "2024-07-02T03:33:07.321Z"
   },
   {
    "duration": 22,
    "start_time": "2024-07-02T03:33:25.513Z"
   },
   {
    "duration": 33,
    "start_time": "2024-07-02T03:33:32.002Z"
   },
   {
    "duration": 1129,
    "start_time": "2024-07-02T03:33:39.083Z"
   },
   {
    "duration": 7,
    "start_time": "2024-07-02T03:33:58.593Z"
   },
   {
    "duration": 7,
    "start_time": "2024-07-02T03:35:25.492Z"
   },
   {
    "duration": 1182,
    "start_time": "2024-07-02T03:35:28.465Z"
   },
   {
    "duration": 7,
    "start_time": "2024-07-02T03:35:37.035Z"
   },
   {
    "duration": 1165,
    "start_time": "2024-07-02T03:35:40.944Z"
   },
   {
    "duration": 833,
    "start_time": "2024-07-02T03:36:02.347Z"
   },
   {
    "duration": 1154,
    "start_time": "2024-07-02T03:36:07.460Z"
   },
   {
    "duration": 1124,
    "start_time": "2024-07-02T03:36:22.046Z"
   },
   {
    "duration": 1034,
    "start_time": "2024-07-02T03:36:31.434Z"
   },
   {
    "duration": 1120,
    "start_time": "2024-07-02T03:37:14.366Z"
   },
   {
    "duration": 991,
    "start_time": "2024-07-02T03:37:22.139Z"
   },
   {
    "duration": 1010,
    "start_time": "2024-07-02T03:37:36.627Z"
   },
   {
    "duration": 520,
    "start_time": "2024-07-02T03:37:45.227Z"
   },
   {
    "duration": 215,
    "start_time": "2024-07-02T03:37:51.426Z"
   },
   {
    "duration": 116,
    "start_time": "2024-07-02T03:38:00.659Z"
   },
   {
    "duration": 213,
    "start_time": "2024-07-02T03:38:08.115Z"
   },
   {
    "duration": 170,
    "start_time": "2024-07-02T03:38:13.354Z"
   },
   {
    "duration": 213,
    "start_time": "2024-07-02T03:38:17.596Z"
   },
   {
    "duration": 12,
    "start_time": "2024-07-02T03:38:54.748Z"
   },
   {
    "duration": 6,
    "start_time": "2024-07-02T03:38:56.042Z"
   },
   {
    "duration": 6,
    "start_time": "2024-07-02T03:38:56.629Z"
   },
   {
    "duration": 7,
    "start_time": "2024-07-02T03:38:57.076Z"
   },
   {
    "duration": 23,
    "start_time": "2024-07-02T03:38:58.625Z"
   },
   {
    "duration": 18,
    "start_time": "2024-07-02T03:38:59.676Z"
   },
   {
    "duration": 202,
    "start_time": "2024-07-02T03:39:28.638Z"
   },
   {
    "duration": 20,
    "start_time": "2024-07-02T03:39:31.412Z"
   },
   {
    "duration": 26,
    "start_time": "2024-07-02T03:39:34.100Z"
   },
   {
    "duration": 206,
    "start_time": "2024-07-02T03:39:40.924Z"
   },
   {
    "duration": 309,
    "start_time": "2024-07-02T03:39:46.452Z"
   },
   {
    "duration": 420,
    "start_time": "2024-07-02T03:39:51.851Z"
   },
   {
    "duration": 488,
    "start_time": "2024-07-02T03:39:55.874Z"
   },
   {
    "duration": 584,
    "start_time": "2024-07-02T03:39:59.956Z"
   },
   {
    "duration": 213,
    "start_time": "2024-07-02T03:40:06.964Z"
   },
   {
    "duration": 38,
    "start_time": "2024-07-02T03:42:02.631Z"
   },
   {
    "duration": 8,
    "start_time": "2024-07-02T03:42:10.455Z"
   },
   {
    "duration": 1527,
    "start_time": "2024-07-02T03:43:01.712Z"
   },
   {
    "duration": 2413,
    "start_time": "2024-07-02T03:43:23.128Z"
   },
   {
    "duration": 2045,
    "start_time": "2024-07-02T03:43:37.603Z"
   },
   {
    "duration": 2056,
    "start_time": "2024-07-02T03:43:45.005Z"
   },
   {
    "duration": 10,
    "start_time": "2024-07-02T03:44:23.952Z"
   },
   {
    "duration": 2280,
    "start_time": "2024-07-02T03:44:28.163Z"
   },
   {
    "duration": 1542,
    "start_time": "2024-07-02T17:42:49.908Z"
   },
   {
    "duration": 50,
    "start_time": "2024-07-02T17:42:51.453Z"
   },
   {
    "duration": 6,
    "start_time": "2024-07-02T17:42:51.506Z"
   },
   {
    "duration": 13,
    "start_time": "2024-07-02T17:42:51.532Z"
   },
   {
    "duration": 23,
    "start_time": "2024-07-02T17:42:51.551Z"
   },
   {
    "duration": 59,
    "start_time": "2024-07-02T17:42:51.577Z"
   },
   {
    "duration": 13,
    "start_time": "2024-07-02T17:42:51.639Z"
   },
   {
    "duration": 372,
    "start_time": "2024-07-02T17:42:51.655Z"
   },
   {
    "duration": 286,
    "start_time": "2024-07-02T17:42:52.031Z"
   },
   {
    "duration": 935,
    "start_time": "2024-07-02T17:42:52.320Z"
   },
   {
    "duration": 11,
    "start_time": "2024-07-02T17:42:53.257Z"
   },
   {
    "duration": 6,
    "start_time": "2024-07-02T17:42:53.272Z"
   },
   {
    "duration": 6,
    "start_time": "2024-07-02T17:42:53.282Z"
   },
   {
    "duration": 40,
    "start_time": "2024-07-02T17:42:53.293Z"
   },
   {
    "duration": 10,
    "start_time": "2024-07-02T17:42:53.336Z"
   },
   {
    "duration": 447,
    "start_time": "2024-07-02T17:42:53.349Z"
   },
   {
    "duration": 0,
    "start_time": "2024-07-02T17:42:53.798Z"
   },
   {
    "duration": 0,
    "start_time": "2024-07-02T17:42:53.801Z"
   },
   {
    "duration": 0,
    "start_time": "2024-07-02T17:42:53.803Z"
   },
   {
    "duration": 6,
    "start_time": "2024-07-02T17:43:05.477Z"
   },
   {
    "duration": 44,
    "start_time": "2024-07-02T17:43:05.486Z"
   },
   {
    "duration": 6,
    "start_time": "2024-07-02T17:43:05.533Z"
   },
   {
    "duration": 11,
    "start_time": "2024-07-02T17:43:05.544Z"
   },
   {
    "duration": 22,
    "start_time": "2024-07-02T17:43:05.557Z"
   },
   {
    "duration": 66,
    "start_time": "2024-07-02T17:43:05.582Z"
   },
   {
    "duration": 13,
    "start_time": "2024-07-02T17:43:05.651Z"
   },
   {
    "duration": 312,
    "start_time": "2024-07-02T17:43:05.667Z"
   },
   {
    "duration": 376,
    "start_time": "2024-07-02T17:43:05.982Z"
   },
   {
    "duration": 936,
    "start_time": "2024-07-02T17:43:06.365Z"
   },
   {
    "duration": 10,
    "start_time": "2024-07-02T17:43:07.304Z"
   },
   {
    "duration": 5,
    "start_time": "2024-07-02T17:43:07.332Z"
   },
   {
    "duration": 7,
    "start_time": "2024-07-02T17:43:07.341Z"
   },
   {
    "duration": 8,
    "start_time": "2024-07-02T17:43:07.351Z"
   },
   {
    "duration": 9,
    "start_time": "2024-07-02T17:43:07.361Z"
   },
   {
    "duration": 65,
    "start_time": "2024-07-02T17:43:07.374Z"
   },
   {
    "duration": 0,
    "start_time": "2024-07-02T17:43:07.442Z"
   },
   {
    "duration": 0,
    "start_time": "2024-07-02T17:43:07.444Z"
   },
   {
    "duration": 0,
    "start_time": "2024-07-02T17:43:07.446Z"
   },
   {
    "duration": 5986,
    "start_time": "2024-07-03T04:04:02.985Z"
   },
   {
    "duration": 83,
    "start_time": "2024-07-03T04:04:08.974Z"
   },
   {
    "duration": 6,
    "start_time": "2024-07-03T04:04:09.061Z"
   },
   {
    "duration": 12,
    "start_time": "2024-07-03T04:04:09.071Z"
   },
   {
    "duration": 59,
    "start_time": "2024-07-03T04:04:09.086Z"
   },
   {
    "duration": 23,
    "start_time": "2024-07-03T04:04:09.148Z"
   },
   {
    "duration": 11,
    "start_time": "2024-07-03T04:04:09.174Z"
   },
   {
    "duration": 404,
    "start_time": "2024-07-03T04:04:09.187Z"
   },
   {
    "duration": 375,
    "start_time": "2024-07-03T04:04:09.594Z"
   },
   {
    "duration": 1177,
    "start_time": "2024-07-03T04:04:09.974Z"
   },
   {
    "duration": 11,
    "start_time": "2024-07-03T04:04:11.154Z"
   },
   {
    "duration": 7,
    "start_time": "2024-07-03T04:04:14.573Z"
   },
   {
    "duration": 6,
    "start_time": "2024-07-03T04:04:15.054Z"
   },
   {
    "duration": 8,
    "start_time": "2024-07-03T04:04:15.828Z"
   },
   {
    "duration": 9,
    "start_time": "2024-07-03T04:04:17.405Z"
   },
   {
    "duration": 15,
    "start_time": "2024-07-03T04:05:28.509Z"
   },
   {
    "duration": 30,
    "start_time": "2024-07-03T04:05:57.910Z"
   },
   {
    "duration": 6,
    "start_time": "2024-07-03T04:07:17.783Z"
   },
   {
    "duration": 483,
    "start_time": "2024-07-03T04:08:01.314Z"
   },
   {
    "duration": 37,
    "start_time": "2024-07-03T04:08:11.783Z"
   },
   {
    "duration": 32,
    "start_time": "2024-07-03T04:08:43.077Z"
   },
   {
    "duration": 24,
    "start_time": "2024-07-03T04:08:58.320Z"
   },
   {
    "duration": 219,
    "start_time": "2024-07-03T04:09:06.144Z"
   },
   {
    "duration": 2190,
    "start_time": "2024-07-03T04:10:54.138Z"
   },
   {
    "duration": 1741,
    "start_time": "2024-07-03T04:30:39.557Z"
   },
   {
    "duration": 110,
    "start_time": "2024-07-03T04:30:41.303Z"
   },
   {
    "duration": 23,
    "start_time": "2024-07-03T04:30:41.428Z"
   },
   {
    "duration": 16,
    "start_time": "2024-07-03T04:30:41.454Z"
   },
   {
    "duration": 30,
    "start_time": "2024-07-03T04:30:41.476Z"
   },
   {
    "duration": 54,
    "start_time": "2024-07-03T04:30:41.509Z"
   },
   {
    "duration": 11,
    "start_time": "2024-07-03T04:30:41.567Z"
   },
   {
    "duration": 380,
    "start_time": "2024-07-03T04:30:41.581Z"
   },
   {
    "duration": 310,
    "start_time": "2024-07-03T04:30:41.965Z"
   },
   {
    "duration": 957,
    "start_time": "2024-07-03T04:30:42.280Z"
   },
   {
    "duration": 11,
    "start_time": "2024-07-03T04:30:43.240Z"
   },
   {
    "duration": 6,
    "start_time": "2024-07-03T04:30:43.254Z"
   },
   {
    "duration": 6,
    "start_time": "2024-07-03T04:30:43.263Z"
   },
   {
    "duration": 7,
    "start_time": "2024-07-03T04:30:43.276Z"
   },
   {
    "duration": 54,
    "start_time": "2024-07-03T04:30:43.286Z"
   },
   {
    "duration": 104,
    "start_time": "2024-07-03T04:30:43.344Z"
   },
   {
    "duration": 104,
    "start_time": "2024-07-03T04:30:43.452Z"
   },
   {
    "duration": 359,
    "start_time": "2024-07-03T04:30:43.559Z"
   },
   {
    "duration": 2313,
    "start_time": "2024-07-03T04:30:43.920Z"
   }
  ],
  "kernelspec": {
   "display_name": "Python 3 (ipykernel)",
   "language": "python",
   "name": "python3"
  },
  "language_info": {
   "codemirror_mode": {
    "name": "ipython",
    "version": 3
   },
   "file_extension": ".py",
   "mimetype": "text/x-python",
   "name": "python",
   "nbconvert_exporter": "python",
   "pygments_lexer": "ipython3",
   "version": "3.9.19"
  },
  "toc": {
   "base_numbering": 1,
   "nav_menu": {},
   "number_sections": true,
   "sideBar": true,
   "skip_h1_title": true,
   "title_cell": "Table of Contents",
   "title_sidebar": "Contents",
   "toc_cell": false,
   "toc_position": {},
   "toc_section_display": true,
   "toc_window_display": false
  }
 },
 "nbformat": 4,
 "nbformat_minor": 2
}
