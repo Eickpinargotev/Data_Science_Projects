{
 "cells": [
  {
   "cell_type": "markdown",
   "metadata": {},
   "source": [
    "## Descripción del Proyecto\n",
    "\n",
    "El proyecto **Rusty Bargain** se enfoca en desarrollar un modelo de machine learning que permita predecir el valor de mercado de autos usados. Esta aplicación está diseñada para ayudar a los usuarios a determinar rápidamente el precio de su vehículo basándose en datos históricos de especificaciones técnicas, versiones de equipamiento y precios.\n",
    "\n",
    "### Objetivos Principales:\n",
    "- **Calidad de la Predicción:** Garantizar predicciones precisas y alineadas con los valores de mercado.\n",
    "- **Velocidad de Predicción:** Optimizar el modelo para ofrecer predicciones rápidas y eficientes.\n",
    "- **Tiempo de Entrenamiento:** Minimizar el tiempo necesario para entrenar el modelo sin comprometer la precisión.\n"
   ]
  },
  {
   "cell_type": "markdown",
   "metadata": {},
   "source": [
    "## Preparación de datos"
   ]
  },
  {
   "cell_type": "markdown",
   "metadata": {},
   "source": [
    "* Importamos librerias"
   ]
  },
  {
   "cell_type": "code",
   "execution_count": 2,
   "metadata": {},
   "outputs": [],
   "source": [
    "import numpy as np\n",
    "\n",
    "import pandas as pd\n",
    "from pandas.api.types import is_categorical_dtype, is_object_dtype\n",
    "\n",
    "from matplotlib import pyplot as plt\n",
    "\n",
    "import sklearn.neighbors\n",
    "from sklearn.preprocessing import OrdinalEncoder, LabelEncoder, StandardScaler\n",
    "\n",
    "from sklearn.impute import KNNImputer\n",
    "from sklearn.model_selection import train_test_split\n",
    "\n",
    "from sklearn.ensemble import RandomForestRegressor\n",
    "from sklearn.linear_model import LogisticRegression\n",
    "\n",
    "from sklearn.metrics import mean_squared_error\n",
    "\n",
    "from catboost import CatBoostRegressor\n",
    "import lightgbm as lgb\n",
    "import xgboost as xgb"
   ]
  },
  {
   "cell_type": "markdown",
   "metadata": {},
   "source": [
    "* Cargamos los datos"
   ]
  },
  {
   "cell_type": "code",
   "execution_count": 3,
   "metadata": {},
   "outputs": [],
   "source": [
    "df=pd.read_csv('/datasets/car_data.csv')"
   ]
  },
  {
   "cell_type": "code",
   "execution_count": 4,
   "metadata": {},
   "outputs": [
    {
     "name": "stdout",
     "output_type": "stream",
     "text": [
      "(354369, 16)\n",
      "(177184, 16)\n"
     ]
    }
   ],
   "source": [
    "print(df.shape)\n",
    "valor=round(df.shape[0]/2)#Divido el dataset, porque el kernel se cae\n",
    "df=df[0:valor]\n",
    "print(df.shape)"
   ]
  },
  {
   "cell_type": "markdown",
   "metadata": {},
   "source": [
    "* Data wrangling"
   ]
  },
  {
   "cell_type": "code",
   "execution_count": 5,
   "metadata": {},
   "outputs": [
    {
     "name": "stdout",
     "output_type": "stream",
     "text": [
      "<class 'pandas.core.frame.DataFrame'>\n",
      "RangeIndex: 177184 entries, 0 to 177183\n",
      "Data columns (total 16 columns):\n",
      " #   Column             Non-Null Count   Dtype \n",
      "---  ------             --------------   ----- \n",
      " 0   DateCrawled        177184 non-null  object\n",
      " 1   Price              177184 non-null  int64 \n",
      " 2   VehicleType        158480 non-null  object\n",
      " 3   RegistrationYear   177184 non-null  int64 \n",
      " 4   Gearbox            167282 non-null  object\n",
      " 5   Power              177184 non-null  int64 \n",
      " 6   Model              167265 non-null  object\n",
      " 7   Mileage            177184 non-null  int64 \n",
      " 8   RegistrationMonth  177184 non-null  int64 \n",
      " 9   FuelType           160634 non-null  object\n",
      " 10  Brand              177184 non-null  object\n",
      " 11  NotRepaired        141576 non-null  object\n",
      " 12  DateCreated        177184 non-null  object\n",
      " 13  NumberOfPictures   177184 non-null  int64 \n",
      " 14  PostalCode         177184 non-null  int64 \n",
      " 15  LastSeen           177184 non-null  object\n",
      "dtypes: int64(7), object(9)\n",
      "memory usage: 21.6+ MB\n"
     ]
    }
   ],
   "source": [
    "# Revisiòn general de los datos\n",
    "df.info()"
   ]
  },
  {
   "cell_type": "code",
   "execution_count": 6,
   "metadata": {},
   "outputs": [],
   "source": [
    "#Asumimos que la fecha de publicaciòn del anuncio no influye en el precio de un auto, sino la fecha del modelo o de fabricaciòn\n",
    "df=df.drop(['DateCrawled','DateCreated','LastSeen'],axis=1)\n",
    "#Asì mismo es necesario considerar que "
   ]
  },
  {
   "cell_type": "code",
   "execution_count": 7,
   "metadata": {},
   "outputs": [
    {
     "data": {
      "text/plain": [
       "0    177184\n",
       "Name: NumberOfPictures, dtype: int64"
      ]
     },
     "metadata": {},
     "output_type": "display_data"
    }
   ],
   "source": [
    "#Revisemos la columna \"NumberOfPictures\", que cuenta con una constante ('0')\n",
    "display(df['NumberOfPictures'].value_counts())\n",
    "#Las características con valores constantes no aportan información útil para el modelo de machine learning, ya que no tienen variabilidad que el modelo pueda aprender para hacer predicciones.\n",
    "df=df.drop(['NumberOfPictures'],axis=1)"
   ]
  },
  {
   "cell_type": "code",
   "execution_count": 8,
   "metadata": {},
   "outputs": [
    {
     "name": "stdout",
     "output_type": "stream",
     "text": [
      "7976\n"
     ]
    }
   ],
   "source": [
    "#Analicemos la caracteristica \"PostalCode\"\n",
    "#Esta puede considerarse como una caracteristica categorica, veamos cuando valores unicos tiene\n",
    "print(df['PostalCode'].value_counts().count())\n",
    "#Vemos que contiene demasiados (8143!), esta caracteristica puede ser considerada caracteristica de alta cardinalidad\n",
    "#Esta columna serà eliminada, aunque puede ser codificada usando otros metodos como el de agrupar por region. \n",
    "df=df.drop(['PostalCode'],axis=1)"
   ]
  },
  {
   "cell_type": "code",
   "execution_count": 9,
   "metadata": {},
   "outputs": [
    {
     "name": "stdout",
     "output_type": "stream",
     "text": [
      "RegistrationMonth\n",
      "0     1900.718447\n",
      "1     4686.604763\n",
      "2     4569.711598\n",
      "3     4565.864484\n",
      "4     4756.577627\n",
      "5     4609.772646\n",
      "6     4742.719361\n",
      "7     4854.759093\n",
      "8     4716.064033\n",
      "9     4855.248288\n",
      "10    4807.957732\n",
      "11    4947.205577\n",
      "12    4661.385791\n",
      "Name: Price, dtype: float64\n"
     ]
    }
   ],
   "source": [
    "#La columna 'RegistrationMonth', tampoco es importante, esto no deberìa influir en el precio de un vehiculo antiguo\n",
    "from matplotlib  import pyplot as plt\n",
    "precio_por_mes = df.groupby('RegistrationMonth')['Price'].mean()\n",
    "print(precio_por_mes)\n",
    "#Eliminaremos la columna \"RegistrationMonth\"\n",
    "df=df.drop('RegistrationMonth',axis=1)"
   ]
  },
  {
   "cell_type": "code",
   "execution_count": 10,
   "metadata": {},
   "outputs": [
    {
     "name": "stdout",
     "output_type": "stream",
     "text": [
      "tenemos 13413 valores duplicados\n",
      "tenemos 0 valores duplicados luego de eliminarlos\n"
     ]
    }
   ],
   "source": [
    "#Buscamos valores duplicados\n",
    "print(f'tenemos {df.duplicated().sum()} valores duplicados')\n",
    "#Eliminamos los valores duplicados\n",
    "df=df.drop_duplicates()\n",
    "#Buscamos valores duplicados\n",
    "print(f'tenemos {df.duplicated().sum()} valores duplicados luego de eliminarlos')"
   ]
  },
  {
   "cell_type": "code",
   "execution_count": 11,
   "metadata": {},
   "outputs": [],
   "source": [
    "#Analicemos la caracteristica price\n",
    "#Tenemos algunas filas de la columna 'price' valoradas con 0. Eliminaremos estas filas para no confundir al algoritmo.\n",
    "df=df[df['Price']!=0]"
   ]
  },
  {
   "cell_type": "code",
   "execution_count": 12,
   "metadata": {
    "scrolled": false
   },
   "outputs": [
    {
     "name": "stdout",
     "output_type": "stream",
     "text": [
      "\n",
      "Tenemos datos nulos en las siguientes columnas\n",
      "\n",
      "NotRepaired    31222\n",
      "FuelType       14465\n",
      "Model           8580\n",
      "Gearbox         7977\n",
      "VehicleType    16262\n",
      "dtype: int64\n"
     ]
    }
   ],
   "source": [
    "# Caracteristicas con valores nulos\n",
    "null_values=['NotRepaired','FuelType','Model','Gearbox','VehicleType']\n",
    "print()\n",
    "print('Tenemos datos nulos en las siguientes columnas')\n",
    "print()\n",
    "print(df[null_values].isnull().sum())"
   ]
  },
  {
   "cell_type": "markdown",
   "metadata": {},
   "source": [
    "* Analicemos la columna 'RegistrationYear' que cuenta con valores fuera de lo normal"
   ]
  },
  {
   "cell_type": "code",
   "execution_count": 13,
   "metadata": {
    "scrolled": true
   },
   "outputs": [
    {
     "data": {
      "text/plain": [
       "1000    16\n",
       "1001     1\n",
       "1234     4\n",
       "1255     1\n",
       "1400     1\n",
       "        ..\n",
       "8500     1\n",
       "8888     1\n",
       "9000     1\n",
       "9450     1\n",
       "9999     9\n",
       "Name: RegistrationYear, Length: 122, dtype: int64"
      ]
     },
     "metadata": {},
     "output_type": "display_data"
    },
    {
     "name": "stdout",
     "output_type": "stream",
     "text": [
      "tenemos un total de 44 observaciones con un año superior al 2024\n"
     ]
    },
    {
     "data": {
      "text/html": [
       "<div>\n",
       "<style scoped>\n",
       "    .dataframe tbody tr th:only-of-type {\n",
       "        vertical-align: middle;\n",
       "    }\n",
       "\n",
       "    .dataframe tbody tr th {\n",
       "        vertical-align: top;\n",
       "    }\n",
       "\n",
       "    .dataframe thead th {\n",
       "        text-align: right;\n",
       "    }\n",
       "</style>\n",
       "<table border=\"1\" class=\"dataframe\">\n",
       "  <thead>\n",
       "    <tr style=\"text-align: right;\">\n",
       "      <th></th>\n",
       "      <th>Price</th>\n",
       "      <th>VehicleType</th>\n",
       "      <th>RegistrationYear</th>\n",
       "      <th>Gearbox</th>\n",
       "      <th>Power</th>\n",
       "      <th>Model</th>\n",
       "      <th>Mileage</th>\n",
       "      <th>FuelType</th>\n",
       "      <th>Brand</th>\n",
       "      <th>NotRepaired</th>\n",
       "    </tr>\n",
       "  </thead>\n",
       "  <tbody>\n",
       "    <tr>\n",
       "      <th>12946</th>\n",
       "      <td>49</td>\n",
       "      <td>NaN</td>\n",
       "      <td>5000</td>\n",
       "      <td>NaN</td>\n",
       "      <td>0</td>\n",
       "      <td>golf</td>\n",
       "      <td>5000</td>\n",
       "      <td>NaN</td>\n",
       "      <td>volkswagen</td>\n",
       "      <td>NaN</td>\n",
       "    </tr>\n",
       "    <tr>\n",
       "      <th>15870</th>\n",
       "      <td>1700</td>\n",
       "      <td>NaN</td>\n",
       "      <td>3200</td>\n",
       "      <td>NaN</td>\n",
       "      <td>0</td>\n",
       "      <td>NaN</td>\n",
       "      <td>5000</td>\n",
       "      <td>NaN</td>\n",
       "      <td>sonstige_autos</td>\n",
       "      <td>NaN</td>\n",
       "    </tr>\n",
       "    <tr>\n",
       "      <th>17271</th>\n",
       "      <td>700</td>\n",
       "      <td>NaN</td>\n",
       "      <td>9999</td>\n",
       "      <td>NaN</td>\n",
       "      <td>0</td>\n",
       "      <td>other</td>\n",
       "      <td>10000</td>\n",
       "      <td>NaN</td>\n",
       "      <td>opel</td>\n",
       "      <td>NaN</td>\n",
       "    </tr>\n",
       "    <tr>\n",
       "      <th>17346</th>\n",
       "      <td>6500</td>\n",
       "      <td>NaN</td>\n",
       "      <td>8888</td>\n",
       "      <td>NaN</td>\n",
       "      <td>0</td>\n",
       "      <td>NaN</td>\n",
       "      <td>10000</td>\n",
       "      <td>NaN</td>\n",
       "      <td>sonstige_autos</td>\n",
       "      <td>NaN</td>\n",
       "    </tr>\n",
       "    <tr>\n",
       "      <th>18259</th>\n",
       "      <td>300</td>\n",
       "      <td>NaN</td>\n",
       "      <td>2200</td>\n",
       "      <td>NaN</td>\n",
       "      <td>0</td>\n",
       "      <td>twingo</td>\n",
       "      <td>5000</td>\n",
       "      <td>NaN</td>\n",
       "      <td>renault</td>\n",
       "      <td>NaN</td>\n",
       "    </tr>\n",
       "    <tr>\n",
       "      <th>20159</th>\n",
       "      <td>1600</td>\n",
       "      <td>NaN</td>\n",
       "      <td>4100</td>\n",
       "      <td>NaN</td>\n",
       "      <td>0</td>\n",
       "      <td>NaN</td>\n",
       "      <td>5000</td>\n",
       "      <td>NaN</td>\n",
       "      <td>sonstige_autos</td>\n",
       "      <td>NaN</td>\n",
       "    </tr>\n",
       "    <tr>\n",
       "      <th>26382</th>\n",
       "      <td>150</td>\n",
       "      <td>NaN</td>\n",
       "      <td>3000</td>\n",
       "      <td>NaN</td>\n",
       "      <td>0</td>\n",
       "      <td>a_klasse</td>\n",
       "      <td>5000</td>\n",
       "      <td>NaN</td>\n",
       "      <td>mercedes_benz</td>\n",
       "      <td>NaN</td>\n",
       "    </tr>\n",
       "    <tr>\n",
       "      <th>26560</th>\n",
       "      <td>800</td>\n",
       "      <td>NaN</td>\n",
       "      <td>2066</td>\n",
       "      <td>NaN</td>\n",
       "      <td>0</td>\n",
       "      <td>zafira</td>\n",
       "      <td>5000</td>\n",
       "      <td>gasoline</td>\n",
       "      <td>opel</td>\n",
       "      <td>NaN</td>\n",
       "    </tr>\n",
       "    <tr>\n",
       "      <th>28390</th>\n",
       "      <td>799</td>\n",
       "      <td>NaN</td>\n",
       "      <td>9999</td>\n",
       "      <td>NaN</td>\n",
       "      <td>0</td>\n",
       "      <td>3er</td>\n",
       "      <td>10000</td>\n",
       "      <td>petrol</td>\n",
       "      <td>bmw</td>\n",
       "      <td>NaN</td>\n",
       "    </tr>\n",
       "    <tr>\n",
       "      <th>28965</th>\n",
       "      <td>18000</td>\n",
       "      <td>NaN</td>\n",
       "      <td>9999</td>\n",
       "      <td>NaN</td>\n",
       "      <td>0</td>\n",
       "      <td>a_klasse</td>\n",
       "      <td>10000</td>\n",
       "      <td>petrol</td>\n",
       "      <td>mercedes_benz</td>\n",
       "      <td>NaN</td>\n",
       "    </tr>\n",
       "  </tbody>\n",
       "</table>\n",
       "</div>"
      ],
      "text/plain": [
       "       Price VehicleType  RegistrationYear Gearbox  Power     Model  Mileage  \\\n",
       "12946     49         NaN              5000     NaN      0      golf     5000   \n",
       "15870   1700         NaN              3200     NaN      0       NaN     5000   \n",
       "17271    700         NaN              9999     NaN      0     other    10000   \n",
       "17346   6500         NaN              8888     NaN      0       NaN    10000   \n",
       "18259    300         NaN              2200     NaN      0    twingo     5000   \n",
       "20159   1600         NaN              4100     NaN      0       NaN     5000   \n",
       "26382    150         NaN              3000     NaN      0  a_klasse     5000   \n",
       "26560    800         NaN              2066     NaN      0    zafira     5000   \n",
       "28390    799         NaN              9999     NaN      0       3er    10000   \n",
       "28965  18000         NaN              9999     NaN      0  a_klasse    10000   \n",
       "\n",
       "       FuelType           Brand NotRepaired  \n",
       "12946       NaN      volkswagen         NaN  \n",
       "15870       NaN  sonstige_autos         NaN  \n",
       "17271       NaN            opel         NaN  \n",
       "17346       NaN  sonstige_autos         NaN  \n",
       "18259       NaN         renault         NaN  \n",
       "20159       NaN  sonstige_autos         NaN  \n",
       "26382       NaN   mercedes_benz         NaN  \n",
       "26560  gasoline            opel         NaN  \n",
       "28390    petrol             bmw         NaN  \n",
       "28965    petrol   mercedes_benz         NaN  "
      ]
     },
     "metadata": {},
     "output_type": "display_data"
    },
    {
     "name": "stdout",
     "output_type": "stream",
     "text": [
      "Registros que tienen al menos 3 columnas con valores nulos:\n",
      "45253     3\n",
      "114241    3\n",
      "99837     3\n",
      "34488     3\n",
      "72748     3\n",
      "         ..\n",
      "23532     5\n",
      "111925    5\n",
      "65151     5\n",
      "154477    5\n",
      "1331      5\n",
      "Length: 7446, dtype: int64\n"
     ]
    }
   ],
   "source": [
    "años=df['RegistrationYear'].value_counts(dropna=False).sort_index()\n",
    "display(años)\n",
    "#Existen valores fuera de lo normal en esta caracteristica (año 1,2290,1001)\n",
    "#Tenemos 83 vehiculos con años de matriculaciòn superior a 2024\n",
    "años_2024=df[df['RegistrationYear']>2024]\n",
    "print(f'tenemos un total de {años_2024.shape[0]} observaciones con un año superior al 2024')\n",
    "display(años_2024.head(10))\n",
    "\n",
    "#Una caracteristica de estos vehiculos es que al menos tienen 4 columnas con valores nulos\n",
    "#Contemos cuantos registros tienen al menos 4 columnas con valores nulos\n",
    "null_counts = df.isnull().sum(axis=1).sort_values()\n",
    "\n",
    "print(\"Registros que tienen al menos 3 columnas con valores nulos:\")\n",
    "print(null_counts[null_counts>=3])\n",
    "\n",
    "#Eliminemos esos registros\n",
    "df=df.drop(null_counts[null_counts>=3].index)"
   ]
  },
  {
   "cell_type": "code",
   "execution_count": 14,
   "metadata": {
    "scrolled": true
   },
   "outputs": [
    {
     "data": {
      "text/html": [
       "<div>\n",
       "<style scoped>\n",
       "    .dataframe tbody tr th:only-of-type {\n",
       "        vertical-align: middle;\n",
       "    }\n",
       "\n",
       "    .dataframe tbody tr th {\n",
       "        vertical-align: top;\n",
       "    }\n",
       "\n",
       "    .dataframe thead th {\n",
       "        text-align: right;\n",
       "    }\n",
       "</style>\n",
       "<table border=\"1\" class=\"dataframe\">\n",
       "  <thead>\n",
       "    <tr style=\"text-align: right;\">\n",
       "      <th></th>\n",
       "      <th>Price</th>\n",
       "      <th>VehicleType</th>\n",
       "      <th>RegistrationYear</th>\n",
       "      <th>Gearbox</th>\n",
       "      <th>Power</th>\n",
       "      <th>Model</th>\n",
       "      <th>Mileage</th>\n",
       "      <th>FuelType</th>\n",
       "      <th>Brand</th>\n",
       "      <th>NotRepaired</th>\n",
       "    </tr>\n",
       "  </thead>\n",
       "  <tbody>\n",
       "    <tr>\n",
       "      <th>46741</th>\n",
       "      <td>5000</td>\n",
       "      <td>NaN</td>\n",
       "      <td>2900</td>\n",
       "      <td>manual</td>\n",
       "      <td>120</td>\n",
       "      <td>corsa</td>\n",
       "      <td>5000</td>\n",
       "      <td>petrol</td>\n",
       "      <td>opel</td>\n",
       "      <td>NaN</td>\n",
       "    </tr>\n",
       "    <tr>\n",
       "      <th>46935</th>\n",
       "      <td>4900</td>\n",
       "      <td>NaN</td>\n",
       "      <td>6000</td>\n",
       "      <td>manual</td>\n",
       "      <td>52</td>\n",
       "      <td>NaN</td>\n",
       "      <td>10000</td>\n",
       "      <td>petrol</td>\n",
       "      <td>sonstige_autos</td>\n",
       "      <td>no</td>\n",
       "    </tr>\n",
       "    <tr>\n",
       "      <th>62629</th>\n",
       "      <td>12000</td>\n",
       "      <td>NaN</td>\n",
       "      <td>4000</td>\n",
       "      <td>manual</td>\n",
       "      <td>500</td>\n",
       "      <td>golf</td>\n",
       "      <td>5000</td>\n",
       "      <td>NaN</td>\n",
       "      <td>volkswagen</td>\n",
       "      <td>no</td>\n",
       "    </tr>\n",
       "    <tr>\n",
       "      <th>79383</th>\n",
       "      <td>1500</td>\n",
       "      <td>NaN</td>\n",
       "      <td>3700</td>\n",
       "      <td>manual</td>\n",
       "      <td>0</td>\n",
       "      <td>zafira</td>\n",
       "      <td>5000</td>\n",
       "      <td>cng</td>\n",
       "      <td>opel</td>\n",
       "      <td>NaN</td>\n",
       "    </tr>\n",
       "    <tr>\n",
       "      <th>79903</th>\n",
       "      <td>9000</td>\n",
       "      <td>NaN</td>\n",
       "      <td>5000</td>\n",
       "      <td>manual</td>\n",
       "      <td>420</td>\n",
       "      <td>impreza</td>\n",
       "      <td>5000</td>\n",
       "      <td>petrol</td>\n",
       "      <td>subaru</td>\n",
       "      <td>no</td>\n",
       "    </tr>\n",
       "    <tr>\n",
       "      <th>109285</th>\n",
       "      <td>1</td>\n",
       "      <td>NaN</td>\n",
       "      <td>6500</td>\n",
       "      <td>manual</td>\n",
       "      <td>120</td>\n",
       "      <td>other</td>\n",
       "      <td>10000</td>\n",
       "      <td>gasoline</td>\n",
       "      <td>peugeot</td>\n",
       "      <td>no</td>\n",
       "    </tr>\n",
       "    <tr>\n",
       "      <th>150717</th>\n",
       "      <td>200</td>\n",
       "      <td>NaN</td>\n",
       "      <td>5000</td>\n",
       "      <td>manual</td>\n",
       "      <td>0</td>\n",
       "      <td>corsa</td>\n",
       "      <td>5000</td>\n",
       "      <td>petrol</td>\n",
       "      <td>opel</td>\n",
       "      <td>yes</td>\n",
       "    </tr>\n",
       "  </tbody>\n",
       "</table>\n",
       "</div>"
      ],
      "text/plain": [
       "        Price VehicleType  RegistrationYear Gearbox  Power    Model  Mileage  \\\n",
       "46741    5000         NaN              2900  manual    120    corsa     5000   \n",
       "46935    4900         NaN              6000  manual     52      NaN    10000   \n",
       "62629   12000         NaN              4000  manual    500     golf     5000   \n",
       "79383    1500         NaN              3700  manual      0   zafira     5000   \n",
       "79903    9000         NaN              5000  manual    420  impreza     5000   \n",
       "109285      1         NaN              6500  manual    120    other    10000   \n",
       "150717    200         NaN              5000  manual      0    corsa     5000   \n",
       "\n",
       "        FuelType           Brand NotRepaired  \n",
       "46741     petrol            opel         NaN  \n",
       "46935     petrol  sonstige_autos          no  \n",
       "62629        NaN      volkswagen          no  \n",
       "79383        cng            opel         NaN  \n",
       "79903     petrol          subaru          no  \n",
       "109285  gasoline         peugeot          no  \n",
       "150717    petrol            opel         yes  "
      ]
     },
     "metadata": {},
     "output_type": "display_data"
    }
   ],
   "source": [
    "#Volvamos a revisar cuantos valores de la columna 'RegistrationYear' contienen valores por encima de 2024\n",
    "años_2024=df[df['RegistrationYear']>2024]\n",
    "display(años_2024)#Gran parte de estas observaciones tienen valores faltantes, por lo que las eliminaremos\n",
    "df=df[df['RegistrationYear']<2024]"
   ]
  },
  {
   "cell_type": "code",
   "execution_count": 15,
   "metadata": {},
   "outputs": [
    {
     "data": {
      "image/png": "[encoded data removed]",
      "text/plain": [
       "<Figure size 640x480 with 1 Axes>"
      ]
     },
     "metadata": {},
     "output_type": "display_data"
    }
   ],
   "source": [
    "#Veamos por medio de un diagrama de caja y bigotes como se distribuyen los años ahora\n",
    "plt.boxplot(df['RegistrationYear'],vert=False)\n",
    "plt.xlim([1850,2024])\n",
    "plt.show()"
   ]
  },
  {
   "cell_type": "code",
   "execution_count": 16,
   "metadata": {},
   "outputs": [],
   "source": [
    "#Eliminaremos los valores extremos antes del año 1900\n",
    "df=df[df['RegistrationYear']>1900]"
   ]
  },
  {
   "cell_type": "code",
   "execution_count": 17,
   "metadata": {},
   "outputs": [],
   "source": [
    "#Remplazemos los valores faltantes de 'NotRepaired' por desc (desconocido)\n",
    "df['NotRepaired']=df['NotRepaired'].fillna('desc')\n",
    "#actualizamos la lista\n",
    "null_values=['FuelType','Model','Gearbox','VehicleType']\n"
   ]
  },
  {
   "cell_type": "markdown",
   "metadata": {},
   "source": [
    "* Veamos que proporciòn del total de datos representan los valores nulos en cada una de estas columnas"
   ]
  },
  {
   "cell_type": "code",
   "execution_count": 18,
   "metadata": {},
   "outputs": [
    {
     "name": "stdout",
     "output_type": "stream",
     "text": [
      "FuelType       0.056595\n",
      "Model          0.036454\n",
      "Gearbox        0.024615\n",
      "VehicleType    0.065457\n",
      "dtype: float64\n"
     ]
    }
   ],
   "source": [
    "print(df[null_values].isnull().sum()/(df.shape[0]))"
   ]
  },
  {
   "cell_type": "markdown",
   "metadata": {},
   "source": [
    "* ¿Si elimináramos estos valores, qué porcentaje de los datos perderíamos?\n",
    "- Perderiamos el 16% de los datos"
   ]
  },
  {
   "cell_type": "code",
   "execution_count": 19,
   "metadata": {},
   "outputs": [
    {
     "name": "stdout",
     "output_type": "stream",
     "text": [
      "0.15494872437868734\n"
     ]
    }
   ],
   "source": [
    "print(1- (df.dropna().shape[0]/df.shape[0]))"
   ]
  },
  {
   "cell_type": "markdown",
   "metadata": {},
   "source": [
    "* Y si eliminaramos solo las observaciones con caraterisitcas 'Model y Gearbox'"
   ]
  },
  {
   "cell_type": "code",
   "execution_count": 20,
   "metadata": {},
   "outputs": [
    {
     "name": "stdout",
     "output_type": "stream",
     "text": [
      "0.06042208349281353\n"
     ]
    }
   ],
   "source": [
    "print(1- (df.dropna(subset=['Model','Gearbox']).shape[0]/df.shape[0]))"
   ]
  },
  {
   "cell_type": "code",
   "execution_count": 21,
   "metadata": {},
   "outputs": [
    {
     "data": {
      "text/html": [
       "<div>\n",
       "<style scoped>\n",
       "    .dataframe tbody tr th:only-of-type {\n",
       "        vertical-align: middle;\n",
       "    }\n",
       "\n",
       "    .dataframe tbody tr th {\n",
       "        vertical-align: top;\n",
       "    }\n",
       "\n",
       "    .dataframe thead th {\n",
       "        text-align: right;\n",
       "    }\n",
       "</style>\n",
       "<table border=\"1\" class=\"dataframe\">\n",
       "  <thead>\n",
       "    <tr style=\"text-align: right;\">\n",
       "      <th></th>\n",
       "      <th>Price</th>\n",
       "      <th>VehicleType</th>\n",
       "      <th>RegistrationYear</th>\n",
       "      <th>Gearbox</th>\n",
       "      <th>Power</th>\n",
       "      <th>Model</th>\n",
       "      <th>Mileage</th>\n",
       "      <th>FuelType</th>\n",
       "      <th>Brand</th>\n",
       "      <th>NotRepaired</th>\n",
       "    </tr>\n",
       "  </thead>\n",
       "  <tbody>\n",
       "    <tr>\n",
       "      <th>0</th>\n",
       "      <td>480</td>\n",
       "      <td>NaN</td>\n",
       "      <td>1993</td>\n",
       "      <td>manual</td>\n",
       "      <td>0</td>\n",
       "      <td>golf</td>\n",
       "      <td>150000</td>\n",
       "      <td>petrol</td>\n",
       "      <td>volkswagen</td>\n",
       "      <td>desc</td>\n",
       "    </tr>\n",
       "    <tr>\n",
       "      <th>1</th>\n",
       "      <td>18300</td>\n",
       "      <td>coupe</td>\n",
       "      <td>2011</td>\n",
       "      <td>manual</td>\n",
       "      <td>190</td>\n",
       "      <td>NaN</td>\n",
       "      <td>125000</td>\n",
       "      <td>gasoline</td>\n",
       "      <td>audi</td>\n",
       "      <td>yes</td>\n",
       "    </tr>\n",
       "    <tr>\n",
       "      <th>2</th>\n",
       "      <td>9800</td>\n",
       "      <td>suv</td>\n",
       "      <td>2004</td>\n",
       "      <td>auto</td>\n",
       "      <td>163</td>\n",
       "      <td>grand</td>\n",
       "      <td>125000</td>\n",
       "      <td>gasoline</td>\n",
       "      <td>jeep</td>\n",
       "      <td>desc</td>\n",
       "    </tr>\n",
       "    <tr>\n",
       "      <th>3</th>\n",
       "      <td>1500</td>\n",
       "      <td>small</td>\n",
       "      <td>2001</td>\n",
       "      <td>manual</td>\n",
       "      <td>75</td>\n",
       "      <td>golf</td>\n",
       "      <td>150000</td>\n",
       "      <td>petrol</td>\n",
       "      <td>volkswagen</td>\n",
       "      <td>no</td>\n",
       "    </tr>\n",
       "    <tr>\n",
       "      <th>4</th>\n",
       "      <td>3600</td>\n",
       "      <td>small</td>\n",
       "      <td>2008</td>\n",
       "      <td>manual</td>\n",
       "      <td>69</td>\n",
       "      <td>fabia</td>\n",
       "      <td>90000</td>\n",
       "      <td>gasoline</td>\n",
       "      <td>skoda</td>\n",
       "      <td>no</td>\n",
       "    </tr>\n",
       "  </tbody>\n",
       "</table>\n",
       "</div>"
      ],
      "text/plain": [
       "   Price VehicleType  RegistrationYear Gearbox  Power  Model  Mileage  \\\n",
       "0    480         NaN              1993  manual      0   golf   150000   \n",
       "1  18300       coupe              2011  manual    190    NaN   125000   \n",
       "2   9800         suv              2004    auto    163  grand   125000   \n",
       "3   1500       small              2001  manual     75   golf   150000   \n",
       "4   3600       small              2008  manual     69  fabia    90000   \n",
       "\n",
       "   FuelType       Brand NotRepaired  \n",
       "0    petrol  volkswagen        desc  \n",
       "1  gasoline        audi         yes  \n",
       "2  gasoline        jeep        desc  \n",
       "3    petrol  volkswagen          no  \n",
       "4  gasoline       skoda          no  "
      ]
     },
     "metadata": {},
     "output_type": "display_data"
    }
   ],
   "source": [
    "display(df.head())"
   ]
  },
  {
   "cell_type": "markdown",
   "metadata": {},
   "source": [
    "* Se perderían el 6% de los datos. Intentemos recuperar ese 16% de los datos usando el algoritmo KNN.\n",
    "    * Para esto crearé una función que reciba el dataframe completo, una lista de las columnas categóricas y la columna que se desea rellenar. Y devolverá el dataframe con la columna rellena."
   ]
  },
  {
   "cell_type": "code",
   "execution_count": 22,
   "metadata": {},
   "outputs": [
    {
     "name": "stdout",
     "output_type": "stream",
     "text": [
      "<class 'pandas.core.frame.DataFrame'>\n",
      "Int64Index: 151534 entries, 0 to 177183\n",
      "Data columns (total 10 columns):\n",
      " #   Column            Non-Null Count   Dtype \n",
      "---  ------            --------------   ----- \n",
      " 0   Price             151534 non-null  int64 \n",
      " 1   VehicleType       141615 non-null  object\n",
      " 2   RegistrationYear  151534 non-null  int64 \n",
      " 3   Gearbox           147804 non-null  object\n",
      " 4   Power             151534 non-null  int64 \n",
      " 5   Model             146010 non-null  object\n",
      " 6   Mileage           151534 non-null  int64 \n",
      " 7   FuelType          142958 non-null  object\n",
      " 8   Brand             151534 non-null  object\n",
      " 9   NotRepaired       151534 non-null  object\n",
      "dtypes: int64(4), object(6)\n",
      "memory usage: 12.7+ MB\n"
     ]
    }
   ],
   "source": [
    "#Revisemos los tipos de datos\n",
    "df.info()#El tipo de dato es correcto"
   ]
  },
  {
   "cell_type": "code",
   "execution_count": 23,
   "metadata": {},
   "outputs": [],
   "source": [
    "#Funciòn para codificar datos\n",
    "def MyEncodeDf(df, categorical_columns, encoding_method):\n",
    "    df_encoded = df.copy()  # Crea una copia del DataFrame para evitar modificar el original\n",
    "    \n",
    "    if encoding_method == 'ordinalEncoder':\n",
    "        encoder = OrdinalEncoder()\n",
    "        for col in categorical_columns:\n",
    "            if is_categorical_dtype(df_encoded[col]) or is_object_dtype(df_encoded[col]):\n",
    "                df_encoded[col] = encoder.fit_transform(df_encoded[[col]])\n",
    "    \n",
    "    elif encoding_method == 'labelEncoder':\n",
    "        encoder = LabelEncoder()\n",
    "        for col in categorical_columns:\n",
    "            if is_categorical_dtype(df_encoded[col]) or is_object_dtype(df_encoded[col]):\n",
    "                df_encoded[col] = encoder.fit_transform(df_encoded[col])\n",
    "    \n",
    "    elif encoding_method == 'one-hot-encoding':\n",
    "        df_encoded = pd.get_dummies(df_encoded, columns=categorical_columns)\n",
    "    \n",
    "    else:\n",
    "        raise ValueError(\"El método de codificación debe ser 'ordinalEncoder', 'labelEncoder', o 'one-hot-encoding'\")\n",
    "    \n",
    "    return df_encoded\n",
    "\n",
    "def MyScalerDF(df, columns):\n",
    "    df_scaled = df.copy()  # Creamos una copia del DataFrame para evitar modificar el original\n",
    "    scaler = StandardScaler()\n",
    "    \n",
    "    # Guardamos los índices originales para reasignarlos después de escalarlos\n",
    "    original_indices = df.index\n",
    "    \n",
    "    # Restablecemos el índice para alinear las columnas transformadas correctamente\n",
    "    df_scaled.reset_index(drop=True, inplace=True)\n",
    "    \n",
    "    # Escalamos las columnas numéricas.\n",
    "    df_scaled[columns] = scaler.fit_transform(df_scaled[columns])\n",
    "    \n",
    "    # Reasignamos los índices originales al DataFrame escalado\n",
    "    df_scaled.index = original_indices\n",
    "    \n",
    "    return df_scaled"
   ]
  },
  {
   "cell_type": "code",
   "execution_count": 24,
   "metadata": {},
   "outputs": [],
   "source": [
    "def MyKNNImputer(df_intern,categorical_columns,numerical_columns,target_column):\n",
    "    df=df_intern.copy()\n",
    "    #Almacenamos las columnas que no contienen valores nulos, excepto la columna objetivo a rellenar\n",
    "    non_null_columns = [col for col in df.columns if col == target_column or df[col].isnull().sum() == 0]\n",
    "    # Aplicar label encoding a las columnas categóricas\n",
    "    cate_columns=list(set(categorical_columns) & set(non_null_columns))#columnas categoricas\n",
    "    df=df[non_null_columns]\n",
    "     # Reemplazar NaN en la columna objetivo con un valor temporal\n",
    "    temp_nan_replacement = 'TEMP_NAN'\n",
    "    df[target_column] = df[target_column].fillna(temp_nan_replacement)\n",
    "    \n",
    "    # Label encoding para la columna categórica\n",
    "    label_encoders = {}\n",
    "    for col in cate_columns:\n",
    "        le = LabelEncoder()\n",
    "        df[col] = le.fit_transform(df[col].astype(str))\n",
    "        label_encoders[col] = le\n",
    "    \n",
    "    # Encontrar la posición del valor temporal y reemplazarlo con np.nan\n",
    "    nan_position = list(label_encoders[target_column].classes_).index(temp_nan_replacement)\n",
    "    df[target_column] = df[target_column].replace(nan_position, np.nan) # Reemplazar el valor codificado por nulo\n",
    "    \n",
    "    num_columns = list(set(numerical_columns) & set(non_null_columns))\n",
    "    \n",
    "    \n",
    "    # Escalar las columnas numéricas\n",
    "    indices_originales = df.index.tolist()\n",
    "    scaler = StandardScaler()\n",
    "    df_to_scale = df[num_columns].copy()\n",
    "    # Ajustar y transformar las columnas seleccionadas\n",
    "    df_scaled = scaler.fit_transform(df_to_scale)\n",
    "    # Crear un DataFrame con los datos escalados\n",
    "    df_scaled = pd.DataFrame(df_scaled, columns=num_columns, index=df_to_scale.index)\n",
    "    # Reemplazar las columnas originales con las escaladas en el DataFrame original\n",
    "    df[num_columns] = df_scaled\n",
    "    \n",
    "    print(f'columnas consideradas {df.columns.to_list()}')\n",
    "    print(f'Columnas numericas {num_columns}')\n",
    "    print(f'columnas categoricas {cate_columns}')\n",
    "    \n",
    "     # Dividir el DataFrame en partes más pequeñas\n",
    "    n_splits=10\n",
    "    array_split = np.array_split(df, n_splits)\n",
    "    chunks = [pd.DataFrame(parte) for parte in array_split]\n",
    "    \n",
    "    # Aplicar KNNImputer a cada parte y almacenar los resultados\n",
    "    imputer = KNNImputer(n_neighbors=4)\n",
    "    imputed_chunks = []\n",
    "    n=10\n",
    "    for chunk in chunks:\n",
    "        df_imputed_chunk = pd.DataFrame(imputer.fit_transform(chunk), columns=chunk.columns)\n",
    "        imputed_chunks.append(df_imputed_chunk)\n",
    "        print(f'{n} % del relleno completo')\n",
    "        n+=10\n",
    "                                        \n",
    "    # Unir los DataFrames imputados\n",
    "    df_imputed = pd.concat(imputed_chunks, ignore_index=True)\n",
    "    \n",
    "    # Redondear y asegurar que los valores estén dentro del rango válido\n",
    "    valid_labels = list(range(len(label_encoders[target_column].classes_)))\n",
    "    df_imputed[target_column] = df_imputed[target_column].round().astype(int)\n",
    "    df_imputed[target_column] = df_imputed[target_column].apply(lambda x: min(valid_labels, key=lambda y: abs(y - x)))\n",
    "    \n",
    "    # Revertir la codificación a las categorías originales\n",
    "    df_imputed[target_column] = label_encoders[target_column].inverse_transform(df_imputed[target_column])\n",
    "    \n",
    "    return df_imputed[target_column]\n",
    "    \n",
    "    "
   ]
  },
  {
   "cell_type": "code",
   "execution_count": 25,
   "metadata": {
    "scrolled": false
   },
   "outputs": [
    {
     "name": "stdout",
     "output_type": "stream",
     "text": [
      "columnas consideradas ['Price', 'RegistrationYear', 'Power', 'Mileage', 'FuelType', 'Brand', 'NotRepaired']\n",
      "Columnas numericas ['Power', 'RegistrationYear', 'Mileage', 'Price']\n",
      "columnas categoricas ['NotRepaired', 'Brand', 'FuelType']\n",
      "10 % del relleno completo\n",
      "20 % del relleno completo\n",
      "30 % del relleno completo\n",
      "40 % del relleno completo\n",
      "50 % del relleno completo\n",
      "60 % del relleno completo\n",
      "70 % del relleno completo\n",
      "80 % del relleno completo\n",
      "90 % del relleno completo\n",
      "100 % del relleno completo\n"
     ]
    }
   ],
   "source": [
    "#Reseteemos los indices \n",
    "df=df.reset_index(drop=True)#Este paso es importante, sino no coinciden los remplazos y algunas observaciones quedan con valores vacios\n",
    "#Definamos las columnas categoricas y numericas\n",
    "categorias=['VehicleType','Gearbox','Model','FuelType','Brand','NotRepaired']\n",
    "numericas=list(set(df.columns.to_list())-set(categorias))\n",
    "#Rellenamos la columna 'FuelType'\n",
    "df['FuelType']=MyKNNImputer(df,categorias,numericas,'FuelType')"
   ]
  },
  {
   "cell_type": "code",
   "execution_count": 26,
   "metadata": {},
   "outputs": [
    {
     "name": "stdout",
     "output_type": "stream",
     "text": [
      "columnas consideradas ['Price', 'RegistrationYear', 'Power', 'Model', 'Mileage', 'FuelType', 'Brand', 'NotRepaired']\n",
      "Columnas numericas ['Power', 'RegistrationYear', 'Mileage', 'Price']\n",
      "columnas categoricas ['NotRepaired', 'Brand', 'FuelType', 'Model']\n",
      "10 % del relleno completo\n",
      "20 % del relleno completo\n",
      "30 % del relleno completo\n",
      "40 % del relleno completo\n",
      "50 % del relleno completo\n",
      "60 % del relleno completo\n",
      "70 % del relleno completo\n",
      "80 % del relleno completo\n",
      "90 % del relleno completo\n",
      "100 % del relleno completo\n"
     ]
    }
   ],
   "source": [
    "#Rellenemos Model ahora\n",
    "df['Model']=MyKNNImputer(df,categorias,numericas,'Model')"
   ]
  },
  {
   "cell_type": "code",
   "execution_count": 27,
   "metadata": {},
   "outputs": [
    {
     "name": "stdout",
     "output_type": "stream",
     "text": [
      "columnas consideradas ['Price', 'RegistrationYear', 'Gearbox', 'Power', 'Model', 'Mileage', 'FuelType', 'Brand', 'NotRepaired']\n",
      "Columnas numericas ['Power', 'RegistrationYear', 'Mileage', 'Price']\n",
      "columnas categoricas ['FuelType', 'NotRepaired', 'Brand', 'Model', 'Gearbox']\n",
      "10 % del relleno completo\n",
      "20 % del relleno completo\n",
      "30 % del relleno completo\n",
      "40 % del relleno completo\n",
      "50 % del relleno completo\n",
      "60 % del relleno completo\n",
      "70 % del relleno completo\n",
      "80 % del relleno completo\n",
      "90 % del relleno completo\n",
      "100 % del relleno completo\n"
     ]
    }
   ],
   "source": [
    "#Rellenemos Gearbox ahora\n",
    "df['Gearbox']=MyKNNImputer(df,categorias,numericas,'Gearbox')"
   ]
  },
  {
   "cell_type": "code",
   "execution_count": 28,
   "metadata": {
    "scrolled": true
   },
   "outputs": [
    {
     "name": "stdout",
     "output_type": "stream",
     "text": [
      "columnas consideradas ['Price', 'VehicleType', 'RegistrationYear', 'Gearbox', 'Power', 'Model', 'Mileage', 'FuelType', 'Brand', 'NotRepaired']\n",
      "Columnas numericas ['Power', 'RegistrationYear', 'Mileage', 'Price']\n",
      "columnas categoricas ['VehicleType', 'FuelType', 'NotRepaired', 'Brand', 'Model', 'Gearbox']\n",
      "10 % del relleno completo\n",
      "20 % del relleno completo\n",
      "30 % del relleno completo\n",
      "40 % del relleno completo\n",
      "50 % del relleno completo\n",
      "60 % del relleno completo\n",
      "70 % del relleno completo\n",
      "80 % del relleno completo\n",
      "90 % del relleno completo\n",
      "100 % del relleno completo\n"
     ]
    }
   ],
   "source": [
    "#Rellenemos VehicleType ahora\n",
    "df['VehicleType']=MyKNNImputer(df,categorias,numericas,'VehicleType')"
   ]
  },
  {
   "cell_type": "code",
   "execution_count": 29,
   "metadata": {},
   "outputs": [
    {
     "name": "stdout",
     "output_type": "stream",
     "text": [
      "FuelType       0\n",
      "Model          0\n",
      "Gearbox        0\n",
      "VehicleType    0\n",
      "dtype: int64\n"
     ]
    }
   ],
   "source": [
    "print(df[null_values].isnull().sum())\n",
    "#Ya no tenemos valores nulos."
   ]
  },
  {
   "cell_type": "markdown",
   "metadata": {},
   "source": [
    "* El conjunto de datos esta listo"
   ]
  },
  {
   "cell_type": "code",
   "execution_count": 30,
   "metadata": {
    "scrolled": true
   },
   "outputs": [
    {
     "data": {
      "text/html": [
       "<div>\n",
       "<style scoped>\n",
       "    .dataframe tbody tr th:only-of-type {\n",
       "        vertical-align: middle;\n",
       "    }\n",
       "\n",
       "    .dataframe tbody tr th {\n",
       "        vertical-align: top;\n",
       "    }\n",
       "\n",
       "    .dataframe thead th {\n",
       "        text-align: right;\n",
       "    }\n",
       "</style>\n",
       "<table border=\"1\" class=\"dataframe\">\n",
       "  <thead>\n",
       "    <tr style=\"text-align: right;\">\n",
       "      <th></th>\n",
       "      <th>Price</th>\n",
       "      <th>VehicleType</th>\n",
       "      <th>RegistrationYear</th>\n",
       "      <th>Gearbox</th>\n",
       "      <th>Power</th>\n",
       "      <th>Model</th>\n",
       "      <th>Mileage</th>\n",
       "      <th>FuelType</th>\n",
       "      <th>Brand</th>\n",
       "      <th>NotRepaired</th>\n",
       "    </tr>\n",
       "  </thead>\n",
       "  <tbody>\n",
       "    <tr>\n",
       "      <th>0</th>\n",
       "      <td>480</td>\n",
       "      <td>sedan</td>\n",
       "      <td>1993</td>\n",
       "      <td>manual</td>\n",
       "      <td>0</td>\n",
       "      <td>golf</td>\n",
       "      <td>150000</td>\n",
       "      <td>petrol</td>\n",
       "      <td>volkswagen</td>\n",
       "      <td>desc</td>\n",
       "    </tr>\n",
       "    <tr>\n",
       "      <th>1</th>\n",
       "      <td>18300</td>\n",
       "      <td>coupe</td>\n",
       "      <td>2011</td>\n",
       "      <td>manual</td>\n",
       "      <td>190</td>\n",
       "      <td>a6</td>\n",
       "      <td>125000</td>\n",
       "      <td>gasoline</td>\n",
       "      <td>audi</td>\n",
       "      <td>yes</td>\n",
       "    </tr>\n",
       "    <tr>\n",
       "      <th>2</th>\n",
       "      <td>9800</td>\n",
       "      <td>suv</td>\n",
       "      <td>2004</td>\n",
       "      <td>auto</td>\n",
       "      <td>163</td>\n",
       "      <td>grand</td>\n",
       "      <td>125000</td>\n",
       "      <td>gasoline</td>\n",
       "      <td>jeep</td>\n",
       "      <td>desc</td>\n",
       "    </tr>\n",
       "    <tr>\n",
       "      <th>3</th>\n",
       "      <td>1500</td>\n",
       "      <td>small</td>\n",
       "      <td>2001</td>\n",
       "      <td>manual</td>\n",
       "      <td>75</td>\n",
       "      <td>golf</td>\n",
       "      <td>150000</td>\n",
       "      <td>petrol</td>\n",
       "      <td>volkswagen</td>\n",
       "      <td>no</td>\n",
       "    </tr>\n",
       "    <tr>\n",
       "      <th>4</th>\n",
       "      <td>3600</td>\n",
       "      <td>small</td>\n",
       "      <td>2008</td>\n",
       "      <td>manual</td>\n",
       "      <td>69</td>\n",
       "      <td>fabia</td>\n",
       "      <td>90000</td>\n",
       "      <td>gasoline</td>\n",
       "      <td>skoda</td>\n",
       "      <td>no</td>\n",
       "    </tr>\n",
       "    <tr>\n",
       "      <th>5</th>\n",
       "      <td>650</td>\n",
       "      <td>sedan</td>\n",
       "      <td>1995</td>\n",
       "      <td>manual</td>\n",
       "      <td>102</td>\n",
       "      <td>3er</td>\n",
       "      <td>150000</td>\n",
       "      <td>petrol</td>\n",
       "      <td>bmw</td>\n",
       "      <td>yes</td>\n",
       "    </tr>\n",
       "    <tr>\n",
       "      <th>6</th>\n",
       "      <td>2200</td>\n",
       "      <td>convertible</td>\n",
       "      <td>2004</td>\n",
       "      <td>manual</td>\n",
       "      <td>109</td>\n",
       "      <td>2_reihe</td>\n",
       "      <td>150000</td>\n",
       "      <td>petrol</td>\n",
       "      <td>peugeot</td>\n",
       "      <td>no</td>\n",
       "    </tr>\n",
       "    <tr>\n",
       "      <th>7</th>\n",
       "      <td>14500</td>\n",
       "      <td>bus</td>\n",
       "      <td>2014</td>\n",
       "      <td>manual</td>\n",
       "      <td>125</td>\n",
       "      <td>c_max</td>\n",
       "      <td>30000</td>\n",
       "      <td>petrol</td>\n",
       "      <td>ford</td>\n",
       "      <td>desc</td>\n",
       "    </tr>\n",
       "    <tr>\n",
       "      <th>8</th>\n",
       "      <td>999</td>\n",
       "      <td>small</td>\n",
       "      <td>1998</td>\n",
       "      <td>manual</td>\n",
       "      <td>101</td>\n",
       "      <td>golf</td>\n",
       "      <td>150000</td>\n",
       "      <td>petrol</td>\n",
       "      <td>volkswagen</td>\n",
       "      <td>desc</td>\n",
       "    </tr>\n",
       "    <tr>\n",
       "      <th>9</th>\n",
       "      <td>2000</td>\n",
       "      <td>sedan</td>\n",
       "      <td>2004</td>\n",
       "      <td>manual</td>\n",
       "      <td>105</td>\n",
       "      <td>3_reihe</td>\n",
       "      <td>150000</td>\n",
       "      <td>petrol</td>\n",
       "      <td>mazda</td>\n",
       "      <td>no</td>\n",
       "    </tr>\n",
       "    <tr>\n",
       "      <th>10</th>\n",
       "      <td>2799</td>\n",
       "      <td>wagon</td>\n",
       "      <td>2005</td>\n",
       "      <td>manual</td>\n",
       "      <td>140</td>\n",
       "      <td>passat</td>\n",
       "      <td>150000</td>\n",
       "      <td>gasoline</td>\n",
       "      <td>volkswagen</td>\n",
       "      <td>yes</td>\n",
       "    </tr>\n",
       "    <tr>\n",
       "      <th>11</th>\n",
       "      <td>999</td>\n",
       "      <td>wagon</td>\n",
       "      <td>1995</td>\n",
       "      <td>manual</td>\n",
       "      <td>115</td>\n",
       "      <td>passat</td>\n",
       "      <td>150000</td>\n",
       "      <td>petrol</td>\n",
       "      <td>volkswagen</td>\n",
       "      <td>desc</td>\n",
       "    </tr>\n",
       "    <tr>\n",
       "      <th>12</th>\n",
       "      <td>2500</td>\n",
       "      <td>wagon</td>\n",
       "      <td>2004</td>\n",
       "      <td>manual</td>\n",
       "      <td>131</td>\n",
       "      <td>passat</td>\n",
       "      <td>150000</td>\n",
       "      <td>hybrid</td>\n",
       "      <td>volkswagen</td>\n",
       "      <td>no</td>\n",
       "    </tr>\n",
       "    <tr>\n",
       "      <th>13</th>\n",
       "      <td>17999</td>\n",
       "      <td>suv</td>\n",
       "      <td>2011</td>\n",
       "      <td>manual</td>\n",
       "      <td>190</td>\n",
       "      <td>navara</td>\n",
       "      <td>70000</td>\n",
       "      <td>gasoline</td>\n",
       "      <td>nissan</td>\n",
       "      <td>no</td>\n",
       "    </tr>\n",
       "    <tr>\n",
       "      <th>14</th>\n",
       "      <td>450</td>\n",
       "      <td>small</td>\n",
       "      <td>1910</td>\n",
       "      <td>manual</td>\n",
       "      <td>0</td>\n",
       "      <td>ka</td>\n",
       "      <td>5000</td>\n",
       "      <td>petrol</td>\n",
       "      <td>ford</td>\n",
       "      <td>desc</td>\n",
       "    </tr>\n",
       "    <tr>\n",
       "      <th>15</th>\n",
       "      <td>1750</td>\n",
       "      <td>small</td>\n",
       "      <td>2004</td>\n",
       "      <td>auto</td>\n",
       "      <td>75</td>\n",
       "      <td>twingo</td>\n",
       "      <td>150000</td>\n",
       "      <td>petrol</td>\n",
       "      <td>renault</td>\n",
       "      <td>no</td>\n",
       "    </tr>\n",
       "    <tr>\n",
       "      <th>16</th>\n",
       "      <td>7550</td>\n",
       "      <td>bus</td>\n",
       "      <td>2007</td>\n",
       "      <td>manual</td>\n",
       "      <td>136</td>\n",
       "      <td>c_max</td>\n",
       "      <td>150000</td>\n",
       "      <td>gasoline</td>\n",
       "      <td>ford</td>\n",
       "      <td>no</td>\n",
       "    </tr>\n",
       "    <tr>\n",
       "      <th>17</th>\n",
       "      <td>1850</td>\n",
       "      <td>bus</td>\n",
       "      <td>2004</td>\n",
       "      <td>manual</td>\n",
       "      <td>102</td>\n",
       "      <td>a_klasse</td>\n",
       "      <td>150000</td>\n",
       "      <td>petrol</td>\n",
       "      <td>mercedes_benz</td>\n",
       "      <td>no</td>\n",
       "    </tr>\n",
       "    <tr>\n",
       "      <th>18</th>\n",
       "      <td>10400</td>\n",
       "      <td>coupe</td>\n",
       "      <td>2009</td>\n",
       "      <td>manual</td>\n",
       "      <td>160</td>\n",
       "      <td>scirocco</td>\n",
       "      <td>100000</td>\n",
       "      <td>petrol</td>\n",
       "      <td>volkswagen</td>\n",
       "      <td>no</td>\n",
       "    </tr>\n",
       "    <tr>\n",
       "      <th>19</th>\n",
       "      <td>3699</td>\n",
       "      <td>sedan</td>\n",
       "      <td>2002</td>\n",
       "      <td>auto</td>\n",
       "      <td>231</td>\n",
       "      <td>5er</td>\n",
       "      <td>150000</td>\n",
       "      <td>petrol</td>\n",
       "      <td>bmw</td>\n",
       "      <td>no</td>\n",
       "    </tr>\n",
       "  </tbody>\n",
       "</table>\n",
       "</div>"
      ],
      "text/plain": [
       "    Price  VehicleType  RegistrationYear Gearbox  Power     Model  Mileage  \\\n",
       "0     480        sedan              1993  manual      0      golf   150000   \n",
       "1   18300        coupe              2011  manual    190        a6   125000   \n",
       "2    9800          suv              2004    auto    163     grand   125000   \n",
       "3    1500        small              2001  manual     75      golf   150000   \n",
       "4    3600        small              2008  manual     69     fabia    90000   \n",
       "5     650        sedan              1995  manual    102       3er   150000   \n",
       "6    2200  convertible              2004  manual    109   2_reihe   150000   \n",
       "7   14500          bus              2014  manual    125     c_max    30000   \n",
       "8     999        small              1998  manual    101      golf   150000   \n",
       "9    2000        sedan              2004  manual    105   3_reihe   150000   \n",
       "10   2799        wagon              2005  manual    140    passat   150000   \n",
       "11    999        wagon              1995  manual    115    passat   150000   \n",
       "12   2500        wagon              2004  manual    131    passat   150000   \n",
       "13  17999          suv              2011  manual    190    navara    70000   \n",
       "14    450        small              1910  manual      0        ka     5000   \n",
       "15   1750        small              2004    auto     75    twingo   150000   \n",
       "16   7550          bus              2007  manual    136     c_max   150000   \n",
       "17   1850          bus              2004  manual    102  a_klasse   150000   \n",
       "18  10400        coupe              2009  manual    160  scirocco   100000   \n",
       "19   3699        sedan              2002    auto    231       5er   150000   \n",
       "\n",
       "    FuelType          Brand NotRepaired  \n",
       "0     petrol     volkswagen        desc  \n",
       "1   gasoline           audi         yes  \n",
       "2   gasoline           jeep        desc  \n",
       "3     petrol     volkswagen          no  \n",
       "4   gasoline          skoda          no  \n",
       "5     petrol            bmw         yes  \n",
       "6     petrol        peugeot          no  \n",
       "7     petrol           ford        desc  \n",
       "8     petrol     volkswagen        desc  \n",
       "9     petrol          mazda          no  \n",
       "10  gasoline     volkswagen         yes  \n",
       "11    petrol     volkswagen        desc  \n",
       "12    hybrid     volkswagen          no  \n",
       "13  gasoline         nissan          no  \n",
       "14    petrol           ford        desc  \n",
       "15    petrol        renault          no  \n",
       "16  gasoline           ford          no  \n",
       "17    petrol  mercedes_benz          no  \n",
       "18    petrol     volkswagen          no  \n",
       "19    petrol            bmw          no  "
      ]
     },
     "metadata": {},
     "output_type": "display_data"
    }
   ],
   "source": [
    "display(df.head(20))"
   ]
  },
  {
   "cell_type": "markdown",
   "metadata": {},
   "source": [
    "## Entrenamiento del modelo "
   ]
  },
  {
   "cell_type": "code",
   "execution_count": 31,
   "metadata": {},
   "outputs": [
    {
     "name": "stdout",
     "output_type": "stream",
     "text": [
      "CPU times: user 406 ms, sys: 35.4 ms, total: 441 ms\n",
      "Wall time: 451 ms\n"
     ]
    }
   ],
   "source": [
    "%%time\n",
    "#Generemos dos conjunto de datos, uno original como copia del original y otro con los datos transformados\n",
    "df_original=df.copy()\n",
    "df_encoded=MyEncodeDf(df_original,categorias,'labelEncoder')\n",
    "df_transformed=MyScalerDF(df_encoded,['RegistrationYear','Power','Mileage'])\n",
    "df_scaled=MyScalerDF(df_encoded,['RegistrationYear','Power','Mileage'])"
   ]
  },
  {
   "cell_type": "code",
   "execution_count": 32,
   "metadata": {},
   "outputs": [],
   "source": [
    "def my_train_test_split(df,target_colum, random_state=54321, test_size=0.25):\n",
    "        # Dividimos el dataset\n",
    "        df_train, df_valid = train_test_split(df, random_state=54321, test_size=0.25)\n",
    "        # Extraemos características y objetivos para capacitación y validación.\n",
    "        features_train = df_train.drop([target_colum],axis=1)\n",
    "        target_train = df_train[target_colum]\n",
    "        features_valid = df_valid.drop([target_colum],axis=1)\n",
    "        target_valid = df_valid[target_colum]\n",
    "        return features_train,target_train,features_valid,target_valid"
   ]
  },
  {
   "cell_type": "code",
   "execution_count": 33,
   "metadata": {
    "scrolled": true
   },
   "outputs": [],
   "source": [
    "def MyrandomForestRegressor_Tester(df,target_colum,\n",
    "                                   n_estimators_,\n",
    "                                   max_depth_,\n",
    "                                   min_samples_split_=2,\n",
    "                                   max_features_='sqrt'):\n",
    "    \n",
    "    # Extraemos características y objetivos para capacitación y validación.\n",
    "    features_train,target_train,features_valid,target_valid = my_train_test_split(df,target_colum, \n",
    "                                                                                  random_state=54321, \n",
    "                                                                                  test_size=0.25)\n",
    "    \n",
    "    # Creamos y entrenamos el modelo\n",
    "    model = RandomForestRegressor(random_state=54321, \n",
    "                                  n_estimators=n_estimators_, \n",
    "                                  max_depth=max_depth_,\n",
    "                                  min_samples_split=min_samples_split_,\n",
    "                                  max_features=max_features_)\n",
    "    model.fit(features_train, target_train)\n",
    "        \n",
    "    # Generamos las predicciones\n",
    "    predictions_valid = model.predict(features_valid)\n",
    "        \n",
    "    # Calculamos RMSE\n",
    "    rmse = mean_squared_error(target_valid, predictions_valid, squared=False)\n",
    "\n",
    "    # imprimimos los resultados\n",
    "    print(f\"RMSE: {rmse}\")\n",
    "    return model"
   ]
  },
  {
   "cell_type": "code",
   "execution_count": 34,
   "metadata": {},
   "outputs": [],
   "source": [
    "def MyCatBoostRegressor_Tester(df,target_colum,\n",
    "                               cat_features_,\n",
    "                               iterations_=500,\n",
    "                               depth_=10,\n",
    "                               learning_rate_=0.01,\n",
    "                               loss_function_='RMSE',\n",
    "                               verbose_=100):\n",
    "    \n",
    "    # Extraemos características y objetivos para capacitación y validación.\n",
    "    features_train,target_train,features_valid,target_valid = my_train_test_split(df,target_colum, \n",
    "                                                                                  random_state=54321, \n",
    "                                                                                  test_size=0.25)\n",
    "    \n",
    "    # Creamos y entrenamos el modelo\n",
    "    model = CatBoostRegressor(\n",
    "        iterations=iterations_,\n",
    "        depth=depth_,\n",
    "        learning_rate=learning_rate_,\n",
    "        loss_function=loss_function_,\n",
    "        cat_features=cat_features_, # Especificamos las caracteristicas categoricas aquì\n",
    "        random_seed=42)\n",
    "    model.fit(features_train, target_train, eval_set=(features_valid, target_valid), verbose=verbose_)\n",
    "    return model"
   ]
  },
  {
   "cell_type": "code",
   "execution_count": 35,
   "metadata": {},
   "outputs": [],
   "source": [
    "def MyLightGBMRegressor_Tester(df, target_column, cat_features_,\n",
    "                               iterations_=500, depth_=10,\n",
    "                               learning_rate_=0.01, loss_function_='rmse',period=100):\n",
    "    \n",
    "    # Extraemos características y objetivos para capacitación y validación.\n",
    "    features_train,target_train,features_valid,target_valid = my_train_test_split(df,target_column, \n",
    "                                                                                  random_state=54321, \n",
    "                                                                                  test_size=0.25)\n",
    "    \n",
    "    # Convertimos características categóricas a índices para LightGBM\n",
    "    for col in cat_features_:\n",
    "        features_train[col] = features_train[col].astype('category')\n",
    "        features_valid[col] = features_valid[col].astype('category')\n",
    "\n",
    "    \n",
    "    # Configuración de parámetros para LightGBM\n",
    "    # Creamos y entrenamos el modelo\n",
    "    model = lgb.LGBMRegressor(\n",
    "        n_estimators=iterations_,\n",
    "        max_depth=depth_,\n",
    "        learning_rate=learning_rate_,\n",
    "        objective=loss_function_,\n",
    "        categorical_feature=cat_features_,\n",
    "        random_state=42\n",
    "    )\n",
    "    # Definir el callback de registro\n",
    "    callbacks = [lgb.log_evaluation(period)]\n",
    "    \n",
    "    # Crear los datasets de LightGBM\n",
    "    model.fit(features_train, target_train, \n",
    "              eval_set=[(features_train, target_train),(features_valid, target_valid)], \n",
    "              callbacks=callbacks)\n",
    "    \n",
    "    \n",
    "    return model"
   ]
  },
  {
   "cell_type": "markdown",
   "metadata": {},
   "source": [
    "* Dado que tenemos columnas categóricas con muchas características ('Model'con mas de 200), el one-hot encoding podría ser muy ineficiente en términos de memoria y tiempo de computación. En lugar de eso, usaremos la codificación ordinal."
   ]
  },
  {
   "cell_type": "code",
   "execution_count": 36,
   "metadata": {},
   "outputs": [],
   "source": [
    "def MyXGBoostRegressor_Tester(df, target_column, cat_features_, \n",
    "                              learning_rate_=0.01,\n",
    "                              subsample_=1,\n",
    "                              verbose_=100,\n",
    "                              depth_=10,\n",
    "                              iterations_=500,colsample_bytree_=1):\n",
    "    \n",
    "    # Extraemos características y objetivos de los datos para capacitación y validación.\n",
    "    features_train, target_train, features_valid, target_valid = my_train_test_split(df, target_column, \n",
    "                                                                                     random_state=54321, \n",
    "                                                                                     test_size=0.25)\n",
    "    # Creamos y entrenamos el modelo\n",
    "    model = xgb.XGBRegressor(\n",
    "        tree_method='hist',# Se recomienda usar 'hist' o 'approx'\n",
    "        learning_rate=learning_rate_,\n",
    "        subsample=subsample_,\n",
    "        max_depth=depth_,\n",
    "        objective='reg:squarederror',\n",
    "        random_state=42,\n",
    "        n_estimators=iterations_,\n",
    "        colsample_bytree=colsample_bytree_)\n",
    "    \n",
    "    \n",
    "    # Convertimos las características categóricas a tipo 'category'\n",
    "    features_train = MyEncodeDf(features_train,cat_features_,'labelEncoder')\n",
    "    features_valid = MyEncodeDf(features_valid,cat_features_,'labelEncoder')\n",
    "    \n",
    "    \n",
    "    model.fit(features_train, target_train, \n",
    "              eval_set=[(features_train, target_train),(features_valid, target_valid)], \n",
    "              eval_metric='rmse',verbose=verbose_)\n",
    "\n",
    "    return model"
   ]
  },
  {
   "cell_type": "markdown",
   "metadata": {},
   "source": [
    "* NO USAREMOS LinearRegression PARA HACER PRUEBA DE CORDURA PORQUE EL ENETRENAMIENTO DEMASIADO"
   ]
  },
  {
   "cell_type": "markdown",
   "metadata": {},
   "source": [
    "## Análisis del modelo"
   ]
  },
  {
   "cell_type": "markdown",
   "metadata": {},
   "source": [
    "### RandomForestRegressor"
   ]
  },
  {
   "cell_type": "code",
   "execution_count": 37,
   "metadata": {},
   "outputs": [
    {
     "name": "stdout",
     "output_type": "stream",
     "text": [
      "RMSE: 1712.9531500635392\n",
      "CPU times: user 15.3 s, sys: 85.2 ms, total: 15.4 s\n",
      "Wall time: 15.6 s\n"
     ]
    }
   ],
   "source": [
    "%%time\n",
    "#Entrenemos un algoritmo de regresiòn basado en arboles de decisiòn (RandomForestRegressor).\n",
    "#Sin las características numéricas escaladas\n",
    "Model_1=MyrandomForestRegressor_Tester(df_transformed,'Price',100,20,min_samples_split_=3,max_features_='sqrt')\n",
    "#\"El modelo retorna el mismo rmse independientemente de si los datos se entregan escalados o no."
   ]
  },
  {
   "cell_type": "code",
   "execution_count": 38,
   "metadata": {},
   "outputs": [
    {
     "name": "stdout",
     "output_type": "stream",
     "text": [
      "RMSE: 1714.63723477043\n",
      "CPU times: user 16.1 s, sys: 158 ms, total: 16.3 s\n",
      "Wall time: 16.3 s\n"
     ]
    }
   ],
   "source": [
    "%%time\n",
    "#Con las caracteristicas numericas escaladas\n",
    "Model_2=MyrandomForestRegressor_Tester(df_encoded,'Price',100,20)\n",
    "#El modelo retorna el mismo rmse independientemente de si los datos se entregan escalados o no."
   ]
  },
  {
   "cell_type": "markdown",
   "metadata": {},
   "source": [
    "### CatBoostRegressor"
   ]
  },
  {
   "cell_type": "code",
   "execution_count": 39,
   "metadata": {
    "scrolled": true
   },
   "outputs": [
    {
     "name": "stdout",
     "output_type": "stream",
     "text": [
      "0:\tlearn: 4446.4290814\ttest: 4442.6794963\tbest: 4442.6794963 (0)\ttotal: 306ms\tremaining: 2m 32s\n",
      "100:\tlearn: 1913.6094074\ttest: 1923.7512734\tbest: 1923.7512734 (100)\ttotal: 21.3s\tremaining: 1m 24s\n",
      "200:\tlearn: 1801.3757398\ttest: 1824.3675733\tbest: 1824.3675733 (200)\ttotal: 40.9s\tremaining: 1m\n",
      "300:\tlearn: 1747.7438360\ttest: 1781.6704919\tbest: 1781.6704919 (300)\ttotal: 1m 1s\tremaining: 40.5s\n",
      "400:\tlearn: 1713.4839867\ttest: 1755.6394541\tbest: 1755.6394541 (400)\ttotal: 1m 21s\tremaining: 20.1s\n",
      "499:\tlearn: 1691.4541794\ttest: 1742.2838407\tbest: 1742.2838407 (499)\ttotal: 1m 41s\tremaining: 0us\n",
      "\n",
      "bestTest = 1742.283841\n",
      "bestIteration = 499\n",
      "\n"
     ]
    }
   ],
   "source": [
    "# Potenciaciòn del gradiente usando CatBoostRegressor\n",
    "#depth_=6\n",
    "Model_3=MyCatBoostRegressor_Tester(df_scaled,'Price',categorias,depth_=6,learning_rate_=0.05,iterations_=500,verbose_=100,)\n",
    "# El modelo retorna el mismo rmse independientemente de si los datos se entregan escalados o no."
   ]
  },
  {
   "cell_type": "code",
   "execution_count": 40,
   "metadata": {},
   "outputs": [
    {
     "name": "stdout",
     "output_type": "stream",
     "text": [
      "0:\tlearn: 4317.2459810\ttest: 4314.0227696\tbest: 4314.0227696 (0)\ttotal: 196ms\tremaining: 1m 37s\n",
      "100:\tlearn: 1853.5074013\ttest: 1871.0671034\tbest: 1871.0671034 (100)\ttotal: 16.9s\tremaining: 1m 6s\n",
      "200:\tlearn: 1763.6390489\ttest: 1794.3554160\tbest: 1794.3554160 (200)\ttotal: 33.3s\tremaining: 49.5s\n",
      "300:\tlearn: 1720.6561358\ttest: 1762.1666145\tbest: 1762.1666145 (300)\ttotal: 49.6s\tremaining: 32.8s\n",
      "400:\tlearn: 1691.1114143\ttest: 1743.6614759\tbest: 1743.6614759 (400)\ttotal: 1m 6s\tremaining: 16.3s\n",
      "499:\tlearn: 1669.0536611\ttest: 1731.1725424\tbest: 1731.1725424 (499)\ttotal: 1m 22s\tremaining: 0us\n",
      "\n",
      "bestTest = 1731.172542\n",
      "bestIteration = 499\n",
      "\n"
     ]
    }
   ],
   "source": [
    "# Potenciaciòn del gradiente usando CatBoostRegressor\n",
    "#depth_=5\n",
    "#learning_rate_=0.1\n",
    "Model_4=MyCatBoostRegressor_Tester(df_scaled,'Price',categorias,depth_=5,learning_rate_=0.1,iterations_=500,verbose_=100,)\n",
    "#El modelo retorna un rmse igual indiferentemente de si los datos los estrego escalados o no."
   ]
  },
  {
   "cell_type": "markdown",
   "metadata": {},
   "source": [
    "### LightGBMRegressor"
   ]
  },
  {
   "cell_type": "code",
   "execution_count": 42,
   "metadata": {
    "scrolled": true
   },
   "outputs": [
    {
     "name": "stdout",
     "output_type": "stream",
     "text": [
      "[100]\ttraining's rmse: 2821.08\tvalid_1's rmse: 2829.5\n",
      "[200]\ttraining's rmse: 2206.02\tvalid_1's rmse: 2222.14\n",
      "[300]\ttraining's rmse: 1970.98\tvalid_1's rmse: 1993.43\n",
      "[400]\ttraining's rmse: 1869.46\tvalid_1's rmse: 1897.22\n",
      "[500]\ttraining's rmse: 1816.27\tvalid_1's rmse: 1850.06\n",
      "[600]\ttraining's rmse: 1781.29\tvalid_1's rmse: 1821.34\n",
      "CPU times: user 12.8 s, sys: 72.5 ms, total: 12.9 s\n",
      "Wall time: 13 s\n"
     ]
    }
   ],
   "source": [
    "%%time\n",
    "# Potenciaciòn del gradiente usando LightGBM\n",
    "#depth_=4\n",
    "#learning_rate_=0.01\n",
    "Model_4 = MyLightGBMRegressor_Tester(df_scaled, 'Price', categorias, depth_=4, learning_rate_=0.01, iterations_=600)\n",
    "#El modelo retorna un rmse igual indiferentemente de si los datos los estrego escalados o no."
   ]
  },
  {
   "cell_type": "code",
   "execution_count": 43,
   "metadata": {},
   "outputs": [
    {
     "name": "stdout",
     "output_type": "stream",
     "text": [
      "[100]\ttraining's rmse: 1600.52\tvalid_1's rmse: 1704.79\n",
      "[200]\ttraining's rmse: 1525.18\tvalid_1's rmse: 1676.56\n",
      "[300]\ttraining's rmse: 1481.15\tvalid_1's rmse: 1665.02\n",
      "[400]\ttraining's rmse: 1446.03\tvalid_1's rmse: 1657.46\n",
      "[500]\ttraining's rmse: 1420.05\tvalid_1's rmse: 1653.25\n",
      "[600]\ttraining's rmse: 1394.5\tvalid_1's rmse: 1650.3\n",
      "CPU times: user 10.7 s, sys: 77.4 ms, total: 10.8 s\n",
      "Wall time: 10.9 s\n"
     ]
    }
   ],
   "source": [
    "%%time\n",
    "# Potenciaciòn del gradiente usando LightGBM\n",
    "#depth_=10\n",
    "#learning_rate_=0.1\n",
    "Model_4 = MyLightGBMRegressor_Tester(df_scaled, 'Price', categorias, depth_=10, learning_rate_=0.1, iterations_=600)\n",
    "#El modelo retorna un rmse igual indiferentemente de si los datos los estrego escalados o no."
   ]
  },
  {
   "cell_type": "markdown",
   "metadata": {},
   "source": [
    "### XGBoostRegressor"
   ]
  },
  {
   "cell_type": "code",
   "execution_count": 44,
   "metadata": {},
   "outputs": [
    {
     "name": "stdout",
     "output_type": "stream",
     "text": [
      "[0]\tvalidation_0-rmse:6540.74316\tvalidation_1-rmse:6515.29736\n",
      "[100]\tvalidation_0-rmse:3409.66064\tvalidation_1-rmse:3415.06567\n",
      "[200]\tvalidation_0-rmse:2268.25659\tvalidation_1-rmse:2306.09106\n",
      "[300]\tvalidation_0-rmse:1894.02930\tvalidation_1-rmse:1959.99927\n",
      "[400]\tvalidation_0-rmse:1748.74353\tvalidation_1-rmse:1835.45789\n",
      "[500]\tvalidation_0-rmse:1676.78564\tvalidation_1-rmse:1781.32654\n",
      "[599]\tvalidation_0-rmse:1629.82861\tvalidation_1-rmse:1748.61694\n",
      "CPU times: user 36.9 s, sys: 342 ms, total: 37.3 s\n",
      "Wall time: 37.6 s\n"
     ]
    }
   ],
   "source": [
    "%%time\n",
    "# Potenciaciòn del gradiente usando XGBoost\n",
    "#learning_rate_=0.01\n",
    "#depth_=8\n",
    "#subsample_=1\n",
    "#colsample_bytree_=0.5\n",
    "Model_5=MyXGBoostRegressor_Tester(df_encoded, 'Price', categorias, \n",
    "                                  learning_rate_=0.01,subsample_=1,\n",
    "                                  depth_=8,iterations_=600,colsample_bytree_=0.5)"
   ]
  },
  {
   "cell_type": "code",
   "execution_count": 45,
   "metadata": {
    "scrolled": true
   },
   "outputs": [
    {
     "name": "stdout",
     "output_type": "stream",
     "text": [
      "[0]\tvalidation_0-rmse:6060.47900\tvalidation_1-rmse:6037.18164\n",
      "[100]\tvalidation_0-rmse:1679.45166\tvalidation_1-rmse:1768.42517\n",
      "[200]\tvalidation_0-rmse:1587.04517\tvalidation_1-rmse:1728.50171\n",
      "[300]\tvalidation_0-rmse:1527.58130\tvalidation_1-rmse:1709.02368\n",
      "[400]\tvalidation_0-rmse:1483.79358\tvalidation_1-rmse:1696.67761\n",
      "[500]\tvalidation_0-rmse:1449.26721\tvalidation_1-rmse:1690.52673\n",
      "[599]\tvalidation_0-rmse:1420.79504\tvalidation_1-rmse:1684.19592\n",
      "CPU times: user 23.7 s, sys: 141 ms, total: 23.8 s\n",
      "Wall time: 24.2 s\n"
     ]
    }
   ],
   "source": [
    "%%time\n",
    "# Potenciaciòn del gradiente usando XGBoost\n",
    "#learning_rate_=0.1\n",
    "#depth_=6\n",
    "#subsample_=0.8\n",
    "Model_5=MyXGBoostRegressor_Tester(df_encoded, 'Price', categorias, \n",
    "                                  learning_rate_=0.1,subsample_=0.7,\n",
    "                                  depth_=6,iterations_=600,colsample_bytree_=0.7)"
   ]
  },
  {
   "cell_type": "markdown",
   "metadata": {},
   "source": [
    "## CONCLUSIÒN\n",
    "\n",
    "El proyecto logró desarrollar un modelo predictivo efectivo para estimar el valor de mercado de autos usados en la plataforma Rusty Bargain. De los modelos evaluados, el **LightGBMRegressor** demostró ser la opción más equilibrada, ofreciendo una combinación óptima de velocidad y precisión con un RMSE de 1650. Además, **XGBoostRegressor** y **CatBoostRegressor** también mostraron un rendimiento competitivo, aunque a un costo mayor en términos de tiempo de entrenamiento.\n",
    "\n",
    "En cuanto a la velocidad de predicción, **LightGBMRegressor** fue significativamente más rápido, consolidándose como la mejor opción para un entorno de producción donde la rapidez es esencial. La implementación de técnicas de preprocesamiento de datos, como la codificación ordinal y el escalado, fue clave para mejorar el rendimiento de los modelos.\n",
    "\n",
    "Este proyecto no solo proporciona una solución práctica para la valoración de autos usados, sino que también establece una base sólida para futuras mejoras, como la incorporación de factores regionales y estacionales que podrían influir en los precios del mercado.\n"
   ]
  }
 ],
 "metadata": {
  "ExecuteTimeLog": [
   {
    "duration": 536,
    "start_time": "2024-06-14T19:05:19.420Z"
   },
   {
    "duration": 802,
    "start_time": "2024-06-14T19:05:20.982Z"
   },
   {
    "duration": 24,
    "start_time": "2024-06-14T19:07:04.224Z"
   },
   {
    "duration": 155,
    "start_time": "2024-06-14T19:07:50.672Z"
   },
   {
    "duration": 297,
    "start_time": "2024-06-14T19:09:04.505Z"
   },
   {
    "duration": 162,
    "start_time": "2024-06-14T19:09:10.089Z"
   },
   {
    "duration": 182,
    "start_time": "2024-06-14T19:09:45.570Z"
   },
   {
    "duration": 179,
    "start_time": "2024-06-14T19:12:21.010Z"
   },
   {
    "duration": 356,
    "start_time": "2024-06-14T19:13:13.400Z"
   },
   {
    "duration": 196,
    "start_time": "2024-06-14T19:13:48.388Z"
   },
   {
    "duration": 180,
    "start_time": "2024-06-14T19:14:14.924Z"
   },
   {
    "duration": 181,
    "start_time": "2024-06-14T19:14:24.827Z"
   },
   {
    "duration": 40,
    "start_time": "2024-06-14T19:14:37.844Z"
   },
   {
    "duration": 8,
    "start_time": "2024-06-14T19:14:43.014Z"
   },
   {
    "duration": 182,
    "start_time": "2024-06-14T19:14:49.388Z"
   },
   {
    "duration": 279,
    "start_time": "2024-06-14T19:35:03.289Z"
   },
   {
    "duration": 247,
    "start_time": "2024-06-14T19:35:27.835Z"
   },
   {
    "duration": 237,
    "start_time": "2024-06-14T19:35:55.499Z"
   },
   {
    "duration": 252,
    "start_time": "2024-06-14T19:36:07.684Z"
   },
   {
    "duration": 239,
    "start_time": "2024-06-14T19:36:20.308Z"
   },
   {
    "duration": 246,
    "start_time": "2024-06-14T19:38:47.374Z"
   },
   {
    "duration": 92,
    "start_time": "2024-06-14T19:40:11.904Z"
   },
   {
    "duration": 240,
    "start_time": "2024-06-14T19:40:32.807Z"
   },
   {
    "duration": 454,
    "start_time": "2024-06-17T17:31:44.353Z"
   },
   {
    "duration": 808,
    "start_time": "2024-06-17T17:31:46.196Z"
   },
   {
    "duration": 249,
    "start_time": "2024-06-17T17:31:47.007Z"
   },
   {
    "duration": 281,
    "start_time": "2024-06-17T17:35:23.070Z"
   },
   {
    "duration": 181,
    "start_time": "2024-06-17T17:35:57.149Z"
   },
   {
    "duration": 188,
    "start_time": "2024-06-17T17:36:34.671Z"
   },
   {
    "duration": 28,
    "start_time": "2024-06-17T17:44:31.108Z"
   },
   {
    "duration": 32,
    "start_time": "2024-06-17T17:47:50.314Z"
   },
   {
    "duration": 409,
    "start_time": "2024-06-18T14:02:28.981Z"
   },
   {
    "duration": 824,
    "start_time": "2024-06-18T14:02:29.815Z"
   },
   {
    "duration": 233,
    "start_time": "2024-06-18T14:02:30.794Z"
   },
   {
    "duration": 94,
    "start_time": "2024-06-18T14:02:32.812Z"
   },
   {
    "duration": 194,
    "start_time": "2024-06-18T14:02:34.596Z"
   },
   {
    "duration": 36,
    "start_time": "2024-06-18T14:04:02.830Z"
   },
   {
    "duration": 94,
    "start_time": "2024-06-18T14:04:23.173Z"
   },
   {
    "duration": 13,
    "start_time": "2024-06-18T14:04:31.103Z"
   },
   {
    "duration": 11,
    "start_time": "2024-06-18T14:05:22.999Z"
   },
   {
    "duration": 1674,
    "start_time": "2024-06-18T14:06:20.237Z"
   },
   {
    "duration": 69,
    "start_time": "2024-06-18T14:06:50.904Z"
   },
   {
    "duration": 51,
    "start_time": "2024-06-18T14:07:03.895Z"
   },
   {
    "duration": 160,
    "start_time": "2024-06-18T14:07:14.855Z"
   },
   {
    "duration": 720,
    "start_time": "2024-06-18T14:07:30.839Z"
   },
   {
    "duration": 236,
    "start_time": "2024-06-18T14:07:32.567Z"
   },
   {
    "duration": 91,
    "start_time": "2024-06-18T14:07:32.902Z"
   },
   {
    "duration": 189,
    "start_time": "2024-06-18T14:07:33.246Z"
   },
   {
    "duration": 60,
    "start_time": "2024-06-18T14:07:36.279Z"
   },
   {
    "duration": 738,
    "start_time": "2024-06-18T14:08:09.615Z"
   },
   {
    "duration": 57,
    "start_time": "2024-06-18T14:08:12.467Z"
   },
   {
    "duration": 18,
    "start_time": "2024-06-18T14:11:02.922Z"
   },
   {
    "duration": 33,
    "start_time": "2024-06-18T14:11:36.485Z"
   },
   {
    "duration": 58,
    "start_time": "2024-06-18T14:11:43.868Z"
   },
   {
    "duration": 30,
    "start_time": "2024-06-18T14:12:31.707Z"
   },
   {
    "duration": 54,
    "start_time": "2024-06-18T14:12:46.755Z"
   },
   {
    "duration": 54,
    "start_time": "2024-06-18T14:13:19.268Z"
   },
   {
    "duration": 59,
    "start_time": "2024-06-18T14:13:29.547Z"
   },
   {
    "duration": 56,
    "start_time": "2024-06-18T14:14:23.604Z"
   },
   {
    "duration": 96,
    "start_time": "2024-06-18T14:15:28.004Z"
   },
   {
    "duration": 24,
    "start_time": "2024-06-18T14:26:14.108Z"
   },
   {
    "duration": 602,
    "start_time": "2024-06-18T14:32:12.506Z"
   },
   {
    "duration": 19,
    "start_time": "2024-06-18T14:45:12.737Z"
   },
   {
    "duration": 135,
    "start_time": "2024-06-18T14:48:58.469Z"
   },
   {
    "duration": 1360,
    "start_time": "2024-06-18T14:50:05.292Z"
   },
   {
    "duration": 2757,
    "start_time": "2024-06-18T14:50:54.743Z"
   },
   {
    "duration": 2939,
    "start_time": "2024-06-18T14:54:58.568Z"
   },
   {
    "duration": 449,
    "start_time": "2024-06-18T14:56:51.329Z"
   },
   {
    "duration": 328,
    "start_time": "2024-06-18T14:57:17.241Z"
   },
   {
    "duration": 341,
    "start_time": "2024-06-18T14:57:39.425Z"
   },
   {
    "duration": 65,
    "start_time": "2024-06-18T14:58:39.876Z"
   },
   {
    "duration": 402,
    "start_time": "2024-06-18T14:59:59.150Z"
   },
   {
    "duration": 628,
    "start_time": "2024-06-18T15:00:14.156Z"
   },
   {
    "duration": 632,
    "start_time": "2024-06-18T15:00:22.492Z"
   },
   {
    "duration": 333,
    "start_time": "2024-06-18T15:00:45.319Z"
   },
   {
    "duration": 404,
    "start_time": "2024-06-18T15:01:17.820Z"
   },
   {
    "duration": 512,
    "start_time": "2024-06-18T15:04:30.721Z"
   },
   {
    "duration": 399,
    "start_time": "2024-06-18T15:04:51.687Z"
   },
   {
    "duration": 246,
    "start_time": "2024-06-18T15:07:59.362Z"
   },
   {
    "duration": 517,
    "start_time": "2024-06-18T15:08:25.624Z"
   },
   {
    "duration": 539,
    "start_time": "2024-06-18T15:08:32.442Z"
   },
   {
    "duration": 572,
    "start_time": "2024-06-18T15:24:44.614Z"
   },
   {
    "duration": 722,
    "start_time": "2024-06-18T15:24:48.428Z"
   },
   {
    "duration": 3476,
    "start_time": "2024-06-18T15:24:50.204Z"
   },
   {
    "duration": 986,
    "start_time": "2024-06-18T15:25:55.825Z"
   },
   {
    "duration": 270,
    "start_time": "2024-06-18T15:28:22.143Z"
   },
   {
    "duration": 707,
    "start_time": "2024-06-18T15:28:47.444Z"
   },
   {
    "duration": 4590,
    "start_time": "2024-06-18T15:28:48.808Z"
   },
   {
    "duration": 733,
    "start_time": "2024-06-18T15:29:45.447Z"
   },
   {
    "duration": 3257,
    "start_time": "2024-06-18T15:29:46.471Z"
   },
   {
    "duration": 1524,
    "start_time": "2024-06-18T15:29:52.919Z"
   },
   {
    "duration": 1032,
    "start_time": "2024-06-18T15:31:13.653Z"
   },
   {
    "duration": 1089,
    "start_time": "2024-06-18T15:31:28.313Z"
   },
   {
    "duration": 733,
    "start_time": "2024-06-18T15:31:34.912Z"
   },
   {
    "duration": 3224,
    "start_time": "2024-06-18T15:31:36.368Z"
   },
   {
    "duration": 1198,
    "start_time": "2024-06-18T15:31:39.595Z"
   },
   {
    "duration": 747,
    "start_time": "2024-06-18T15:32:12.840Z"
   },
   {
    "duration": 152,
    "start_time": "2024-06-18T15:32:13.672Z"
   },
   {
    "duration": 3292,
    "start_time": "2024-06-18T15:32:16.594Z"
   },
   {
    "duration": 1153,
    "start_time": "2024-06-18T15:32:19.890Z"
   },
   {
    "duration": 92,
    "start_time": "2024-06-18T15:32:30.993Z"
   },
   {
    "duration": 125,
    "start_time": "2024-06-18T15:32:53.097Z"
   },
   {
    "duration": 235,
    "start_time": "2024-06-18T15:33:01.548Z"
   },
   {
    "duration": 23,
    "start_time": "2024-06-18T15:34:11.245Z"
   },
   {
    "duration": 13,
    "start_time": "2024-06-18T15:34:16.670Z"
   },
   {
    "duration": 46,
    "start_time": "2024-06-18T15:34:59.362Z"
   },
   {
    "duration": 22,
    "start_time": "2024-06-18T15:35:28.916Z"
   },
   {
    "duration": 706,
    "start_time": "2024-06-18T15:41:31.617Z"
   },
   {
    "duration": 154,
    "start_time": "2024-06-18T15:41:33.239Z"
   },
   {
    "duration": 41,
    "start_time": "2024-06-18T15:41:38.104Z"
   },
   {
    "duration": 786,
    "start_time": "2024-06-18T15:41:40.131Z"
   },
   {
    "duration": 86,
    "start_time": "2024-06-18T15:43:03.296Z"
   },
   {
    "duration": 87,
    "start_time": "2024-06-18T15:43:08.096Z"
   },
   {
    "duration": 113,
    "start_time": "2024-06-18T15:43:11.385Z"
   },
   {
    "duration": 20,
    "start_time": "2024-06-18T15:43:33.794Z"
   },
   {
    "duration": 30,
    "start_time": "2024-06-18T15:45:00.153Z"
   },
   {
    "duration": 33,
    "start_time": "2024-06-18T15:48:06.860Z"
   },
   {
    "duration": 26,
    "start_time": "2024-06-18T15:48:15.610Z"
   },
   {
    "duration": 15,
    "start_time": "2024-06-18T16:11:17.331Z"
   },
   {
    "duration": 13,
    "start_time": "2024-06-18T16:11:26.724Z"
   },
   {
    "duration": 12,
    "start_time": "2024-06-18T16:11:59.205Z"
   },
   {
    "duration": 14,
    "start_time": "2024-06-18T16:12:04.920Z"
   },
   {
    "duration": 35,
    "start_time": "2024-06-18T16:28:29.465Z"
   },
   {
    "duration": 679,
    "start_time": "2024-06-18T16:29:10.569Z"
   },
   {
    "duration": 148,
    "start_time": "2024-06-18T16:29:12.289Z"
   },
   {
    "duration": 35,
    "start_time": "2024-06-18T16:29:13.303Z"
   },
   {
    "duration": 34,
    "start_time": "2024-06-18T16:29:14.715Z"
   },
   {
    "duration": 13,
    "start_time": "2024-06-18T16:29:16.427Z"
   },
   {
    "duration": 36,
    "start_time": "2024-06-18T16:29:24.104Z"
   },
   {
    "duration": 602,
    "start_time": "2024-06-18T16:29:34.193Z"
   },
   {
    "duration": 87,
    "start_time": "2024-06-18T16:29:37.160Z"
   },
   {
    "duration": 24,
    "start_time": "2024-06-18T16:29:43.419Z"
   },
   {
    "duration": 89,
    "start_time": "2024-06-18T16:40:58.682Z"
   },
   {
    "duration": 71,
    "start_time": "2024-06-18T16:41:06.858Z"
   },
   {
    "duration": 20,
    "start_time": "2024-06-18T16:41:30.090Z"
   },
   {
    "duration": 566,
    "start_time": "2024-06-18T16:42:35.898Z"
   },
   {
    "duration": 691,
    "start_time": "2024-06-18T16:42:42.673Z"
   },
   {
    "duration": 156,
    "start_time": "2024-06-18T16:42:46.123Z"
   },
   {
    "duration": 44,
    "start_time": "2024-06-18T16:42:48.611Z"
   },
   {
    "duration": 35,
    "start_time": "2024-06-18T16:42:49.083Z"
   },
   {
    "duration": 35,
    "start_time": "2024-06-18T16:42:54.203Z"
   },
   {
    "duration": 596,
    "start_time": "2024-06-18T16:42:57.950Z"
   },
   {
    "duration": 96,
    "start_time": "2024-06-18T16:43:07.740Z"
   },
   {
    "duration": 84,
    "start_time": "2024-06-18T16:43:34.570Z"
   },
   {
    "duration": 107,
    "start_time": "2024-06-18T16:43:37.934Z"
   },
   {
    "duration": 20,
    "start_time": "2024-06-18T16:52:17.153Z"
   },
   {
    "duration": 23,
    "start_time": "2024-06-18T16:52:36.514Z"
   },
   {
    "duration": 20,
    "start_time": "2024-06-18T16:52:39.562Z"
   },
   {
    "duration": 70,
    "start_time": "2024-06-18T16:53:14.891Z"
   },
   {
    "duration": 107,
    "start_time": "2024-06-18T16:53:16.890Z"
   },
   {
    "duration": 29,
    "start_time": "2024-06-18T16:54:23.779Z"
   },
   {
    "duration": 16,
    "start_time": "2024-06-18T16:55:34.109Z"
   },
   {
    "duration": 19,
    "start_time": "2024-06-18T17:00:00.230Z"
   },
   {
    "duration": 29,
    "start_time": "2024-06-18T17:02:05.873Z"
   },
   {
    "duration": 31,
    "start_time": "2024-06-18T17:07:24.012Z"
   },
   {
    "duration": 82,
    "start_time": "2024-06-18T17:07:33.559Z"
   },
   {
    "duration": 682,
    "start_time": "2024-06-18T17:07:37.436Z"
   },
   {
    "duration": 170,
    "start_time": "2024-06-18T17:07:38.124Z"
   },
   {
    "duration": 41,
    "start_time": "2024-06-18T17:07:38.505Z"
   },
   {
    "duration": 34,
    "start_time": "2024-06-18T17:07:39.133Z"
   },
   {
    "duration": 35,
    "start_time": "2024-06-18T17:07:39.614Z"
   },
   {
    "duration": 605,
    "start_time": "2024-06-18T17:07:40.543Z"
   },
   {
    "duration": 30,
    "start_time": "2024-06-18T17:07:41.269Z"
   },
   {
    "duration": 83,
    "start_time": "2024-06-18T17:07:44.567Z"
   },
   {
    "duration": 23,
    "start_time": "2024-06-18T17:07:52.436Z"
   },
   {
    "duration": 69,
    "start_time": "2024-06-18T17:07:54.104Z"
   },
   {
    "duration": 104,
    "start_time": "2024-06-18T17:07:57.554Z"
   },
   {
    "duration": 9,
    "start_time": "2024-06-18T17:08:07.780Z"
   },
   {
    "duration": 11,
    "start_time": "2024-06-18T17:08:16.197Z"
   },
   {
    "duration": 23,
    "start_time": "2024-06-18T17:08:32.155Z"
   },
   {
    "duration": 23,
    "start_time": "2024-06-18T23:09:20.708Z"
   },
   {
    "duration": 44,
    "start_time": "2024-06-18T23:10:50.647Z"
   },
   {
    "duration": 64,
    "start_time": "2024-06-18T23:11:32.094Z"
   },
   {
    "duration": 477,
    "start_time": "2024-06-18T23:38:02.813Z"
   },
   {
    "duration": 813,
    "start_time": "2024-06-18T23:38:03.542Z"
   },
   {
    "duration": 152,
    "start_time": "2024-06-18T23:38:04.359Z"
   },
   {
    "duration": 50,
    "start_time": "2024-06-18T23:38:05.078Z"
   },
   {
    "duration": 59,
    "start_time": "2024-06-18T23:38:05.718Z"
   },
   {
    "duration": 48,
    "start_time": "2024-06-18T23:38:07.870Z"
   },
   {
    "duration": 5622,
    "start_time": "2024-06-18T23:41:33.824Z"
   },
   {
    "duration": 584,
    "start_time": "2024-06-18T23:42:46.508Z"
   },
   {
    "duration": 32,
    "start_time": "2024-06-18T23:42:50.425Z"
   },
   {
    "duration": 608,
    "start_time": "2024-06-18T23:47:33.052Z"
   },
   {
    "duration": 15,
    "start_time": "2024-06-18T23:47:54.636Z"
   },
   {
    "duration": 38,
    "start_time": "2024-06-18T23:50:06.767Z"
   },
   {
    "duration": 602,
    "start_time": "2024-06-18T23:53:28.982Z"
   },
   {
    "duration": 38,
    "start_time": "2024-06-18T23:53:37.743Z"
   },
   {
    "duration": 83,
    "start_time": "2024-06-18T23:53:38.663Z"
   },
   {
    "duration": 22,
    "start_time": "2024-06-18T23:53:42.206Z"
   },
   {
    "duration": 64,
    "start_time": "2024-06-18T23:53:43.942Z"
   },
   {
    "duration": 101,
    "start_time": "2024-06-18T23:53:47.263Z"
   },
   {
    "duration": 93,
    "start_time": "2024-06-18T23:57:15.533Z"
   },
   {
    "duration": 43,
    "start_time": "2024-06-19T00:00:56.696Z"
   },
   {
    "duration": 135,
    "start_time": "2024-06-19T00:01:06.396Z"
   },
   {
    "duration": 36,
    "start_time": "2024-06-19T00:07:14.747Z"
   },
   {
    "duration": 182,
    "start_time": "2024-06-19T00:08:08.564Z"
   },
   {
    "duration": 35,
    "start_time": "2024-06-19T00:09:36.221Z"
   },
   {
    "duration": 11,
    "start_time": "2024-06-19T00:10:13.699Z"
   },
   {
    "duration": 37,
    "start_time": "2024-06-19T00:10:22.667Z"
   },
   {
    "duration": 41,
    "start_time": "2024-06-19T00:10:33.522Z"
   },
   {
    "duration": 36,
    "start_time": "2024-06-19T00:10:44.074Z"
   },
   {
    "duration": 36,
    "start_time": "2024-06-19T00:10:49.758Z"
   },
   {
    "duration": 25,
    "start_time": "2024-06-19T00:12:57.147Z"
   },
   {
    "duration": 12,
    "start_time": "2024-06-19T00:13:25.072Z"
   },
   {
    "duration": 166,
    "start_time": "2024-06-19T00:18:49.120Z"
   },
   {
    "duration": 154,
    "start_time": "2024-06-19T00:20:05.511Z"
   },
   {
    "duration": 230,
    "start_time": "2024-06-19T00:22:42.858Z"
   },
   {
    "duration": 165,
    "start_time": "2024-06-19T00:24:24.418Z"
   },
   {
    "duration": 158,
    "start_time": "2024-06-19T00:24:34.536Z"
   },
   {
    "duration": 31,
    "start_time": "2024-06-19T00:26:23.415Z"
   },
   {
    "duration": 115,
    "start_time": "2024-06-19T00:32:08.013Z"
   },
   {
    "duration": 109,
    "start_time": "2024-06-19T00:32:24.419Z"
   },
   {
    "duration": 107,
    "start_time": "2024-06-19T00:32:55.187Z"
   },
   {
    "duration": 127,
    "start_time": "2024-06-19T00:33:21.088Z"
   },
   {
    "duration": 123,
    "start_time": "2024-06-19T00:33:45.755Z"
   },
   {
    "duration": 122,
    "start_time": "2024-06-19T00:34:57.213Z"
   },
   {
    "duration": 126,
    "start_time": "2024-06-19T00:37:57.352Z"
   },
   {
    "duration": 218,
    "start_time": "2024-06-19T00:42:34.143Z"
   },
   {
    "duration": 203,
    "start_time": "2024-06-19T00:43:38.547Z"
   },
   {
    "duration": 7,
    "start_time": "2024-06-19T00:45:28.908Z"
   },
   {
    "duration": 7,
    "start_time": "2024-06-19T00:45:34.558Z"
   },
   {
    "duration": 27,
    "start_time": "2024-06-19T00:46:11.581Z"
   },
   {
    "duration": 690,
    "start_time": "2024-06-19T00:46:44.715Z"
   },
   {
    "duration": 38,
    "start_time": "2024-06-19T00:46:48.035Z"
   },
   {
    "duration": 38,
    "start_time": "2024-06-19T00:46:49.307Z"
   },
   {
    "duration": 40,
    "start_time": "2024-06-19T00:46:49.779Z"
   },
   {
    "duration": 37,
    "start_time": "2024-06-19T00:46:50.395Z"
   },
   {
    "duration": 580,
    "start_time": "2024-06-19T00:46:50.867Z"
   },
   {
    "duration": 30,
    "start_time": "2024-06-19T00:46:51.451Z"
   },
   {
    "duration": 79,
    "start_time": "2024-06-19T00:46:51.817Z"
   },
   {
    "duration": 23,
    "start_time": "2024-06-19T00:46:52.586Z"
   },
   {
    "duration": 63,
    "start_time": "2024-06-19T00:46:53.969Z"
   },
   {
    "duration": 100,
    "start_time": "2024-06-19T00:46:55.006Z"
   },
   {
    "duration": 35,
    "start_time": "2024-06-19T00:46:58.936Z"
   },
   {
    "duration": 166,
    "start_time": "2024-06-19T00:47:01.649Z"
   },
   {
    "duration": 43,
    "start_time": "2024-06-19T00:47:15.617Z"
   },
   {
    "duration": 37,
    "start_time": "2024-06-19T00:47:23.627Z"
   },
   {
    "duration": 37,
    "start_time": "2024-06-19T00:47:25.738Z"
   },
   {
    "duration": 431,
    "start_time": "2024-06-19T02:22:55.776Z"
   },
   {
    "duration": 825,
    "start_time": "2024-06-19T02:22:57.958Z"
   },
   {
    "duration": 186,
    "start_time": "2024-06-19T02:22:59.299Z"
   },
   {
    "duration": 48,
    "start_time": "2024-06-19T02:23:02.357Z"
   },
   {
    "duration": 50,
    "start_time": "2024-06-19T02:23:02.895Z"
   },
   {
    "duration": 44,
    "start_time": "2024-06-19T02:23:05.521Z"
   },
   {
    "duration": 4047,
    "start_time": "2024-06-19T02:23:11.351Z"
   },
   {
    "duration": 675,
    "start_time": "2024-06-19T02:23:15.402Z"
   },
   {
    "duration": 31,
    "start_time": "2024-06-19T02:23:48.366Z"
   },
   {
    "duration": 223,
    "start_time": "2024-06-19T02:32:18.846Z"
   },
   {
    "duration": 157,
    "start_time": "2024-06-19T02:34:00.330Z"
   },
   {
    "duration": 776,
    "start_time": "2024-06-19T02:34:05.039Z"
   },
   {
    "duration": 150,
    "start_time": "2024-06-19T02:34:05.818Z"
   },
   {
    "duration": 45,
    "start_time": "2024-06-19T02:34:06.128Z"
   },
   {
    "duration": 41,
    "start_time": "2024-06-19T02:34:06.526Z"
   },
   {
    "duration": 34,
    "start_time": "2024-06-19T02:34:06.974Z"
   },
   {
    "duration": 38,
    "start_time": "2024-06-19T02:34:07.382Z"
   },
   {
    "duration": 621,
    "start_time": "2024-06-19T02:34:10.372Z"
   },
   {
    "duration": 30,
    "start_time": "2024-06-19T02:34:14.262Z"
   },
   {
    "duration": 79,
    "start_time": "2024-06-19T02:34:21.294Z"
   },
   {
    "duration": 206,
    "start_time": "2024-06-19T02:34:32.607Z"
   },
   {
    "duration": 23,
    "start_time": "2024-06-19T02:34:59.296Z"
   },
   {
    "duration": 8,
    "start_time": "2024-06-19T02:38:33.185Z"
   },
   {
    "duration": 172,
    "start_time": "2024-06-19T02:41:07.700Z"
   },
   {
    "duration": 747,
    "start_time": "2024-06-19T02:41:21.886Z"
   },
   {
    "duration": 152,
    "start_time": "2024-06-19T02:41:23.518Z"
   },
   {
    "duration": 39,
    "start_time": "2024-06-19T02:41:25.605Z"
   },
   {
    "duration": 39,
    "start_time": "2024-06-19T02:41:25.798Z"
   },
   {
    "duration": 38,
    "start_time": "2024-06-19T02:41:25.993Z"
   },
   {
    "duration": 37,
    "start_time": "2024-06-19T02:41:26.203Z"
   },
   {
    "duration": 657,
    "start_time": "2024-06-19T02:41:26.378Z"
   },
   {
    "duration": 31,
    "start_time": "2024-06-19T02:41:27.040Z"
   },
   {
    "duration": 101,
    "start_time": "2024-06-19T02:41:27.076Z"
   },
   {
    "duration": 155,
    "start_time": "2024-06-19T02:42:48.014Z"
   },
   {
    "duration": 24,
    "start_time": "2024-06-19T02:44:44.814Z"
   },
   {
    "duration": 50,
    "start_time": "2024-06-19T02:48:31.168Z"
   },
   {
    "duration": 3,
    "start_time": "2024-06-19T02:49:09.658Z"
   },
   {
    "duration": 432,
    "start_time": "2024-06-19T02:49:29.600Z"
   },
   {
    "duration": 226,
    "start_time": "2024-06-19T02:50:02.675Z"
   },
   {
    "duration": 8,
    "start_time": "2024-06-19T02:52:07.405Z"
   },
   {
    "duration": 35,
    "start_time": "2024-06-19T02:52:12.350Z"
   },
   {
    "duration": 8,
    "start_time": "2024-06-19T02:52:19.515Z"
   },
   {
    "duration": 35,
    "start_time": "2024-06-19T02:52:32.438Z"
   },
   {
    "duration": 10,
    "start_time": "2024-06-19T02:52:39.498Z"
   },
   {
    "duration": 30,
    "start_time": "2024-06-19T02:52:46.108Z"
   },
   {
    "duration": 4408,
    "start_time": "2024-06-19T14:43:01.249Z"
   },
   {
    "duration": 845,
    "start_time": "2024-06-19T14:43:05.662Z"
   },
   {
    "duration": 153,
    "start_time": "2024-06-19T14:43:06.510Z"
   },
   {
    "duration": 60,
    "start_time": "2024-06-19T14:43:06.668Z"
   },
   {
    "duration": 44,
    "start_time": "2024-06-19T14:43:06.731Z"
   },
   {
    "duration": 64,
    "start_time": "2024-06-19T14:43:06.778Z"
   },
   {
    "duration": 66,
    "start_time": "2024-06-19T14:43:06.846Z"
   },
   {
    "duration": 592,
    "start_time": "2024-06-19T14:43:10.035Z"
   },
   {
    "duration": 32,
    "start_time": "2024-06-19T14:43:21.771Z"
   },
   {
    "duration": 79,
    "start_time": "2024-06-19T14:43:48.643Z"
   },
   {
    "duration": 156,
    "start_time": "2024-06-19T14:48:11.877Z"
   },
   {
    "duration": 47,
    "start_time": "2024-06-19T14:48:16.470Z"
   },
   {
    "duration": 167,
    "start_time": "2024-06-19T14:48:22.406Z"
   },
   {
    "duration": 722,
    "start_time": "2024-06-19T14:49:42.431Z"
   },
   {
    "duration": 149,
    "start_time": "2024-06-19T14:49:43.711Z"
   },
   {
    "duration": 46,
    "start_time": "2024-06-19T14:49:44.262Z"
   },
   {
    "duration": 43,
    "start_time": "2024-06-19T14:49:44.840Z"
   },
   {
    "duration": 36,
    "start_time": "2024-06-19T14:49:45.230Z"
   },
   {
    "duration": 37,
    "start_time": "2024-06-19T14:49:45.417Z"
   },
   {
    "duration": 587,
    "start_time": "2024-06-19T14:49:45.621Z"
   },
   {
    "duration": 36,
    "start_time": "2024-06-19T14:49:46.211Z"
   },
   {
    "duration": 85,
    "start_time": "2024-06-19T14:49:46.847Z"
   },
   {
    "duration": 172,
    "start_time": "2024-06-19T14:49:48.457Z"
   },
   {
    "duration": 48,
    "start_time": "2024-06-19T14:49:55.113Z"
   },
   {
    "duration": 154,
    "start_time": "2024-06-19T14:50:21.825Z"
   },
   {
    "duration": 566,
    "start_time": "2024-06-19T14:51:21.936Z"
   },
   {
    "duration": 173,
    "start_time": "2024-06-19T14:51:28.929Z"
   },
   {
    "duration": 169,
    "start_time": "2024-06-19T14:51:51.247Z"
   },
   {
    "duration": 183,
    "start_time": "2024-06-19T14:52:16.969Z"
   },
   {
    "duration": 34,
    "start_time": "2024-06-19T14:53:36.664Z"
   },
   {
    "duration": 26,
    "start_time": "2024-06-19T14:54:38.552Z"
   },
   {
    "duration": 12,
    "start_time": "2024-06-19T14:54:46.170Z"
   },
   {
    "duration": 26,
    "start_time": "2024-06-19T14:54:50.930Z"
   },
   {
    "duration": 24,
    "start_time": "2024-06-19T14:55:11.771Z"
   },
   {
    "duration": 63,
    "start_time": "2024-06-19T14:55:14.636Z"
   },
   {
    "duration": 98,
    "start_time": "2024-06-19T14:55:19.605Z"
   },
   {
    "duration": 27,
    "start_time": "2024-06-19T14:56:32.548Z"
   },
   {
    "duration": 22,
    "start_time": "2024-06-19T15:54:21.883Z"
   },
   {
    "duration": 60,
    "start_time": "2024-06-19T15:54:24.939Z"
   },
   {
    "duration": 35,
    "start_time": "2024-06-19T15:54:45.178Z"
   },
   {
    "duration": 469,
    "start_time": "2024-06-19T17:10:44.091Z"
   },
   {
    "duration": 58,
    "start_time": "2024-06-19T17:12:50.832Z"
   },
   {
    "duration": 33,
    "start_time": "2024-06-19T17:14:27.586Z"
   },
   {
    "duration": 35,
    "start_time": "2024-06-19T17:14:37.728Z"
   },
   {
    "duration": 35,
    "start_time": "2024-06-19T17:16:25.553Z"
   },
   {
    "duration": 4973,
    "start_time": "2024-06-21T22:47:14.687Z"
   },
   {
    "duration": 838,
    "start_time": "2024-06-21T22:47:19.664Z"
   },
   {
    "duration": 151,
    "start_time": "2024-06-21T22:47:20.506Z"
   },
   {
    "duration": 43,
    "start_time": "2024-06-21T22:47:23.388Z"
   },
   {
    "duration": 42,
    "start_time": "2024-06-21T22:47:26.003Z"
   },
   {
    "duration": 41,
    "start_time": "2024-06-21T22:47:28.306Z"
   },
   {
    "duration": 39,
    "start_time": "2024-06-21T22:47:30.316Z"
   },
   {
    "duration": 585,
    "start_time": "2024-06-21T22:47:32.619Z"
   },
   {
    "duration": 31,
    "start_time": "2024-06-21T22:47:34.771Z"
   },
   {
    "duration": 79,
    "start_time": "2024-06-21T22:47:36.771Z"
   },
   {
    "duration": 166,
    "start_time": "2024-06-21T22:47:42.423Z"
   },
   {
    "duration": 41,
    "start_time": "2024-06-21T22:47:49.500Z"
   },
   {
    "duration": 38,
    "start_time": "2024-06-21T22:47:55.086Z"
   },
   {
    "duration": 706,
    "start_time": "2024-06-21T22:48:08.497Z"
   },
   {
    "duration": 143,
    "start_time": "2024-06-21T22:48:09.363Z"
   },
   {
    "duration": 47,
    "start_time": "2024-06-21T22:48:09.658Z"
   },
   {
    "duration": 41,
    "start_time": "2024-06-21T22:48:09.858Z"
   },
   {
    "duration": 41,
    "start_time": "2024-06-21T22:48:10.065Z"
   },
   {
    "duration": 45,
    "start_time": "2024-06-21T22:48:10.265Z"
   },
   {
    "duration": 607,
    "start_time": "2024-06-21T22:48:10.466Z"
   },
   {
    "duration": 46,
    "start_time": "2024-06-21T22:48:11.077Z"
   },
   {
    "duration": 98,
    "start_time": "2024-06-21T22:48:11.125Z"
   },
   {
    "duration": 153,
    "start_time": "2024-06-21T22:48:12.892Z"
   },
   {
    "duration": 43,
    "start_time": "2024-06-21T22:48:14.851Z"
   },
   {
    "duration": 179,
    "start_time": "2024-06-21T22:48:16.356Z"
   },
   {
    "duration": 29,
    "start_time": "2024-06-21T22:48:18.506Z"
   },
   {
    "duration": 22,
    "start_time": "2024-06-21T22:48:19.029Z"
   },
   {
    "duration": 61,
    "start_time": "2024-06-21T22:48:23.349Z"
   },
   {
    "duration": 98,
    "start_time": "2024-06-21T22:48:25.304Z"
   },
   {
    "duration": 42,
    "start_time": "2024-06-21T22:50:41.843Z"
   },
   {
    "duration": 15,
    "start_time": "2024-06-21T23:00:28.380Z"
   },
   {
    "duration": 76,
    "start_time": "2024-06-21T23:07:57.461Z"
   },
   {
    "duration": 5081,
    "start_time": "2024-06-23T14:54:30.585Z"
   },
   {
    "duration": 769,
    "start_time": "2024-06-23T14:54:35.670Z"
   },
   {
    "duration": 46,
    "start_time": "2024-06-23T14:54:37.182Z"
   },
   {
    "duration": 45,
    "start_time": "2024-06-23T14:54:37.391Z"
   },
   {
    "duration": 41,
    "start_time": "2024-06-23T14:54:37.606Z"
   },
   {
    "duration": 38,
    "start_time": "2024-06-23T14:54:37.806Z"
   },
   {
    "duration": 632,
    "start_time": "2024-06-23T14:54:38.011Z"
   },
   {
    "duration": 32,
    "start_time": "2024-06-23T14:54:38.646Z"
   },
   {
    "duration": 96,
    "start_time": "2024-06-23T14:54:38.681Z"
   },
   {
    "duration": 162,
    "start_time": "2024-06-23T14:54:38.821Z"
   },
   {
    "duration": 42,
    "start_time": "2024-06-23T14:54:39.053Z"
   },
   {
    "duration": 179,
    "start_time": "2024-06-23T14:54:39.975Z"
   },
   {
    "duration": 30,
    "start_time": "2024-06-23T14:54:42.504Z"
   },
   {
    "duration": 22,
    "start_time": "2024-06-23T14:54:42.861Z"
   },
   {
    "duration": 63,
    "start_time": "2024-06-23T14:54:43.734Z"
   },
   {
    "duration": 96,
    "start_time": "2024-06-23T14:54:44.647Z"
   },
   {
    "duration": 59,
    "start_time": "2024-06-23T14:54:47.503Z"
   },
   {
    "duration": 15,
    "start_time": "2024-06-23T14:54:48.039Z"
   },
   {
    "duration": 36,
    "start_time": "2024-06-23T14:54:51.592Z"
   },
   {
    "duration": 5046,
    "start_time": "2024-06-23T21:20:48.462Z"
   },
   {
    "duration": 791,
    "start_time": "2024-06-23T21:20:53.511Z"
   },
   {
    "duration": 50,
    "start_time": "2024-06-23T21:20:54.306Z"
   },
   {
    "duration": 47,
    "start_time": "2024-06-23T21:20:54.358Z"
   },
   {
    "duration": 48,
    "start_time": "2024-06-23T21:20:54.498Z"
   },
   {
    "duration": 38,
    "start_time": "2024-06-23T21:20:54.668Z"
   },
   {
    "duration": 636,
    "start_time": "2024-06-23T21:20:54.862Z"
   },
   {
    "duration": 44,
    "start_time": "2024-06-23T21:20:55.502Z"
   },
   {
    "duration": 92,
    "start_time": "2024-06-23T21:20:55.549Z"
   },
   {
    "duration": 157,
    "start_time": "2024-06-23T21:20:57.849Z"
   },
   {
    "duration": 43,
    "start_time": "2024-06-23T21:21:01.071Z"
   },
   {
    "duration": 182,
    "start_time": "2024-06-23T21:21:03.110Z"
   },
   {
    "duration": 28,
    "start_time": "2024-06-23T21:21:05.340Z"
   },
   {
    "duration": 23,
    "start_time": "2024-06-23T21:21:05.734Z"
   },
   {
    "duration": 61,
    "start_time": "2024-06-23T21:21:07.726Z"
   },
   {
    "duration": 95,
    "start_time": "2024-06-23T21:21:08.636Z"
   },
   {
    "duration": 58,
    "start_time": "2024-06-23T21:21:09.774Z"
   },
   {
    "duration": 15,
    "start_time": "2024-06-23T21:21:10.904Z"
   },
   {
    "duration": 33,
    "start_time": "2024-06-23T21:21:12.884Z"
   },
   {
    "duration": 5,
    "start_time": "2024-06-23T21:30:10.349Z"
   },
   {
    "duration": 165,
    "start_time": "2024-06-23T21:30:12.645Z"
   },
   {
    "duration": 4,
    "start_time": "2024-06-23T21:30:22.995Z"
   },
   {
    "duration": 5,
    "start_time": "2024-06-23T21:32:40.256Z"
   },
   {
    "duration": 501,
    "start_time": "2024-06-23T21:33:01.568Z"
   },
   {
    "duration": 24,
    "start_time": "2024-06-23T21:33:18.216Z"
   },
   {
    "duration": 831,
    "start_time": "2024-06-23T21:33:32.801Z"
   },
   {
    "duration": 5,
    "start_time": "2024-06-23T21:34:00.936Z"
   },
   {
    "duration": 23,
    "start_time": "2024-06-23T21:36:09.146Z"
   },
   {
    "duration": 34,
    "start_time": "2024-06-23T21:36:35.683Z"
   },
   {
    "duration": 11,
    "start_time": "2024-06-23T21:37:05.902Z"
   },
   {
    "duration": 806,
    "start_time": "2024-06-23T21:37:08.710Z"
   },
   {
    "duration": 5,
    "start_time": "2024-06-23T21:38:07.307Z"
   },
   {
    "duration": 823,
    "start_time": "2024-06-23T21:38:09.803Z"
   },
   {
    "duration": 7,
    "start_time": "2024-06-23T22:09:11.108Z"
   },
   {
    "duration": 1365,
    "start_time": "2024-06-23T22:09:13.701Z"
   },
   {
    "duration": 8,
    "start_time": "2024-06-23T22:09:47.226Z"
   },
   {
    "duration": 358,
    "start_time": "2024-06-23T22:09:49.084Z"
   },
   {
    "duration": 7,
    "start_time": "2024-06-23T22:11:33.389Z"
   },
   {
    "duration": 378,
    "start_time": "2024-06-23T22:11:35.413Z"
   },
   {
    "duration": 10,
    "start_time": "2024-06-23T22:14:28.096Z"
   },
   {
    "duration": 296,
    "start_time": "2024-06-23T22:14:30.808Z"
   },
   {
    "duration": 11,
    "start_time": "2024-06-23T22:14:55.150Z"
   },
   {
    "duration": 460,
    "start_time": "2024-06-23T22:14:57.160Z"
   },
   {
    "duration": 8,
    "start_time": "2024-06-23T22:22:47.344Z"
   },
   {
    "duration": 577,
    "start_time": "2024-06-23T22:22:48.605Z"
   },
   {
    "duration": 8,
    "start_time": "2024-06-23T22:23:07.048Z"
   },
   {
    "duration": 495,
    "start_time": "2024-06-23T22:23:09.838Z"
   },
   {
    "duration": 9,
    "start_time": "2024-06-23T22:37:12.945Z"
   },
   {
    "duration": 468,
    "start_time": "2024-06-23T22:37:16.099Z"
   },
   {
    "duration": 7,
    "start_time": "2024-06-23T22:38:34.761Z"
   },
   {
    "duration": 9,
    "start_time": "2024-06-23T22:39:59.603Z"
   },
   {
    "duration": 482,
    "start_time": "2024-06-23T22:40:05.000Z"
   },
   {
    "duration": 8,
    "start_time": "2024-06-23T22:40:59.891Z"
   },
   {
    "duration": 496,
    "start_time": "2024-06-23T22:41:00.883Z"
   },
   {
    "duration": 365,
    "start_time": "2024-06-23T22:41:55.747Z"
   },
   {
    "duration": 82,
    "start_time": "2024-06-23T22:42:50.250Z"
   },
   {
    "duration": 9,
    "start_time": "2024-06-23T23:01:16.673Z"
   },
   {
    "duration": 9,
    "start_time": "2024-06-23T23:01:41.336Z"
   },
   {
    "duration": 426,
    "start_time": "2024-06-23T23:01:42.529Z"
   },
   {
    "duration": 9,
    "start_time": "2024-06-23T23:05:03.043Z"
   },
   {
    "duration": 396,
    "start_time": "2024-06-23T23:05:04.754Z"
   },
   {
    "duration": 5,
    "start_time": "2024-06-23T23:05:56.574Z"
   },
   {
    "duration": 475,
    "start_time": "2024-06-23T23:06:02.083Z"
   },
   {
    "duration": 9,
    "start_time": "2024-06-23T23:08:39.015Z"
   },
   {
    "duration": 446,
    "start_time": "2024-06-23T23:08:39.375Z"
   },
   {
    "duration": 10,
    "start_time": "2024-06-23T23:08:48.037Z"
   },
   {
    "duration": 455,
    "start_time": "2024-06-23T23:08:51.044Z"
   },
   {
    "duration": 9,
    "start_time": "2024-06-23T23:17:28.718Z"
   },
   {
    "duration": 330,
    "start_time": "2024-06-23T23:17:30.723Z"
   },
   {
    "duration": 10,
    "start_time": "2024-06-23T23:17:42.492Z"
   },
   {
    "duration": 465,
    "start_time": "2024-06-23T23:17:44.191Z"
   },
   {
    "duration": 9,
    "start_time": "2024-06-23T23:18:36.318Z"
   },
   {
    "duration": 424,
    "start_time": "2024-06-23T23:18:38.447Z"
   },
   {
    "duration": 9,
    "start_time": "2024-06-23T23:19:06.238Z"
   },
   {
    "duration": 440,
    "start_time": "2024-06-23T23:19:09.164Z"
   },
   {
    "duration": 4,
    "start_time": "2024-06-23T23:20:09.007Z"
   },
   {
    "duration": 5,
    "start_time": "2024-06-23T23:22:51.990Z"
   },
   {
    "duration": 11,
    "start_time": "2024-06-23T23:23:24.895Z"
   },
   {
    "duration": 455,
    "start_time": "2024-06-23T23:23:26.558Z"
   },
   {
    "duration": 9,
    "start_time": "2024-06-23T23:23:40.606Z"
   },
   {
    "duration": 450,
    "start_time": "2024-06-23T23:23:43.655Z"
   },
   {
    "duration": 16,
    "start_time": "2024-06-23T23:24:22.335Z"
   },
   {
    "duration": 611,
    "start_time": "2024-06-23T23:24:29.302Z"
   },
   {
    "duration": 9,
    "start_time": "2024-06-23T23:24:53.242Z"
   },
   {
    "duration": 662,
    "start_time": "2024-06-23T23:24:53.543Z"
   },
   {
    "duration": 10,
    "start_time": "2024-06-23T23:26:25.715Z"
   },
   {
    "duration": 648,
    "start_time": "2024-06-23T23:26:26.233Z"
   },
   {
    "duration": 4,
    "start_time": "2024-06-23T23:33:11.935Z"
   },
   {
    "duration": 694,
    "start_time": "2024-06-23T23:33:12.422Z"
   },
   {
    "duration": 148,
    "start_time": "2024-06-23T23:33:13.119Z"
   },
   {
    "duration": 60,
    "start_time": "2024-06-23T23:33:13.272Z"
   },
   {
    "duration": 34,
    "start_time": "2024-06-23T23:33:13.336Z"
   },
   {
    "duration": 34,
    "start_time": "2024-06-23T23:33:13.592Z"
   },
   {
    "duration": 40,
    "start_time": "2024-06-23T23:33:13.806Z"
   },
   {
    "duration": 572,
    "start_time": "2024-06-23T23:33:14.011Z"
   },
   {
    "duration": 28,
    "start_time": "2024-06-23T23:33:14.586Z"
   },
   {
    "duration": 82,
    "start_time": "2024-06-23T23:33:14.631Z"
   },
   {
    "duration": 175,
    "start_time": "2024-06-23T23:33:15.204Z"
   },
   {
    "duration": 47,
    "start_time": "2024-06-23T23:33:15.604Z"
   },
   {
    "duration": 173,
    "start_time": "2024-06-23T23:33:16.289Z"
   },
   {
    "duration": 28,
    "start_time": "2024-06-23T23:33:17.032Z"
   },
   {
    "duration": 22,
    "start_time": "2024-06-23T23:33:17.846Z"
   },
   {
    "duration": 61,
    "start_time": "2024-06-23T23:33:18.606Z"
   },
   {
    "duration": 96,
    "start_time": "2024-06-23T23:33:19.343Z"
   },
   {
    "duration": 56,
    "start_time": "2024-06-23T23:33:20.478Z"
   },
   {
    "duration": 15,
    "start_time": "2024-06-23T23:33:20.837Z"
   },
   {
    "duration": 80,
    "start_time": "2024-06-23T23:33:22.248Z"
   },
   {
    "duration": 10,
    "start_time": "2024-06-23T23:33:23.093Z"
   },
   {
    "duration": 647,
    "start_time": "2024-06-23T23:33:41.587Z"
   },
   {
    "duration": 5459,
    "start_time": "2024-06-24T01:11:20.228Z"
   },
   {
    "duration": 969,
    "start_time": "2024-06-24T01:11:25.691Z"
   },
   {
    "duration": 165,
    "start_time": "2024-06-24T01:11:26.664Z"
   },
   {
    "duration": 56,
    "start_time": "2024-06-24T01:11:26.834Z"
   },
   {
    "duration": 66,
    "start_time": "2024-06-24T01:11:26.893Z"
   },
   {
    "duration": 57,
    "start_time": "2024-06-24T01:11:26.966Z"
   },
   {
    "duration": 38,
    "start_time": "2024-06-24T01:11:27.026Z"
   },
   {
    "duration": 713,
    "start_time": "2024-06-24T01:11:27.068Z"
   },
   {
    "duration": 46,
    "start_time": "2024-06-24T01:11:27.786Z"
   },
   {
    "duration": 119,
    "start_time": "2024-06-24T01:11:27.839Z"
   },
   {
    "duration": 194,
    "start_time": "2024-06-24T01:11:27.964Z"
   },
   {
    "duration": 61,
    "start_time": "2024-06-24T01:11:28.161Z"
   },
   {
    "duration": 254,
    "start_time": "2024-06-24T01:11:28.225Z"
   },
   {
    "duration": 38,
    "start_time": "2024-06-24T01:11:28.484Z"
   },
   {
    "duration": 31,
    "start_time": "2024-06-24T01:11:29.172Z"
   },
   {
    "duration": 61,
    "start_time": "2024-06-24T01:11:30.838Z"
   },
   {
    "duration": 93,
    "start_time": "2024-06-24T01:11:31.508Z"
   },
   {
    "duration": 58,
    "start_time": "2024-06-24T01:11:33.279Z"
   },
   {
    "duration": 17,
    "start_time": "2024-06-24T01:11:33.981Z"
   },
   {
    "duration": 80,
    "start_time": "2024-06-24T01:11:35.764Z"
   },
   {
    "duration": 4,
    "start_time": "2024-06-24T02:00:20.775Z"
   },
   {
    "duration": 5,
    "start_time": "2024-06-24T02:00:26.806Z"
   },
   {
    "duration": 6,
    "start_time": "2024-06-24T02:01:09.167Z"
   },
   {
    "duration": 5,
    "start_time": "2024-06-24T02:01:21.537Z"
   },
   {
    "duration": 7,
    "start_time": "2024-06-24T02:12:02.329Z"
   },
   {
    "duration": 561,
    "start_time": "2024-06-24T02:12:05.375Z"
   },
   {
    "duration": 3,
    "start_time": "2024-06-24T02:12:33.962Z"
   },
   {
    "duration": 7,
    "start_time": "2024-06-24T02:12:46.856Z"
   },
   {
    "duration": 266,
    "start_time": "2024-06-24T02:12:48.798Z"
   },
   {
    "duration": 7,
    "start_time": "2024-06-24T02:13:55.535Z"
   },
   {
    "duration": 29,
    "start_time": "2024-06-24T02:13:56.970Z"
   },
   {
    "duration": 685,
    "start_time": "2024-06-24T02:14:49.712Z"
   },
   {
    "duration": 160,
    "start_time": "2024-06-24T02:14:50.400Z"
   },
   {
    "duration": 62,
    "start_time": "2024-06-24T02:14:50.564Z"
   },
   {
    "duration": 42,
    "start_time": "2024-06-24T02:14:50.630Z"
   },
   {
    "duration": 61,
    "start_time": "2024-06-24T02:14:50.675Z"
   },
   {
    "duration": 38,
    "start_time": "2024-06-24T02:14:50.774Z"
   },
   {
    "duration": 606,
    "start_time": "2024-06-24T02:14:50.927Z"
   },
   {
    "duration": 32,
    "start_time": "2024-06-24T02:14:51.537Z"
   },
   {
    "duration": 105,
    "start_time": "2024-06-24T02:14:51.572Z"
   },
   {
    "duration": 178,
    "start_time": "2024-06-24T02:14:51.681Z"
   },
   {
    "duration": 56,
    "start_time": "2024-06-24T02:14:51.865Z"
   },
   {
    "duration": 169,
    "start_time": "2024-06-24T02:14:52.078Z"
   },
   {
    "duration": 31,
    "start_time": "2024-06-24T02:14:52.511Z"
   },
   {
    "duration": 23,
    "start_time": "2024-06-24T02:14:52.704Z"
   },
   {
    "duration": 61,
    "start_time": "2024-06-24T02:14:54.888Z"
   },
   {
    "duration": 98,
    "start_time": "2024-06-24T02:14:55.849Z"
   },
   {
    "duration": 58,
    "start_time": "2024-06-24T02:14:56.337Z"
   },
   {
    "duration": 15,
    "start_time": "2024-06-24T02:14:56.713Z"
   },
   {
    "duration": 81,
    "start_time": "2024-06-24T02:14:58.547Z"
   },
   {
    "duration": 7,
    "start_time": "2024-06-24T02:14:59.105Z"
   },
   {
    "duration": 253,
    "start_time": "2024-06-24T02:14:59.939Z"
   },
   {
    "duration": 6,
    "start_time": "2024-06-24T02:16:23.542Z"
   },
   {
    "duration": 370,
    "start_time": "2024-06-24T02:16:27.371Z"
   },
   {
    "duration": 7,
    "start_time": "2024-06-24T02:21:15.644Z"
   },
   {
    "duration": 340,
    "start_time": "2024-06-24T02:21:17.572Z"
   },
   {
    "duration": 7,
    "start_time": "2024-06-24T02:29:42.077Z"
   },
   {
    "duration": 339,
    "start_time": "2024-06-24T02:29:43.323Z"
   },
   {
    "duration": 6,
    "start_time": "2024-06-24T02:31:58.077Z"
   },
   {
    "duration": 340,
    "start_time": "2024-06-24T02:31:58.388Z"
   },
   {
    "duration": 7,
    "start_time": "2024-06-24T02:38:20.169Z"
   },
   {
    "duration": 377,
    "start_time": "2024-06-24T02:38:21.987Z"
   },
   {
    "duration": 7,
    "start_time": "2024-06-24T02:38:37.858Z"
   },
   {
    "duration": 383,
    "start_time": "2024-06-24T02:38:39.034Z"
   },
   {
    "duration": 7,
    "start_time": "2024-06-24T02:38:47.221Z"
   },
   {
    "duration": 395,
    "start_time": "2024-06-24T02:38:48.057Z"
   },
   {
    "duration": 7,
    "start_time": "2024-06-24T02:42:06.225Z"
   },
   {
    "duration": 391,
    "start_time": "2024-06-24T02:42:06.850Z"
   },
   {
    "duration": 8,
    "start_time": "2024-06-24T02:42:15.459Z"
   },
   {
    "duration": 350,
    "start_time": "2024-06-24T02:42:16.883Z"
   },
   {
    "duration": 8,
    "start_time": "2024-06-24T02:42:28.468Z"
   },
   {
    "duration": 375,
    "start_time": "2024-06-24T02:42:29.569Z"
   },
   {
    "duration": 8,
    "start_time": "2024-06-24T02:45:39.240Z"
   },
   {
    "duration": 389,
    "start_time": "2024-06-24T02:45:41.277Z"
   },
   {
    "duration": 8,
    "start_time": "2024-06-24T02:46:21.983Z"
   },
   {
    "duration": 362,
    "start_time": "2024-06-24T02:46:23.455Z"
   },
   {
    "duration": 7,
    "start_time": "2024-06-24T02:46:40.661Z"
   },
   {
    "duration": 349,
    "start_time": "2024-06-24T02:46:40.900Z"
   },
   {
    "duration": 5082,
    "start_time": "2024-06-24T15:14:54.995Z"
   },
   {
    "duration": 800,
    "start_time": "2024-06-24T15:15:00.082Z"
   },
   {
    "duration": 146,
    "start_time": "2024-06-24T15:15:00.887Z"
   },
   {
    "duration": 41,
    "start_time": "2024-06-24T15:15:01.038Z"
   },
   {
    "duration": 77,
    "start_time": "2024-06-24T15:15:01.082Z"
   },
   {
    "duration": 45,
    "start_time": "2024-06-24T15:15:01.163Z"
   },
   {
    "duration": 37,
    "start_time": "2024-06-24T15:15:01.224Z"
   },
   {
    "duration": 608,
    "start_time": "2024-06-24T15:15:01.264Z"
   },
   {
    "duration": 47,
    "start_time": "2024-06-24T15:15:01.875Z"
   },
   {
    "duration": 79,
    "start_time": "2024-06-24T15:15:01.927Z"
   },
   {
    "duration": 185,
    "start_time": "2024-06-24T15:15:02.009Z"
   },
   {
    "duration": 64,
    "start_time": "2024-06-24T15:15:02.197Z"
   },
   {
    "duration": 206,
    "start_time": "2024-06-24T15:15:02.264Z"
   },
   {
    "duration": 30,
    "start_time": "2024-06-24T15:15:02.473Z"
   },
   {
    "duration": 37,
    "start_time": "2024-06-24T15:15:02.506Z"
   },
   {
    "duration": 77,
    "start_time": "2024-06-24T15:15:02.546Z"
   },
   {
    "duration": 109,
    "start_time": "2024-06-24T15:15:02.625Z"
   },
   {
    "duration": 58,
    "start_time": "2024-06-24T15:15:02.736Z"
   },
   {
    "duration": 37,
    "start_time": "2024-06-24T15:15:02.797Z"
   },
   {
    "duration": 7,
    "start_time": "2024-06-24T15:16:57.616Z"
   },
   {
    "duration": 383,
    "start_time": "2024-06-24T15:16:58.745Z"
   },
   {
    "duration": 9,
    "start_time": "2024-06-24T15:22:04.174Z"
   },
   {
    "duration": 882,
    "start_time": "2024-06-24T15:22:05.283Z"
   },
   {
    "duration": 9,
    "start_time": "2024-06-24T15:22:23.726Z"
   },
   {
    "duration": 416,
    "start_time": "2024-06-24T15:22:24.236Z"
   },
   {
    "duration": 10,
    "start_time": "2024-06-24T15:22:38.540Z"
   },
   {
    "duration": 411,
    "start_time": "2024-06-24T15:22:38.782Z"
   },
   {
    "duration": 9,
    "start_time": "2024-06-24T15:22:51.787Z"
   },
   {
    "duration": 427,
    "start_time": "2024-06-24T15:22:52.612Z"
   },
   {
    "duration": 9,
    "start_time": "2024-06-24T15:27:01.457Z"
   },
   {
    "duration": 482,
    "start_time": "2024-06-24T15:27:04.376Z"
   },
   {
    "duration": 9,
    "start_time": "2024-06-24T15:27:13.595Z"
   },
   {
    "duration": 495,
    "start_time": "2024-06-24T15:27:14.966Z"
   },
   {
    "duration": 10,
    "start_time": "2024-06-24T15:31:12.154Z"
   },
   {
    "duration": 530,
    "start_time": "2024-06-24T15:31:12.802Z"
   },
   {
    "duration": 7,
    "start_time": "2024-06-24T15:31:34.049Z"
   },
   {
    "duration": 10,
    "start_time": "2024-06-24T15:31:44.137Z"
   },
   {
    "duration": 15,
    "start_time": "2024-06-24T15:32:04.212Z"
   },
   {
    "duration": 345,
    "start_time": "2024-06-24T15:32:05.010Z"
   },
   {
    "duration": 1467,
    "start_time": "2024-06-24T15:32:13.400Z"
   },
   {
    "duration": 792,
    "start_time": "2024-06-24T15:32:14.870Z"
   },
   {
    "duration": 158,
    "start_time": "2024-06-24T15:32:15.665Z"
   },
   {
    "duration": 44,
    "start_time": "2024-06-24T15:32:15.826Z"
   },
   {
    "duration": 67,
    "start_time": "2024-06-24T15:32:15.873Z"
   },
   {
    "duration": 40,
    "start_time": "2024-06-24T15:32:15.943Z"
   },
   {
    "duration": 56,
    "start_time": "2024-06-24T15:32:15.986Z"
   },
   {
    "duration": 606,
    "start_time": "2024-06-24T15:32:16.045Z"
   },
   {
    "duration": 34,
    "start_time": "2024-06-24T15:32:16.655Z"
   },
   {
    "duration": 99,
    "start_time": "2024-06-24T15:32:16.695Z"
   },
   {
    "duration": 179,
    "start_time": "2024-06-24T15:32:16.797Z"
   },
   {
    "duration": 59,
    "start_time": "2024-06-24T15:32:16.979Z"
   },
   {
    "duration": 193,
    "start_time": "2024-06-24T15:32:17.041Z"
   },
   {
    "duration": 30,
    "start_time": "2024-06-24T15:32:17.237Z"
   },
   {
    "duration": 22,
    "start_time": "2024-06-24T15:32:17.271Z"
   },
   {
    "duration": 96,
    "start_time": "2024-06-24T15:32:17.296Z"
   },
   {
    "duration": 95,
    "start_time": "2024-06-24T15:32:17.657Z"
   },
   {
    "duration": 58,
    "start_time": "2024-06-24T15:32:18.072Z"
   },
   {
    "duration": 15,
    "start_time": "2024-06-24T15:32:18.313Z"
   },
   {
    "duration": 80,
    "start_time": "2024-06-24T15:32:19.242Z"
   },
   {
    "duration": 14,
    "start_time": "2024-06-24T15:32:20.523Z"
   },
   {
    "duration": 16,
    "start_time": "2024-06-24T15:40:58.932Z"
   },
   {
    "duration": 1502,
    "start_time": "2024-06-24T15:41:05.216Z"
   },
   {
    "duration": 786,
    "start_time": "2024-06-24T15:41:06.722Z"
   },
   {
    "duration": 149,
    "start_time": "2024-06-24T15:41:07.511Z"
   },
   {
    "duration": 59,
    "start_time": "2024-06-24T15:41:07.664Z"
   },
   {
    "duration": 44,
    "start_time": "2024-06-24T15:41:07.726Z"
   },
   {
    "duration": 70,
    "start_time": "2024-06-24T15:41:07.773Z"
   },
   {
    "duration": 36,
    "start_time": "2024-06-24T15:41:07.846Z"
   },
   {
    "duration": 615,
    "start_time": "2024-06-24T15:41:07.885Z"
   },
   {
    "duration": 41,
    "start_time": "2024-06-24T15:41:08.503Z"
   },
   {
    "duration": 94,
    "start_time": "2024-06-24T15:41:08.550Z"
   },
   {
    "duration": 180,
    "start_time": "2024-06-24T15:41:08.647Z"
   },
   {
    "duration": 57,
    "start_time": "2024-06-24T15:41:08.830Z"
   },
   {
    "duration": 264,
    "start_time": "2024-06-24T15:41:08.890Z"
   },
   {
    "duration": 27,
    "start_time": "2024-06-24T15:41:09.157Z"
   },
   {
    "duration": 43,
    "start_time": "2024-06-24T15:41:09.189Z"
   },
   {
    "duration": 89,
    "start_time": "2024-06-24T15:41:09.235Z"
   },
   {
    "duration": 104,
    "start_time": "2024-06-24T15:41:10.225Z"
   },
   {
    "duration": 61,
    "start_time": "2024-06-24T15:41:11.074Z"
   },
   {
    "duration": 15,
    "start_time": "2024-06-24T15:41:11.719Z"
   },
   {
    "duration": 86,
    "start_time": "2024-06-24T15:41:13.151Z"
   },
   {
    "duration": 24,
    "start_time": "2024-06-24T15:41:13.468Z"
   },
   {
    "duration": 17,
    "start_time": "2024-06-24T15:45:18.614Z"
   },
   {
    "duration": 313,
    "start_time": "2024-06-24T15:45:21.101Z"
   },
   {
    "duration": 1582,
    "start_time": "2024-06-24T15:45:26.819Z"
   },
   {
    "duration": 837,
    "start_time": "2024-06-24T15:45:28.405Z"
   },
   {
    "duration": 150,
    "start_time": "2024-06-24T15:45:29.245Z"
   },
   {
    "duration": 60,
    "start_time": "2024-06-24T15:45:29.399Z"
   },
   {
    "duration": 43,
    "start_time": "2024-06-24T15:45:29.461Z"
   },
   {
    "duration": 41,
    "start_time": "2024-06-24T15:45:29.523Z"
   },
   {
    "duration": 61,
    "start_time": "2024-06-24T15:45:29.567Z"
   },
   {
    "duration": 618,
    "start_time": "2024-06-24T15:45:29.633Z"
   },
   {
    "duration": 36,
    "start_time": "2024-06-24T15:45:30.254Z"
   },
   {
    "duration": 97,
    "start_time": "2024-06-24T15:45:30.295Z"
   },
   {
    "duration": 184,
    "start_time": "2024-06-24T15:45:30.395Z"
   },
   {
    "duration": 58,
    "start_time": "2024-06-24T15:45:30.582Z"
   },
   {
    "duration": 220,
    "start_time": "2024-06-24T15:45:30.643Z"
   },
   {
    "duration": 29,
    "start_time": "2024-06-24T15:45:30.866Z"
   },
   {
    "duration": 42,
    "start_time": "2024-06-24T15:45:30.898Z"
   },
   {
    "duration": 78,
    "start_time": "2024-06-24T15:45:30.945Z"
   },
   {
    "duration": 110,
    "start_time": "2024-06-24T15:45:31.026Z"
   },
   {
    "duration": 58,
    "start_time": "2024-06-24T15:45:31.508Z"
   },
   {
    "duration": 16,
    "start_time": "2024-06-24T15:45:32.045Z"
   },
   {
    "duration": 79,
    "start_time": "2024-06-24T15:45:32.907Z"
   },
   {
    "duration": 10,
    "start_time": "2024-06-24T15:45:33.395Z"
   },
   {
    "duration": 1422,
    "start_time": "2024-06-24T15:46:55.886Z"
   },
   {
    "duration": 798,
    "start_time": "2024-06-24T15:46:57.312Z"
   },
   {
    "duration": 149,
    "start_time": "2024-06-24T15:46:58.113Z"
   },
   {
    "duration": 65,
    "start_time": "2024-06-24T15:46:58.266Z"
   },
   {
    "duration": 43,
    "start_time": "2024-06-24T15:46:58.334Z"
   },
   {
    "duration": 60,
    "start_time": "2024-06-24T15:46:58.381Z"
   },
   {
    "duration": 38,
    "start_time": "2024-06-24T15:46:58.444Z"
   },
   {
    "duration": 601,
    "start_time": "2024-06-24T15:46:58.485Z"
   },
   {
    "duration": 47,
    "start_time": "2024-06-24T15:46:59.090Z"
   },
   {
    "duration": 102,
    "start_time": "2024-06-24T15:46:59.142Z"
   },
   {
    "duration": 164,
    "start_time": "2024-06-24T15:46:59.247Z"
   },
   {
    "duration": 48,
    "start_time": "2024-06-24T15:46:59.414Z"
   },
   {
    "duration": 285,
    "start_time": "2024-06-24T15:46:59.465Z"
   },
   {
    "duration": 29,
    "start_time": "2024-06-24T15:46:59.754Z"
   },
   {
    "duration": 42,
    "start_time": "2024-06-24T15:46:59.787Z"
   },
   {
    "duration": 61,
    "start_time": "2024-06-24T15:46:59.930Z"
   },
   {
    "duration": 99,
    "start_time": "2024-06-24T15:47:00.507Z"
   },
   {
    "duration": 57,
    "start_time": "2024-06-24T15:47:00.949Z"
   },
   {
    "duration": 18,
    "start_time": "2024-06-24T15:47:01.355Z"
   },
   {
    "duration": 95,
    "start_time": "2024-06-24T15:47:03.451Z"
   },
   {
    "duration": 11,
    "start_time": "2024-06-24T15:47:03.618Z"
   },
   {
    "duration": 1761,
    "start_time": "2024-06-24T15:47:04.991Z"
   },
   {
    "duration": 12,
    "start_time": "2024-06-24T15:47:23.405Z"
   },
   {
    "duration": 511,
    "start_time": "2024-06-24T15:47:23.840Z"
   },
   {
    "duration": 11,
    "start_time": "2024-06-24T15:53:50.571Z"
   },
   {
    "duration": 18,
    "start_time": "2024-06-24T15:54:25.116Z"
   },
   {
    "duration": 1569,
    "start_time": "2024-06-24T15:54:30.121Z"
   },
   {
    "duration": 862,
    "start_time": "2024-06-24T15:54:33.107Z"
   },
   {
    "duration": 212,
    "start_time": "2024-06-24T15:54:33.973Z"
   },
   {
    "duration": 61,
    "start_time": "2024-06-24T15:54:34.189Z"
   },
   {
    "duration": 46,
    "start_time": "2024-06-24T15:54:34.253Z"
   },
   {
    "duration": 47,
    "start_time": "2024-06-24T15:54:34.353Z"
   },
   {
    "duration": 40,
    "start_time": "2024-06-24T15:54:34.530Z"
   },
   {
    "duration": 703,
    "start_time": "2024-06-24T15:54:34.705Z"
   },
   {
    "duration": 40,
    "start_time": "2024-06-24T15:54:35.411Z"
   },
   {
    "duration": 96,
    "start_time": "2024-06-24T15:54:35.454Z"
   },
   {
    "duration": 189,
    "start_time": "2024-06-24T15:54:35.555Z"
   },
   {
    "duration": 49,
    "start_time": "2024-06-24T15:54:35.748Z"
   },
   {
    "duration": 308,
    "start_time": "2024-06-24T15:54:35.801Z"
   },
   {
    "duration": 36,
    "start_time": "2024-06-24T15:54:36.113Z"
   },
   {
    "duration": 25,
    "start_time": "2024-06-24T15:54:36.153Z"
   },
   {
    "duration": 63,
    "start_time": "2024-06-24T15:54:36.458Z"
   },
   {
    "duration": 111,
    "start_time": "2024-06-24T15:54:37.019Z"
   },
   {
    "duration": 58,
    "start_time": "2024-06-24T15:54:37.490Z"
   },
   {
    "duration": 17,
    "start_time": "2024-06-24T15:54:37.707Z"
   },
   {
    "duration": 92,
    "start_time": "2024-06-24T15:54:38.217Z"
   },
   {
    "duration": 15,
    "start_time": "2024-06-24T15:54:38.868Z"
   },
   {
    "duration": 1604,
    "start_time": "2024-06-24T15:54:48.575Z"
   },
   {
    "duration": 892,
    "start_time": "2024-06-24T15:54:50.189Z"
   },
   {
    "duration": 207,
    "start_time": "2024-06-24T15:54:51.084Z"
   },
   {
    "duration": 71,
    "start_time": "2024-06-24T15:54:51.299Z"
   },
   {
    "duration": 77,
    "start_time": "2024-06-24T15:54:51.379Z"
   },
   {
    "duration": 70,
    "start_time": "2024-06-24T15:54:51.462Z"
   },
   {
    "duration": 37,
    "start_time": "2024-06-24T15:54:51.535Z"
   },
   {
    "duration": 732,
    "start_time": "2024-06-24T15:54:51.574Z"
   },
   {
    "duration": 41,
    "start_time": "2024-06-24T15:54:52.308Z"
   },
   {
    "duration": 92,
    "start_time": "2024-06-24T15:54:52.353Z"
   },
   {
    "duration": 182,
    "start_time": "2024-06-24T15:54:52.448Z"
   },
   {
    "duration": 49,
    "start_time": "2024-06-24T15:54:52.633Z"
   },
   {
    "duration": 293,
    "start_time": "2024-06-24T15:54:52.685Z"
   },
   {
    "duration": 46,
    "start_time": "2024-06-24T15:54:52.981Z"
   },
   {
    "duration": 25,
    "start_time": "2024-06-24T15:54:53.030Z"
   },
   {
    "duration": 82,
    "start_time": "2024-06-24T15:54:53.058Z"
   },
   {
    "duration": 106,
    "start_time": "2024-06-24T15:54:53.144Z"
   },
   {
    "duration": 67,
    "start_time": "2024-06-24T15:54:53.282Z"
   },
   {
    "duration": 16,
    "start_time": "2024-06-24T15:54:53.908Z"
   },
   {
    "duration": 81,
    "start_time": "2024-06-24T15:54:56.419Z"
   },
   {
    "duration": 12,
    "start_time": "2024-06-24T15:54:57.563Z"
   },
   {
    "duration": 1448,
    "start_time": "2024-06-24T15:55:22.475Z"
   },
   {
    "duration": 827,
    "start_time": "2024-06-24T15:55:23.927Z"
   },
   {
    "duration": 166,
    "start_time": "2024-06-24T15:55:24.757Z"
   },
   {
    "duration": 47,
    "start_time": "2024-06-24T15:55:24.925Z"
   },
   {
    "duration": 72,
    "start_time": "2024-06-24T15:55:24.978Z"
   },
   {
    "duration": 46,
    "start_time": "2024-06-24T15:55:25.054Z"
   },
   {
    "duration": 37,
    "start_time": "2024-06-24T15:55:25.123Z"
   },
   {
    "duration": 714,
    "start_time": "2024-06-24T15:55:25.164Z"
   },
   {
    "duration": 49,
    "start_time": "2024-06-24T15:55:25.881Z"
   },
   {
    "duration": 90,
    "start_time": "2024-06-24T15:55:25.933Z"
   },
   {
    "duration": 192,
    "start_time": "2024-06-24T15:55:26.026Z"
   },
   {
    "duration": 52,
    "start_time": "2024-06-24T15:55:26.227Z"
   },
   {
    "duration": 292,
    "start_time": "2024-06-24T15:55:26.283Z"
   },
   {
    "duration": 28,
    "start_time": "2024-06-24T15:55:26.578Z"
   },
   {
    "duration": 35,
    "start_time": "2024-06-24T15:55:26.609Z"
   },
   {
    "duration": 94,
    "start_time": "2024-06-24T15:55:26.647Z"
   },
   {
    "duration": 114,
    "start_time": "2024-06-24T15:55:26.746Z"
   },
   {
    "duration": 58,
    "start_time": "2024-06-24T15:55:26.882Z"
   },
   {
    "duration": 19,
    "start_time": "2024-06-24T15:55:27.090Z"
   },
   {
    "duration": 85,
    "start_time": "2024-06-24T15:55:27.654Z"
   },
   {
    "duration": 13,
    "start_time": "2024-06-24T15:55:28.243Z"
   },
   {
    "duration": 20,
    "start_time": "2024-06-24T15:56:20.468Z"
   },
   {
    "duration": 1470,
    "start_time": "2024-06-24T15:56:24.389Z"
   },
   {
    "duration": 834,
    "start_time": "2024-06-24T15:56:25.862Z"
   },
   {
    "duration": 163,
    "start_time": "2024-06-24T15:56:26.699Z"
   },
   {
    "duration": 72,
    "start_time": "2024-06-24T15:56:26.867Z"
   },
   {
    "duration": 47,
    "start_time": "2024-06-24T15:56:26.943Z"
   },
   {
    "duration": 73,
    "start_time": "2024-06-24T15:56:26.993Z"
   },
   {
    "duration": 54,
    "start_time": "2024-06-24T15:56:27.070Z"
   },
   {
    "duration": 659,
    "start_time": "2024-06-24T15:56:27.128Z"
   },
   {
    "duration": 46,
    "start_time": "2024-06-24T15:56:27.790Z"
   },
   {
    "duration": 91,
    "start_time": "2024-06-24T15:56:27.842Z"
   },
   {
    "duration": 193,
    "start_time": "2024-06-24T15:56:27.937Z"
   },
   {
    "duration": 47,
    "start_time": "2024-06-24T15:56:28.135Z"
   },
   {
    "duration": 283,
    "start_time": "2024-06-24T15:56:28.184Z"
   },
   {
    "duration": 32,
    "start_time": "2024-06-24T15:56:28.470Z"
   },
   {
    "duration": 40,
    "start_time": "2024-06-24T15:56:28.505Z"
   },
   {
    "duration": 87,
    "start_time": "2024-06-24T15:56:28.549Z"
   },
   {
    "duration": 107,
    "start_time": "2024-06-24T15:56:28.643Z"
   },
   {
    "duration": 84,
    "start_time": "2024-06-24T15:56:28.753Z"
   },
   {
    "duration": 19,
    "start_time": "2024-06-24T15:56:28.841Z"
   },
   {
    "duration": 81,
    "start_time": "2024-06-24T15:56:29.474Z"
   },
   {
    "duration": 23,
    "start_time": "2024-06-24T15:56:29.651Z"
   },
   {
    "duration": 12,
    "start_time": "2024-06-24T15:56:38.805Z"
   },
   {
    "duration": 19276,
    "start_time": "2024-06-24T15:56:42.764Z"
   },
   {
    "duration": 13,
    "start_time": "2024-06-24T15:59:21.902Z"
   },
   {
    "duration": 17579,
    "start_time": "2024-06-24T15:59:23.725Z"
   },
   {
    "duration": 12,
    "start_time": "2024-06-24T16:01:59.144Z"
   },
   {
    "duration": 20,
    "start_time": "2024-06-24T16:05:13.487Z"
   },
   {
    "duration": 306,
    "start_time": "2024-06-24T16:05:15.477Z"
   },
   {
    "duration": 1496,
    "start_time": "2024-06-24T16:05:21.493Z"
   },
   {
    "duration": 773,
    "start_time": "2024-06-24T16:05:22.993Z"
   },
   {
    "duration": 159,
    "start_time": "2024-06-24T16:05:23.768Z"
   },
   {
    "duration": 46,
    "start_time": "2024-06-24T16:05:23.931Z"
   },
   {
    "duration": 64,
    "start_time": "2024-06-24T16:05:23.980Z"
   },
   {
    "duration": 41,
    "start_time": "2024-06-24T16:05:24.047Z"
   },
   {
    "duration": 55,
    "start_time": "2024-06-24T16:05:24.091Z"
   },
   {
    "duration": 590,
    "start_time": "2024-06-24T16:05:24.149Z"
   },
   {
    "duration": 32,
    "start_time": "2024-06-24T16:05:24.742Z"
   },
   {
    "duration": 100,
    "start_time": "2024-06-24T16:05:24.779Z"
   },
   {
    "duration": 180,
    "start_time": "2024-06-24T16:05:24.882Z"
   },
   {
    "duration": 42,
    "start_time": "2024-06-24T16:05:25.065Z"
   },
   {
    "duration": 188,
    "start_time": "2024-06-24T16:05:25.124Z"
   },
   {
    "duration": 27,
    "start_time": "2024-06-24T16:05:25.324Z"
   },
   {
    "duration": 22,
    "start_time": "2024-06-24T16:05:25.354Z"
   },
   {
    "duration": 88,
    "start_time": "2024-06-24T16:05:25.379Z"
   },
   {
    "duration": 100,
    "start_time": "2024-06-24T16:05:25.471Z"
   },
   {
    "duration": 67,
    "start_time": "2024-06-24T16:05:25.672Z"
   },
   {
    "duration": 16,
    "start_time": "2024-06-24T16:05:25.843Z"
   },
   {
    "duration": 80,
    "start_time": "2024-06-24T16:05:26.682Z"
   },
   {
    "duration": 11,
    "start_time": "2024-06-24T16:05:27.252Z"
   },
   {
    "duration": 497,
    "start_time": "2024-06-24T16:05:27.817Z"
   },
   {
    "duration": 12,
    "start_time": "2024-06-24T16:06:31.853Z"
   },
   {
    "duration": 476,
    "start_time": "2024-06-24T16:06:32.416Z"
   },
   {
    "duration": 15,
    "start_time": "2024-06-24T16:07:31.134Z"
   },
   {
    "duration": 487,
    "start_time": "2024-06-24T16:07:31.571Z"
   },
   {
    "duration": 12,
    "start_time": "2024-06-24T16:08:01.312Z"
   },
   {
    "duration": 635,
    "start_time": "2024-06-24T16:08:02.687Z"
   },
   {
    "duration": 13,
    "start_time": "2024-06-24T16:08:33.190Z"
   },
   {
    "duration": 1454,
    "start_time": "2024-06-24T16:10:14.710Z"
   },
   {
    "duration": 816,
    "start_time": "2024-06-24T16:10:16.168Z"
   },
   {
    "duration": 159,
    "start_time": "2024-06-24T16:10:16.987Z"
   },
   {
    "duration": 44,
    "start_time": "2024-06-24T16:10:17.150Z"
   },
   {
    "duration": 58,
    "start_time": "2024-06-24T16:10:17.198Z"
   },
   {
    "duration": 63,
    "start_time": "2024-06-24T16:10:17.259Z"
   },
   {
    "duration": 40,
    "start_time": "2024-06-24T16:10:17.324Z"
   },
   {
    "duration": 666,
    "start_time": "2024-06-24T16:10:17.367Z"
   },
   {
    "duration": 30,
    "start_time": "2024-06-24T16:10:18.036Z"
   },
   {
    "duration": 103,
    "start_time": "2024-06-24T16:10:18.070Z"
   },
   {
    "duration": 173,
    "start_time": "2024-06-24T16:10:18.176Z"
   },
   {
    "duration": 43,
    "start_time": "2024-06-24T16:10:18.354Z"
   },
   {
    "duration": 266,
    "start_time": "2024-06-24T16:10:18.401Z"
   },
   {
    "duration": 33,
    "start_time": "2024-06-24T16:10:18.671Z"
   },
   {
    "duration": 21,
    "start_time": "2024-06-24T16:10:18.723Z"
   },
   {
    "duration": 69,
    "start_time": "2024-06-24T16:10:19.078Z"
   },
   {
    "duration": 97,
    "start_time": "2024-06-24T16:10:19.836Z"
   },
   {
    "duration": 62,
    "start_time": "2024-06-24T16:10:20.478Z"
   },
   {
    "duration": 18,
    "start_time": "2024-06-24T16:10:20.895Z"
   },
   {
    "duration": 80,
    "start_time": "2024-06-24T16:10:21.721Z"
   },
   {
    "duration": 12,
    "start_time": "2024-06-24T16:10:22.303Z"
   },
   {
    "duration": 8704,
    "start_time": "2024-06-24T16:12:13.040Z"
   },
   {
    "duration": 12,
    "start_time": "2024-06-24T16:13:29.114Z"
   },
   {
    "duration": 13775,
    "start_time": "2024-06-24T16:13:30.418Z"
   },
   {
    "duration": 12,
    "start_time": "2024-06-24T16:14:55.771Z"
   },
   {
    "duration": 250,
    "start_time": "2024-06-24T16:14:56.394Z"
   },
   {
    "duration": 14,
    "start_time": "2024-06-24T16:15:22.292Z"
   },
   {
    "duration": 312,
    "start_time": "2024-06-24T16:15:22.819Z"
   },
   {
    "duration": 849,
    "start_time": "2024-06-24T16:16:06.723Z"
   },
   {
    "duration": 12,
    "start_time": "2024-06-24T16:16:23.817Z"
   },
   {
    "duration": 1480,
    "start_time": "2024-06-24T16:16:31.863Z"
   },
   {
    "duration": 1584,
    "start_time": "2024-06-24T16:16:46.244Z"
   },
   {
    "duration": 1197,
    "start_time": "2024-06-24T16:16:54.885Z"
   },
   {
    "duration": 1167,
    "start_time": "2024-06-24T16:17:22.908Z"
   },
   {
    "duration": 12,
    "start_time": "2024-06-24T16:17:26.639Z"
   },
   {
    "duration": 728,
    "start_time": "2024-06-24T16:17:27.324Z"
   },
   {
    "duration": 850,
    "start_time": "2024-06-24T16:17:52.901Z"
   },
   {
    "duration": 12,
    "start_time": "2024-06-24T16:17:55.893Z"
   },
   {
    "duration": 1753,
    "start_time": "2024-06-24T16:17:57.225Z"
   },
   {
    "duration": 12,
    "start_time": "2024-06-24T16:18:04.847Z"
   },
   {
    "duration": 1726,
    "start_time": "2024-06-24T16:18:05.260Z"
   },
   {
    "duration": 12,
    "start_time": "2024-06-24T16:18:55.164Z"
   },
   {
    "duration": 13,
    "start_time": "2024-06-24T16:19:03.846Z"
   },
   {
    "duration": 142,
    "start_time": "2024-06-24T16:19:04.247Z"
   },
   {
    "duration": 16,
    "start_time": "2024-06-24T16:19:17.543Z"
   },
   {
    "duration": 11,
    "start_time": "2024-06-24T16:19:18.053Z"
   },
   {
    "duration": 13,
    "start_time": "2024-06-24T16:19:42.674Z"
   },
   {
    "duration": 10,
    "start_time": "2024-06-24T16:19:43.341Z"
   },
   {
    "duration": 13,
    "start_time": "2024-06-24T16:20:13.830Z"
   },
   {
    "duration": 1739,
    "start_time": "2024-06-24T16:20:15.143Z"
   },
   {
    "duration": 12,
    "start_time": "2024-06-24T16:21:47.202Z"
   },
   {
    "duration": 148,
    "start_time": "2024-06-24T16:21:47.870Z"
   },
   {
    "duration": 12,
    "start_time": "2024-06-24T16:21:54.950Z"
   },
   {
    "duration": 1692,
    "start_time": "2024-06-24T16:21:55.405Z"
   },
   {
    "duration": 12,
    "start_time": "2024-06-24T16:22:36.960Z"
   },
   {
    "duration": 1667,
    "start_time": "2024-06-24T16:22:37.425Z"
   },
   {
    "duration": 13,
    "start_time": "2024-06-24T16:23:21.397Z"
   },
   {
    "duration": 1770,
    "start_time": "2024-06-24T16:23:22.128Z"
   },
   {
    "duration": 12,
    "start_time": "2024-06-24T16:24:50.358Z"
   },
   {
    "duration": 1751,
    "start_time": "2024-06-24T16:24:50.840Z"
   },
   {
    "duration": 12,
    "start_time": "2024-06-24T16:25:15.089Z"
   },
   {
    "duration": 1699,
    "start_time": "2024-06-24T16:25:15.483Z"
   },
   {
    "duration": 12,
    "start_time": "2024-06-24T16:28:03.213Z"
   },
   {
    "duration": 1743,
    "start_time": "2024-06-24T16:28:05.345Z"
   },
   {
    "duration": 12,
    "start_time": "2024-06-24T16:28:44.563Z"
   },
   {
    "duration": 1437,
    "start_time": "2024-06-24T16:28:45.451Z"
   },
   {
    "duration": 12,
    "start_time": "2024-06-24T16:28:59.629Z"
   },
   {
    "duration": 1636,
    "start_time": "2024-06-24T16:29:00.408Z"
   },
   {
    "duration": 13,
    "start_time": "2024-06-24T16:29:28.646Z"
   },
   {
    "duration": 1641,
    "start_time": "2024-06-24T16:29:29.235Z"
   },
   {
    "duration": 14,
    "start_time": "2024-06-24T16:30:07.333Z"
   },
   {
    "duration": 1161,
    "start_time": "2024-06-24T16:30:07.804Z"
   },
   {
    "duration": 442,
    "start_time": "2024-06-24T16:30:38.599Z"
   },
   {
    "duration": 14,
    "start_time": "2024-06-24T16:30:46.536Z"
   },
   {
    "duration": 443,
    "start_time": "2024-06-24T16:30:47.014Z"
   },
   {
    "duration": 14,
    "start_time": "2024-06-24T16:31:33.097Z"
   },
   {
    "duration": 502,
    "start_time": "2024-06-24T16:31:34.022Z"
   },
   {
    "duration": 15,
    "start_time": "2024-06-24T16:31:43.984Z"
   },
   {
    "duration": 474,
    "start_time": "2024-06-24T16:31:44.553Z"
   },
   {
    "duration": 15,
    "start_time": "2024-06-24T16:31:51.149Z"
   },
   {
    "duration": 478,
    "start_time": "2024-06-24T16:31:52.249Z"
   },
   {
    "duration": 14,
    "start_time": "2024-06-24T16:32:21.475Z"
   },
   {
    "duration": 15,
    "start_time": "2024-06-24T16:32:33.381Z"
   },
   {
    "duration": 14,
    "start_time": "2024-06-24T16:32:57.496Z"
   },
   {
    "duration": 18,
    "start_time": "2024-06-24T16:33:17.025Z"
   },
   {
    "duration": 504,
    "start_time": "2024-06-24T16:33:17.548Z"
   },
   {
    "duration": 18,
    "start_time": "2024-06-24T16:34:00.789Z"
   },
   {
    "duration": 450,
    "start_time": "2024-06-24T16:34:02.175Z"
   },
   {
    "duration": 15,
    "start_time": "2024-06-24T16:34:08.764Z"
   },
   {
    "duration": 5,
    "start_time": "2024-06-24T16:34:17.784Z"
   },
   {
    "duration": 684,
    "start_time": "2024-06-24T16:34:18.124Z"
   },
   {
    "duration": 181,
    "start_time": "2024-06-24T16:34:18.812Z"
   },
   {
    "duration": 64,
    "start_time": "2024-06-24T16:34:18.996Z"
   },
   {
    "duration": 59,
    "start_time": "2024-06-24T16:34:19.064Z"
   },
   {
    "duration": 44,
    "start_time": "2024-06-24T16:34:19.128Z"
   },
   {
    "duration": 64,
    "start_time": "2024-06-24T16:34:19.177Z"
   },
   {
    "duration": 604,
    "start_time": "2024-06-24T16:34:19.322Z"
   },
   {
    "duration": 37,
    "start_time": "2024-06-24T16:34:19.929Z"
   },
   {
    "duration": 103,
    "start_time": "2024-06-24T16:34:19.969Z"
   },
   {
    "duration": 195,
    "start_time": "2024-06-24T16:34:20.076Z"
   },
   {
    "duration": 62,
    "start_time": "2024-06-24T16:34:20.274Z"
   },
   {
    "duration": 197,
    "start_time": "2024-06-24T16:34:20.339Z"
   },
   {
    "duration": 29,
    "start_time": "2024-06-24T16:34:20.539Z"
   },
   {
    "duration": 30,
    "start_time": "2024-06-24T16:34:20.726Z"
   },
   {
    "duration": 80,
    "start_time": "2024-06-24T16:34:21.295Z"
   },
   {
    "duration": 101,
    "start_time": "2024-06-24T16:34:21.656Z"
   },
   {
    "duration": 65,
    "start_time": "2024-06-24T16:34:22.279Z"
   },
   {
    "duration": 19,
    "start_time": "2024-06-24T16:34:22.550Z"
   },
   {
    "duration": 84,
    "start_time": "2024-06-24T16:34:23.375Z"
   },
   {
    "duration": 14,
    "start_time": "2024-06-24T16:34:23.978Z"
   },
   {
    "duration": 19,
    "start_time": "2024-06-24T16:34:36.794Z"
   },
   {
    "duration": 13,
    "start_time": "2024-06-24T16:35:00.480Z"
   },
   {
    "duration": 17,
    "start_time": "2024-06-24T16:35:06.955Z"
   },
   {
    "duration": 10,
    "start_time": "2024-06-24T16:35:21.231Z"
   },
   {
    "duration": 28,
    "start_time": "2024-06-24T16:35:31.018Z"
   },
   {
    "duration": 14,
    "start_time": "2024-06-24T16:36:08.419Z"
   },
   {
    "duration": 11,
    "start_time": "2024-06-24T16:36:35.009Z"
   },
   {
    "duration": 13,
    "start_time": "2024-06-24T16:36:47.355Z"
   },
   {
    "duration": 13,
    "start_time": "2024-06-24T16:36:59.787Z"
   },
   {
    "duration": 12,
    "start_time": "2024-06-24T16:37:38.183Z"
   },
   {
    "duration": 13,
    "start_time": "2024-06-24T16:37:50.611Z"
   },
   {
    "duration": 856,
    "start_time": "2024-06-24T16:37:51.467Z"
   },
   {
    "duration": 13,
    "start_time": "2024-06-24T16:38:15.828Z"
   },
   {
    "duration": 632,
    "start_time": "2024-06-24T16:38:16.625Z"
   },
   {
    "duration": 13,
    "start_time": "2024-06-24T16:38:26.964Z"
   },
   {
    "duration": 846,
    "start_time": "2024-06-24T16:38:28.721Z"
   },
   {
    "duration": 775,
    "start_time": "2024-06-24T16:38:35.499Z"
   },
   {
    "duration": 11,
    "start_time": "2024-06-24T16:38:36.278Z"
   },
   {
    "duration": 72,
    "start_time": "2024-06-24T16:38:44.642Z"
   },
   {
    "duration": 51,
    "start_time": "2024-06-24T16:38:54.123Z"
   },
   {
    "duration": 49,
    "start_time": "2024-06-24T16:39:14.394Z"
   },
   {
    "duration": 46,
    "start_time": "2024-06-24T16:39:19.619Z"
   },
   {
    "duration": 48,
    "start_time": "2024-06-24T16:39:40.116Z"
   },
   {
    "duration": 13,
    "start_time": "2024-06-24T16:39:42.566Z"
   },
   {
    "duration": 840,
    "start_time": "2024-06-24T16:39:43.012Z"
   },
   {
    "duration": 169,
    "start_time": "2024-06-24T16:39:49.461Z"
   },
   {
    "duration": 161,
    "start_time": "2024-06-24T16:39:55.307Z"
   },
   {
    "duration": 601,
    "start_time": "2024-06-24T16:40:03.036Z"
   },
   {
    "duration": 13,
    "start_time": "2024-06-24T16:40:09.205Z"
   },
   {
    "duration": 568,
    "start_time": "2024-06-24T16:40:10.556Z"
   },
   {
    "duration": 13,
    "start_time": "2024-06-24T16:40:20.885Z"
   },
   {
    "duration": 631,
    "start_time": "2024-06-24T16:40:23.492Z"
   },
   {
    "duration": 2067,
    "start_time": "2024-06-24T16:40:47.012Z"
   },
   {
    "duration": 1991,
    "start_time": "2024-06-24T16:43:06.497Z"
   },
   {
    "duration": 774,
    "start_time": "2024-06-24T17:16:12.564Z"
   },
   {
    "duration": 1609,
    "start_time": "2024-06-24T17:16:51.582Z"
   },
   {
    "duration": 951,
    "start_time": "2024-06-24T17:16:53.194Z"
   },
   {
    "duration": 210,
    "start_time": "2024-06-24T17:16:54.815Z"
   },
   {
    "duration": 44,
    "start_time": "2024-06-24T17:16:56.262Z"
   },
   {
    "duration": 47,
    "start_time": "2024-06-24T17:16:56.414Z"
   },
   {
    "duration": 48,
    "start_time": "2024-06-24T17:16:56.581Z"
   },
   {
    "duration": 46,
    "start_time": "2024-06-24T17:16:56.757Z"
   },
   {
    "duration": 655,
    "start_time": "2024-06-24T17:16:56.942Z"
   },
   {
    "duration": 44,
    "start_time": "2024-06-24T17:16:57.601Z"
   },
   {
    "duration": 96,
    "start_time": "2024-06-24T17:16:57.649Z"
   },
   {
    "duration": 183,
    "start_time": "2024-06-24T17:16:57.750Z"
   },
   {
    "duration": 50,
    "start_time": "2024-06-24T17:16:57.937Z"
   },
   {
    "duration": 304,
    "start_time": "2024-06-24T17:16:57.995Z"
   },
   {
    "duration": 36,
    "start_time": "2024-06-24T17:16:58.306Z"
   },
   {
    "duration": 23,
    "start_time": "2024-06-24T17:16:58.346Z"
   },
   {
    "duration": 96,
    "start_time": "2024-06-24T17:16:59.142Z"
   },
   {
    "duration": 129,
    "start_time": "2024-06-24T17:16:59.687Z"
   },
   {
    "duration": 61,
    "start_time": "2024-06-24T17:17:00.045Z"
   },
   {
    "duration": 21,
    "start_time": "2024-06-24T17:17:01.263Z"
   },
   {
    "duration": 86,
    "start_time": "2024-06-24T17:17:02.039Z"
   },
   {
    "duration": 14,
    "start_time": "2024-06-24T17:17:03.352Z"
   },
   {
    "duration": 17358,
    "start_time": "2024-06-24T17:17:08.943Z"
   },
   {
    "duration": 8234,
    "start_time": "2024-06-24T17:17:37.209Z"
   },
   {
    "duration": 5440,
    "start_time": "2024-06-24T17:20:10.530Z"
   },
   {
    "duration": 4055,
    "start_time": "2024-06-24T17:20:21.936Z"
   },
   {
    "duration": 20,
    "start_time": "2024-06-24T17:21:30.717Z"
   },
   {
    "duration": 4561,
    "start_time": "2024-06-24T17:21:31.965Z"
   },
   {
    "duration": 16,
    "start_time": "2024-06-24T17:21:55.723Z"
   },
   {
    "duration": 4915,
    "start_time": "2024-06-24T17:21:56.938Z"
   },
   {
    "duration": 14,
    "start_time": "2024-06-24T17:25:55.798Z"
   },
   {
    "duration": 4131,
    "start_time": "2024-06-24T17:25:56.498Z"
   },
   {
    "duration": 13,
    "start_time": "2024-06-24T17:26:14.168Z"
   },
   {
    "duration": 4242,
    "start_time": "2024-06-24T17:26:15.173Z"
   },
   {
    "duration": 12,
    "start_time": "2024-06-24T17:27:20.279Z"
   },
   {
    "duration": 152,
    "start_time": "2024-06-24T17:27:20.823Z"
   },
   {
    "duration": 15,
    "start_time": "2024-06-24T17:28:29.872Z"
   },
   {
    "duration": 147,
    "start_time": "2024-06-24T17:28:32.686Z"
   },
   {
    "duration": 16,
    "start_time": "2024-06-24T17:28:51.026Z"
   },
   {
    "duration": 163,
    "start_time": "2024-06-24T17:28:51.375Z"
   },
   {
    "duration": 24,
    "start_time": "2024-06-24T17:29:42.593Z"
   },
   {
    "duration": 17,
    "start_time": "2024-06-24T17:30:01.170Z"
   },
   {
    "duration": 182,
    "start_time": "2024-06-24T17:30:02.441Z"
   },
   {
    "duration": 16,
    "start_time": "2024-06-24T17:30:28.211Z"
   },
   {
    "duration": 160,
    "start_time": "2024-06-24T17:30:28.826Z"
   },
   {
    "duration": 16,
    "start_time": "2024-06-24T17:30:44.489Z"
   },
   {
    "duration": 192,
    "start_time": "2024-06-24T17:30:44.890Z"
   },
   {
    "duration": 16,
    "start_time": "2024-06-24T17:31:45.554Z"
   },
   {
    "duration": 621,
    "start_time": "2024-06-24T17:31:46.106Z"
   },
   {
    "duration": 13,
    "start_time": "2024-06-24T17:32:17.836Z"
   },
   {
    "duration": 222,
    "start_time": "2024-06-24T17:32:18.420Z"
   },
   {
    "duration": 23,
    "start_time": "2024-06-24T17:33:57.333Z"
   },
   {
    "duration": 156,
    "start_time": "2024-06-24T17:33:57.891Z"
   },
   {
    "duration": 14,
    "start_time": "2024-06-24T17:34:49.158Z"
   },
   {
    "duration": 183,
    "start_time": "2024-06-24T17:34:49.635Z"
   },
   {
    "duration": 15,
    "start_time": "2024-06-24T17:36:21.079Z"
   },
   {
    "duration": 156,
    "start_time": "2024-06-24T17:36:21.525Z"
   },
   {
    "duration": 13,
    "start_time": "2024-06-24T17:36:26.289Z"
   },
   {
    "duration": 170,
    "start_time": "2024-06-24T17:36:26.813Z"
   },
   {
    "duration": 15,
    "start_time": "2024-06-24T17:36:48.203Z"
   },
   {
    "duration": 168,
    "start_time": "2024-06-24T17:36:49.047Z"
   },
   {
    "duration": 13,
    "start_time": "2024-06-24T17:37:08.783Z"
   },
   {
    "duration": 148,
    "start_time": "2024-06-24T17:37:09.215Z"
   },
   {
    "duration": 5,
    "start_time": "2024-06-24T17:37:45.525Z"
   },
   {
    "duration": 734,
    "start_time": "2024-06-24T17:37:45.844Z"
   },
   {
    "duration": 213,
    "start_time": "2024-06-24T17:37:46.582Z"
   },
   {
    "duration": 60,
    "start_time": "2024-06-24T17:37:46.799Z"
   },
   {
    "duration": 60,
    "start_time": "2024-06-24T17:37:46.864Z"
   },
   {
    "duration": 36,
    "start_time": "2024-06-24T17:37:46.926Z"
   },
   {
    "duration": 64,
    "start_time": "2024-06-24T17:37:46.966Z"
   },
   {
    "duration": 622,
    "start_time": "2024-06-24T17:37:47.037Z"
   },
   {
    "duration": 43,
    "start_time": "2024-06-24T17:37:47.663Z"
   },
   {
    "duration": 128,
    "start_time": "2024-06-24T17:37:47.724Z"
   },
   {
    "duration": 213,
    "start_time": "2024-06-24T17:37:47.857Z"
   },
   {
    "duration": 66,
    "start_time": "2024-06-24T17:37:48.073Z"
   },
   {
    "duration": 196,
    "start_time": "2024-06-24T17:37:48.143Z"
   },
   {
    "duration": 31,
    "start_time": "2024-06-24T17:37:48.343Z"
   },
   {
    "duration": 24,
    "start_time": "2024-06-24T17:37:48.668Z"
   },
   {
    "duration": 63,
    "start_time": "2024-06-24T17:37:49.301Z"
   },
   {
    "duration": 148,
    "start_time": "2024-06-24T17:37:49.715Z"
   },
   {
    "duration": 63,
    "start_time": "2024-06-24T17:37:50.070Z"
   },
   {
    "duration": 18,
    "start_time": "2024-06-24T17:37:50.462Z"
   },
   {
    "duration": 80,
    "start_time": "2024-06-24T17:37:51.511Z"
   },
   {
    "duration": 22,
    "start_time": "2024-06-24T17:37:54.861Z"
   },
   {
    "duration": 15,
    "start_time": "2024-06-24T17:38:32.288Z"
   },
   {
    "duration": 183,
    "start_time": "2024-06-24T17:38:33.103Z"
   },
   {
    "duration": 20,
    "start_time": "2024-06-24T17:44:27.254Z"
   },
   {
    "duration": 19,
    "start_time": "2024-06-24T17:44:37.332Z"
   },
   {
    "duration": 180,
    "start_time": "2024-06-24T17:44:37.824Z"
   },
   {
    "duration": 15,
    "start_time": "2024-06-24T17:45:08.348Z"
   },
   {
    "duration": 147,
    "start_time": "2024-06-24T17:45:09.765Z"
   },
   {
    "duration": 16,
    "start_time": "2024-06-24T17:45:23.613Z"
   },
   {
    "duration": 150,
    "start_time": "2024-06-24T17:45:24.507Z"
   },
   {
    "duration": 15,
    "start_time": "2024-06-24T17:45:59.261Z"
   },
   {
    "duration": 196,
    "start_time": "2024-06-24T17:45:59.802Z"
   },
   {
    "duration": 15,
    "start_time": "2024-06-24T17:47:22.842Z"
   },
   {
    "duration": 183,
    "start_time": "2024-06-24T17:47:23.205Z"
   },
   {
    "duration": 13,
    "start_time": "2024-06-24T18:02:46.897Z"
   },
   {
    "duration": 169,
    "start_time": "2024-06-24T18:02:47.608Z"
   },
   {
    "duration": 17,
    "start_time": "2024-06-24T18:02:54.427Z"
   },
   {
    "duration": 159,
    "start_time": "2024-06-24T18:02:54.800Z"
   },
   {
    "duration": 13,
    "start_time": "2024-06-24T18:03:16.217Z"
   },
   {
    "duration": 221,
    "start_time": "2024-06-24T18:03:16.543Z"
   },
   {
    "duration": 12,
    "start_time": "2024-06-24T18:04:09.108Z"
   },
   {
    "duration": 157,
    "start_time": "2024-06-24T18:04:10.223Z"
   },
   {
    "duration": 21,
    "start_time": "2024-06-24T18:04:46.629Z"
   },
   {
    "duration": 179,
    "start_time": "2024-06-24T18:04:47.144Z"
   },
   {
    "duration": 18,
    "start_time": "2024-06-24T18:05:10.823Z"
   },
   {
    "duration": 158,
    "start_time": "2024-06-24T18:05:12.843Z"
   },
   {
    "duration": 17,
    "start_time": "2024-06-24T18:06:09.261Z"
   },
   {
    "duration": 2945,
    "start_time": "2024-06-24T18:06:10.125Z"
   },
   {
    "duration": 6695,
    "start_time": "2024-06-24T18:06:49.283Z"
   },
   {
    "duration": 14,
    "start_time": "2024-06-24T18:06:55.983Z"
   },
   {
    "duration": 19,
    "start_time": "2024-06-24T18:07:03.188Z"
   },
   {
    "duration": 13731,
    "start_time": "2024-06-24T18:07:03.951Z"
   },
   {
    "duration": 47171,
    "start_time": "2024-06-24T18:08:00.731Z"
   },
   {
    "duration": 12,
    "start_time": "2024-06-24T18:10:47.786Z"
   },
   {
    "duration": 13,
    "start_time": "2024-06-24T18:11:08.778Z"
   },
   {
    "duration": 45544,
    "start_time": "2024-06-24T18:11:09.256Z"
   },
   {
    "duration": 15,
    "start_time": "2024-06-24T18:16:16.388Z"
   },
   {
    "duration": 14,
    "start_time": "2024-06-24T18:16:43.381Z"
   },
   {
    "duration": 45777,
    "start_time": "2024-06-24T18:16:44.147Z"
   },
   {
    "duration": 13,
    "start_time": "2024-06-24T18:19:51.056Z"
   },
   {
    "duration": 45560,
    "start_time": "2024-06-24T18:19:51.989Z"
   },
   {
    "duration": 559,
    "start_time": "2024-06-24T18:21:18.838Z"
   },
   {
    "duration": 37,
    "start_time": "2024-06-24T18:21:28.524Z"
   },
   {
    "duration": 31194,
    "start_time": "2024-06-24T18:28:43.468Z"
   },
   {
    "duration": 19,
    "start_time": "2024-06-24T18:32:12.080Z"
   },
   {
    "duration": 17742,
    "start_time": "2024-06-24T18:32:16.166Z"
   },
   {
    "duration": 19,
    "start_time": "2024-06-24T18:32:37.656Z"
   },
   {
    "duration": 21568,
    "start_time": "2024-06-24T18:32:41.839Z"
   },
   {
    "duration": 15,
    "start_time": "2024-06-24T18:33:24.217Z"
   },
   {
    "duration": 1695,
    "start_time": "2024-06-24T18:34:31.545Z"
   },
   {
    "duration": 945,
    "start_time": "2024-06-24T18:34:33.244Z"
   },
   {
    "duration": 166,
    "start_time": "2024-06-24T18:34:34.192Z"
   },
   {
    "duration": 64,
    "start_time": "2024-06-24T18:34:34.362Z"
   },
   {
    "duration": 57,
    "start_time": "2024-06-24T18:34:34.429Z"
   },
   {
    "duration": 77,
    "start_time": "2024-06-24T18:34:34.490Z"
   },
   {
    "duration": 60,
    "start_time": "2024-06-24T18:34:34.571Z"
   },
   {
    "duration": 705,
    "start_time": "2024-06-24T18:34:34.634Z"
   },
   {
    "duration": 33,
    "start_time": "2024-06-24T18:34:35.346Z"
   },
   {
    "duration": 106,
    "start_time": "2024-06-24T18:34:35.384Z"
   },
   {
    "duration": 190,
    "start_time": "2024-06-24T18:34:35.494Z"
   },
   {
    "duration": 79,
    "start_time": "2024-06-24T18:34:35.687Z"
   },
   {
    "duration": 285,
    "start_time": "2024-06-24T18:34:35.769Z"
   },
   {
    "duration": 31,
    "start_time": "2024-06-24T18:34:36.059Z"
   },
   {
    "duration": 40,
    "start_time": "2024-06-24T18:34:36.094Z"
   },
   {
    "duration": 114,
    "start_time": "2024-06-24T18:34:36.137Z"
   },
   {
    "duration": 112,
    "start_time": "2024-06-24T18:34:36.255Z"
   },
   {
    "duration": 84,
    "start_time": "2024-06-24T18:34:36.372Z"
   },
   {
    "duration": 22,
    "start_time": "2024-06-24T18:34:36.459Z"
   },
   {
    "duration": 119,
    "start_time": "2024-06-24T18:34:36.485Z"
   },
   {
    "duration": 37,
    "start_time": "2024-06-24T18:34:36.607Z"
   },
   {
    "duration": 20,
    "start_time": "2024-06-24T18:34:36.648Z"
   },
   {
    "duration": 50852,
    "start_time": "2024-06-24T18:34:37.681Z"
   },
   {
    "duration": 18,
    "start_time": "2024-06-24T18:35:42.577Z"
   },
   {
    "duration": 48532,
    "start_time": "2024-06-24T18:35:42.977Z"
   },
   {
    "duration": 18,
    "start_time": "2024-06-24T18:40:44.462Z"
   },
   {
    "duration": 31792,
    "start_time": "2024-06-24T18:40:45.171Z"
   },
   {
    "duration": 18,
    "start_time": "2024-06-24T18:41:25.568Z"
   },
   {
    "duration": 22,
    "start_time": "2024-06-24T18:45:32.305Z"
   },
   {
    "duration": 1648,
    "start_time": "2024-06-24T18:45:38.199Z"
   },
   {
    "duration": 892,
    "start_time": "2024-06-24T18:45:39.850Z"
   },
   {
    "duration": 160,
    "start_time": "2024-06-24T18:45:40.747Z"
   },
   {
    "duration": 62,
    "start_time": "2024-06-24T18:45:40.911Z"
   },
   {
    "duration": 74,
    "start_time": "2024-06-24T18:45:40.977Z"
   },
   {
    "duration": 69,
    "start_time": "2024-06-24T18:45:41.054Z"
   },
   {
    "duration": 50,
    "start_time": "2024-06-24T18:45:41.126Z"
   },
   {
    "duration": 685,
    "start_time": "2024-06-24T18:45:41.184Z"
   },
   {
    "duration": 51,
    "start_time": "2024-06-24T18:45:41.872Z"
   },
   {
    "duration": 104,
    "start_time": "2024-06-24T18:45:41.929Z"
   },
   {
    "duration": 191,
    "start_time": "2024-06-24T18:45:42.039Z"
   },
   {
    "duration": 47,
    "start_time": "2024-06-24T18:45:42.234Z"
   },
   {
    "duration": 288,
    "start_time": "2024-06-24T18:45:42.285Z"
   },
   {
    "duration": 47,
    "start_time": "2024-06-24T18:45:42.579Z"
   },
   {
    "duration": 33,
    "start_time": "2024-06-24T18:45:42.630Z"
   },
   {
    "duration": 118,
    "start_time": "2024-06-24T18:45:42.667Z"
   },
   {
    "duration": 104,
    "start_time": "2024-06-24T18:45:43.296Z"
   },
   {
    "duration": 67,
    "start_time": "2024-06-24T18:45:43.718Z"
   },
   {
    "duration": 19,
    "start_time": "2024-06-24T18:45:43.910Z"
   },
   {
    "duration": 82,
    "start_time": "2024-06-24T18:45:44.297Z"
   },
   {
    "duration": 23,
    "start_time": "2024-06-24T18:45:44.763Z"
   },
   {
    "duration": 15,
    "start_time": "2024-06-24T18:45:45.509Z"
   },
   {
    "duration": 50824,
    "start_time": "2024-06-24T18:45:46.168Z"
   },
   {
    "duration": 43110,
    "start_time": "2024-06-24T18:46:39.156Z"
   },
   {
    "duration": 22601,
    "start_time": "2024-06-24T18:47:46.066Z"
   },
   {
    "duration": 22,
    "start_time": "2024-06-24T18:50:47.086Z"
   },
   {
    "duration": 24003,
    "start_time": "2024-06-24T18:51:09.804Z"
   },
   {
    "duration": 3975,
    "start_time": "2024-06-24T18:51:37.904Z"
   },
   {
    "duration": 16,
    "start_time": "2024-06-24T18:51:44.656Z"
   },
   {
    "duration": 28,
    "start_time": "2024-06-24T18:52:09.351Z"
   },
   {
    "duration": 379,
    "start_time": "2024-06-24T18:52:11.757Z"
   },
   {
    "duration": 28,
    "start_time": "2024-06-24T18:52:25.423Z"
   },
   {
    "duration": 1888,
    "start_time": "2024-06-24T18:52:33.308Z"
   },
   {
    "duration": 866,
    "start_time": "2024-06-24T18:52:35.200Z"
   },
   {
    "duration": 161,
    "start_time": "2024-06-24T18:52:36.069Z"
   },
   {
    "duration": 47,
    "start_time": "2024-06-24T18:52:36.234Z"
   },
   {
    "duration": 77,
    "start_time": "2024-06-24T18:52:36.284Z"
   },
   {
    "duration": 43,
    "start_time": "2024-06-24T18:52:36.367Z"
   },
   {
    "duration": 40,
    "start_time": "2024-06-24T18:52:36.424Z"
   },
   {
    "duration": 710,
    "start_time": "2024-06-24T18:52:36.467Z"
   },
   {
    "duration": 48,
    "start_time": "2024-06-24T18:52:37.180Z"
   },
   {
    "duration": 94,
    "start_time": "2024-06-24T18:52:37.232Z"
   },
   {
    "duration": 210,
    "start_time": "2024-06-24T18:52:37.329Z"
   },
   {
    "duration": 48,
    "start_time": "2024-06-24T18:52:37.543Z"
   },
   {
    "duration": 231,
    "start_time": "2024-06-24T18:52:37.594Z"
   },
   {
    "duration": 37,
    "start_time": "2024-06-24T18:52:37.829Z"
   },
   {
    "duration": 55,
    "start_time": "2024-06-24T18:52:37.871Z"
   },
   {
    "duration": 97,
    "start_time": "2024-06-24T18:52:37.930Z"
   },
   {
    "duration": 150,
    "start_time": "2024-06-24T18:52:38.032Z"
   },
   {
    "duration": 87,
    "start_time": "2024-06-24T18:52:38.185Z"
   },
   {
    "duration": 20,
    "start_time": "2024-06-24T18:52:38.277Z"
   },
   {
    "duration": 98,
    "start_time": "2024-06-24T18:52:38.508Z"
   },
   {
    "duration": 25,
    "start_time": "2024-06-24T18:52:38.725Z"
   },
   {
    "duration": 22,
    "start_time": "2024-06-24T18:52:39.145Z"
   },
   {
    "duration": 52780,
    "start_time": "2024-06-24T18:52:40.007Z"
   },
   {
    "duration": 43779,
    "start_time": "2024-06-24T18:53:33.262Z"
   },
   {
    "duration": 50406,
    "start_time": "2024-06-24T18:56:35.504Z"
   },
   {
    "duration": 18188,
    "start_time": "2024-06-24T18:57:28.736Z"
   },
   {
    "duration": 19,
    "start_time": "2024-06-24T18:58:13.820Z"
   },
   {
    "duration": 103,
    "start_time": "2024-06-24T18:58:17.162Z"
   },
   {
    "duration": 19,
    "start_time": "2024-06-24T19:00:28.300Z"
   },
   {
    "duration": 1681,
    "start_time": "2024-06-24T19:01:01.551Z"
   },
   {
    "duration": 947,
    "start_time": "2024-06-24T19:01:03.237Z"
   },
   {
    "duration": 178,
    "start_time": "2024-06-24T19:01:04.189Z"
   },
   {
    "duration": 62,
    "start_time": "2024-06-24T19:01:04.370Z"
   },
   {
    "duration": 49,
    "start_time": "2024-06-24T19:01:04.438Z"
   },
   {
    "duration": 71,
    "start_time": "2024-06-24T19:01:04.493Z"
   },
   {
    "duration": 66,
    "start_time": "2024-06-24T19:01:04.568Z"
   },
   {
    "duration": 692,
    "start_time": "2024-06-24T19:01:04.638Z"
   },
   {
    "duration": 36,
    "start_time": "2024-06-24T19:01:05.334Z"
   },
   {
    "duration": 110,
    "start_time": "2024-06-24T19:01:05.374Z"
   },
   {
    "duration": 190,
    "start_time": "2024-06-24T19:01:05.488Z"
   },
   {
    "duration": 62,
    "start_time": "2024-06-24T19:01:05.682Z"
   },
   {
    "duration": 284,
    "start_time": "2024-06-24T19:01:05.747Z"
   },
   {
    "duration": 32,
    "start_time": "2024-06-24T19:01:06.038Z"
   },
   {
    "duration": 49,
    "start_time": "2024-06-24T19:01:06.074Z"
   },
   {
    "duration": 62,
    "start_time": "2024-06-24T19:01:06.126Z"
   },
   {
    "duration": 152,
    "start_time": "2024-06-24T19:01:06.192Z"
   },
   {
    "duration": 61,
    "start_time": "2024-06-24T19:01:06.347Z"
   },
   {
    "duration": 20,
    "start_time": "2024-06-24T19:01:06.427Z"
   },
   {
    "duration": 117,
    "start_time": "2024-06-24T19:01:06.454Z"
   },
   {
    "duration": 20,
    "start_time": "2024-06-24T19:01:06.574Z"
   },
   {
    "duration": 36,
    "start_time": "2024-06-24T19:01:06.598Z"
   },
   {
    "duration": 51251,
    "start_time": "2024-06-24T19:01:07.275Z"
   },
   {
    "duration": 140,
    "start_time": "2024-06-24T19:01:59.786Z"
   },
   {
    "duration": 1654,
    "start_time": "2024-06-24T19:02:53.591Z"
   },
   {
    "duration": 883,
    "start_time": "2024-06-24T19:02:55.249Z"
   },
   {
    "duration": 169,
    "start_time": "2024-06-24T19:02:56.135Z"
   },
   {
    "duration": 53,
    "start_time": "2024-06-24T19:02:56.309Z"
   },
   {
    "duration": 75,
    "start_time": "2024-06-24T19:02:56.369Z"
   },
   {
    "duration": 52,
    "start_time": "2024-06-24T19:02:56.447Z"
   },
   {
    "duration": 41,
    "start_time": "2024-06-24T19:02:56.524Z"
   },
   {
    "duration": 684,
    "start_time": "2024-06-24T19:02:56.569Z"
   },
   {
    "duration": 31,
    "start_time": "2024-06-24T19:02:57.256Z"
   },
   {
    "duration": 150,
    "start_time": "2024-06-24T19:02:57.290Z"
   },
   {
    "duration": 187,
    "start_time": "2024-06-24T19:02:57.446Z"
   },
   {
    "duration": 58,
    "start_time": "2024-06-24T19:02:57.637Z"
   },
   {
    "duration": 306,
    "start_time": "2024-06-24T19:02:57.699Z"
   },
   {
    "duration": 33,
    "start_time": "2024-06-24T19:02:58.013Z"
   },
   {
    "duration": 34,
    "start_time": "2024-06-24T19:02:58.050Z"
   },
   {
    "duration": 94,
    "start_time": "2024-06-24T19:02:58.088Z"
   },
   {
    "duration": 112,
    "start_time": "2024-06-24T19:02:58.186Z"
   },
   {
    "duration": 87,
    "start_time": "2024-06-24T19:02:58.303Z"
   },
   {
    "duration": 32,
    "start_time": "2024-06-24T19:02:58.395Z"
   },
   {
    "duration": 95,
    "start_time": "2024-06-24T19:02:58.444Z"
   },
   {
    "duration": 20,
    "start_time": "2024-06-24T19:02:58.626Z"
   },
   {
    "duration": 16,
    "start_time": "2024-06-24T19:02:58.797Z"
   },
   {
    "duration": 51228,
    "start_time": "2024-06-24T19:02:58.965Z"
   },
   {
    "duration": 96,
    "start_time": "2024-06-24T19:04:15.511Z"
   },
   {
    "duration": 16,
    "start_time": "2024-06-24T19:05:01.451Z"
   },
   {
    "duration": 16,
    "start_time": "2024-06-24T19:05:26.408Z"
   },
   {
    "duration": 48972,
    "start_time": "2024-06-24T19:05:27.164Z"
   },
   {
    "duration": 106,
    "start_time": "2024-06-24T19:06:29.400Z"
   },
   {
    "duration": 47,
    "start_time": "2024-06-24T19:08:53.875Z"
   },
   {
    "duration": 48,
    "start_time": "2024-06-24T19:09:42.538Z"
   },
   {
    "duration": 20,
    "start_time": "2024-06-24T19:10:54.727Z"
   },
   {
    "duration": 1729,
    "start_time": "2024-06-24T19:11:04.915Z"
   },
   {
    "duration": 884,
    "start_time": "2024-06-24T19:11:06.648Z"
   },
   {
    "duration": 157,
    "start_time": "2024-06-24T19:11:07.535Z"
   },
   {
    "duration": 71,
    "start_time": "2024-06-24T19:11:07.698Z"
   },
   {
    "duration": 65,
    "start_time": "2024-06-24T19:11:07.773Z"
   },
   {
    "duration": 47,
    "start_time": "2024-06-24T19:11:07.841Z"
   },
   {
    "duration": 62,
    "start_time": "2024-06-24T19:11:07.891Z"
   },
   {
    "duration": 675,
    "start_time": "2024-06-24T19:11:07.956Z"
   },
   {
    "duration": 38,
    "start_time": "2024-06-24T19:11:08.635Z"
   },
   {
    "duration": 131,
    "start_time": "2024-06-24T19:11:08.679Z"
   },
   {
    "duration": 190,
    "start_time": "2024-06-24T19:11:08.813Z"
   },
   {
    "duration": 57,
    "start_time": "2024-06-24T19:11:09.006Z"
   },
   {
    "duration": 281,
    "start_time": "2024-06-24T19:11:09.066Z"
   },
   {
    "duration": 42,
    "start_time": "2024-06-24T19:11:09.350Z"
   },
   {
    "duration": 47,
    "start_time": "2024-06-24T19:11:09.395Z"
   },
   {
    "duration": 84,
    "start_time": "2024-06-24T19:11:09.446Z"
   },
   {
    "duration": 160,
    "start_time": "2024-06-24T19:11:09.534Z"
   },
   {
    "duration": 81,
    "start_time": "2024-06-24T19:11:09.704Z"
   },
   {
    "duration": 37,
    "start_time": "2024-06-24T19:11:09.788Z"
   },
   {
    "duration": 121,
    "start_time": "2024-06-24T19:11:09.829Z"
   },
   {
    "duration": 20,
    "start_time": "2024-06-24T19:11:09.956Z"
   },
   {
    "duration": 41,
    "start_time": "2024-06-24T19:11:09.983Z"
   },
   {
    "duration": 53720,
    "start_time": "2024-06-24T19:11:10.688Z"
   },
   {
    "duration": 98,
    "start_time": "2024-06-24T19:12:05.189Z"
   },
   {
    "duration": 45715,
    "start_time": "2024-06-24T19:12:09.860Z"
   },
   {
    "duration": 935,
    "start_time": "2024-06-24T19:12:55.578Z"
   },
   {
    "duration": 719,
    "start_time": "2024-06-24T19:13:40.589Z"
   },
   {
    "duration": 20,
    "start_time": "2024-06-24T19:14:04.654Z"
   },
   {
    "duration": 747,
    "start_time": "2024-06-24T19:14:08.286Z"
   },
   {
    "duration": 50,
    "start_time": "2024-06-24T19:16:21.679Z"
   },
   {
    "duration": 42,
    "start_time": "2024-06-24T19:16:50.302Z"
   },
   {
    "duration": 44,
    "start_time": "2024-06-24T19:20:34.712Z"
   },
   {
    "duration": 5,
    "start_time": "2024-06-24T19:21:06.154Z"
   },
   {
    "duration": 753,
    "start_time": "2024-06-24T19:21:06.457Z"
   },
   {
    "duration": 172,
    "start_time": "2024-06-24T19:21:07.222Z"
   },
   {
    "duration": 52,
    "start_time": "2024-06-24T19:21:07.397Z"
   },
   {
    "duration": 43,
    "start_time": "2024-06-24T19:21:07.453Z"
   },
   {
    "duration": 61,
    "start_time": "2024-06-24T19:21:07.499Z"
   },
   {
    "duration": 60,
    "start_time": "2024-06-24T19:21:07.563Z"
   },
   {
    "duration": 948,
    "start_time": "2024-06-24T19:21:07.628Z"
   },
   {
    "duration": 47,
    "start_time": "2024-06-24T19:21:08.584Z"
   },
   {
    "duration": 137,
    "start_time": "2024-06-24T19:21:08.634Z"
   },
   {
    "duration": 253,
    "start_time": "2024-06-24T19:21:08.776Z"
   },
   {
    "duration": 62,
    "start_time": "2024-06-24T19:21:09.032Z"
   },
   {
    "duration": 257,
    "start_time": "2024-06-24T19:21:09.097Z"
   },
   {
    "duration": 39,
    "start_time": "2024-06-24T19:21:09.357Z"
   },
   {
    "duration": 52,
    "start_time": "2024-06-24T19:21:09.404Z"
   },
   {
    "duration": 121,
    "start_time": "2024-06-24T19:21:09.466Z"
   },
   {
    "duration": 166,
    "start_time": "2024-06-24T19:21:09.591Z"
   },
   {
    "duration": 92,
    "start_time": "2024-06-24T19:21:09.849Z"
   },
   {
    "duration": 30,
    "start_time": "2024-06-24T19:21:10.003Z"
   },
   {
    "duration": 112,
    "start_time": "2024-06-24T19:21:10.353Z"
   },
   {
    "duration": 19,
    "start_time": "2024-06-24T19:21:10.543Z"
   },
   {
    "duration": 19,
    "start_time": "2024-06-24T19:21:11.144Z"
   },
   {
    "duration": 50911,
    "start_time": "2024-06-24T19:21:11.762Z"
   },
   {
    "duration": 44234,
    "start_time": "2024-06-24T19:22:25.861Z"
   },
   {
    "duration": 25371,
    "start_time": "2024-06-24T19:23:10.098Z"
   },
   {
    "duration": 61713,
    "start_time": "2024-06-24T19:23:39.973Z"
   },
   {
    "duration": 74,
    "start_time": "2024-06-24T19:26:33.845Z"
   },
   {
    "duration": 21,
    "start_time": "2024-06-24T19:28:52.703Z"
   },
   {
    "duration": 5096,
    "start_time": "2024-06-24T22:38:16.579Z"
   },
   {
    "duration": 850,
    "start_time": "2024-06-24T22:38:21.678Z"
   },
   {
    "duration": 159,
    "start_time": "2024-06-24T22:38:22.687Z"
   },
   {
    "duration": 47,
    "start_time": "2024-06-24T22:38:25.094Z"
   },
   {
    "duration": 43,
    "start_time": "2024-06-24T22:38:26.754Z"
   },
   {
    "duration": 41,
    "start_time": "2024-06-24T22:38:26.915Z"
   },
   {
    "duration": 35,
    "start_time": "2024-06-24T22:38:27.088Z"
   },
   {
    "duration": 616,
    "start_time": "2024-06-24T22:38:27.273Z"
   },
   {
    "duration": 42,
    "start_time": "2024-06-24T22:38:27.894Z"
   },
   {
    "duration": 78,
    "start_time": "2024-06-24T22:38:27.943Z"
   },
   {
    "duration": 157,
    "start_time": "2024-06-24T22:38:28.047Z"
   },
   {
    "duration": 46,
    "start_time": "2024-06-24T22:38:28.253Z"
   },
   {
    "duration": 184,
    "start_time": "2024-06-24T22:38:28.391Z"
   },
   {
    "duration": 27,
    "start_time": "2024-06-24T22:38:28.612Z"
   },
   {
    "duration": 24,
    "start_time": "2024-06-24T22:38:28.828Z"
   },
   {
    "duration": 60,
    "start_time": "2024-06-24T22:38:29.419Z"
   },
   {
    "duration": 98,
    "start_time": "2024-06-24T22:38:29.797Z"
   },
   {
    "duration": 61,
    "start_time": "2024-06-24T22:38:30.262Z"
   },
   {
    "duration": 14,
    "start_time": "2024-06-24T22:38:30.622Z"
   },
   {
    "duration": 80,
    "start_time": "2024-06-24T22:38:31.019Z"
   },
   {
    "duration": 18,
    "start_time": "2024-06-24T22:38:31.279Z"
   },
   {
    "duration": 16,
    "start_time": "2024-06-24T22:38:31.478Z"
   },
   {
    "duration": 47853,
    "start_time": "2024-06-24T22:38:31.701Z"
   },
   {
    "duration": 42678,
    "start_time": "2024-06-24T22:39:19.558Z"
   },
   {
    "duration": 23815,
    "start_time": "2024-06-24T22:40:02.240Z"
   },
   {
    "duration": 57148,
    "start_time": "2024-06-24T22:40:26.059Z"
   },
   {
    "duration": 68,
    "start_time": "2024-06-24T22:41:23.210Z"
   },
   {
    "duration": 59,
    "start_time": "2024-06-24T22:41:29.272Z"
   },
   {
    "duration": 18,
    "start_time": "2024-06-24T22:41:30.649Z"
   },
   {
    "duration": 4,
    "start_time": "2024-06-25T01:12:49.976Z"
   },
   {
    "duration": 717,
    "start_time": "2024-06-25T01:12:51.442Z"
   },
   {
    "duration": 151,
    "start_time": "2024-06-25T01:12:52.162Z"
   },
   {
    "duration": 51,
    "start_time": "2024-06-25T01:12:52.316Z"
   },
   {
    "duration": 65,
    "start_time": "2024-06-25T01:12:52.370Z"
   },
   {
    "duration": 39,
    "start_time": "2024-06-25T01:12:52.439Z"
   },
   {
    "duration": 65,
    "start_time": "2024-06-25T01:12:52.482Z"
   },
   {
    "duration": 611,
    "start_time": "2024-06-25T01:12:52.551Z"
   },
   {
    "duration": 29,
    "start_time": "2024-06-25T01:12:53.166Z"
   },
   {
    "duration": 101,
    "start_time": "2024-06-25T01:12:53.198Z"
   },
   {
    "duration": 179,
    "start_time": "2024-06-25T01:12:53.303Z"
   },
   {
    "duration": 55,
    "start_time": "2024-06-25T01:12:53.485Z"
   },
   {
    "duration": 202,
    "start_time": "2024-06-25T01:12:53.543Z"
   },
   {
    "duration": 29,
    "start_time": "2024-06-25T01:12:53.748Z"
   },
   {
    "duration": 22,
    "start_time": "2024-06-25T01:12:53.878Z"
   },
   {
    "duration": 60,
    "start_time": "2024-06-25T01:12:54.279Z"
   },
   {
    "duration": 107,
    "start_time": "2024-06-25T01:12:54.713Z"
   },
   {
    "duration": 58,
    "start_time": "2024-06-25T01:12:55.217Z"
   },
   {
    "duration": 15,
    "start_time": "2024-06-25T01:12:55.440Z"
   },
   {
    "duration": 78,
    "start_time": "2024-06-25T01:12:56.175Z"
   },
   {
    "duration": 18,
    "start_time": "2024-06-25T01:12:56.561Z"
   },
   {
    "duration": 84,
    "start_time": "2024-06-25T01:12:56.952Z"
   },
   {
    "duration": 43563,
    "start_time": "2024-06-25T01:12:57.401Z"
   },
   {
    "duration": 41158,
    "start_time": "2024-06-25T01:13:40.968Z"
   },
   {
    "duration": 23117,
    "start_time": "2024-06-25T01:14:22.131Z"
   },
   {
    "duration": 55142,
    "start_time": "2024-06-25T01:14:45.251Z"
   },
   {
    "duration": 68,
    "start_time": "2024-06-25T01:15:40.397Z"
   },
   {
    "duration": 20,
    "start_time": "2024-06-25T01:15:40.468Z"
   },
   {
    "duration": 4999,
    "start_time": "2024-06-25T14:40:41.684Z"
   },
   {
    "duration": 770,
    "start_time": "2024-06-25T14:40:46.686Z"
   },
   {
    "duration": 144,
    "start_time": "2024-06-25T14:40:47.459Z"
   },
   {
    "duration": 62,
    "start_time": "2024-06-25T14:40:47.608Z"
   },
   {
    "duration": 68,
    "start_time": "2024-06-25T14:40:47.673Z"
   },
   {
    "duration": 43,
    "start_time": "2024-06-25T14:40:47.744Z"
   },
   {
    "duration": 61,
    "start_time": "2024-06-25T14:40:47.791Z"
   },
   {
    "duration": 580,
    "start_time": "2024-06-25T14:40:47.855Z"
   },
   {
    "duration": 34,
    "start_time": "2024-06-25T14:40:48.439Z"
   },
   {
    "duration": 109,
    "start_time": "2024-06-25T14:40:48.480Z"
   },
   {
    "duration": 182,
    "start_time": "2024-06-25T14:40:48.592Z"
   },
   {
    "duration": 61,
    "start_time": "2024-06-25T14:40:48.777Z"
   },
   {
    "duration": 192,
    "start_time": "2024-06-25T14:40:48.840Z"
   },
   {
    "duration": 33,
    "start_time": "2024-06-25T14:40:49.035Z"
   },
   {
    "duration": 23,
    "start_time": "2024-06-25T14:40:49.071Z"
   },
   {
    "duration": 84,
    "start_time": "2024-06-25T14:40:49.097Z"
   },
   {
    "duration": 108,
    "start_time": "2024-06-25T14:40:49.184Z"
   },
   {
    "duration": 73,
    "start_time": "2024-06-25T14:40:49.295Z"
   },
   {
    "duration": 15,
    "start_time": "2024-06-25T14:40:49.372Z"
   },
   {
    "duration": 98,
    "start_time": "2024-06-25T14:40:49.390Z"
   },
   {
    "duration": 19,
    "start_time": "2024-06-25T14:40:49.490Z"
   },
   {
    "duration": 16,
    "start_time": "2024-06-25T14:40:49.531Z"
   },
   {
    "duration": 48167,
    "start_time": "2024-06-25T14:40:49.550Z"
   },
   {
    "duration": 42441,
    "start_time": "2024-06-25T14:41:37.720Z"
   },
   {
    "duration": 23682,
    "start_time": "2024-06-25T14:42:20.165Z"
   },
   {
    "duration": 56920,
    "start_time": "2024-06-25T14:42:43.849Z"
   },
   {
    "duration": 72,
    "start_time": "2024-06-25T14:43:40.772Z"
   },
   {
    "duration": 18,
    "start_time": "2024-06-25T14:43:40.850Z"
   },
   {
    "duration": 16,
    "start_time": "2024-06-25T14:53:11.173Z"
   },
   {
    "duration": 10779,
    "start_time": "2024-06-25T14:53:38.012Z"
   },
   {
    "duration": 16,
    "start_time": "2024-06-25T14:54:23.227Z"
   },
   {
    "duration": 16,
    "start_time": "2024-06-25T14:54:30.920Z"
   },
   {
    "duration": 21,
    "start_time": "2024-06-25T15:04:18.074Z"
   },
   {
    "duration": 4,
    "start_time": "2024-06-25T18:18:42.310Z"
   },
   {
    "duration": 701,
    "start_time": "2024-06-25T18:18:42.633Z"
   },
   {
    "duration": 144,
    "start_time": "2024-06-25T18:18:43.337Z"
   },
   {
    "duration": 60,
    "start_time": "2024-06-25T18:18:43.484Z"
   },
   {
    "duration": 41,
    "start_time": "2024-06-25T18:18:43.548Z"
   },
   {
    "duration": 54,
    "start_time": "2024-06-25T18:18:43.592Z"
   },
   {
    "duration": 37,
    "start_time": "2024-06-25T18:18:43.725Z"
   },
   {
    "duration": 580,
    "start_time": "2024-06-25T18:18:43.909Z"
   },
   {
    "duration": 41,
    "start_time": "2024-06-25T18:18:44.492Z"
   },
   {
    "duration": 93,
    "start_time": "2024-06-25T18:18:44.536Z"
   },
   {
    "duration": 168,
    "start_time": "2024-06-25T18:18:44.633Z"
   },
   {
    "duration": 54,
    "start_time": "2024-06-25T18:18:44.804Z"
   },
   {
    "duration": 166,
    "start_time": "2024-06-25T18:18:45.095Z"
   },
   {
    "duration": 31,
    "start_time": "2024-06-25T18:18:45.270Z"
   },
   {
    "duration": 23,
    "start_time": "2024-06-25T18:18:45.453Z"
   },
   {
    "duration": 62,
    "start_time": "2024-06-25T18:18:45.814Z"
   },
   {
    "duration": 97,
    "start_time": "2024-06-25T18:18:46.167Z"
   },
   {
    "duration": 57,
    "start_time": "2024-06-25T18:18:46.559Z"
   },
   {
    "duration": 14,
    "start_time": "2024-06-25T18:18:46.757Z"
   },
   {
    "duration": 79,
    "start_time": "2024-06-25T18:18:47.132Z"
   },
   {
    "duration": 17,
    "start_time": "2024-06-25T18:18:47.325Z"
   },
   {
    "duration": 86,
    "start_time": "2024-06-25T18:18:47.535Z"
   },
   {
    "duration": 43312,
    "start_time": "2024-06-25T18:18:47.734Z"
   },
   {
    "duration": 41258,
    "start_time": "2024-06-25T18:19:31.049Z"
   },
   {
    "duration": 23339,
    "start_time": "2024-06-25T18:20:12.310Z"
   },
   {
    "duration": 55128,
    "start_time": "2024-06-25T18:20:35.656Z"
   },
   {
    "duration": 64,
    "start_time": "2024-06-25T18:21:30.787Z"
   },
   {
    "duration": 17,
    "start_time": "2024-06-25T18:21:30.854Z"
   },
   {
    "duration": 5,
    "start_time": "2024-06-25T18:53:57.829Z"
   },
   {
    "duration": 16,
    "start_time": "2024-06-25T18:55:22.011Z"
   },
   {
    "duration": 5043,
    "start_time": "2024-06-25T19:20:51.772Z"
   },
   {
    "duration": 851,
    "start_time": "2024-06-25T19:20:56.819Z"
   },
   {
    "duration": 178,
    "start_time": "2024-06-25T19:20:57.673Z"
   },
   {
    "duration": 48,
    "start_time": "2024-06-25T19:20:57.855Z"
   },
   {
    "duration": 63,
    "start_time": "2024-06-25T19:20:57.906Z"
   },
   {
    "duration": 43,
    "start_time": "2024-06-25T19:20:57.972Z"
   },
   {
    "duration": 37,
    "start_time": "2024-06-25T19:20:58.034Z"
   },
   {
    "duration": 615,
    "start_time": "2024-06-25T19:20:58.073Z"
   },
   {
    "duration": 44,
    "start_time": "2024-06-25T19:20:58.691Z"
   },
   {
    "duration": 78,
    "start_time": "2024-06-25T19:20:58.740Z"
   },
   {
    "duration": 170,
    "start_time": "2024-06-25T19:20:58.834Z"
   },
   {
    "duration": 59,
    "start_time": "2024-06-25T19:20:59.007Z"
   },
   {
    "duration": 198,
    "start_time": "2024-06-25T19:20:59.069Z"
   },
   {
    "duration": 35,
    "start_time": "2024-06-25T19:20:59.270Z"
   },
   {
    "duration": 38,
    "start_time": "2024-06-25T19:20:59.307Z"
   },
   {
    "duration": 62,
    "start_time": "2024-06-25T19:20:59.348Z"
   },
   {
    "duration": 123,
    "start_time": "2024-06-25T19:20:59.413Z"
   },
   {
    "duration": 57,
    "start_time": "2024-06-25T19:20:59.538Z"
   },
   {
    "duration": 36,
    "start_time": "2024-06-25T19:20:59.597Z"
   },
   {
    "duration": 111,
    "start_time": "2024-06-25T19:20:59.636Z"
   },
   {
    "duration": 8,
    "start_time": "2024-06-25T19:20:59.750Z"
   },
   {
    "duration": 14,
    "start_time": "2024-06-25T19:20:59.763Z"
   },
   {
    "duration": 48070,
    "start_time": "2024-06-25T19:21:01.756Z"
   },
   {
    "duration": 42404,
    "start_time": "2024-06-25T19:21:49.829Z"
   },
   {
    "duration": 24088,
    "start_time": "2024-06-25T19:22:32.237Z"
   },
   {
    "duration": 58311,
    "start_time": "2024-06-25T19:22:56.332Z"
   },
   {
    "duration": 59,
    "start_time": "2024-06-25T19:23:54.646Z"
   },
   {
    "duration": 987,
    "start_time": "2024-06-25T19:23:54.747Z"
   },
   {
    "duration": 19,
    "start_time": "2024-06-25T19:23:55.737Z"
   },
   {
    "duration": 5,
    "start_time": "2024-06-25T19:24:06.495Z"
   },
   {
    "duration": 999,
    "start_time": "2024-06-25T19:24:20.927Z"
   },
   {
    "duration": 29,
    "start_time": "2024-06-25T19:24:28.592Z"
   },
   {
    "duration": 963,
    "start_time": "2024-06-25T20:07:50.664Z"
   },
   {
    "duration": 26,
    "start_time": "2024-06-25T20:07:54.529Z"
   },
   {
    "duration": 673,
    "start_time": "2024-06-25T20:25:20.573Z"
   },
   {
    "duration": 10,
    "start_time": "2024-06-25T20:25:27.603Z"
   },
   {
    "duration": 640,
    "start_time": "2024-06-25T20:25:35.349Z"
   },
   {
    "duration": 31,
    "start_time": "2024-06-25T20:25:38.430Z"
   },
   {
    "duration": 17,
    "start_time": "2024-06-25T20:25:53.647Z"
   },
   {
    "duration": 668,
    "start_time": "2024-06-25T20:26:09.612Z"
   },
   {
    "duration": 18,
    "start_time": "2024-06-25T20:26:12.380Z"
   },
   {
    "duration": 27,
    "start_time": "2024-06-25T20:26:45.125Z"
   },
   {
    "duration": 53,
    "start_time": "2024-06-25T20:27:37.556Z"
   },
   {
    "duration": 40,
    "start_time": "2024-06-25T20:28:24.989Z"
   },
   {
    "duration": 30,
    "start_time": "2024-06-25T20:28:47.115Z"
   },
   {
    "duration": 9,
    "start_time": "2024-06-25T21:20:05.736Z"
   },
   {
    "duration": 8,
    "start_time": "2024-06-25T21:21:24.349Z"
   },
   {
    "duration": 36,
    "start_time": "2024-06-25T21:21:24.884Z"
   },
   {
    "duration": 636,
    "start_time": "2024-06-25T21:21:30.139Z"
   },
   {
    "duration": 20759,
    "start_time": "2024-06-25T21:21:35.421Z"
   },
   {
    "duration": 6,
    "start_time": "2024-06-25T21:22:30.238Z"
   },
   {
    "duration": 170705,
    "start_time": "2024-06-25T21:22:38.187Z"
   },
   {
    "duration": 7,
    "start_time": "2024-06-25T21:36:23.048Z"
   },
   {
    "duration": 687,
    "start_time": "2024-06-25T21:36:46.087Z"
   },
   {
    "duration": 9,
    "start_time": "2024-06-25T21:37:10.463Z"
   },
   {
    "duration": 79743,
    "start_time": "2024-06-25T21:37:15.655Z"
   },
   {
    "duration": 619,
    "start_time": "2024-06-25T21:41:58.885Z"
   },
   {
    "duration": 6,
    "start_time": "2024-06-25T21:42:02.378Z"
   },
   {
    "duration": 68080,
    "start_time": "2024-06-25T21:42:05.335Z"
   },
   {
    "duration": 24,
    "start_time": "2024-06-25T21:43:13.419Z"
   },
   {
    "duration": 14,
    "start_time": "2024-06-25T21:44:24.980Z"
   },
   {
    "duration": 67722,
    "start_time": "2024-06-25T21:44:30.055Z"
   },
   {
    "duration": 5,
    "start_time": "2024-06-25T21:50:49.600Z"
   },
   {
    "duration": 6,
    "start_time": "2024-06-25T21:56:37.029Z"
   },
   {
    "duration": 1371,
    "start_time": "2024-06-25T22:24:15.780Z"
   },
   {
    "duration": 734,
    "start_time": "2024-06-25T22:24:19.415Z"
   },
   {
    "duration": 157,
    "start_time": "2024-06-25T22:24:20.153Z"
   },
   {
    "duration": 56,
    "start_time": "2024-06-25T22:24:20.316Z"
   },
   {
    "duration": 60,
    "start_time": "2024-06-25T22:24:20.376Z"
   },
   {
    "duration": 41,
    "start_time": "2024-06-25T22:24:20.438Z"
   },
   {
    "duration": 61,
    "start_time": "2024-06-25T22:24:20.483Z"
   },
   {
    "duration": 602,
    "start_time": "2024-06-25T22:24:20.606Z"
   },
   {
    "duration": 46,
    "start_time": "2024-06-25T22:24:21.212Z"
   },
   {
    "duration": 95,
    "start_time": "2024-06-25T22:24:21.260Z"
   },
   {
    "duration": 229,
    "start_time": "2024-06-25T22:24:21.489Z"
   },
   {
    "duration": 55,
    "start_time": "2024-06-25T22:24:21.721Z"
   },
   {
    "duration": 180,
    "start_time": "2024-06-25T22:24:21.837Z"
   },
   {
    "duration": 41,
    "start_time": "2024-06-25T22:24:22.021Z"
   },
   {
    "duration": 23,
    "start_time": "2024-06-25T22:24:22.199Z"
   },
   {
    "duration": 61,
    "start_time": "2024-06-25T22:24:22.557Z"
   },
   {
    "duration": 92,
    "start_time": "2024-06-25T22:24:22.934Z"
   },
   {
    "duration": 58,
    "start_time": "2024-06-25T22:24:23.486Z"
   },
   {
    "duration": 15,
    "start_time": "2024-06-25T22:24:23.918Z"
   },
   {
    "duration": 79,
    "start_time": "2024-06-25T22:24:24.285Z"
   },
   {
    "duration": 9,
    "start_time": "2024-06-25T22:24:24.482Z"
   },
   {
    "duration": 14,
    "start_time": "2024-06-25T22:24:25.022Z"
   },
   {
    "duration": 47813,
    "start_time": "2024-06-25T22:24:26.758Z"
   },
   {
    "duration": 42096,
    "start_time": "2024-06-25T22:25:14.577Z"
   },
   {
    "duration": 23673,
    "start_time": "2024-06-25T22:25:56.676Z"
   },
   {
    "duration": 1426,
    "start_time": "2024-06-25T22:26:56.524Z"
   },
   {
    "duration": 703,
    "start_time": "2024-06-25T22:26:57.954Z"
   },
   {
    "duration": 480,
    "start_time": "2024-06-25T22:26:59.611Z"
   },
   {
    "duration": 997,
    "start_time": "2024-06-25T22:27:50.249Z"
   },
   {
    "duration": 26,
    "start_time": "2024-06-25T22:28:10.650Z"
   },
   {
    "duration": 71,
    "start_time": "2024-06-25T22:28:36.058Z"
   },
   {
    "duration": 4,
    "start_time": "2024-06-25T22:28:51.627Z"
   },
   {
    "duration": 94,
    "start_time": "2024-06-25T22:28:57.976Z"
   },
   {
    "duration": 11,
    "start_time": "2024-06-25T22:28:58.145Z"
   },
   {
    "duration": 21,
    "start_time": "2024-06-25T22:28:58.319Z"
   },
   {
    "duration": 18,
    "start_time": "2024-06-25T22:28:58.493Z"
   },
   {
    "duration": 19,
    "start_time": "2024-06-25T22:28:58.656Z"
   },
   {
    "duration": 217,
    "start_time": "2024-06-25T22:28:58.825Z"
   },
   {
    "duration": 18,
    "start_time": "2024-06-25T22:28:59.046Z"
   },
   {
    "duration": 33,
    "start_time": "2024-06-25T22:28:59.170Z"
   },
   {
    "duration": 76,
    "start_time": "2024-06-25T22:28:59.524Z"
   },
   {
    "duration": 26,
    "start_time": "2024-06-25T22:28:59.701Z"
   },
   {
    "duration": 172,
    "start_time": "2024-06-25T22:28:59.881Z"
   },
   {
    "duration": 13,
    "start_time": "2024-06-25T22:29:00.071Z"
   },
   {
    "duration": 12,
    "start_time": "2024-06-25T22:29:00.270Z"
   },
   {
    "duration": 28,
    "start_time": "2024-06-25T22:29:00.655Z"
   },
   {
    "duration": 39,
    "start_time": "2024-06-25T22:29:01.172Z"
   },
   {
    "duration": 29,
    "start_time": "2024-06-25T22:29:01.793Z"
   },
   {
    "duration": 15,
    "start_time": "2024-06-25T22:29:02.250Z"
   },
   {
    "duration": 38,
    "start_time": "2024-06-25T22:29:02.867Z"
   },
   {
    "duration": 9,
    "start_time": "2024-06-25T22:29:03.506Z"
   },
   {
    "duration": 15,
    "start_time": "2024-06-25T22:29:04.174Z"
   },
   {
    "duration": 8549,
    "start_time": "2024-06-25T22:29:05.049Z"
   },
   {
    "duration": 9889,
    "start_time": "2024-06-25T22:29:13.601Z"
   },
   {
    "duration": 4514,
    "start_time": "2024-06-25T22:29:23.492Z"
   },
   {
    "duration": 10325,
    "start_time": "2024-06-25T22:29:28.010Z"
   },
   {
    "duration": 27,
    "start_time": "2024-06-25T22:29:38.337Z"
   },
   {
    "duration": 20,
    "start_time": "2024-06-25T22:29:38.366Z"
   },
   {
    "duration": 282,
    "start_time": "2024-06-25T22:29:38.390Z"
   },
   {
    "duration": 14,
    "start_time": "2024-06-25T22:29:38.675Z"
   },
   {
    "duration": 6,
    "start_time": "2024-06-25T22:29:38.691Z"
   },
   {
    "duration": 30,
    "start_time": "2024-06-25T22:29:38.702Z"
   },
   {
    "duration": 26,
    "start_time": "2024-06-25T22:29:59.114Z"
   },
   {
    "duration": 18,
    "start_time": "2024-06-25T22:30:00.385Z"
   },
   {
    "duration": 182,
    "start_time": "2024-06-25T22:30:02.330Z"
   },
   {
    "duration": 9,
    "start_time": "2024-06-25T22:31:11.367Z"
   },
   {
    "duration": 173,
    "start_time": "2024-06-25T22:31:17.329Z"
   },
   {
    "duration": 9,
    "start_time": "2024-06-25T22:31:36.508Z"
   },
   {
    "duration": 10,
    "start_time": "2024-06-25T22:31:52.133Z"
   },
   {
    "duration": 236,
    "start_time": "2024-06-25T22:32:00.116Z"
   },
   {
    "duration": 13,
    "start_time": "2024-06-25T22:32:04.100Z"
   },
   {
    "duration": 7,
    "start_time": "2024-06-25T22:32:14.530Z"
   },
   {
    "duration": 7,
    "start_time": "2024-06-25T22:32:15.421Z"
   },
   {
    "duration": 1452,
    "start_time": "2024-06-25T22:33:46.804Z"
   },
   {
    "duration": 722,
    "start_time": "2024-06-25T22:33:48.260Z"
   },
   {
    "duration": 6,
    "start_time": "2024-06-25T22:33:48.985Z"
   },
   {
    "duration": 52,
    "start_time": "2024-06-25T22:33:48.996Z"
   },
   {
    "duration": 22,
    "start_time": "2024-06-25T22:33:49.051Z"
   },
   {
    "duration": 14,
    "start_time": "2024-06-25T22:33:49.076Z"
   },
   {
    "duration": 44,
    "start_time": "2024-06-25T22:33:49.094Z"
   },
   {
    "duration": 12,
    "start_time": "2024-06-25T22:33:49.141Z"
   },
   {
    "duration": 148,
    "start_time": "2024-06-25T22:33:49.156Z"
   },
   {
    "duration": 23,
    "start_time": "2024-06-25T22:33:49.309Z"
   },
   {
    "duration": 20,
    "start_time": "2024-06-25T22:33:49.335Z"
   },
   {
    "duration": 45,
    "start_time": "2024-06-25T22:33:49.428Z"
   },
   {
    "duration": 16,
    "start_time": "2024-06-25T22:33:49.596Z"
   },
   {
    "duration": 162,
    "start_time": "2024-06-25T22:33:49.748Z"
   },
   {
    "duration": 21,
    "start_time": "2024-06-25T22:33:49.913Z"
   },
   {
    "duration": 7,
    "start_time": "2024-06-25T22:33:50.052Z"
   },
   {
    "duration": 18,
    "start_time": "2024-06-25T22:33:50.373Z"
   },
   {
    "duration": 18,
    "start_time": "2024-06-25T22:33:50.718Z"
   },
   {
    "duration": 15,
    "start_time": "2024-06-25T22:33:51.067Z"
   },
   {
    "duration": 15,
    "start_time": "2024-06-25T22:33:51.262Z"
   },
   {
    "duration": 23,
    "start_time": "2024-06-25T22:33:51.616Z"
   },
   {
    "duration": 9,
    "start_time": "2024-06-25T22:33:51.797Z"
   },
   {
    "duration": 16,
    "start_time": "2024-06-25T22:33:51.972Z"
   },
   {
    "duration": 1726,
    "start_time": "2024-06-25T22:33:52.164Z"
   },
   {
    "duration": 2436,
    "start_time": "2024-06-25T22:33:53.894Z"
   },
   {
    "duration": 1126,
    "start_time": "2024-06-25T22:33:56.334Z"
   },
   {
    "duration": 2141,
    "start_time": "2024-06-25T22:33:57.463Z"
   },
   {
    "duration": 26,
    "start_time": "2024-06-25T22:33:59.607Z"
   },
   {
    "duration": 20,
    "start_time": "2024-06-25T22:33:59.635Z"
   },
   {
    "duration": 104,
    "start_time": "2024-06-25T22:33:59.658Z"
   },
   {
    "duration": 13,
    "start_time": "2024-06-25T22:33:59.765Z"
   },
   {
    "duration": 7,
    "start_time": "2024-06-25T22:33:59.781Z"
   },
   {
    "duration": 6,
    "start_time": "2024-06-25T22:33:59.794Z"
   },
   {
    "duration": 1428,
    "start_time": "2024-06-25T22:35:54.405Z"
   },
   {
    "duration": 726,
    "start_time": "2024-06-25T22:35:55.837Z"
   },
   {
    "duration": 6,
    "start_time": "2024-06-25T22:35:56.566Z"
   },
   {
    "duration": 20,
    "start_time": "2024-06-25T22:35:56.576Z"
   },
   {
    "duration": 45,
    "start_time": "2024-06-25T22:35:56.599Z"
   },
   {
    "duration": 11,
    "start_time": "2024-06-25T22:35:56.648Z"
   },
   {
    "duration": 9,
    "start_time": "2024-06-25T22:35:56.662Z"
   },
   {
    "duration": 10,
    "start_time": "2024-06-25T22:35:56.674Z"
   },
   {
    "duration": 124,
    "start_time": "2024-06-25T22:35:56.687Z"
   },
   {
    "duration": 7,
    "start_time": "2024-06-25T22:35:56.834Z"
   },
   {
    "duration": 11,
    "start_time": "2024-06-25T22:35:56.844Z"
   },
   {
    "duration": 29,
    "start_time": "2024-06-25T22:35:57.046Z"
   },
   {
    "duration": 14,
    "start_time": "2024-06-25T22:35:57.238Z"
   },
   {
    "duration": 158,
    "start_time": "2024-06-25T22:35:57.429Z"
   },
   {
    "duration": 6,
    "start_time": "2024-06-25T22:35:57.597Z"
   },
   {
    "duration": 6,
    "start_time": "2024-06-25T22:35:57.748Z"
   },
   {
    "duration": 10,
    "start_time": "2024-06-25T22:35:58.112Z"
   },
   {
    "duration": 10,
    "start_time": "2024-06-25T22:35:58.470Z"
   },
   {
    "duration": 10,
    "start_time": "2024-06-25T22:35:58.822Z"
   },
   {
    "duration": 15,
    "start_time": "2024-06-25T22:35:59.006Z"
   },
   {
    "duration": 17,
    "start_time": "2024-06-25T22:35:59.381Z"
   },
   {
    "duration": 9,
    "start_time": "2024-06-25T22:35:59.629Z"
   },
   {
    "duration": 14,
    "start_time": "2024-06-25T22:35:59.784Z"
   },
   {
    "duration": 388,
    "start_time": "2024-06-25T22:35:59.959Z"
   },
   {
    "duration": 397,
    "start_time": "2024-06-25T22:36:00.351Z"
   },
   {
    "duration": 130,
    "start_time": "2024-06-25T22:36:00.751Z"
   },
   {
    "duration": 554,
    "start_time": "2024-06-25T22:36:00.885Z"
   },
   {
    "duration": 11,
    "start_time": "2024-06-25T22:36:01.442Z"
   },
   {
    "duration": 24,
    "start_time": "2024-06-25T22:36:01.735Z"
   },
   {
    "duration": 32,
    "start_time": "2024-06-25T22:36:02.693Z"
   },
   {
    "duration": 13,
    "start_time": "2024-06-25T22:36:03.103Z"
   },
   {
    "duration": 7,
    "start_time": "2024-06-25T22:36:03.742Z"
   },
   {
    "duration": 6,
    "start_time": "2024-06-25T22:36:04.522Z"
   },
   {
    "duration": 36582,
    "start_time": "2024-06-25T22:36:05.160Z"
   },
   {
    "duration": 2036,
    "start_time": "2024-06-25T22:37:11.751Z"
   },
   {
    "duration": 2062,
    "start_time": "2024-06-25T22:37:20.175Z"
   },
   {
    "duration": 38987,
    "start_time": "2024-06-25T22:39:34.559Z"
   },
   {
    "duration": 38358,
    "start_time": "2024-06-25T22:44:19.815Z"
   },
   {
    "duration": 38556,
    "start_time": "2024-06-25T22:44:58.176Z"
   },
   {
    "duration": 49617,
    "start_time": "2024-06-25T22:46:16.520Z"
   },
   {
    "duration": 539,
    "start_time": "2024-06-25T22:49:16.825Z"
   },
   {
    "duration": 281998,
    "start_time": "2024-06-25T22:49:35.657Z"
   },
   {
    "duration": 255,
    "start_time": "2024-06-25T22:59:32.229Z"
   },
   {
    "duration": 11,
    "start_time": "2024-06-25T23:00:13.865Z"
   },
   {
    "duration": 6,
    "start_time": "2024-06-25T23:00:50.114Z"
   },
   {
    "duration": 25,
    "start_time": "2024-06-25T23:00:51.009Z"
   },
   {
    "duration": 45,
    "start_time": "2024-06-25T23:01:03.223Z"
   },
   {
    "duration": 6,
    "start_time": "2024-06-25T23:01:15.897Z"
   },
   {
    "duration": 38259,
    "start_time": "2024-06-25T23:01:16.482Z"
   },
   {
    "duration": 38397,
    "start_time": "2024-06-25T23:02:10.338Z"
   },
   {
    "duration": 38407,
    "start_time": "2024-06-25T23:02:51.726Z"
   },
   {
    "duration": 17,
    "start_time": "2024-06-25T23:08:08.288Z"
   },
   {
    "duration": 11,
    "start_time": "2024-06-25T23:08:12.447Z"
   },
   {
    "duration": 6,
    "start_time": "2024-06-25T23:08:22.703Z"
   },
   {
    "duration": 2071,
    "start_time": "2024-06-25T23:08:24.926Z"
   },
   {
    "duration": 1926,
    "start_time": "2024-06-25T23:08:46.342Z"
   },
   {
    "duration": 1757,
    "start_time": "2024-06-25T23:08:54.269Z"
   },
   {
    "duration": 1706,
    "start_time": "2024-06-25T23:09:11.426Z"
   },
   {
    "duration": 6,
    "start_time": "2024-06-26T00:51:45.400Z"
   },
   {
    "duration": 9,
    "start_time": "2024-06-26T01:07:36.650Z"
   },
   {
    "duration": 8,
    "start_time": "2024-06-26T01:08:00.570Z"
   },
   {
    "duration": 750,
    "start_time": "2024-06-26T01:08:40.219Z"
   },
   {
    "duration": 7,
    "start_time": "2024-06-26T01:09:09.211Z"
   },
   {
    "duration": 900,
    "start_time": "2024-06-26T01:09:30.161Z"
   },
   {
    "duration": 760,
    "start_time": "2024-06-26T01:09:45.240Z"
   },
   {
    "duration": 1028,
    "start_time": "2024-06-26T01:10:24.213Z"
   },
   {
    "duration": 7,
    "start_time": "2024-06-26T01:18:08.049Z"
   },
   {
    "duration": 21,
    "start_time": "2024-06-26T01:18:08.700Z"
   },
   {
    "duration": 1838,
    "start_time": "2024-06-26T01:18:08.985Z"
   },
   {
    "duration": 0,
    "start_time": "2024-06-26T01:18:10.833Z"
   },
   {
    "duration": 0,
    "start_time": "2024-06-26T01:18:10.836Z"
   },
   {
    "duration": 689,
    "start_time": "2024-06-26T01:18:12.945Z"
   },
   {
    "duration": 7,
    "start_time": "2024-06-26T01:18:13.639Z"
   },
   {
    "duration": 29,
    "start_time": "2024-06-26T01:18:13.651Z"
   },
   {
    "duration": 52,
    "start_time": "2024-06-26T01:18:13.684Z"
   },
   {
    "duration": 17,
    "start_time": "2024-06-26T01:18:13.815Z"
   },
   {
    "duration": 11,
    "start_time": "2024-06-26T01:18:13.983Z"
   },
   {
    "duration": 13,
    "start_time": "2024-06-26T01:18:14.167Z"
   },
   {
    "duration": 93,
    "start_time": "2024-06-26T01:18:14.338Z"
   },
   {
    "duration": 9,
    "start_time": "2024-06-26T01:18:14.516Z"
   },
   {
    "duration": 19,
    "start_time": "2024-06-26T01:18:14.673Z"
   },
   {
    "duration": 59,
    "start_time": "2024-06-26T01:18:15.001Z"
   },
   {
    "duration": 21,
    "start_time": "2024-06-26T01:18:15.170Z"
   },
   {
    "duration": 211,
    "start_time": "2024-06-26T01:18:15.433Z"
   },
   {
    "duration": 10,
    "start_time": "2024-06-26T01:18:15.648Z"
   },
   {
    "duration": 8,
    "start_time": "2024-06-26T01:18:15.802Z"
   },
   {
    "duration": 17,
    "start_time": "2024-06-26T01:18:16.137Z"
   },
   {
    "duration": 18,
    "start_time": "2024-06-26T01:18:16.491Z"
   },
   {
    "duration": 17,
    "start_time": "2024-06-26T01:18:16.857Z"
   },
   {
    "duration": 16,
    "start_time": "2024-06-26T01:18:17.049Z"
   },
   {
    "duration": 24,
    "start_time": "2024-06-26T01:18:17.436Z"
   },
   {
    "duration": 11,
    "start_time": "2024-06-26T01:18:17.602Z"
   },
   {
    "duration": 16,
    "start_time": "2024-06-26T01:18:17.789Z"
   },
   {
    "duration": 1790,
    "start_time": "2024-06-26T01:18:17.992Z"
   },
   {
    "duration": 2565,
    "start_time": "2024-06-26T01:18:19.786Z"
   },
   {
    "duration": 1500,
    "start_time": "2024-06-26T01:18:22.354Z"
   },
   {
    "duration": 2054,
    "start_time": "2024-06-26T01:18:23.859Z"
   },
   {
    "duration": 25,
    "start_time": "2024-06-26T01:18:25.916Z"
   },
   {
    "duration": 20,
    "start_time": "2024-06-26T01:18:25.945Z"
   },
   {
    "duration": 108,
    "start_time": "2024-06-26T01:18:25.969Z"
   },
   {
    "duration": 14,
    "start_time": "2024-06-26T01:18:26.081Z"
   },
   {
    "duration": 8,
    "start_time": "2024-06-26T01:18:26.099Z"
   },
   {
    "duration": 3037,
    "start_time": "2024-06-26T01:18:32.426Z"
   },
   {
    "duration": 3598,
    "start_time": "2024-06-26T01:18:42.201Z"
   },
   {
    "duration": 2486,
    "start_time": "2024-06-26T01:19:06.074Z"
   },
   {
    "duration": 3342,
    "start_time": "2024-06-26T01:19:18.202Z"
   },
   {
    "duration": 116,
    "start_time": "2024-06-26T01:29:53.003Z"
   },
   {
    "duration": 8,
    "start_time": "2024-06-26T01:39:55.801Z"
   },
   {
    "duration": 110,
    "start_time": "2024-06-26T01:41:03.075Z"
   },
   {
    "duration": 34,
    "start_time": "2024-06-26T01:41:55.221Z"
   },
   {
    "duration": 120859,
    "start_time": "2024-06-26T01:42:10.282Z"
   },
   {
    "duration": 29,
    "start_time": "2024-06-26T02:02:33.604Z"
   },
   {
    "duration": 9,
    "start_time": "2024-06-26T02:02:38.806Z"
   },
   {
    "duration": 4806,
    "start_time": "2024-06-26T02:02:41.065Z"
   },
   {
    "duration": 58846,
    "start_time": "2024-06-26T02:04:21.249Z"
   },
   {
    "duration": 120227,
    "start_time": "2024-06-26T02:07:53.609Z"
   },
   {
    "duration": 6,
    "start_time": "2024-06-26T02:11:39.173Z"
   },
   {
    "duration": 126850,
    "start_time": "2024-06-26T02:11:55.780Z"
   },
   {
    "duration": 6,
    "start_time": "2024-06-26T02:18:40.216Z"
   },
   {
    "duration": 723,
    "start_time": "2024-06-26T02:18:41.868Z"
   },
   {
    "duration": 4,
    "start_time": "2024-06-26T02:18:43.965Z"
   },
   {
    "duration": 28,
    "start_time": "2024-06-26T02:18:44.339Z"
   },
   {
    "duration": 27,
    "start_time": "2024-06-26T02:18:44.498Z"
   },
   {
    "duration": 13,
    "start_time": "2024-06-26T02:18:44.658Z"
   },
   {
    "duration": 11,
    "start_time": "2024-06-26T02:18:44.794Z"
   },
   {
    "duration": 12,
    "start_time": "2024-06-26T02:18:44.955Z"
   },
   {
    "duration": 62,
    "start_time": "2024-06-26T02:18:45.105Z"
   },
   {
    "duration": 8,
    "start_time": "2024-06-26T02:18:45.273Z"
   },
   {
    "duration": 17,
    "start_time": "2024-06-26T02:18:45.416Z"
   },
   {
    "duration": 43,
    "start_time": "2024-06-26T02:18:45.854Z"
   },
   {
    "duration": 15,
    "start_time": "2024-06-26T02:18:46.019Z"
   },
   {
    "duration": 156,
    "start_time": "2024-06-26T02:18:46.176Z"
   },
   {
    "duration": 8,
    "start_time": "2024-06-26T02:18:46.345Z"
   },
   {
    "duration": 9,
    "start_time": "2024-06-26T02:18:46.545Z"
   },
   {
    "duration": 14,
    "start_time": "2024-06-26T02:18:46.954Z"
   },
   {
    "duration": 19,
    "start_time": "2024-06-26T02:18:47.419Z"
   },
   {
    "duration": 13,
    "start_time": "2024-06-26T02:18:47.730Z"
   },
   {
    "duration": 15,
    "start_time": "2024-06-26T02:18:48.036Z"
   },
   {
    "duration": 22,
    "start_time": "2024-06-26T02:18:48.452Z"
   },
   {
    "duration": 13,
    "start_time": "2024-06-26T02:18:48.666Z"
   },
   {
    "duration": 130,
    "start_time": "2024-06-26T02:18:48.877Z"
   },
   {
    "duration": 1695,
    "start_time": "2024-06-26T02:18:49.102Z"
   },
   {
    "duration": 2462,
    "start_time": "2024-06-26T02:18:50.801Z"
   },
   {
    "duration": 1196,
    "start_time": "2024-06-26T02:18:53.266Z"
   },
   {
    "duration": 2131,
    "start_time": "2024-06-26T02:18:54.466Z"
   },
   {
    "duration": 15,
    "start_time": "2024-06-26T02:18:56.599Z"
   },
   {
    "duration": 19,
    "start_time": "2024-06-26T02:18:56.634Z"
   },
   {
    "duration": 124,
    "start_time": "2024-06-26T02:18:56.657Z"
   },
   {
    "duration": 13,
    "start_time": "2024-06-26T02:18:56.785Z"
   },
   {
    "duration": 8,
    "start_time": "2024-06-26T02:18:56.801Z"
   },
   {
    "duration": 9,
    "start_time": "2024-06-26T02:18:56.834Z"
   },
   {
    "duration": 3272,
    "start_time": "2024-06-26T02:18:58.396Z"
   },
   {
    "duration": 3499,
    "start_time": "2024-06-26T02:19:01.671Z"
   },
   {
    "duration": 122600,
    "start_time": "2024-06-26T02:19:31.620Z"
   },
   {
    "duration": 127667,
    "start_time": "2024-06-26T02:22:34.921Z"
   },
   {
    "duration": 128916,
    "start_time": "2024-06-26T02:25:45.807Z"
   },
   {
    "duration": 708,
    "start_time": "2024-06-26T02:30:00.263Z"
   },
   {
    "duration": 11343,
    "start_time": "2024-06-26T02:30:19.475Z"
   },
   {
    "duration": 31315,
    "start_time": "2024-06-26T02:30:38.413Z"
   },
   {
    "duration": 5994,
    "start_time": "2024-06-26T02:36:05.789Z"
   },
   {
    "duration": 4268,
    "start_time": "2024-06-26T02:36:13.711Z"
   },
   {
    "duration": 2332,
    "start_time": "2024-06-26T02:36:20.350Z"
   },
   {
    "duration": 2180,
    "start_time": "2024-06-26T02:36:31.961Z"
   },
   {
    "duration": 2435,
    "start_time": "2024-06-26T02:36:41.640Z"
   },
   {
    "duration": 7,
    "start_time": "2024-06-26T02:38:24.656Z"
   },
   {
    "duration": 4401,
    "start_time": "2024-06-26T02:38:26.801Z"
   },
   {
    "duration": 1588,
    "start_time": "2024-06-26T02:40:54.711Z"
   },
   {
    "duration": 722,
    "start_time": "2024-06-26T02:40:56.302Z"
   },
   {
    "duration": 10,
    "start_time": "2024-06-26T02:40:57.026Z"
   },
   {
    "duration": 29,
    "start_time": "2024-06-26T02:40:57.040Z"
   },
   {
    "duration": 22,
    "start_time": "2024-06-26T02:40:57.072Z"
   },
   {
    "duration": 46,
    "start_time": "2024-06-26T02:40:57.097Z"
   },
   {
    "duration": 13,
    "start_time": "2024-06-26T02:40:57.146Z"
   },
   {
    "duration": 15,
    "start_time": "2024-06-26T02:40:57.164Z"
   },
   {
    "duration": 97,
    "start_time": "2024-06-26T02:40:57.184Z"
   },
   {
    "duration": 9,
    "start_time": "2024-06-26T02:40:57.289Z"
   },
   {
    "duration": 37,
    "start_time": "2024-06-26T02:40:57.301Z"
   },
   {
    "duration": 46,
    "start_time": "2024-06-26T02:40:57.341Z"
   },
   {
    "duration": 49,
    "start_time": "2024-06-26T02:40:57.391Z"
   },
   {
    "duration": 193,
    "start_time": "2024-06-26T02:40:57.442Z"
   },
   {
    "duration": 10,
    "start_time": "2024-06-26T02:40:57.641Z"
   },
   {
    "duration": 8,
    "start_time": "2024-06-26T02:40:57.655Z"
   },
   {
    "duration": 16,
    "start_time": "2024-06-26T02:40:57.667Z"
   },
   {
    "duration": 64,
    "start_time": "2024-06-26T02:40:57.686Z"
   },
   {
    "duration": 16,
    "start_time": "2024-06-26T02:40:57.754Z"
   },
   {
    "duration": 16,
    "start_time": "2024-06-26T02:40:57.773Z"
   },
   {
    "duration": 50,
    "start_time": "2024-06-26T02:40:57.793Z"
   },
   {
    "duration": 10,
    "start_time": "2024-06-26T02:40:57.846Z"
   },
   {
    "duration": 15,
    "start_time": "2024-06-26T02:40:57.859Z"
   },
   {
    "duration": 1808,
    "start_time": "2024-06-26T02:40:57.877Z"
   },
   {
    "duration": 2515,
    "start_time": "2024-06-26T02:40:59.688Z"
   },
   {
    "duration": 1148,
    "start_time": "2024-06-26T02:41:02.206Z"
   },
   {
    "duration": 2151,
    "start_time": "2024-06-26T02:41:03.357Z"
   },
   {
    "duration": 25,
    "start_time": "2024-06-26T02:41:05.515Z"
   },
   {
    "duration": 18,
    "start_time": "2024-06-26T02:41:05.543Z"
   },
   {
    "duration": 126,
    "start_time": "2024-06-26T02:41:05.565Z"
   },
   {
    "duration": 13,
    "start_time": "2024-06-26T02:41:05.695Z"
   },
   {
    "duration": 27,
    "start_time": "2024-06-26T02:41:05.711Z"
   },
   {
    "duration": 8,
    "start_time": "2024-06-26T02:41:05.742Z"
   },
   {
    "duration": 3260,
    "start_time": "2024-06-26T02:41:05.753Z"
   },
   {
    "duration": 3825,
    "start_time": "2024-06-26T02:41:09.016Z"
   },
   {
    "duration": 16043,
    "start_time": "2024-06-26T02:41:12.844Z"
   },
   {
    "duration": 32578,
    "start_time": "2024-06-26T02:41:30.143Z"
   },
   {
    "duration": 25764,
    "start_time": "2024-06-26T02:42:08.219Z"
   },
   {
    "duration": 41059,
    "start_time": "2024-06-26T02:43:07.362Z"
   },
   {
    "duration": 3799,
    "start_time": "2024-06-26T02:44:03.283Z"
   },
   {
    "duration": 7510,
    "start_time": "2024-06-26T02:44:20.318Z"
   },
   {
    "duration": 3445,
    "start_time": "2024-06-26T02:44:31.374Z"
   },
   {
    "duration": 41170,
    "start_time": "2024-06-26T02:48:27.120Z"
   },
   {
    "duration": 10752,
    "start_time": "2024-06-26T02:50:21.115Z"
   },
   {
    "duration": 17531,
    "start_time": "2024-06-26T02:50:39.880Z"
   },
   {
    "duration": 17630,
    "start_time": "2024-06-26T02:51:58.057Z"
   },
   {
    "duration": 17111,
    "start_time": "2024-06-26T02:52:18.797Z"
   },
   {
    "duration": 18082,
    "start_time": "2024-06-26T02:52:46.902Z"
   },
   {
    "duration": 9,
    "start_time": "2024-06-26T02:59:18.432Z"
   },
   {
    "duration": 208,
    "start_time": "2024-06-26T02:59:25.117Z"
   },
   {
    "duration": 37,
    "start_time": "2024-06-26T02:59:51.878Z"
   },
   {
    "duration": 8123,
    "start_time": "2024-06-26T02:59:56.137Z"
   },
   {
    "duration": 15044,
    "start_time": "2024-06-26T03:02:53.993Z"
   },
   {
    "duration": 24525,
    "start_time": "2024-06-26T03:06:08.634Z"
   },
   {
    "duration": 5295,
    "start_time": "2024-06-26T14:03:41.652Z"
   },
   {
    "duration": 789,
    "start_time": "2024-06-26T14:03:46.951Z"
   },
   {
    "duration": 7,
    "start_time": "2024-06-26T14:03:47.742Z"
   },
   {
    "duration": 30,
    "start_time": "2024-06-26T14:03:47.756Z"
   },
   {
    "duration": 25,
    "start_time": "2024-06-26T14:03:47.814Z"
   },
   {
    "duration": 14,
    "start_time": "2024-06-26T14:03:47.842Z"
   },
   {
    "duration": 10,
    "start_time": "2024-06-26T14:03:47.859Z"
   },
   {
    "duration": 14,
    "start_time": "2024-06-26T14:03:47.911Z"
   },
   {
    "duration": 89,
    "start_time": "2024-06-26T14:03:47.928Z"
   },
   {
    "duration": 11,
    "start_time": "2024-06-26T14:03:48.025Z"
   },
   {
    "duration": 21,
    "start_time": "2024-06-26T14:03:48.039Z"
   },
   {
    "duration": 85,
    "start_time": "2024-06-26T14:03:48.063Z"
   },
   {
    "duration": 17,
    "start_time": "2024-06-26T14:03:48.151Z"
   },
   {
    "duration": 200,
    "start_time": "2024-06-26T14:03:48.170Z"
   },
   {
    "duration": 9,
    "start_time": "2024-06-26T14:03:48.373Z"
   },
   {
    "duration": 7,
    "start_time": "2024-06-26T14:03:48.385Z"
   },
   {
    "duration": 15,
    "start_time": "2024-06-26T14:03:48.413Z"
   },
   {
    "duration": 18,
    "start_time": "2024-06-26T14:03:48.431Z"
   },
   {
    "duration": 14,
    "start_time": "2024-06-26T14:03:48.452Z"
   },
   {
    "duration": 56,
    "start_time": "2024-06-26T14:03:48.469Z"
   },
   {
    "duration": 20,
    "start_time": "2024-06-26T14:03:48.529Z"
   },
   {
    "duration": 10,
    "start_time": "2024-06-26T14:03:48.552Z"
   },
   {
    "duration": 48,
    "start_time": "2024-06-26T14:03:48.566Z"
   },
   {
    "duration": 1768,
    "start_time": "2024-06-26T14:03:48.617Z"
   },
   {
    "duration": 2496,
    "start_time": "2024-06-26T14:03:50.388Z"
   },
   {
    "duration": 1253,
    "start_time": "2024-06-26T14:03:52.888Z"
   },
   {
    "duration": 2130,
    "start_time": "2024-06-26T14:03:54.148Z"
   },
   {
    "duration": 31,
    "start_time": "2024-06-26T14:03:56.281Z"
   },
   {
    "duration": 20,
    "start_time": "2024-06-26T14:03:56.315Z"
   },
   {
    "duration": 131,
    "start_time": "2024-06-26T14:03:56.338Z"
   },
   {
    "duration": 14,
    "start_time": "2024-06-26T14:03:56.472Z"
   },
   {
    "duration": 24,
    "start_time": "2024-06-26T14:03:56.490Z"
   },
   {
    "duration": 8,
    "start_time": "2024-06-26T14:03:56.517Z"
   },
   {
    "duration": 10,
    "start_time": "2024-06-26T14:03:56.529Z"
   },
   {
    "duration": 3323,
    "start_time": "2024-06-26T14:03:56.542Z"
   },
   {
    "duration": 3578,
    "start_time": "2024-06-26T14:03:59.868Z"
   },
   {
    "duration": 41352,
    "start_time": "2024-06-26T14:04:03.451Z"
   },
   {
    "duration": 17759,
    "start_time": "2024-06-26T14:04:44.806Z"
   },
   {
    "duration": 8135,
    "start_time": "2024-06-26T14:05:10.815Z"
   },
   {
    "duration": 9,
    "start_time": "2024-06-26T14:10:48.896Z"
   },
   {
    "duration": 551,
    "start_time": "2024-06-26T14:10:53.475Z"
   },
   {
    "duration": 8,
    "start_time": "2024-06-26T14:11:24.679Z"
   },
   {
    "duration": 7793,
    "start_time": "2024-06-26T14:11:28.132Z"
   },
   {
    "duration": 5,
    "start_time": "2024-06-26T14:16:37.897Z"
   },
   {
    "duration": 7653,
    "start_time": "2024-06-26T14:16:46.590Z"
   },
   {
    "duration": 7817,
    "start_time": "2024-06-26T14:17:09.510Z"
   },
   {
    "duration": 7621,
    "start_time": "2024-06-26T14:17:31.728Z"
   },
   {
    "duration": 6,
    "start_time": "2024-06-26T14:25:51.476Z"
   },
   {
    "duration": 7,
    "start_time": "2024-06-26T14:25:54.608Z"
   },
   {
    "duration": 42,
    "start_time": "2024-06-26T14:26:02.749Z"
   },
   {
    "duration": 6,
    "start_time": "2024-06-26T14:26:41.239Z"
   },
   {
    "duration": 5,
    "start_time": "2024-06-26T14:26:46.583Z"
   },
   {
    "duration": 41076,
    "start_time": "2024-06-26T14:26:50.879Z"
   },
   {
    "duration": 17455,
    "start_time": "2024-06-26T14:27:31.958Z"
   },
   {
    "duration": 7,
    "start_time": "2024-06-26T14:27:52.999Z"
   },
   {
    "duration": 7,
    "start_time": "2024-06-26T14:27:53.494Z"
   },
   {
    "duration": 7,
    "start_time": "2024-06-26T14:27:54.688Z"
   },
   {
    "duration": 7,
    "start_time": "2024-06-26T14:27:55.456Z"
   },
   {
    "duration": 43470,
    "start_time": "2024-06-26T14:28:56.185Z"
   },
   {
    "duration": 17856,
    "start_time": "2024-06-26T14:29:39.658Z"
   },
   {
    "duration": 106,
    "start_time": "2024-06-26T14:36:13.718Z"
   },
   {
    "duration": 8,
    "start_time": "2024-06-26T14:37:17.976Z"
   },
   {
    "duration": 8,
    "start_time": "2024-06-26T14:38:05.968Z"
   },
   {
    "duration": 34,
    "start_time": "2024-06-26T14:38:09.959Z"
   },
   {
    "duration": 6,
    "start_time": "2024-06-26T14:38:23.720Z"
   },
   {
    "duration": 7,
    "start_time": "2024-06-26T14:39:10.456Z"
   },
   {
    "duration": 8304,
    "start_time": "2024-06-26T14:39:14.008Z"
   },
   {
    "duration": 10026,
    "start_time": "2024-06-26T14:39:28.119Z"
   },
   {
    "duration": 7916,
    "start_time": "2024-06-26T14:39:51.117Z"
   },
   {
    "duration": 5233,
    "start_time": "2024-06-26T14:41:30.209Z"
   },
   {
    "duration": 5540,
    "start_time": "2024-06-26T14:41:42.889Z"
   },
   {
    "duration": 7142,
    "start_time": "2024-06-26T14:41:56.299Z"
   },
   {
    "duration": 8,
    "start_time": "2024-06-26T14:43:40.651Z"
   },
   {
    "duration": 5298,
    "start_time": "2024-06-26T14:43:45.633Z"
   },
   {
    "duration": 9182,
    "start_time": "2024-06-26T14:44:18.937Z"
   },
   {
    "duration": 8,
    "start_time": "2024-06-26T14:45:34.700Z"
   },
   {
    "duration": 40994,
    "start_time": "2024-06-26T14:45:37.980Z"
   },
   {
    "duration": 54,
    "start_time": "2024-06-26T14:46:18.977Z"
   },
   {
    "duration": 8,
    "start_time": "2024-06-26T14:48:53.825Z"
   },
   {
    "duration": 54,
    "start_time": "2024-06-26T14:48:58.326Z"
   },
   {
    "duration": 7,
    "start_time": "2024-06-26T14:49:21.432Z"
   },
   {
    "duration": 5393,
    "start_time": "2024-06-26T14:49:26.548Z"
   },
   {
    "duration": 3173,
    "start_time": "2024-06-26T14:49:50.672Z"
   },
   {
    "duration": 8,
    "start_time": "2024-06-26T14:50:29.762Z"
   },
   {
    "duration": 4993,
    "start_time": "2024-06-26T14:50:34.143Z"
   },
   {
    "duration": 6,
    "start_time": "2024-06-26T14:52:09.937Z"
   },
   {
    "duration": 734,
    "start_time": "2024-06-26T14:52:10.247Z"
   },
   {
    "duration": 8,
    "start_time": "2024-06-26T14:52:10.985Z"
   },
   {
    "duration": 40,
    "start_time": "2024-06-26T14:52:10.996Z"
   },
   {
    "duration": 29,
    "start_time": "2024-06-26T14:52:11.040Z"
   },
   {
    "duration": 46,
    "start_time": "2024-06-26T14:52:11.072Z"
   },
   {
    "duration": 11,
    "start_time": "2024-06-26T14:52:11.181Z"
   },
   {
    "duration": 12,
    "start_time": "2024-06-26T14:52:11.328Z"
   },
   {
    "duration": 71,
    "start_time": "2024-06-26T14:52:11.499Z"
   },
   {
    "duration": 7,
    "start_time": "2024-06-26T14:52:11.632Z"
   },
   {
    "duration": 20,
    "start_time": "2024-06-26T14:52:11.774Z"
   },
   {
    "duration": 43,
    "start_time": "2024-06-26T14:52:12.104Z"
   },
   {
    "duration": 15,
    "start_time": "2024-06-26T14:52:12.284Z"
   },
   {
    "duration": 157,
    "start_time": "2024-06-26T14:52:12.466Z"
   },
   {
    "duration": 8,
    "start_time": "2024-06-26T14:52:12.657Z"
   },
   {
    "duration": 9,
    "start_time": "2024-06-26T14:52:12.820Z"
   },
   {
    "duration": 15,
    "start_time": "2024-06-26T14:52:13.183Z"
   },
   {
    "duration": 19,
    "start_time": "2024-06-26T14:52:13.520Z"
   },
   {
    "duration": 17,
    "start_time": "2024-06-26T14:52:13.893Z"
   },
   {
    "duration": 14,
    "start_time": "2024-06-26T14:52:14.054Z"
   },
   {
    "duration": 22,
    "start_time": "2024-06-26T14:52:14.374Z"
   },
   {
    "duration": 10,
    "start_time": "2024-06-26T14:52:14.566Z"
   },
   {
    "duration": 15,
    "start_time": "2024-06-26T14:52:14.737Z"
   },
   {
    "duration": 1856,
    "start_time": "2024-06-26T14:52:14.919Z"
   },
   {
    "duration": 2436,
    "start_time": "2024-06-26T14:52:16.784Z"
   },
   {
    "duration": 1212,
    "start_time": "2024-06-26T14:52:19.223Z"
   },
   {
    "duration": 2131,
    "start_time": "2024-06-26T14:52:20.440Z"
   },
   {
    "duration": 16,
    "start_time": "2024-06-26T14:52:22.575Z"
   },
   {
    "duration": 37,
    "start_time": "2024-06-26T14:52:22.594Z"
   },
   {
    "duration": 135,
    "start_time": "2024-06-26T14:52:22.634Z"
   },
   {
    "duration": 14,
    "start_time": "2024-06-26T14:52:22.772Z"
   },
   {
    "duration": 24,
    "start_time": "2024-06-26T14:52:22.789Z"
   },
   {
    "duration": 6,
    "start_time": "2024-06-26T14:52:22.819Z"
   },
   {
    "duration": 7,
    "start_time": "2024-06-26T14:52:22.829Z"
   },
   {
    "duration": 9,
    "start_time": "2024-06-26T14:52:22.839Z"
   },
   {
    "duration": 3326,
    "start_time": "2024-06-26T14:52:22.850Z"
   },
   {
    "duration": 3465,
    "start_time": "2024-06-26T14:52:26.179Z"
   },
   {
    "duration": 41707,
    "start_time": "2024-06-26T14:52:29.646Z"
   },
   {
    "duration": 17383,
    "start_time": "2024-06-26T14:53:11.355Z"
   },
   {
    "duration": 5871,
    "start_time": "2024-06-26T14:53:28.741Z"
   },
   {
    "duration": 5311,
    "start_time": "2024-06-26T14:53:34.615Z"
   },
   {
    "duration": 8,
    "start_time": "2024-06-26T14:55:46.319Z"
   },
   {
    "duration": 1180,
    "start_time": "2024-06-26T14:55:52.897Z"
   },
   {
    "duration": 8,
    "start_time": "2024-06-26T14:57:37.349Z"
   },
   {
    "duration": 233,
    "start_time": "2024-06-26T14:57:40.981Z"
   },
   {
    "duration": 9,
    "start_time": "2024-06-26T14:58:13.556Z"
   },
   {
    "duration": 5306,
    "start_time": "2024-06-26T14:58:16.827Z"
   },
   {
    "duration": 8,
    "start_time": "2024-06-26T15:00:11.327Z"
   },
   {
    "duration": 8,
    "start_time": "2024-06-26T15:00:19.339Z"
   },
   {
    "duration": 698,
    "start_time": "2024-06-26T15:00:25.746Z"
   },
   {
    "duration": 7,
    "start_time": "2024-06-26T15:00:48.776Z"
   },
   {
    "duration": 5147,
    "start_time": "2024-06-26T15:00:53.784Z"
   },
   {
    "duration": 8,
    "start_time": "2024-06-26T15:01:21.606Z"
   },
   {
    "duration": 5345,
    "start_time": "2024-06-26T15:01:25.892Z"
   },
   {
    "duration": 5732,
    "start_time": "2024-06-26T15:31:32.010Z"
   },
   {
    "duration": 11,
    "start_time": "2024-06-26T15:33:28.757Z"
   },
   {
    "duration": 5264,
    "start_time": "2024-06-26T15:33:33.267Z"
   },
   {
    "duration": 5900,
    "start_time": "2024-06-26T15:33:39.746Z"
   },
   {
    "duration": 13,
    "start_time": "2024-06-26T16:03:36.903Z"
   },
   {
    "duration": 8,
    "start_time": "2024-06-26T16:04:20.191Z"
   },
   {
    "duration": 7,
    "start_time": "2024-06-26T16:04:32.258Z"
   },
   {
    "duration": 8,
    "start_time": "2024-06-26T16:04:57.080Z"
   },
   {
    "duration": 11,
    "start_time": "2024-06-26T16:11:14.484Z"
   },
   {
    "duration": 9,
    "start_time": "2024-06-26T16:11:25.039Z"
   },
   {
    "duration": 9,
    "start_time": "2024-06-26T16:11:31.117Z"
   },
   {
    "duration": 8,
    "start_time": "2024-06-26T16:12:50.182Z"
   },
   {
    "duration": 43,
    "start_time": "2024-06-26T16:13:51.814Z"
   },
   {
    "duration": 41,
    "start_time": "2024-06-26T16:14:18.006Z"
   },
   {
    "duration": 6,
    "start_time": "2024-06-26T16:14:27.724Z"
   },
   {
    "duration": 41,
    "start_time": "2024-06-26T16:14:31.638Z"
   },
   {
    "duration": 73,
    "start_time": "2024-06-26T16:14:48.646Z"
   },
   {
    "duration": 433,
    "start_time": "2024-06-26T16:14:54.054Z"
   },
   {
    "duration": 8,
    "start_time": "2024-06-26T17:27:43.996Z"
   },
   {
    "duration": 17,
    "start_time": "2024-06-26T17:37:11.508Z"
   },
   {
    "duration": 7,
    "start_time": "2024-06-26T17:37:19.235Z"
   },
   {
    "duration": 1430,
    "start_time": "2024-06-26T17:37:24.983Z"
   },
   {
    "duration": 8,
    "start_time": "2024-06-26T17:38:25.517Z"
   },
   {
    "duration": 1540,
    "start_time": "2024-06-26T17:38:30.233Z"
   },
   {
    "duration": 7,
    "start_time": "2024-06-26T17:38:59.204Z"
   },
   {
    "duration": 1613,
    "start_time": "2024-06-26T17:39:03.505Z"
   },
   {
    "duration": 7,
    "start_time": "2024-06-26T17:44:58.749Z"
   },
   {
    "duration": 69,
    "start_time": "2024-06-26T17:45:02.962Z"
   },
   {
    "duration": 8,
    "start_time": "2024-06-26T17:45:14.453Z"
   },
   {
    "duration": 13021,
    "start_time": "2024-06-26T17:45:18.510Z"
   },
   {
    "duration": 10,
    "start_time": "2024-06-26T17:55:16.660Z"
   },
   {
    "duration": 7,
    "start_time": "2024-06-26T17:55:23.684Z"
   },
   {
    "duration": 15827,
    "start_time": "2024-06-26T17:55:27.595Z"
   },
   {
    "duration": 7,
    "start_time": "2024-06-26T17:56:59.470Z"
   },
   {
    "duration": 34526,
    "start_time": "2024-06-26T17:57:04.202Z"
   },
   {
    "duration": 9,
    "start_time": "2024-06-26T17:58:40.291Z"
   },
   {
    "duration": 21482,
    "start_time": "2024-06-26T17:58:44.447Z"
   },
   {
    "duration": 9,
    "start_time": "2024-06-26T18:13:23.701Z"
   },
   {
    "duration": 8,
    "start_time": "2024-06-26T18:20:19.836Z"
   },
   {
    "duration": 43,
    "start_time": "2024-06-26T18:20:24.491Z"
   },
   {
    "duration": 17,
    "start_time": "2024-06-26T18:20:33.835Z"
   },
   {
    "duration": 7,
    "start_time": "2024-06-26T18:20:49.016Z"
   },
   {
    "duration": 19872,
    "start_time": "2024-06-26T18:20:53.940Z"
   },
   {
    "duration": 9,
    "start_time": "2024-06-26T18:22:04.895Z"
   },
   {
    "duration": 8,
    "start_time": "2024-06-26T18:22:07.216Z"
   },
   {
    "duration": 27761,
    "start_time": "2024-06-26T18:22:28.463Z"
   },
   {
    "duration": 8,
    "start_time": "2024-06-26T18:23:46.558Z"
   },
   {
    "duration": 21737,
    "start_time": "2024-06-26T18:23:56.264Z"
   },
   {
    "duration": 50332,
    "start_time": "2024-06-26T18:24:58.967Z"
   },
   {
    "duration": 9,
    "start_time": "2024-06-26T18:26:02.728Z"
   },
   {
    "duration": 20494,
    "start_time": "2024-06-26T18:27:08.321Z"
   },
   {
    "duration": 43061,
    "start_time": "2024-06-26T18:28:11.767Z"
   },
   {
    "duration": 12329,
    "start_time": "2024-06-26T18:29:09.514Z"
   },
   {
    "duration": 10505,
    "start_time": "2024-06-26T18:29:27.504Z"
   },
   {
    "duration": 10711,
    "start_time": "2024-06-26T18:29:40.291Z"
   },
   {
    "duration": 12499,
    "start_time": "2024-06-26T18:29:58.059Z"
   },
   {
    "duration": 12178,
    "start_time": "2024-06-26T18:30:19.539Z"
   },
   {
    "duration": 12308,
    "start_time": "2024-06-26T18:30:34.810Z"
   },
   {
    "duration": 12862,
    "start_time": "2024-06-26T18:31:08.763Z"
   },
   {
    "duration": 13131,
    "start_time": "2024-06-26T18:31:51.906Z"
   },
   {
    "duration": 18,
    "start_time": "2024-06-26T18:34:25.828Z"
   },
   {
    "duration": 7,
    "start_time": "2024-06-26T18:34:35.368Z"
   },
   {
    "duration": 12999,
    "start_time": "2024-06-26T18:34:38.213Z"
   },
   {
    "duration": 16280,
    "start_time": "2024-06-26T18:35:35.667Z"
   },
   {
    "duration": 14123,
    "start_time": "2024-06-26T18:36:03.659Z"
   },
   {
    "duration": 7,
    "start_time": "2024-06-26T18:40:33.954Z"
   },
   {
    "duration": 677,
    "start_time": "2024-06-26T18:40:35.036Z"
   },
   {
    "duration": 5,
    "start_time": "2024-06-26T18:40:35.717Z"
   },
   {
    "duration": 143,
    "start_time": "2024-06-26T18:40:35.793Z"
   },
   {
    "duration": 38,
    "start_time": "2024-06-26T18:40:35.968Z"
   },
   {
    "duration": 37,
    "start_time": "2024-06-26T18:40:36.163Z"
   },
   {
    "duration": 39,
    "start_time": "2024-06-26T18:40:36.351Z"
   },
   {
    "duration": 38,
    "start_time": "2024-06-26T18:40:36.569Z"
   },
   {
    "duration": 597,
    "start_time": "2024-06-26T18:40:36.767Z"
   },
   {
    "duration": 47,
    "start_time": "2024-06-26T18:40:37.368Z"
   },
   {
    "duration": 80,
    "start_time": "2024-06-26T18:40:37.417Z"
   },
   {
    "duration": 160,
    "start_time": "2024-06-26T18:40:38.627Z"
   },
   {
    "duration": 61,
    "start_time": "2024-06-26T18:40:39.099Z"
   },
   {
    "duration": 213,
    "start_time": "2024-06-26T18:40:39.418Z"
   },
   {
    "duration": 42,
    "start_time": "2024-06-26T18:40:39.635Z"
   },
   {
    "duration": 25,
    "start_time": "2024-06-26T18:40:39.831Z"
   },
   {
    "duration": 97,
    "start_time": "2024-06-26T18:40:40.284Z"
   },
   {
    "duration": 163,
    "start_time": "2024-06-26T18:40:40.721Z"
   },
   {
    "duration": 75,
    "start_time": "2024-06-26T18:40:41.129Z"
   },
   {
    "duration": 23,
    "start_time": "2024-06-26T18:40:41.352Z"
   },
   {
    "duration": 86,
    "start_time": "2024-06-26T18:40:41.875Z"
   },
   {
    "duration": 11,
    "start_time": "2024-06-26T18:40:42.106Z"
   },
   {
    "duration": 19,
    "start_time": "2024-06-26T18:40:42.334Z"
   },
   {
    "duration": 1772,
    "start_time": "2024-06-26T18:41:23.395Z"
   },
   {
    "duration": 810,
    "start_time": "2024-06-26T18:41:25.170Z"
   },
   {
    "duration": 5,
    "start_time": "2024-06-26T18:41:25.983Z"
   },
   {
    "duration": 176,
    "start_time": "2024-06-26T18:41:25.993Z"
   },
   {
    "duration": 66,
    "start_time": "2024-06-26T18:41:26.172Z"
   },
   {
    "duration": 46,
    "start_time": "2024-06-26T18:41:26.241Z"
   },
   {
    "duration": 70,
    "start_time": "2024-06-26T18:41:26.290Z"
   },
   {
    "duration": 54,
    "start_time": "2024-06-26T18:41:26.362Z"
   },
   {
    "duration": 657,
    "start_time": "2024-06-26T18:41:26.420Z"
   },
   {
    "duration": 43,
    "start_time": "2024-06-26T18:41:27.082Z"
   },
   {
    "duration": 95,
    "start_time": "2024-06-26T18:41:27.128Z"
   },
   {
    "duration": 185,
    "start_time": "2024-06-26T18:41:27.227Z"
   },
   {
    "duration": 48,
    "start_time": "2024-06-26T18:41:27.415Z"
   },
   {
    "duration": 210,
    "start_time": "2024-06-26T18:41:27.466Z"
   },
   {
    "duration": 42,
    "start_time": "2024-06-26T18:41:27.679Z"
   },
   {
    "duration": 24,
    "start_time": "2024-06-26T18:41:27.724Z"
   },
   {
    "duration": 80,
    "start_time": "2024-06-26T18:41:27.752Z"
   },
   {
    "duration": 103,
    "start_time": "2024-06-26T18:41:27.836Z"
   },
   {
    "duration": 58,
    "start_time": "2024-06-26T18:41:28.185Z"
   },
   {
    "duration": 16,
    "start_time": "2024-06-26T18:41:28.435Z"
   },
   {
    "duration": 79,
    "start_time": "2024-06-26T18:41:29.194Z"
   },
   {
    "duration": 9,
    "start_time": "2024-06-26T18:41:29.865Z"
   },
   {
    "duration": 15,
    "start_time": "2024-06-26T18:41:30.532Z"
   },
   {
    "duration": 48404,
    "start_time": "2024-06-26T18:41:31.178Z"
   },
   {
    "duration": 43191,
    "start_time": "2024-06-26T18:42:19.585Z"
   },
   {
    "duration": 24368,
    "start_time": "2024-06-26T18:43:02.779Z"
   },
   {
    "duration": 57851,
    "start_time": "2024-06-26T18:43:27.151Z"
   },
   {
    "duration": 63,
    "start_time": "2024-06-26T18:44:25.012Z"
   },
   {
    "duration": 33,
    "start_time": "2024-06-26T18:44:25.079Z"
   },
   {
    "duration": 846,
    "start_time": "2024-06-26T18:44:25.116Z"
   },
   {
    "duration": 6,
    "start_time": "2024-06-26T18:44:25.965Z"
   },
   {
    "duration": 7,
    "start_time": "2024-06-26T18:44:25.973Z"
   },
   {
    "duration": 6,
    "start_time": "2024-06-26T18:44:26.011Z"
   },
   {
    "duration": 9,
    "start_time": "2024-06-26T18:44:26.020Z"
   },
   {
    "duration": 8,
    "start_time": "2024-06-26T18:44:26.032Z"
   },
   {
    "duration": 30416,
    "start_time": "2024-06-26T18:44:26.043Z"
   },
   {
    "duration": 31021,
    "start_time": "2024-06-26T18:44:56.462Z"
   },
   {
    "duration": 198207,
    "start_time": "2024-06-26T18:45:36.173Z"
   },
   {
    "duration": 315,
    "start_time": "2024-06-26T18:49:24.544Z"
   },
   {
    "duration": 1662,
    "start_time": "2024-06-26T18:50:06.154Z"
   },
   {
    "duration": 798,
    "start_time": "2024-06-26T18:50:07.820Z"
   },
   {
    "duration": 8,
    "start_time": "2024-06-26T18:50:08.621Z"
   },
   {
    "duration": 116,
    "start_time": "2024-06-26T18:50:08.634Z"
   },
   {
    "duration": 35,
    "start_time": "2024-06-26T18:50:08.753Z"
   },
   {
    "duration": 52,
    "start_time": "2024-06-26T18:50:08.790Z"
   },
   {
    "duration": 23,
    "start_time": "2024-06-26T18:50:08.846Z"
   },
   {
    "duration": 57,
    "start_time": "2024-06-26T18:50:08.872Z"
   },
   {
    "duration": 326,
    "start_time": "2024-06-26T18:50:08.931Z"
   },
   {
    "duration": 18,
    "start_time": "2024-06-26T18:50:09.262Z"
   },
   {
    "duration": 66,
    "start_time": "2024-06-26T18:50:09.283Z"
   },
   {
    "duration": 113,
    "start_time": "2024-06-26T18:50:09.351Z"
   },
   {
    "duration": 51,
    "start_time": "2024-06-26T18:50:09.467Z"
   },
   {
    "duration": 184,
    "start_time": "2024-06-26T18:50:09.521Z"
   },
   {
    "duration": 17,
    "start_time": "2024-06-26T18:50:09.712Z"
   },
   {
    "duration": 15,
    "start_time": "2024-06-26T18:50:09.732Z"
   },
   {
    "duration": 64,
    "start_time": "2024-06-26T18:50:09.752Z"
   },
   {
    "duration": 54,
    "start_time": "2024-06-26T18:50:09.864Z"
   },
   {
    "duration": 33,
    "start_time": "2024-06-26T18:50:10.224Z"
   },
   {
    "duration": 15,
    "start_time": "2024-06-26T18:50:10.406Z"
   },
   {
    "duration": 49,
    "start_time": "2024-06-26T18:50:10.768Z"
   },
   {
    "duration": 14,
    "start_time": "2024-06-26T18:50:10.953Z"
   },
   {
    "duration": 15,
    "start_time": "2024-06-26T18:50:11.140Z"
   },
   {
    "duration": 15550,
    "start_time": "2024-06-26T18:50:11.327Z"
   },
   {
    "duration": 16847,
    "start_time": "2024-06-26T18:50:26.881Z"
   },
   {
    "duration": 8855,
    "start_time": "2024-06-26T18:50:43.731Z"
   },
   {
    "duration": 18823,
    "start_time": "2024-06-26T18:50:52.589Z"
   },
   {
    "duration": 36,
    "start_time": "2024-06-26T18:51:11.417Z"
   },
   {
    "duration": 25,
    "start_time": "2024-06-26T18:51:11.459Z"
   },
   {
    "duration": 477,
    "start_time": "2024-06-26T18:51:11.488Z"
   },
   {
    "duration": 7,
    "start_time": "2024-06-26T18:51:11.970Z"
   },
   {
    "duration": 7,
    "start_time": "2024-06-26T18:51:11.980Z"
   },
   {
    "duration": 7,
    "start_time": "2024-06-26T18:51:12.016Z"
   },
   {
    "duration": 9,
    "start_time": "2024-06-26T18:51:12.026Z"
   },
   {
    "duration": 8,
    "start_time": "2024-06-26T18:51:12.039Z"
   },
   {
    "duration": 15564,
    "start_time": "2024-06-26T18:51:12.050Z"
   },
   {
    "duration": 16301,
    "start_time": "2024-06-26T18:51:27.617Z"
   },
   {
    "duration": 102253,
    "start_time": "2024-06-26T18:51:43.920Z"
   },
   {
    "duration": 83420,
    "start_time": "2024-06-26T18:53:26.176Z"
   },
   {
    "duration": 11565,
    "start_time": "2024-06-26T18:55:24.859Z"
   },
   {
    "duration": 12986,
    "start_time": "2024-06-26T18:55:42.430Z"
   },
   {
    "duration": 10857,
    "start_time": "2024-06-26T18:55:57.980Z"
   },
   {
    "duration": 37596,
    "start_time": "2024-06-26T18:56:25.860Z"
   },
   {
    "duration": 24195,
    "start_time": "2024-06-26T18:57:06.220Z"
   }
  ],
  "kernelspec": {
   "display_name": "Python 3 (ipykernel)",
   "language": "python",
   "name": "python3"
  },
  "language_info": {
   "codemirror_mode": {
    "name": "ipython",
    "version": 3
   },
   "file_extension": ".py",
   "mimetype": "text/x-python",
   "name": "python",
   "nbconvert_exporter": "python",
   "pygments_lexer": "ipython3",
   "version": "3.9.19"
  },
  "toc": {
   "base_numbering": 1,
   "nav_menu": {},
   "number_sections": true,
   "sideBar": true,
   "skip_h1_title": true,
   "title_cell": "Table of Contents",
   "title_sidebar": "Contents",
   "toc_cell": false,
   "toc_position": {},
   "toc_section_display": true,
   "toc_window_display": false
  }
 },
 "nbformat": 4,
 "nbformat_minor": 2
}
